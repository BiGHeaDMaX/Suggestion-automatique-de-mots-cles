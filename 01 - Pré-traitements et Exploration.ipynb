{
 "cells": [
  {
   "cell_type": "markdown",
   "metadata": {},
   "source": [
    "# **Pré-traitements et Exploration**"
   ]
  },
  {
   "cell_type": "markdown",
   "metadata": {},
   "source": [
    "## **Récupération des données**\n",
    "\n",
    "Les données ont été récupérées sur le [*StackExchange Data Explorer*](https://data.stackexchange.com/stackoverflow/query/new) où il est possible d'effectuer une requête sur la base SQL du site, puis de télécharger ces dernières au format CSV.\n",
    "\n",
    "Afin de récupérer des données de qualité, certains critères ont été appliqués pour filtrer les questions : \n",
    "\n",
    "- Données récentes (depuis 2022) : les usages et les technologies évoluent rapidement.\n",
    "- Le score doit être positif.\n",
    "- Au moins une réponse.\n",
    "- Au moins un commentaire.\n",
    "- L'utilisateur doit avoir une réputation au moins égale à la moyenne.\n",
    "\n",
    "La réputation des utilisateurs est définit selon plusieurs paramètres (question ou réponses qui ont obtenus des votes, réponses marquées comme acceptées, etc.), détails du calcul sur [cette page](https://stackoverflow.com/help/whats-reputation).\n",
    "\n",
    "<div class=\"alert alert-info\">\n",
    "Il est important de récupérer des questions qui ont reçu une certaine approbation de la communauté, provenant d'utilisateurs expérimentés.<br>\n",
    "De cette manière les TAGS associés pourront être considérés comme qualitatifs et seront donc plus appropriés à l'entraînement d'un modèle supervisé.\n",
    "</div>\n",
    "\n",
    "Voici le code utilisé pour la requête :\n",
    "<br><br>\n",
    "\n",
    "```SQL\n",
    "SELECT TOP(50000) posts.id,\n",
    "                  posts.creationdate,\n",
    "                  title,\n",
    "                  body,\n",
    "                  tags,\n",
    "                  users.reputation,\n",
    "-- Réputation moyenne des users avec les critères actuels\n",
    "                  (SELECT Avg(reputation)\n",
    "                   FROM   users) AS moyenne_reputation\n",
    "FROM   posts\n",
    "-- Jointure pour récupérer la réputation des users\n",
    "       JOIN users\n",
    "         ON posts.owneruserid = users.id\n",
    "WHERE  posts.creationdate BETWEEN CONVERT(DATETIME, '2022-01-01') AND\n",
    "                                         CONVERT(DATETIME, '2023-12-31')\n",
    "       AND posts.score > 0 -- Questions avec un score positif\n",
    "       AND posts.answercount > 0 -- Au moins une réponse\n",
    "       AND posts.commentcount > 0 -- Au moins un commentaire\n",
    "       AND users.reputation >= 91 -- Soit la réputation moyenne sur cette période avec ces critères\n",
    "```\n",
    "\n",
    "\n",
    "Réponse serveur : *\"50000 rows returned in 3102 ms\"*"
   ]
  },
  {
   "cell_type": "code",
   "execution_count": null,
   "metadata": {},
   "outputs": [],
   "source": []
  }
 ],
 "metadata": {
  "kernelspec": {
   "display_name": "base",
   "language": "python",
   "name": "python3"
  },
  "language_info": {
   "name": "python",
   "version": "3.10.9"
  },
  "orig_nbformat": 4
 },
 "nbformat": 4,
 "nbformat_minor": 2
}
