{
 "cells": [
  {
   "cell_type": "markdown",
   "metadata": {},
   "source": [
    "# **Pré-traitements et Exploration**"
   ]
  },
  {
   "cell_type": "markdown",
   "metadata": {},
   "source": [
    "## **Récupération des données**\n",
    "\n",
    "Les données ont été récupérées sur le [*StackExchange Data Explorer*](https://data.stackexchange.com/stackoverflow/query/new) où il est possible d'effectuer une requête sur la base SQL du site, puis de télécharger ces dernières au format CSV.\n",
    "\n",
    "Afin de récupérer des données de qualité, certains critères ont été appliqués pour filtrer les questions : \n",
    "\n",
    "- Données récentes (depuis 2022) : les usages et les technologies évoluent rapidement.\n",
    "- Le score doit être positif.\n",
    "- Au moins une réponse.\n",
    "- Au moins un commentaire.\n",
    "- L'utilisateur doit avoir une réputation au moins égale à la moyenne.\n",
    "\n",
    "La réputation des utilisateurs est définit selon plusieurs paramètres (question ou réponses qui ont obtenus des votes, réponses marquées comme acceptées, etc.), détails du calcul sur [cette page](https://stackoverflow.com/help/whats-reputation).\n",
    "\n",
    "<div class=\"alert alert-info\">\n",
    "Il est important de récupérer des questions qui ont reçu une certaine approbation de la communauté, provenant d'utilisateurs expérimentés. De cette manière les tags associés pourront être considérés comme qualitatifs et seront donc plus appropriés à l'entraînement d'un modèle supervisé.\n",
    "</div>\n",
    "\n",
    "Voici le code utilisé pour la requête :\n",
    "<br><br>\n",
    "\n",
    "```SQL\n",
    "SELECT TOP(50000) posts.id,\n",
    "                  posts.creationdate,\n",
    "                  title,\n",
    "                  body,\n",
    "                  tags,\n",
    "                  users.reputation,\n",
    "-- Réputation moyenne des users avec les critères actuels\n",
    "                  (SELECT Avg(reputation)\n",
    "                   FROM   users) AS moyenne_reputation\n",
    "FROM   posts\n",
    "-- Jointure pour récupérer la réputation des users\n",
    "       JOIN users\n",
    "         ON posts.owneruserid = users.id\n",
    "WHERE  posts.creationdate BETWEEN CONVERT(DATETIME, '2022-01-01') AND\n",
    "                                         CONVERT(DATETIME, '2023-12-31')\n",
    "       AND posts.score > 0 -- Questions avec un score positif\n",
    "       AND posts.answercount > 0 -- Au moins une réponse\n",
    "       AND posts.commentcount > 0 -- Au moins un commentaire\n",
    "       AND users.reputation >= 91 -- Soit la réputation moyenne sur cette période avec ces critères\n",
    "```\n",
    "\n",
    "\n",
    "Réponse serveur : *\"50000 rows returned in 3102 ms\"*"
   ]
  },
  {
   "cell_type": "markdown",
   "metadata": {},
   "source": [
    "## **Importation des bibliothèques**"
   ]
  },
  {
   "cell_type": "code",
   "execution_count": 1,
   "metadata": {},
   "outputs": [],
   "source": [
    "# Mesures de durée d'éxécution\n",
    "import time\n",
    "\n",
    "# Manipulations de données\n",
    "import pandas as pd\n",
    "import numpy as np\n",
    "\n",
    "# Visualisations\n",
    "import seaborn as sns\n",
    "import matplotlib.pyplot as plt\n",
    "from wordcloud import WordCloud\n",
    "\n",
    "# Traitement des données textuelles\n",
    "import re\n",
    "import spacy\n",
    "from nltk.corpus import stopwords\n",
    "from nltk.tokenize import RegexpTokenizer\n",
    "from nltk.stem import WordNetLemmatizer\n",
    "\n",
    "# Suppression des balises HTML \n",
    "from bs4 import BeautifulSoup  # Pour nettoyer les balises HTML"
   ]
  },
  {
   "cell_type": "markdown",
   "metadata": {},
   "source": [
    "## **Importation des données**"
   ]
  },
  {
   "cell_type": "code",
   "execution_count": 2,
   "metadata": {},
   "outputs": [
    {
     "name": "stdout",
     "output_type": "stream",
     "text": [
      "Importation du dataset...\n",
      "Importation terminée.\n"
     ]
    }
   ],
   "source": [
    "print(\"Importation du dataset...\")\n",
    "colonnes_a_importer = ['creationdate', 'title', 'body', 'tags', 'reputation']\n",
    "data = pd.read_csv(\"QueryResults.csv\", sep=',', usecols=colonnes_a_importer)\n",
    "print(\"Importation terminée.\")"
   ]
  },
  {
   "cell_type": "markdown",
   "metadata": {},
   "source": [
    "- Affichage de 20 lignes au hasard : "
   ]
  },
  {
   "cell_type": "code",
   "execution_count": 3,
   "metadata": {},
   "outputs": [
    {
     "data": {
      "text/html": [
       "<div>\n",
       "<style scoped>\n",
       "    .dataframe tbody tr th:only-of-type {\n",
       "        vertical-align: middle;\n",
       "    }\n",
       "\n",
       "    .dataframe tbody tr th {\n",
       "        vertical-align: top;\n",
       "    }\n",
       "\n",
       "    .dataframe thead th {\n",
       "        text-align: right;\n",
       "    }\n",
       "</style>\n",
       "<table border=\"1\" class=\"dataframe\">\n",
       "  <thead>\n",
       "    <tr style=\"text-align: right;\">\n",
       "      <th></th>\n",
       "      <th>creationdate</th>\n",
       "      <th>title</th>\n",
       "      <th>body</th>\n",
       "      <th>tags</th>\n",
       "      <th>reputation</th>\n",
       "    </tr>\n",
       "  </thead>\n",
       "  <tbody>\n",
       "    <tr>\n",
       "      <th>43567</th>\n",
       "      <td>2023-09-07 14:35:15</td>\n",
       "      <td>Unexpected result when operating with uint16_t...</td>\n",
       "      <td>&lt;p&gt;I am doing some operations and found no exa...</td>\n",
       "      <td>&lt;c&gt;&lt;gcc&gt;&lt;floating-point&gt;&lt;ieee-754&gt;</td>\n",
       "      <td>430</td>\n",
       "    </tr>\n",
       "    <tr>\n",
       "      <th>17137</th>\n",
       "      <td>2022-09-17 04:56:05</td>\n",
       "      <td>Elegant way to split a list of strings into ne...</td>\n",
       "      <td>&lt;p&gt;Looking for an elegant way to split/format ...</td>\n",
       "      <td>&lt;python&gt;</td>\n",
       "      <td>109</td>\n",
       "    </tr>\n",
       "    <tr>\n",
       "      <th>36990</th>\n",
       "      <td>2023-07-05 16:14:16</td>\n",
       "      <td>Preload unique related object in Django</td>\n",
       "      <td>&lt;p&gt;This works just fine and only performs one ...</td>\n",
       "      <td>&lt;python&gt;&lt;django&gt;&lt;orm&gt;&lt;foreign-keys&gt;</td>\n",
       "      <td>2811</td>\n",
       "    </tr>\n",
       "    <tr>\n",
       "      <th>19783</th>\n",
       "      <td>2022-02-02 20:29:08</td>\n",
       "      <td>Google Cloud Function RTDB Trigger Path</td>\n",
       "      <td>&lt;p&gt;Does anyone familiar with Google Cloud func...</td>\n",
       "      <td>&lt;javascript&gt;&lt;node.js&gt;&lt;firebase-realtime-databa...</td>\n",
       "      <td>230</td>\n",
       "    </tr>\n",
       "    <tr>\n",
       "      <th>9221</th>\n",
       "      <td>2022-08-21 05:55:57</td>\n",
       "      <td>CollectionView SelectionChanged method not tri...</td>\n",
       "      <td>&lt;p&gt;I'm creating a CollectionView in .net MAUI ...</td>\n",
       "      <td>&lt;collectionview&gt;&lt;maui&gt;&lt;selectionchanged&gt;</td>\n",
       "      <td>217</td>\n",
       "    </tr>\n",
       "    <tr>\n",
       "      <th>24486</th>\n",
       "      <td>2023-03-27 14:35:01</td>\n",
       "      <td>SvelteKit Form Action not returning success / ...</td>\n",
       "      <td>&lt;p&gt;I have the following setup in my +page.serv...</td>\n",
       "      <td>&lt;javascript&gt;&lt;svelte&gt;&lt;sveltekit&gt;</td>\n",
       "      <td>1374</td>\n",
       "    </tr>\n",
       "    <tr>\n",
       "      <th>7054</th>\n",
       "      <td>2022-08-08 17:52:10</td>\n",
       "      <td>Throwing exception in constructor before membe...</td>\n",
       "      <td>&lt;p&gt;As an example, say I have the class&lt;/p&gt;\\n&lt;p...</td>\n",
       "      <td>&lt;c++&gt;&lt;exception&gt;&lt;constructor&gt;&lt;exception-safety&gt;</td>\n",
       "      <td>411</td>\n",
       "    </tr>\n",
       "    <tr>\n",
       "      <th>36938</th>\n",
       "      <td>2023-07-05 08:13:53</td>\n",
       "      <td>GPG keys not shared between Windows and Visual...</td>\n",
       "      <td>&lt;p&gt;As explained in &lt;a href=\"https://code.visua...</td>\n",
       "      <td>&lt;visual-studio-code&gt;&lt;gnupg&gt;&lt;vscode-remote&gt;</td>\n",
       "      <td>47306</td>\n",
       "    </tr>\n",
       "    <tr>\n",
       "      <th>40501</th>\n",
       "      <td>2023-08-07 21:04:18</td>\n",
       "      <td>In Cypress, can you iterate through a table an...</td>\n",
       "      <td>&lt;p&gt;I have an html/typescript frontend that con...</td>\n",
       "      <td>&lt;typescript&gt;&lt;cypress&gt;&lt;findelement&gt;</td>\n",
       "      <td>445</td>\n",
       "    </tr>\n",
       "    <tr>\n",
       "      <th>18665</th>\n",
       "      <td>2022-01-29 11:56:00</td>\n",
       "      <td>Use Jetpack Compose vertically scrollable comp...</td>\n",
       "      <td>&lt;p&gt;I have a player layer with subtitle layer l...</td>\n",
       "      <td>&lt;android&gt;&lt;android-jetpack-compose&gt;</td>\n",
       "      <td>1429</td>\n",
       "    </tr>\n",
       "    <tr>\n",
       "      <th>15662</th>\n",
       "      <td>2022-09-12 00:58:14</td>\n",
       "      <td>How do I enable image uploads in the self-host...</td>\n",
       "      <td>&lt;p&gt;How do I enable image uploads for the self-...</td>\n",
       "      <td>&lt;asp-classic&gt;&lt;tinymce&gt;</td>\n",
       "      <td>149</td>\n",
       "    </tr>\n",
       "    <tr>\n",
       "      <th>35633</th>\n",
       "      <td>2023-06-13 18:29:22</td>\n",
       "      <td>Using xa65 to create a Commodore 64 .prg file ...</td>\n",
       "      <td>&lt;p&gt;I've tried looking at &lt;a href=\"https://stac...</td>\n",
       "      <td>&lt;assembly&gt;&lt;6502&gt;&lt;retro-computing&gt;&lt;commodore&gt;</td>\n",
       "      <td>178</td>\n",
       "    </tr>\n",
       "    <tr>\n",
       "      <th>13753</th>\n",
       "      <td>2022-09-01 15:14:15</td>\n",
       "      <td>Spring Webflux Wait for all Flux&lt;T&gt; Before Ret...</td>\n",
       "      <td>&lt;p&gt;I'm working with Spring Webflux + R2DBC to ...</td>\n",
       "      <td>&lt;java&gt;&lt;spring-webflux&gt;&lt;r2dbc&gt;&lt;r2dbc-mssql&gt;</td>\n",
       "      <td>3048</td>\n",
       "    </tr>\n",
       "    <tr>\n",
       "      <th>1215</th>\n",
       "      <td>2022-05-09 18:06:47</td>\n",
       "      <td>Swing get user input from a pop up table</td>\n",
       "      <td>&lt;p&gt;I want to create a popup user input getter ...</td>\n",
       "      <td>&lt;java&gt;&lt;swing&gt;</td>\n",
       "      <td>1233</td>\n",
       "    </tr>\n",
       "    <tr>\n",
       "      <th>1644</th>\n",
       "      <td>2022-05-10 06:26:53</td>\n",
       "      <td>How to exclude META-INF WARNING after running ...</td>\n",
       "      <td>&lt;p&gt;the warnings look like this. Then under are...</td>\n",
       "      <td>&lt;maven&gt;&lt;meta-inf&gt;</td>\n",
       "      <td>125</td>\n",
       "    </tr>\n",
       "    <tr>\n",
       "      <th>603</th>\n",
       "      <td>2022-01-01 15:49:00</td>\n",
       "      <td>In iOS, how can I get the contact shared from ...</td>\n",
       "      <td>&lt;p&gt;Please excuse me if I sound stupid, I'm new...</td>\n",
       "      <td>&lt;swift&gt;&lt;flutter&gt;&lt;share-intent&gt;</td>\n",
       "      <td>429</td>\n",
       "    </tr>\n",
       "    <tr>\n",
       "      <th>49483</th>\n",
       "      <td>2022-03-17 05:33:48</td>\n",
       "      <td>How to recognize whenever get from Guava Loadi...</td>\n",
       "      <td>&lt;p&gt;I use &lt;code&gt;LoadingCache&amp;lt;KEY, VALUE&amp;gt;&lt;...</td>\n",
       "      <td>&lt;java&gt;&lt;caching&gt;&lt;guava&gt;</td>\n",
       "      <td>1164</td>\n",
       "    </tr>\n",
       "    <tr>\n",
       "      <th>46431</th>\n",
       "      <td>2022-03-15 15:07:55</td>\n",
       "      <td>Passport authentication missing credentials in...</td>\n",
       "      <td>&lt;p&gt;I am learning how to implement user authent...</td>\n",
       "      <td>&lt;javascript&gt;&lt;node.js&gt;&lt;express&gt;&lt;passport.js&gt;</td>\n",
       "      <td>724</td>\n",
       "    </tr>\n",
       "    <tr>\n",
       "      <th>2701</th>\n",
       "      <td>2022-07-23 04:20:05</td>\n",
       "      <td>Flickering backdrop filter blur on scaling</td>\n",
       "      <td>&lt;p&gt;I have a simple card which zooms on hoverin...</td>\n",
       "      <td>&lt;css&gt;&lt;css-animations&gt;&lt;css-transitions&gt;</td>\n",
       "      <td>1393</td>\n",
       "    </tr>\n",
       "    <tr>\n",
       "      <th>16282</th>\n",
       "      <td>2022-09-13 14:12:45</td>\n",
       "      <td>C#: Throttle/rate limit outgoing HTTP requests...</td>\n",
       "      <td>&lt;p&gt;I am developing an integration solution tha...</td>\n",
       "      <td>&lt;c#&gt;&lt;dotnet-httpclient&gt;&lt;rate-limiting&gt;&lt;polly&gt;&lt;...</td>\n",
       "      <td>553</td>\n",
       "    </tr>\n",
       "  </tbody>\n",
       "</table>\n",
       "</div>"
      ],
      "text/plain": [
       "              creationdate                                              title  \\\n",
       "43567  2023-09-07 14:35:15  Unexpected result when operating with uint16_t...   \n",
       "17137  2022-09-17 04:56:05  Elegant way to split a list of strings into ne...   \n",
       "36990  2023-07-05 16:14:16            Preload unique related object in Django   \n",
       "19783  2022-02-02 20:29:08            Google Cloud Function RTDB Trigger Path   \n",
       "9221   2022-08-21 05:55:57  CollectionView SelectionChanged method not tri...   \n",
       "24486  2023-03-27 14:35:01  SvelteKit Form Action not returning success / ...   \n",
       "7054   2022-08-08 17:52:10  Throwing exception in constructor before membe...   \n",
       "36938  2023-07-05 08:13:53  GPG keys not shared between Windows and Visual...   \n",
       "40501  2023-08-07 21:04:18  In Cypress, can you iterate through a table an...   \n",
       "18665  2022-01-29 11:56:00  Use Jetpack Compose vertically scrollable comp...   \n",
       "15662  2022-09-12 00:58:14  How do I enable image uploads in the self-host...   \n",
       "35633  2023-06-13 18:29:22  Using xa65 to create a Commodore 64 .prg file ...   \n",
       "13753  2022-09-01 15:14:15  Spring Webflux Wait for all Flux<T> Before Ret...   \n",
       "1215   2022-05-09 18:06:47           Swing get user input from a pop up table   \n",
       "1644   2022-05-10 06:26:53  How to exclude META-INF WARNING after running ...   \n",
       "603    2022-01-01 15:49:00  In iOS, how can I get the contact shared from ...   \n",
       "49483  2022-03-17 05:33:48  How to recognize whenever get from Guava Loadi...   \n",
       "46431  2022-03-15 15:07:55  Passport authentication missing credentials in...   \n",
       "2701   2022-07-23 04:20:05         Flickering backdrop filter blur on scaling   \n",
       "16282  2022-09-13 14:12:45  C#: Throttle/rate limit outgoing HTTP requests...   \n",
       "\n",
       "                                                    body  \\\n",
       "43567  <p>I am doing some operations and found no exa...   \n",
       "17137  <p>Looking for an elegant way to split/format ...   \n",
       "36990  <p>This works just fine and only performs one ...   \n",
       "19783  <p>Does anyone familiar with Google Cloud func...   \n",
       "9221   <p>I'm creating a CollectionView in .net MAUI ...   \n",
       "24486  <p>I have the following setup in my +page.serv...   \n",
       "7054   <p>As an example, say I have the class</p>\\n<p...   \n",
       "36938  <p>As explained in <a href=\"https://code.visua...   \n",
       "40501  <p>I have an html/typescript frontend that con...   \n",
       "18665  <p>I have a player layer with subtitle layer l...   \n",
       "15662  <p>How do I enable image uploads for the self-...   \n",
       "35633  <p>I've tried looking at <a href=\"https://stac...   \n",
       "13753  <p>I'm working with Spring Webflux + R2DBC to ...   \n",
       "1215   <p>I want to create a popup user input getter ...   \n",
       "1644   <p>the warnings look like this. Then under are...   \n",
       "603    <p>Please excuse me if I sound stupid, I'm new...   \n",
       "49483  <p>I use <code>LoadingCache&lt;KEY, VALUE&gt;<...   \n",
       "46431  <p>I am learning how to implement user authent...   \n",
       "2701   <p>I have a simple card which zooms on hoverin...   \n",
       "16282  <p>I am developing an integration solution tha...   \n",
       "\n",
       "                                                    tags  reputation  \n",
       "43567                 <c><gcc><floating-point><ieee-754>         430  \n",
       "17137                                           <python>         109  \n",
       "36990                <python><django><orm><foreign-keys>        2811  \n",
       "19783  <javascript><node.js><firebase-realtime-databa...         230  \n",
       "9221            <collectionview><maui><selectionchanged>         217  \n",
       "24486                    <javascript><svelte><sveltekit>        1374  \n",
       "7054     <c++><exception><constructor><exception-safety>         411  \n",
       "36938         <visual-studio-code><gnupg><vscode-remote>       47306  \n",
       "40501                 <typescript><cypress><findelement>         445  \n",
       "18665                 <android><android-jetpack-compose>        1429  \n",
       "15662                             <asp-classic><tinymce>         149  \n",
       "35633       <assembly><6502><retro-computing><commodore>         178  \n",
       "13753         <java><spring-webflux><r2dbc><r2dbc-mssql>        3048  \n",
       "1215                                       <java><swing>        1233  \n",
       "1644                                   <maven><meta-inf>         125  \n",
       "603                       <swift><flutter><share-intent>         429  \n",
       "49483                             <java><caching><guava>        1164  \n",
       "46431        <javascript><node.js><express><passport.js>         724  \n",
       "2701              <css><css-animations><css-transitions>        1393  \n",
       "16282  <c#><dotnet-httpclient><rate-limiting><polly><...         553  "
      ]
     },
     "execution_count": 3,
     "metadata": {},
     "output_type": "execute_result"
    }
   ],
   "source": [
    "data.sample(20)"
   ]
  },
  {
   "cell_type": "markdown",
   "metadata": {},
   "source": [
    "### **Traîtements de base**"
   ]
  },
  {
   "cell_type": "markdown",
   "metadata": {},
   "source": [
    "- Conversion de la colonne date au format date : "
   ]
  },
  {
   "cell_type": "code",
   "execution_count": 4,
   "metadata": {},
   "outputs": [],
   "source": [
    "data[\"creationdate\"] = pd.to_datetime(data[\"creationdate\"])"
   ]
  },
  {
   "cell_type": "markdown",
   "metadata": {},
   "source": [
    "- Vérification du type des colonnes : "
   ]
  },
  {
   "cell_type": "code",
   "execution_count": 5,
   "metadata": {},
   "outputs": [
    {
     "data": {
      "text/plain": [
       "creationdate    datetime64[ns]\n",
       "title                   object\n",
       "body                    object\n",
       "tags                    object\n",
       "reputation               int64\n",
       "dtype: object"
      ]
     },
     "execution_count": 5,
     "metadata": {},
     "output_type": "execute_result"
    }
   ],
   "source": [
    "data.dtypes"
   ]
  },
  {
   "cell_type": "markdown",
   "metadata": {},
   "source": [
    "- Y a-t-il des doublons ?"
   ]
  },
  {
   "cell_type": "code",
   "execution_count": 6,
   "metadata": {},
   "outputs": [
    {
     "name": "stdout",
     "output_type": "stream",
     "text": [
      "Colonne 'creationdate' : 91 doublon(s)\n",
      "Colonne 'title' : 0 doublon(s)\n",
      "Colonne 'body' : 1 doublon(s)\n",
      "Colonne 'tags' : 14871 doublon(s)\n",
      "Colonne 'reputation' : 42320 doublon(s)\n"
     ]
    }
   ],
   "source": [
    "for col in data.columns:\n",
    "    n = data.duplicated(subset=col).sum()\n",
    "    print(f\"Colonne '{col}' : {n} doublon(s)\")"
   ]
  },
  {
   "cell_type": "markdown",
   "metadata": {},
   "source": [
    "- Il y a un doublon dans la colonne 'body' : "
   ]
  },
  {
   "cell_type": "code",
   "execution_count": 7,
   "metadata": {},
   "outputs": [
    {
     "data": {
      "text/html": [
       "<div>\n",
       "<style scoped>\n",
       "    .dataframe tbody tr th:only-of-type {\n",
       "        vertical-align: middle;\n",
       "    }\n",
       "\n",
       "    .dataframe tbody tr th {\n",
       "        vertical-align: top;\n",
       "    }\n",
       "\n",
       "    .dataframe thead th {\n",
       "        text-align: right;\n",
       "    }\n",
       "</style>\n",
       "<table border=\"1\" class=\"dataframe\">\n",
       "  <thead>\n",
       "    <tr style=\"text-align: right;\">\n",
       "      <th></th>\n",
       "      <th>creationdate</th>\n",
       "      <th>title</th>\n",
       "      <th>body</th>\n",
       "      <th>tags</th>\n",
       "      <th>reputation</th>\n",
       "    </tr>\n",
       "  </thead>\n",
       "  <tbody>\n",
       "    <tr>\n",
       "      <th>13995</th>\n",
       "      <td>2022-09-03 20:36:16</td>\n",
       "      <td>Remove nodeSelectorTerms param in manifest dep...</td>\n",
       "      <td>&lt;p&gt;I use this manifest configuration to deploy...</td>\n",
       "      <td>&lt;kubernetes&gt;&lt;kubernetes-helm&gt;</td>\n",
       "      <td>1198</td>\n",
       "    </tr>\n",
       "    <tr>\n",
       "      <th>16003</th>\n",
       "      <td>2022-09-15 23:08:29</td>\n",
       "      <td>Remove nodeSelectorTerms param</td>\n",
       "      <td>&lt;p&gt;I use this manifest configuration to deploy...</td>\n",
       "      <td>&lt;kubernetes&gt;</td>\n",
       "      <td>1198</td>\n",
       "    </tr>\n",
       "  </tbody>\n",
       "</table>\n",
       "</div>"
      ],
      "text/plain": [
       "             creationdate                                              title  \\\n",
       "13995 2022-09-03 20:36:16  Remove nodeSelectorTerms param in manifest dep...   \n",
       "16003 2022-09-15 23:08:29                     Remove nodeSelectorTerms param   \n",
       "\n",
       "                                                    body  \\\n",
       "13995  <p>I use this manifest configuration to deploy...   \n",
       "16003  <p>I use this manifest configuration to deploy...   \n",
       "\n",
       "                                tags  reputation  \n",
       "13995  <kubernetes><kubernetes-helm>        1198  \n",
       "16003                   <kubernetes>        1198  "
      ]
     },
     "execution_count": 7,
     "metadata": {},
     "output_type": "execute_result"
    }
   ],
   "source": [
    "data.loc[data['body'].duplicated(keep=False) == True]"
   ]
  },
  {
   "cell_type": "markdown",
   "metadata": {},
   "source": [
    "- Suppression de ce doublon (les doublons dans les autres colonnes ne sont pas problématiques) : "
   ]
  },
  {
   "cell_type": "code",
   "execution_count": 8,
   "metadata": {},
   "outputs": [],
   "source": [
    "data.drop_duplicates(subset='body', inplace=True)"
   ]
  },
  {
   "cell_type": "markdown",
   "metadata": {},
   "source": [
    "- y a-t-il des valeurs manquantes ?"
   ]
  },
  {
   "cell_type": "code",
   "execution_count": 9,
   "metadata": {},
   "outputs": [
    {
     "data": {
      "text/plain": [
       "creationdate    0\n",
       "title           0\n",
       "body            0\n",
       "tags            0\n",
       "reputation      0\n",
       "dtype: int64"
      ]
     },
     "execution_count": 9,
     "metadata": {},
     "output_type": "execute_result"
    }
   ],
   "source": [
    "data.isna().sum()"
   ]
  },
  {
   "cell_type": "markdown",
   "metadata": {},
   "source": [
    "### **Création d'une nouvelle colonne *'corpus'***\n",
    "\n",
    "Nos données textuelles sont contenues dans *'title'* (le titre de la question) et *'body'* (le corps de la question).<br>\n",
    "Il peut être intéressant de conserver le titre car des informations importantes peuvent s'y trouver, sans qu'elles soient obligatoirement reprise dans le corps du message."
   ]
  },
  {
   "cell_type": "code",
   "execution_count": 10,
   "metadata": {},
   "outputs": [],
   "source": [
    "data['corpus'] = data['title'] + ' ' + data['body']"
   ]
  },
  {
   "cell_type": "markdown",
   "metadata": {},
   "source": [
    "- On enlève *'title'* et *'body'* dont on a plus besoin : "
   ]
  },
  {
   "cell_type": "code",
   "execution_count": 11,
   "metadata": {},
   "outputs": [],
   "source": [
    "data.drop(['title', 'body'], axis=1, inplace=True)"
   ]
  },
  {
   "cell_type": "markdown",
   "metadata": {},
   "source": [
    "### **Formattage des tags**\n",
    "\n",
    "Plutôt que d'avoir \"<Tag 1><Tag 2>\", on souhaite avoir [Tag 1, Tag 2]"
   ]
  },
  {
   "cell_type": "markdown",
   "metadata": {},
   "source": [
    "- Avant formattage : "
   ]
  },
  {
   "cell_type": "code",
   "execution_count": 12,
   "metadata": {},
   "outputs": [
    {
     "data": {
      "text/html": [
       "<div>\n",
       "<style scoped>\n",
       "    .dataframe tbody tr th:only-of-type {\n",
       "        vertical-align: middle;\n",
       "    }\n",
       "\n",
       "    .dataframe tbody tr th {\n",
       "        vertical-align: top;\n",
       "    }\n",
       "\n",
       "    .dataframe thead th {\n",
       "        text-align: right;\n",
       "    }\n",
       "</style>\n",
       "<table border=\"1\" class=\"dataframe\">\n",
       "  <thead>\n",
       "    <tr style=\"text-align: right;\">\n",
       "      <th></th>\n",
       "      <th>tags</th>\n",
       "    </tr>\n",
       "  </thead>\n",
       "  <tbody>\n",
       "    <tr>\n",
       "      <th>0</th>\n",
       "      <td>&lt;antlr4&gt;</td>\n",
       "    </tr>\n",
       "    <tr>\n",
       "      <th>1</th>\n",
       "      <td>&lt;reactjs&gt;&lt;firebase&gt;&lt;jestjs&gt;</td>\n",
       "    </tr>\n",
       "    <tr>\n",
       "      <th>2</th>\n",
       "      <td>&lt;async-await&gt;&lt;concurrency&gt;&lt;hacklang&gt;</td>\n",
       "    </tr>\n",
       "    <tr>\n",
       "      <th>3</th>\n",
       "      <td>&lt;typescript&gt;</td>\n",
       "    </tr>\n",
       "    <tr>\n",
       "      <th>4</th>\n",
       "      <td>&lt;expo&gt;&lt;google-play-console&gt;&lt;google-play-develo...</td>\n",
       "    </tr>\n",
       "    <tr>\n",
       "      <th>...</th>\n",
       "      <td>...</td>\n",
       "    </tr>\n",
       "    <tr>\n",
       "      <th>49995</th>\n",
       "      <td>&lt;ionic-framework&gt;&lt;ionic-react&gt;</td>\n",
       "    </tr>\n",
       "    <tr>\n",
       "      <th>49996</th>\n",
       "      <td>&lt;stripe-payments&gt;</td>\n",
       "    </tr>\n",
       "    <tr>\n",
       "      <th>49997</th>\n",
       "      <td>&lt;terraform&gt;</td>\n",
       "    </tr>\n",
       "    <tr>\n",
       "      <th>49998</th>\n",
       "      <td>&lt;azure&gt;&lt;azurite&gt;</td>\n",
       "    </tr>\n",
       "    <tr>\n",
       "      <th>49999</th>\n",
       "      <td>&lt;c#&gt;&lt;.net-core&gt;&lt;.net-6.0&gt;&lt;aws-parameter-store&gt;</td>\n",
       "    </tr>\n",
       "  </tbody>\n",
       "</table>\n",
       "<p>49999 rows × 1 columns</p>\n",
       "</div>"
      ],
      "text/plain": [
       "                                                    tags\n",
       "0                                               <antlr4>\n",
       "1                            <reactjs><firebase><jestjs>\n",
       "2                   <async-await><concurrency><hacklang>\n",
       "3                                           <typescript>\n",
       "4      <expo><google-play-console><google-play-develo...\n",
       "...                                                  ...\n",
       "49995                     <ionic-framework><ionic-react>\n",
       "49996                                  <stripe-payments>\n",
       "49997                                        <terraform>\n",
       "49998                                   <azure><azurite>\n",
       "49999     <c#><.net-core><.net-6.0><aws-parameter-store>\n",
       "\n",
       "[49999 rows x 1 columns]"
      ]
     },
     "execution_count": 12,
     "metadata": {},
     "output_type": "execute_result"
    }
   ],
   "source": [
    "data[['tags']]"
   ]
  },
  {
   "cell_type": "code",
   "execution_count": 13,
   "metadata": {},
   "outputs": [],
   "source": [
    "data['tags'] = data['tags'].apply(lambda x: re.findall(r'<(.*?)>', x))"
   ]
  },
  {
   "cell_type": "markdown",
   "metadata": {},
   "source": [
    "- Après formattage : "
   ]
  },
  {
   "cell_type": "code",
   "execution_count": 14,
   "metadata": {},
   "outputs": [
    {
     "data": {
      "text/html": [
       "<div>\n",
       "<style scoped>\n",
       "    .dataframe tbody tr th:only-of-type {\n",
       "        vertical-align: middle;\n",
       "    }\n",
       "\n",
       "    .dataframe tbody tr th {\n",
       "        vertical-align: top;\n",
       "    }\n",
       "\n",
       "    .dataframe thead th {\n",
       "        text-align: right;\n",
       "    }\n",
       "</style>\n",
       "<table border=\"1\" class=\"dataframe\">\n",
       "  <thead>\n",
       "    <tr style=\"text-align: right;\">\n",
       "      <th></th>\n",
       "      <th>tags</th>\n",
       "    </tr>\n",
       "  </thead>\n",
       "  <tbody>\n",
       "    <tr>\n",
       "      <th>0</th>\n",
       "      <td>[antlr4]</td>\n",
       "    </tr>\n",
       "    <tr>\n",
       "      <th>1</th>\n",
       "      <td>[reactjs, firebase, jestjs]</td>\n",
       "    </tr>\n",
       "    <tr>\n",
       "      <th>2</th>\n",
       "      <td>[async-await, concurrency, hacklang]</td>\n",
       "    </tr>\n",
       "    <tr>\n",
       "      <th>3</th>\n",
       "      <td>[typescript]</td>\n",
       "    </tr>\n",
       "    <tr>\n",
       "      <th>4</th>\n",
       "      <td>[expo, google-play-console, google-play-develo...</td>\n",
       "    </tr>\n",
       "    <tr>\n",
       "      <th>...</th>\n",
       "      <td>...</td>\n",
       "    </tr>\n",
       "    <tr>\n",
       "      <th>49995</th>\n",
       "      <td>[ionic-framework, ionic-react]</td>\n",
       "    </tr>\n",
       "    <tr>\n",
       "      <th>49996</th>\n",
       "      <td>[stripe-payments]</td>\n",
       "    </tr>\n",
       "    <tr>\n",
       "      <th>49997</th>\n",
       "      <td>[terraform]</td>\n",
       "    </tr>\n",
       "    <tr>\n",
       "      <th>49998</th>\n",
       "      <td>[azure, azurite]</td>\n",
       "    </tr>\n",
       "    <tr>\n",
       "      <th>49999</th>\n",
       "      <td>[c#, .net-core, .net-6.0, aws-parameter-store]</td>\n",
       "    </tr>\n",
       "  </tbody>\n",
       "</table>\n",
       "<p>49999 rows × 1 columns</p>\n",
       "</div>"
      ],
      "text/plain": [
       "                                                    tags\n",
       "0                                               [antlr4]\n",
       "1                            [reactjs, firebase, jestjs]\n",
       "2                   [async-await, concurrency, hacklang]\n",
       "3                                           [typescript]\n",
       "4      [expo, google-play-console, google-play-develo...\n",
       "...                                                  ...\n",
       "49995                     [ionic-framework, ionic-react]\n",
       "49996                                  [stripe-payments]\n",
       "49997                                        [terraform]\n",
       "49998                                   [azure, azurite]\n",
       "49999     [c#, .net-core, .net-6.0, aws-parameter-store]\n",
       "\n",
       "[49999 rows x 1 columns]"
      ]
     },
     "execution_count": 14,
     "metadata": {},
     "output_type": "execute_result"
    }
   ],
   "source": [
    "data[['tags']]"
   ]
  },
  {
   "cell_type": "markdown",
   "metadata": {},
   "source": [
    "### **Suppression des balises HTML dans le corpus**\n",
    "\n",
    "Les questions contiennent des balises HTML qui vont perturber nos traitements, il faut les enlever.<br>\n",
    "Nous allons utiliser pour cela le parser HTML de *BeautifulSoup*."
   ]
  },
  {
   "cell_type": "markdown",
   "metadata": {},
   "source": [
    "- Premier document avant traitement : "
   ]
  },
  {
   "cell_type": "code",
   "execution_count": 15,
   "metadata": {},
   "outputs": [
    {
     "data": {
      "text/plain": [
       "'Lexer rule to handle escape of quote with quote or backslash in ANTLR4? <p>I\\'m trying to expand the answer to <a href=\"https://stackoverflow.com/questions/29800106/how-do-i-escape-an-escape-character-with-antlr-4\">How do I escape an escape character with ANTLR 4?</a> to work when the &quot; can be escaped both with &quot; and \\\\. I.e. both</p>\\n<pre><code>&quot;Rob &quot;&quot;Commander Taco&quot;&quot; Malda is smart.&quot;\\n</code></pre>\\n<p>and</p>\\n<pre><code>&quot;Rob \\\\&quot;Commander Taco\\\\&quot; Malda is smart.&quot;\\n</code></pre>\\n<p>are both valid and equivalent. I\\'ve tried</p>\\n<pre><code>StringLiteral : \\'&quot;\\' (\\'&quot;&quot;\\'|\\'\\\\\\\\&quot;\\'|~[&quot;])* \\'&quot;\\';\\n</code></pre>\\n<p>but if fails to match</p>\\n<pre><code>&quot;Entry Flag for Offset check and for \\\\&quot;don\\'t start Chiller Water Pump Request\\\\&quot;&quot;\\n</code></pre>\\n<p>with the tokenizer consuming more characters than intended, i.e. consumes beyond \\\\&quot;&quot;</p>\\n<p>Anyone who knows how to define the lexer rule?</p>\\n<hr />\\n<p>A bit more detail...</p>\\n<ul>\\n<li><code>&quot;&quot;</code> succeeds</li>\\n<li><code>&quot;&quot;&quot;&quot;</code> succeeds</li>\\n<li><code>\\\\&quot; &quot;</code> succeeds</li>\\n<li><code>&quot;\\\\&quot;&quot;</code> succeeds (at EOF)</li>\\n<li><code>&quot;\\\\&quot;&quot;\\\\n&quot;&quot;</code> fails (it greedily pulls in the <code>\\\\n</code> and <code>&quot;</code></li>\\n</ul>\\n<p>Example: (text.txt)</p>\\n<pre><code>&quot;&quot;\\n&quot;&quot;&quot;&quot;\\n&quot;\\\\&quot; &quot;\\n&quot;\\\\&quot;&quot;\\n&quot;&quot;\\n</code></pre>\\n<pre><code>grun test tokens -tokens &lt; test.txt\\n</code></pre>\\n<pre><code>line 5:1 token recognition error at: \\'&quot;\\'\\n[@0,0:1=\\'&quot;&quot;\\',&lt;StringLiteral&gt;,1:0]\\n[@1,2:2=\\'\\\\n\\',&lt;\\'\\n\\'&gt;,1:2]\\n[@2,3:6=\\'&quot;&quot;&quot;&quot;\\',&lt;StringLiteral&gt;,2:0]\\n[@3,7:7=\\'\\\\n\\',&lt;\\'\\n\\'&gt;,2:4]\\n[@4,8:12=\\'&quot;\\\\&quot; &quot;\\',&lt;StringLiteral&gt;,3:0]\\n[@5,13:13=\\'\\\\n\\',&lt;\\'\\n\\'&gt;,3:5]\\n[@6,14:19=\\'&quot;\\\\&quot;&quot;\\\\n&quot;\\',&lt;StringLiteral&gt;,4:0]\\n[@7,21:20=\\'&lt;EOF&gt;\\',&lt;EOF&gt;,5:2]\\n</code></pre>\\n<p><code>\\\\&quot;&quot;</code> and <code>&quot;&quot;&quot;</code> at the end of a StringListeral are not being handled the same.</p>\\n<p>Here\\'s the ATN for that rule:</p>\\n<p><a href=\"https://i.stack.imgur.com/Ozi27.png\" rel=\"nofollow noreferrer\"><img src=\"https://i.stack.imgur.com/Ozi27.png\" alt=\"enter image description here\" /></a></p>\\n<p>From this diagram it\\'s not clear why they should be handled differently.  They appear to be parallel constructs.</p>\\n<hr />\\n<h2>More research</h2>\\n<p>Test Grammar (small change to simplify ATN):</p>\\n<pre><code>grammar test\\n    ;\\n\\nstart: StringLiteral (WS? StringLiteral)+;\\n\\nStringLiteral: \\'&quot;\\' ( ((\\'\\\\\\\\\\' | \\'&quot;\\') \\'&quot;\\') | ~[&quot;])* \\'&quot;\\';\\nWS:            [ \\\\t\\\\n\\\\r]+;\\n</code></pre>\\n<p>The ATN for StringLiteral in this grammar:</p>\\n<p><a href=\"https://i.stack.imgur.com/mL9lX.png\" rel=\"nofollow noreferrer\"><img src=\"https://i.stack.imgur.com/mL9lX.png\" alt=\"ATN for Stringliteral\" /></a></p>\\n<p>OK, let\\'s walk through this ATN with the input <code>&quot;\\\\&quot;&quot;\\\\n&quot;</code></p>\\n<div class=\"s-table-container\">\\n<table class=\"s-table\">\\n<thead>\\n<tr>\\n<th style=\"text-align: left;\">unconsumed input</th>\\n<th>transition</th>\\n</tr>\\n</thead>\\n<tbody>\\n<tr>\\n<td style=\"text-align: left;\">&quot;\\\\&quot;&quot;\\\\n&quot;</td>\\n<td>1 -ε-&gt; 5</td>\\n</tr>\\n<tr>\\n<td style=\"text-align: left;\">&quot;\\\\&quot;&quot;\\\\n&quot;</td>\\n<td>5 -&quot;-&gt; 11</td>\\n</tr>\\n<tr>\\n<td style=\"text-align: left;\">\\\\&quot;&quot;\\\\n&quot;</td>\\n<td>11 -ε-&gt; 9</td>\\n</tr>\\n<tr>\\n<td style=\"text-align: left;\">\\\\&quot;&quot;\\\\n&quot;</td>\\n<td>9 -ε-&gt; 6</td>\\n</tr>\\n<tr>\\n<td style=\"text-align: left;\">\\\\&quot;&quot;\\\\n&quot;</td>\\n<td>6 -\\\\-&gt; 7</td>\\n</tr>\\n<tr>\\n<td style=\"text-align: left;\">&quot;&quot;\\\\n&quot;</td>\\n<td>7 -&quot;-&gt; 10</td>\\n</tr>\\n<tr>\\n<td style=\"text-align: left;\">&quot;\\\\n&quot;</td>\\n<td>10 -ε-&gt; 13</td>\\n</tr>\\n<tr>\\n<td style=\"text-align: left;\">&quot;\\\\n&quot;</td>\\n<td>13 -ε-&gt; 11</td>\\n</tr>\\n<tr>\\n<td style=\"text-align: left;\">&quot;\\\\n&quot;</td>\\n<td>11 -ε-&gt; 12</td>\\n</tr>\\n<tr>\\n<td style=\"text-align: left;\">&quot;\\\\n&quot;</td>\\n<td>12 -ε-&gt; 14</td>\\n</tr>\\n<tr>\\n<td style=\"text-align: left;\">&quot;\\\\n&quot;</td>\\n<td>14 -&quot;-&gt; 15</td>\\n</tr>\\n<tr>\\n<td style=\"text-align: left;\">\\\\n&quot;</td>\\n<td>15 -ε-&gt; 2</td>\\n</tr>\\n</tbody>\\n</table>\\n</div>\\n<p>We should reach State <code>2</code> with the <code>&quot;</code> before the <code>\\\\n</code>, which would be the desired behavior.</p>\\n<p>Instead, we see it continue on to consume the <code>\\\\n</code> and the next <code>&quot;</code></p>\\n<pre><code>line 2:1 token recognition error at: \\'&quot;\\'\\n[@0,0:5=\\'&quot;\\\\&quot;&quot;\\\\n&quot;\\',&lt;StringLiteral&gt;,1:0]\\n[@1,7:6=\\'&lt;EOF&gt;\\',&lt;EOF&gt;,2:2]\\n</code></pre>\\n<p>In order for this to be valid, there must be a path from state 11 to state 2 that consumes a <code>\\\\n</code> and a <code>&quot;</code> (and I\\'m not seeing it)</p>\\n<p>Maybe I\\'m missing something, but it\\'s looking more and more like a bug to me.</p>\\n'"
      ]
     },
     "execution_count": 15,
     "metadata": {},
     "output_type": "execute_result"
    }
   ],
   "source": [
    "data.loc[0]['corpus']"
   ]
  },
  {
   "cell_type": "code",
   "execution_count": 16,
   "metadata": {},
   "outputs": [
    {
     "name": "stdout",
     "output_type": "stream",
     "text": [
      "Durée du traitement : 33.67 s\n"
     ]
    }
   ],
   "source": [
    "debut = time.time()  # Heure de début du traitement\n",
    "\n",
    "data['corpus'] = data['corpus'].apply(lambda x: BeautifulSoup(x, 'html.parser').get_text())\n",
    "\n",
    "print(f\"Durée du traitement : {(time.time() - debut):.2f} s\")"
   ]
  },
  {
   "cell_type": "markdown",
   "metadata": {},
   "source": [
    "- Premier document après traitement : "
   ]
  },
  {
   "cell_type": "code",
   "execution_count": 17,
   "metadata": {},
   "outputs": [
    {
     "data": {
      "text/plain": [
       "'Lexer rule to handle escape of quote with quote or backslash in ANTLR4? I\\'m trying to expand the answer to How do I escape an escape character with ANTLR 4? to work when the \" can be escaped both with \" and \\\\. I.e. both\\n\"Rob \"\"Commander Taco\"\" Malda is smart.\"\\n\\nand\\n\"Rob \\\\\"Commander Taco\\\\\" Malda is smart.\"\\n\\nare both valid and equivalent. I\\'ve tried\\nStringLiteral : \\'\"\\' (\\'\"\"\\'|\\'\\\\\\\\\"\\'|~[\"])* \\'\"\\';\\n\\nbut if fails to match\\n\"Entry Flag for Offset check and for \\\\\"don\\'t start Chiller Water Pump Request\\\\\"\"\\n\\nwith the tokenizer consuming more characters than intended, i.e. consumes beyond \\\\\"\"\\nAnyone who knows how to define the lexer rule?\\n\\nA bit more detail...\\n\\n\"\" succeeds\\n\"\"\"\" succeeds\\n\\\\\" \" succeeds\\n\"\\\\\"\" succeeds (at EOF)\\n\"\\\\\"\"\\\\n\"\" fails (it greedily pulls in the \\\\n and \"\\n\\nExample: (text.txt)\\n\"\"\\n\"\"\"\"\\n\"\\\\\" \"\\n\"\\\\\"\"\\n\"\"\\n\\ngrun test tokens -tokens < test.txt\\n\\nline 5:1 token recognition error at: \\'\"\\'\\n[@0,0:1=\\'\"\"\\',<StringLiteral>,1:0]\\n[@1,2:2=\\'\\\\n\\',<\\'\\n\\'>,1:2]\\n[@2,3:6=\\'\"\"\"\"\\',<StringLiteral>,2:0]\\n[@3,7:7=\\'\\\\n\\',<\\'\\n\\'>,2:4]\\n[@4,8:12=\\'\"\\\\\" \"\\',<StringLiteral>,3:0]\\n[@5,13:13=\\'\\\\n\\',<\\'\\n\\'>,3:5]\\n[@6,14:19=\\'\"\\\\\"\"\\\\n\"\\',<StringLiteral>,4:0]\\n[@7,21:20=\\'<EOF>\\',<EOF>,5:2]\\n\\n\\\\\"\" and \"\"\" at the end of a StringListeral are not being handled the same.\\nHere\\'s the ATN for that rule:\\n\\nFrom this diagram it\\'s not clear why they should be handled differently.  They appear to be parallel constructs.\\n\\nMore research\\nTest Grammar (small change to simplify ATN):\\ngrammar test\\n    ;\\n\\nstart: StringLiteral (WS? StringLiteral)+;\\n\\nStringLiteral: \\'\"\\' ( ((\\'\\\\\\\\\\' | \\'\"\\') \\'\"\\') | ~[\"])* \\'\"\\';\\nWS:            [ \\\\t\\\\n\\\\r]+;\\n\\nThe ATN for StringLiteral in this grammar:\\n\\nOK, let\\'s walk through this ATN with the input \"\\\\\"\"\\\\n\"\\n\\n\\n\\n\\nunconsumed input\\ntransition\\n\\n\\n\\n\\n\"\\\\\"\"\\\\n\"\\n1 -ε-> 5\\n\\n\\n\"\\\\\"\"\\\\n\"\\n5 -\"-> 11\\n\\n\\n\\\\\"\"\\\\n\"\\n11 -ε-> 9\\n\\n\\n\\\\\"\"\\\\n\"\\n9 -ε-> 6\\n\\n\\n\\\\\"\"\\\\n\"\\n6 -\\\\-> 7\\n\\n\\n\"\"\\\\n\"\\n7 -\"-> 10\\n\\n\\n\"\\\\n\"\\n10 -ε-> 13\\n\\n\\n\"\\\\n\"\\n13 -ε-> 11\\n\\n\\n\"\\\\n\"\\n11 -ε-> 12\\n\\n\\n\"\\\\n\"\\n12 -ε-> 14\\n\\n\\n\"\\\\n\"\\n14 -\"-> 15\\n\\n\\n\\\\n\"\\n15 -ε-> 2\\n\\n\\n\\n\\nWe should reach State 2 with the \" before the \\\\n, which would be the desired behavior.\\nInstead, we see it continue on to consume the \\\\n and the next \"\\nline 2:1 token recognition error at: \\'\"\\'\\n[@0,0:5=\\'\"\\\\\"\"\\\\n\"\\',<StringLiteral>,1:0]\\n[@1,7:6=\\'<EOF>\\',<EOF>,2:2]\\n\\nIn order for this to be valid, there must be a path from state 11 to state 2 that consumes a \\\\n and a \" (and I\\'m not seeing it)\\nMaybe I\\'m missing something, but it\\'s looking more and more like a bug to me.\\n'"
      ]
     },
     "execution_count": 17,
     "metadata": {},
     "output_type": "execute_result"
    }
   ],
   "source": [
    "data.loc[0]['corpus']"
   ]
  },
  {
   "cell_type": "markdown",
   "metadata": {},
   "source": [
    "## **Exploration des données**"
   ]
  },
  {
   "cell_type": "markdown",
   "metadata": {},
   "source": [
    "- Paramètres graphiques : "
   ]
  },
  {
   "cell_type": "code",
   "execution_count": 18,
   "metadata": {},
   "outputs": [],
   "source": [
    "# Boîtes à moustaches : \n",
    "\n",
    "param_box_plot = {\n",
    "    'boxprops': dict(\n",
    "        linestyle='-',\n",
    "        linewidth=1,\n",
    "        color='black',\n",
    "        facecolor='#8181FF',\n",
    "    ),\n",
    "\n",
    "    'flierprops': dict(\n",
    "        color='#8181FF',\n",
    "        markeredgecolor='black',\n",
    "        markeredgewidth=0.5,\n",
    "        markerfacecolor='#8181FF',\n",
    "        markersize=15,\n",
    "        marker='.',\n",
    "        alpha=0.1,\n",
    "    ),\n",
    "    'medianprops': dict(\n",
    "        linestyle='-',\n",
    "        linewidth=2,\n",
    "        color='#ED3B23',\n",
    "    ),\n",
    "    'meanprops': dict(\n",
    "        marker='o',\n",
    "        markeredgecolor='black',\n",
    "        markeredgewidth=1,\n",
    "        markerfacecolor='#ED3B23',\n",
    "        markersize=10,\n",
    "    ),\n",
    "}\n",
    "\n",
    "# Displots : \n",
    "\n",
    "param_displot = {\n",
    "    'height': 10,\n",
    "    'aspect': 1.2,\n",
    "    'color': '#8181FF',\n",
    "    'edgecolor': 'black',\n",
    "}"
   ]
  },
  {
   "cell_type": "markdown",
   "metadata": {},
   "source": [
    "- Longueur des questions : "
   ]
  },
  {
   "cell_type": "code",
   "execution_count": 19,
   "metadata": {},
   "outputs": [
    {
     "data": {
      "image/png": "[encoded data removed]",
      "text/plain": [
       "<Figure size 1500x1000 with 1 Axes>"
      ]
     },
     "metadata": {},
     "output_type": "display_data"
    },
    {
     "data": {
      "image/png": "[encoded data removed]",
      "text/plain": [
       "<Figure size 1200x1000 with 1 Axes>"
      ]
     },
     "metadata": {},
     "output_type": "display_data"
    }
   ],
   "source": [
    "# Taille des documents : \n",
    "\n",
    "tmp = data.corpus.str.len()\n",
    "\n",
    "# Boîte à moustaches :\n",
    "\n",
    "plt.figure(figsize=(15, 10))\n",
    "sns.boxplot(tmp,\n",
    "            orient='h',\n",
    "            showfliers=False,\n",
    "            showmeans=True,\n",
    "            **param_box_plot\n",
    "    )\n",
    "plt.yticks([])\n",
    "plt.xticks(fontsize=15)\n",
    "plt.title(\"\\nTailles des documents (caractères)\\n\", fontsize=25)\n",
    "plt.show()\n",
    "\n",
    "# Displot : \n",
    "\n",
    "x_max = 10000\n",
    "sns.displot(tmp,\n",
    "            binwidth=100,\n",
    "            linewidth=0.5,\n",
    "            **param_displot\n",
    "    ).set(xlim=(0, x_max))\n",
    "plt.yticks(fontsize=15)\n",
    "plt.ylabel(\"\\nNombre de documents\\n\", fontsize=25)\n",
    "plt.xticks(fontsize=15)\n",
    "plt.xlabel(\"\\nNombre de caractères\\n\", fontsize=25)\n",
    "plt.title(f\"\\nTailles des documents\\n(masqués au delà de {x_max} caractères)\\n\", fontsize=25)\n",
    "plt.show()"
   ]
  },
  {
   "cell_type": "code",
   "execution_count": 20,
   "metadata": {},
   "outputs": [
    {
     "data": {
      "image/png": "[encoded data removed]",
      "text/plain": [
       "<Figure size 1500x1000 with 1 Axes>"
      ]
     },
     "metadata": {},
     "output_type": "display_data"
    },
    {
     "data": {
      "image/png": "[encoded data removed]",
      "text/plain": [
       "<Figure size 1200x1000 with 1 Axes>"
      ]
     },
     "metadata": {},
     "output_type": "display_data"
    }
   ],
   "source": [
    "# Nombre de tags : \n",
    "tmp = data.tags.str.len()\n",
    "\n",
    "# Boîte à moustaches :\n",
    "\n",
    "plt.figure(figsize=(15, 10))\n",
    "sns.boxplot(tmp,\n",
    "            orient='h',\n",
    "            showfliers=False,\n",
    "            showmeans=True,\n",
    "            **param_box_plot\n",
    "    )\n",
    "plt.yticks([])\n",
    "plt.xticks(fontsize=15)\n",
    "plt.title(\"\\nNombre de tags associés aux documents\\n\", fontsize=25)\n",
    "plt.show()\n",
    "\n",
    "# Displot : \n",
    "\n",
    "sns.displot(tmp,\n",
    "            binwidth=1,\n",
    "            binrange=(0.5, 5.5),\n",
    "            linewidth=1,\n",
    "            **param_displot\n",
    "    ).set(xlim=(0.4, 5.6))\n",
    "plt.yticks(fontsize=15)\n",
    "plt.ylabel(\"\\nNombre de documents\\n\", fontsize=25)\n",
    "plt.xticks(np.arange(min(tmp), max(tmp) + 1, step=1), fontsize=15)\n",
    "plt.xlabel(\"\\nNombre de tags\\n\", fontsize=25)\n",
    "plt.title(f\"\\nNombre de tags associés aux documents\\n\", fontsize=25)\n",
    "plt.show()"
   ]
  },
  {
   "cell_type": "code",
   "execution_count": 21,
   "metadata": {},
   "outputs": [],
   "source": [
    "# création de 2 nouvelles variables pour l'exploration\n",
    "\n",
    "data['question_lenth'] = data.corpus.str.len()\n",
    "data['tags_number'] = data.tags.str.len()"
   ]
  },
  {
   "cell_type": "code",
   "execution_count": 22,
   "metadata": {},
   "outputs": [
    {
     "data": {
      "text/plain": [
       "<Axes: >"
      ]
     },
     "execution_count": 22,
     "metadata": {},
     "output_type": "execute_result"
    },
    {
     "data": {
      "image/png": "[encoded data removed]",
      "text/plain": [
       "<Figure size 640x480 with 2 Axes>"
      ]
     },
     "metadata": {},
     "output_type": "display_data"
    }
   ],
   "source": [
    "# corrélations entre les variables numériques\n",
    "\n",
    "corr = data.corr(numeric_only=True)\n",
    "sns.heatmap(corr, vmin=-1, vmax=1, cmap=\"coolwarm\", annot=True, fmt=\".2f\", square=True)"
   ]
  },
  {
   "cell_type": "code",
   "execution_count": 23,
   "metadata": {},
   "outputs": [],
   "source": [
    "# sns.pairplot(data)"
   ]
  },
  {
   "cell_type": "code",
   "execution_count": 24,
   "metadata": {},
   "outputs": [
    {
     "data": {
      "text/plain": [
       "<seaborn.axisgrid.PairGrid at 0x250a7162f80>"
      ]
     },
     "execution_count": 24,
     "metadata": {},
     "output_type": "execute_result"
    },
    {
     "data": {
      "image/png": "[encoded data removed]",
      "text/plain": [
       "<Figure size 1102.36x1000 with 2 Axes>"
      ]
     },
     "metadata": {},
     "output_type": "display_data"
    }
   ],
   "source": [
    "sns.pairplot(data[['question_lenth', 'tags_number']], hue=\"tags_number\", height=10)"
   ]
  },
  {
   "cell_type": "code",
   "execution_count": 25,
   "metadata": {},
   "outputs": [
    {
     "name": "stdout",
     "output_type": "stream",
     "text": [
      "Tags : ['flutter', 'flutter-dependencies', 'flutter-ios']\n",
      "Futter: Cannot find 'kGADAdSizeBanner' in scope Error on iOS:\n",
      "Cannot find 'kGADAdSizeBanner' in scope\n",
      "\n",
      "Line:\n",
      "private var adSize: GADAdSize = kGADAdSizeBanner\n",
      "\n",
      "Package:\n",
      "native_admob_flutter\n",
      "\n",
      "Extra info:\n",
      "Doctor summary (to see all details, run flutter doctor -v):\n",
      "[✓] Flutter (Channel stable, 2.10.0, on macOS 11.6.2 20G314 darwin-x64, locale en-GB)\n",
      "[✓] Android toolchain - develop for Android devices (Android SDK version 30.0.3)\n",
      "[✓] Xcode - develop for iOS and macOS (Xcode 13.2.1)\n",
      "[✓] Chrome - develop for the web\n",
      "[✓] Android Studio (version 2020.3)\n",
      "[✓] VS Code (version 1.62.0)\n",
      "[✓] Connected device (2 available)\n",
      "[✓] HTTP Host Availability\n",
      "\n",
      "• No issues found!\n",
      "\n",
      "Android works.\n",
      "Official Flutter package for ads (google_mobile_ads) is totally dead so changing to that one is not an option anymore.\n",
      "...\n",
      "\n",
      "Tags : ['python', 'python-dataclasses']\n",
      "Use both positional and unnamed arguments in python dataclasses I am trying to reorganize my code with dataclasses and have stumbled upon a problem. I think I need to create a class that takes 3 positional arguments and then an unknown number of positional arguments. Normally, w/o using dataclasses I'd do something like this:\n",
      "class SomeClass:\n",
      "  def __init__(self, a, b, c, *args):\n",
      "    self.a = a\n",
      "    self.b = b\n",
      "    self.c = c\n",
      "    self.other = args\n",
      "\n",
      "sample_object = SomeClass(1,3,5,6,7)\n",
      "sample_object.other  #yields (6,7)\n",
      "\n",
      "What I can't grasp is how do I put this \"other\" into dataclass, since when using field you provide either default value or default factory otherwise it throws an Exception.\n",
      "How to write such class using the dataclass module?\n",
      "...\n",
      "\n",
      "Tags : ['python', 'openai-api', 'langchain', 'py-langchain']\n",
      "ValueError: `run` not supported when there is not exactly one output key. Got ['answer', 'sources', 'source_documents']. (langchain/Streamlit) I got an error says\n",
      "ValueError: `run` not supported when there is not exactly one output key. Got ['answer', 'sources', 'source_documents'].\n",
      "\n",
      "Here's the traceback error\n",
      "File \"C:\\Users\\Science-01\\anaconda3\\envs\\gpt-dev\\lib\\site-packages\\streamlit\\runtime\\scriptrunner\\script_runner.py\", line 565, in _run_script\n",
      "    exec(code, module.__dict__)\n",
      "File \"C:\\Users\\Science-01\\Documents\\Working Folder\\Chat Bot\\Streamlit\\alpha-test.py\", line 67, in <module>\n",
      "    response = chain.run(prompt, return_only_outputs=True)\n",
      "File \"C:\\Users\\Science-01\\anaconda3\\envs\\gpt-dev\\lib\\site-packages\\langchain\\chains\\base.py\", line 228, in run\n",
      "    raise ValueError(\n",
      "\n",
      "I tried to run langchain on Streamlit. I use RetrievalQAWithSourcesChain and ChatPromptTemplate\n",
      "Here is my code\n",
      "import os\n",
      "\n",
      "import streamlit as st\n",
      "\n",
      "from apikey import apikey\n",
      "\n",
      "from langchain.document_loaders import PyPDFLoader\n",
      "from langchain.document_loaders import DirectoryLoader\n",
      "from langchain.text_splitter import RecursiveCharacterTextSplitter\n",
      "from langchain.embeddings.openai import OpenAIEmbeddings\n",
      "from langchain.vectorstores import Chroma\n",
      "from langchain.chains import RetrievalQAWithSourcesChain\n",
      "from langchain.llms import OpenAI\n",
      "\n",
      "from langchain.prompts.chat import (\n",
      "    ChatPromptTemplate,\n",
      "    SystemMessagePromptTemplate,\n",
      "    HumanMessagePromptTemplate,\n",
      ")\n",
      "\n",
      "from langchain.chat_models import ChatOpenAI\n",
      "\n",
      "os.environ['OPENAI_API_KEY'] = apikey\n",
      "\n",
      "st.title('🐔 OpenAI Testing')\n",
      "prompt = st.text_input('Put your prompt here')\n",
      "\n",
      "loader = DirectoryLoader('./',glob='./*.pdf', loader_cls=PyPDFLoader)\n",
      "pages = loader.load_and_split()\n",
      "\n",
      "text_splitter = RecursiveCharacterTextSplitter(\n",
      "    chunk_size = 1000,\n",
      "    chunk_overlap  = 200,\n",
      "    length_function = len,\n",
      ")\n",
      "\n",
      "docs = text_splitter.split_documents(pages)\n",
      "embeddings = OpenAIEmbeddings()\n",
      "\n",
      "docsearch = Chroma.from_documents(docs, embeddings)\n",
      "\n",
      "system_template = \"\"\"\n",
      "Use the following pieces of context to answer the users question.\n",
      "If you don't know the answer, just say that \"I don't know\", don't try to make up an answer.\n",
      "----------------\n",
      "{summaries}\"\"\"\n",
      "\n",
      "messages = [\n",
      "    SystemMessagePromptTemplate.from_template(system_template),\n",
      "    HumanMessagePromptTemplate.from_template(\"{question}\")\n",
      "]\n",
      "prompt = ChatPromptTemplate.from_messages(messages)\n",
      "\n",
      "chain_type_kwargs = {\"prompt\": prompt}\n",
      "llm = ChatOpenAI(model_name=\"gpt-3.5-turbo\", temperature=0, max_tokens=256)  # Modify model_name if you have access to GPT-4\n",
      "chain = RetrievalQAWithSourcesChain.from_chain_type(\n",
      "    llm=llm,\n",
      "    chain_type=\"stuff\",\n",
      "    retriever=docsearch.as_retriever(search_kwargs={'k':2}),\n",
      "    return_source_documents=True,\n",
      "    chain_type_kwargs=chain_type_kwargs\n",
      ")\n",
      "\n",
      "if prompt:\n",
      "    response = chain.run(prompt, return_only_outputs=True)\n",
      "    st.write(response)\n",
      "\n",
      "It seems like the error is in chain.run(), anyone know how to solve this error? Thanks!\n",
      "...\n",
      "\n",
      "Tags : ['sql']\n",
      "SQL : how to check if a column value has all elements from a string array I have a table where a column called Phrase has a sentence.\n",
      "For example :\n",
      "ID  |     Phrase    |\n",
      "----+---------------+\n",
      " 1  | I can do it   |\n",
      " 2  | Where is that |\n",
      "\n",
      "I also have another table which has keywords. For example :\n",
      "select keyword \n",
      "from keywords \n",
      "\n",
      "returns\n",
      "    ID | Keywords |\n",
      "    ---+----------+\n",
      "     1 |    I     |\n",
      "     2 |    can   |\n",
      "     3 |    do    |\n",
      "     4 |    it    |\n",
      "\n",
      "How can I can check if the phrase column for a given row has all matching keywords. Something like:\n",
      "select * \n",
      "from table \n",
      "where phrase like '%I%' \n",
      "  and phrase like '%do%' \n",
      "  and phrase like '%can%' \n",
      "  and phrase like '%it%'\n",
      "\n",
      "Thanks\n",
      "...\n",
      "\n",
      "Tags : ['c#', 'uwp', 'winui-3', 'windows-app-sdk']\n",
      "How to Save data on application close or entered background in WinUI3 app How to intercept app_closing or app_entering_background in WinUi 3 app.\n",
      "In UWP apps we do have Application_EnteredBackground event , in which we can intercept app close, we use GetDeferral() to save data .\n",
      "Is there any same kind of event in WinUI 3 apps, I need to save data on app close, or entering background.\n",
      "Tried window_VisibilityChanged and window_Closed events, but not able to use GetDeferral().\n",
      "Kindly help\n",
      "Thanks in advance .\n",
      "Noorul\n",
      "...\n",
      "\n"
     ]
    }
   ],
   "source": [
    "for idx, ser in data.sample(5).iterrows():\n",
    "    txt_1 = f\"Tags : {ser['tags']}\\n\"\n",
    "    print(txt_1 + ser['corpus']+ \"...\" + \"\\n\")"
   ]
  },
  {
   "cell_type": "markdown",
   "metadata": {},
   "source": [
    "# explo faire gaphique avec creationdate"
   ]
  },
  {
   "cell_type": "markdown",
   "metadata": {},
   "source": [
    "## **Text processing**"
   ]
  },
  {
   "cell_type": "markdown",
   "metadata": {},
   "source": [
    "### **Commençons par analyser le corpus dans sa globalité**"
   ]
  },
  {
   "cell_type": "markdown",
   "metadata": {},
   "source": [
    "- Fonctions de base : "
   ]
  },
  {
   "cell_type": "code",
   "execution_count": 26,
   "metadata": {},
   "outputs": [],
   "source": [
    "def display_tokens_infos(tokens):\n",
    "    \"\"\"Infos de base d'un corpus\"\"\"\n",
    "\n",
    "    print(f\"Nombre de tokens : {len(tokens)}\\nNombre de tokens uniques : {len(set(tokens))}\")\n",
    "    print(f\"10 premiers tokens : {tokens[:10]}\")"
   ]
  },
  {
   "cell_type": "code",
   "execution_count": 27,
   "metadata": {},
   "outputs": [],
   "source": [
    "def basic_cleaning(doc, suppr_doublons=False):\n",
    "    \"\"\"Cleaning de base\n",
    "    \n",
    "    suppr_doublons : va supprimer les tokens en double dans chaque documents (par défaut : False)\n",
    "    \"\"\"\n",
    "\n",
    "    # Passage en minuscule\n",
    "    doc = doc.lower().strip()  # .strip() enlève le/les caractère(s) définis à gauche et à droite (espace par défaut)\n",
    "\n",
    "    # Tokenisation avec NLTK\n",
    "    tokenizer = RegexpTokenizer(r\"\\w+\")\n",
    "    raw_tokens_list = tokenizer.tokenize(doc)\n",
    "\n",
    "    # Suppression des stop words\n",
    "    cleaned_tokens_list = [w for w in raw_tokens_list if w not in stop_words]\n",
    "\n",
    "    # Suppression des caractères numériques\n",
    "    alpha_tokens = [w for w in cleaned_tokens_list if w.isalpha()]\n",
    "\n",
    "    if suppr_doublons:\n",
    "        final = list(set(alpha_tokens))\n",
    "    else:\n",
    "        final = alpha_tokens\n",
    "   \n",
    "    return final"
   ]
  },
  {
   "cell_type": "markdown",
   "metadata": {},
   "source": [
    "- Définition des stopwords que l'on va utiliser : "
   ]
  },
  {
   "cell_type": "code",
   "execution_count": 28,
   "metadata": {},
   "outputs": [],
   "source": [
    "stop_words = set(stopwords.words('english'))"
   ]
  },
  {
   "cell_type": "markdown",
   "metadata": {},
   "source": [
    "- Traitement préliminaire : suppression des occurences locales.\n",
    "\n",
    "<div class=\"alert alert-info\">\n",
    "Avant de créer un corpus global avec tous les documents, il est important de réaliser une étape préliminaire : tokeniser chaque document et supprimer les doublons dans ces derniers. De cette manière, au moment de déterminer la liste des mots rares (apparaissant moins d'un certain nombre de fois dans tout le corpus), nous ne seront plus biaisés par les occurences locales. Ces occurences locales peuvent être importantes, par exemple avec des noms de variables spécifiques à un code présent dans un seul document.\n",
    "</div>"
   ]
  },
  {
   "cell_type": "code",
   "execution_count": 29,
   "metadata": {},
   "outputs": [],
   "source": [
    "data['preprocessed_corpus'] = data.corpus.apply(basic_cleaning, suppr_doublons=True)"
   ]
  },
  {
   "cell_type": "markdown",
   "metadata": {},
   "source": [
    "- Création d'un corpus global en fusionnant toutes les données de la colonne ```data['preprocessed_corpus']``` : "
   ]
  },
  {
   "cell_type": "code",
   "execution_count": 30,
   "metadata": {},
   "outputs": [],
   "source": [
    "corpus = [item for sublist in data['preprocessed_corpus'] for item in sublist]"
   ]
  },
  {
   "cell_type": "code",
   "execution_count": 31,
   "metadata": {},
   "outputs": [
    {
     "name": "stdout",
     "output_type": "stream",
     "text": [
      "Nombre de tokens : 3408413\n",
      "Nombre de tokens uniques : 199120\n",
      "10 premiers tokens : ['line', 'r', 'ws', 'appear', 'like', 'bug', 'grammar', 'parallel', 'define', 'escape']\n"
     ]
    }
   ],
   "source": [
    "display_tokens_infos(corpus)"
   ]
  },
  {
   "cell_type": "markdown",
   "metadata": {},
   "source": [
    "- Fréquence des tokens : "
   ]
  },
  {
   "cell_type": "code",
   "execution_count": 32,
   "metadata": {},
   "outputs": [
    {
     "name": "stdout",
     "output_type": "stream",
     "text": [
      "Tokens les plus fréquents : \n"
     ]
    },
    {
     "data": {
      "text/plain": [
       "using     20073\n",
       "code      18578\n",
       "like      18177\n",
       "get       16731\n",
       "use       14742\n",
       "error     14189\n",
       "want      13836\n",
       "return    13347\n",
       "data      12257\n",
       "would     11900\n",
       "dtype: int64"
      ]
     },
     "metadata": {},
     "output_type": "display_data"
    },
    {
     "name": "stdout",
     "output_type": "stream",
     "text": [
      "Tokens les moins fréquents : \n"
     ]
    },
    {
     "data": {
      "text/plain": [
       "pushshift         1\n",
       "trump             1\n",
       "ryu               1\n",
       "grrs              1\n",
       "configstruct      1\n",
       "tangential        1\n",
       "tomleversrbox     1\n",
       "igonored          1\n",
       "revisar           1\n",
       "systemsmanager    1\n",
       "dtype: int64"
      ]
     },
     "metadata": {},
     "output_type": "display_data"
    },
    {
     "name": "stdout",
     "output_type": "stream",
     "text": [
      "Distribution des présences des tokens : \n"
     ]
    },
    {
     "data": {
      "text/plain": [
       "count    199120.000000\n",
       "mean         17.117381\n",
       "std         219.717186\n",
       "min           1.000000\n",
       "25%           1.000000\n",
       "50%           1.000000\n",
       "75%           2.000000\n",
       "max       20073.000000\n",
       "dtype: float64"
      ]
     },
     "metadata": {},
     "output_type": "display_data"
    }
   ],
   "source": [
    "# On fait le compte des différents tokens\n",
    "tmp = pd.Series(corpus).value_counts()\n",
    "\n",
    "print(\"Tokens les plus fréquents : \")\n",
    "display(tmp.head(10))\n",
    "\n",
    "print(\"Tokens les moins fréquents : \")\n",
    "display(tmp.tail(10))\n",
    "\n",
    "print(\"Distribution des présences des tokens : \")\n",
    "display(tmp.describe())\n"
   ]
  },
  {
   "cell_type": "markdown",
   "metadata": {},
   "source": [
    "La distribution est très asymétrique : 50% des tokens sont présents 1 seule fois."
   ]
  },
  {
   "cell_type": "code",
   "execution_count": 33,
   "metadata": {},
   "outputs": [
    {
     "data": {
      "image/png": "[encoded data removed]",
      "text/plain": [
       "<Figure size 1500x1000 with 1 Axes>"
      ]
     },
     "metadata": {},
     "output_type": "display_data"
    }
   ],
   "source": [
    "plt.figure(figsize=(15, 10))\n",
    "sns.boxplot(tmp, orient='h', showfliers=False, showmeans=False, **param_box_plot);\n"
   ]
  },
  {
   "cell_type": "markdown",
   "metadata": {},
   "source": [
    "- Mots rares : <br>\n",
    "\n",
    "Pour un mot unique, il y a de grandes chances soit qu'il soit éliminé lors de méthodes de réduction de dimentionnalité, soit qu'il ne puisse pas être utilisé comme dimention.<br>\n",
    "Et pour accélérer nos calculs futurs, on a tout intérêt à diminuer la liste de tokens de notre corpus, et donc à supprimer les tokens présents une seule fois."
   ]
  },
  {
   "cell_type": "code",
   "execution_count": 34,
   "metadata": {},
   "outputs": [
    {
     "name": "stdout",
     "output_type": "stream",
     "text": [
      "Nombre de mots rares : 138841\n",
      "Exemples de mots rares : ['posz', 'handleprofile', 'newrownames', 'todaylog', 'thins', 'rowcopier', 'taskpaneapp', 'sptheme', 'fluently', 'pvmkiajauauajjhfz']\n"
     ]
    }
   ],
   "source": [
    "list_unique_words = tmp[tmp==1]\n",
    "list_unique_words = list(list_unique_words.index)  # .index = pour ne récupérer que les mots\n",
    "print(f\"Nombre de mots rares : {len(list_unique_words)}\")\n",
    "print(f\"Exemples de mots rares : {list_unique_words[:10]}\")"
   ]
  },
  {
   "cell_type": "markdown",
   "metadata": {},
   "source": [
    "- Mots présents 5 fois ou moins : \n",
    "\n",
    "On peut faire de même avec les mots présents 5 fois ou moins."
   ]
  },
  {
   "cell_type": "code",
   "execution_count": 35,
   "metadata": {},
   "outputs": [
    {
     "name": "stdout",
     "output_type": "stream",
     "text": [
      "Nombre de mots présents 5 fois ou moins : 176892\n",
      "Exemples de mots : ['headcontext', 'mycert', 'glmer', 'callmethod', 'din', 'hackingwithswift', 'lnk', 'scripttype', 'lame', 'textnode']\n"
     ]
    }
   ],
   "source": [
    "list_min_5_words = tmp[tmp<=5]\n",
    "list_min_5_words = list(list_min_5_words.index)  # .index = pour ne récupérer que les mots\n",
    "print(f\"Nombre de mots présents 5 fois ou moins : {len(list_min_5_words)}\")\n",
    "print(f\"Exemples de mots : {list_min_5_words[:10]}\")"
   ]
  },
  {
   "cell_type": "markdown",
   "metadata": {},
   "source": [
    "Il y en a deux fois plus que de mots uniques."
   ]
  },
  {
   "cell_type": "markdown",
   "metadata": {},
   "source": [
    "- Intérêt de traiter les mots présents 10 fois ou moins ?"
   ]
  },
  {
   "cell_type": "code",
   "execution_count": 36,
   "metadata": {},
   "outputs": [
    {
     "name": "stdout",
     "output_type": "stream",
     "text": [
      "Nombre de mots présents 10 fois ou moins : 184558\n"
     ]
    }
   ],
   "source": [
    "print(f\"Nombre de mots présents 10 fois ou moins : {len(tmp[tmp<=10])}\")"
   ]
  },
  {
   "cell_type": "markdown",
   "metadata": {},
   "source": [
    "La différence avec les mots présents 5 fois ou moins n'est pas très grande."
   ]
  },
  {
   "cell_type": "markdown",
   "metadata": {},
   "source": [
    "### **Lemmatisation : comparaison de NLTK et SpaCy**"
   ]
  },
  {
   "cell_type": "markdown",
   "metadata": {},
   "source": [
    "- Exemple de phrase à lemmatiser : "
   ]
  },
  {
   "cell_type": "code",
   "execution_count": 37,
   "metadata": {},
   "outputs": [],
   "source": [
    "phrase = \"These are sentences going to be translated\"\n",
    "tokenizer = RegexpTokenizer(r\"\\w+\")\n",
    "phrase_tokens = tokenizer.tokenize(phrase)"
   ]
  },
  {
   "cell_type": "markdown",
   "metadata": {},
   "source": [
    "- Lemmatisation avec NLTK : "
   ]
  },
  {
   "cell_type": "code",
   "execution_count": 38,
   "metadata": {},
   "outputs": [
    {
     "name": "stdout",
     "output_type": "stream",
     "text": [
      "Durée du traitement : 1.52 s\n",
      "Tokens après lemmatisation avec WordNet Lemmatizer (NLTK) : \n",
      "These are sentences going to be translated => ['These', 'are', 'sentence', 'going', 'to', 'be', 'translated']\n"
     ]
    }
   ],
   "source": [
    "# Instanciation\n",
    "wordNetLemmatizer = WordNetLemmatizer()\n",
    "\n",
    "debut = time.time()  # Heure de début du traitement\n",
    "lemmaWords1 = [wordNetLemmatizer.lemmatize(word) for word in phrase_tokens]\n",
    "print(f\"Durée du traitement : {(time.time() - debut):.2f} s\")\n",
    "\n",
    "print(f'Tokens après lemmatisation avec WordNet Lemmatizer (NLTK) : \\n{phrase} => {lemmaWords1}')"
   ]
  },
  {
   "cell_type": "markdown",
   "metadata": {},
   "source": [
    "- Lemmatisation avec SpaCy : "
   ]
  },
  {
   "cell_type": "code",
   "execution_count": 39,
   "metadata": {},
   "outputs": [
    {
     "name": "stdout",
     "output_type": "stream",
     "text": [
      "Durée du traitement : 0.00 s\n",
      "Tokens après lemmatisation avec SpaCy : \n",
      "These are sentences going to be translated => ['these', 'be', 'sentence', 'go', 'to', 'be', 'translate']\n"
     ]
    }
   ],
   "source": [
    "# Instanciation\n",
    "spacy_nlp = spacy.load('en_core_web_sm', disable = ['parser','ner'])  # 'parser' et 'ner' pas utiles pour le moment\n",
    "\n",
    "debut = time.time()  # Heure de début du traitement\n",
    "doc = spacy_nlp(phrase)\n",
    "print(f\"Durée du traitement : {(time.time() - debut):.2f} s\")\n",
    "\n",
    "lemmaWords2 = [word.lemma_ for word in doc]\n",
    "print(f'Tokens après lemmatisation avec SpaCy : \\n{phrase} => {lemmaWords2}')"
   ]
  },
  {
   "cell_type": "markdown",
   "metadata": {},
   "source": [
    "- Comparaison des deux résultats : "
   ]
  },
  {
   "cell_type": "code",
   "execution_count": 40,
   "metadata": {},
   "outputs": [
    {
     "name": "stdout",
     "output_type": "stream",
     "text": [
      "These are sentences going to be translated (Texte à lemmatiser)\n",
      "['These', 'are', 'sentence', 'going', 'to', 'be', 'translated'] (NLTK)\n",
      "['these', 'be', 'sentence', 'go', 'to', 'be', 'translate'] (SpaCy)\n"
     ]
    }
   ],
   "source": [
    "print(phrase, \"(Texte à lemmatiser)\")\n",
    "print(lemmaWords1, \"(NLTK)\")\n",
    "print(lemmaWords2, \"(SpaCy)\")"
   ]
  },
  {
   "cell_type": "markdown",
   "metadata": {},
   "source": [
    "NLTK a juste mis *sentences* au singulier, alors que SpaCy a en plus donné la racine des mots *are*, *going* et *translated*.<br>\n",
    "Le lemmatiseur de SpaCy semble plus efficace, c'est celui-ci que nous utiliserons."
   ]
  },
  {
   "cell_type": "markdown",
   "metadata": {},
   "source": [
    "### **Traitement des documents du corpus**\n",
    "\n",
    "Voici les traitements que nous allons appliquer aux documents de *```data['corpus']```* : <br>\n",
    "\n",
    "- Passer tous le texte en minuscule, afin de pouvoir regrouper les mots écrits avec des casses différentes.\n",
    "- Exclure les mots rares, ceux qui sont présents une seule fois dans tout le corpus.\n",
    "- Retrait des *Stop Words*, mots commun ayant peu d'intérêt dans le sens global des documents.\n",
    "- Suppression des mots courts. Les mots très courts ne sont généralement pas ceux qui apportent le plus de sens.\n",
    "- Suppression des données numériques. Elles ne nous intéressent pas ici.\n",
    "- Lemmatisation. Afin de réduire la taille du vocabulaire, nous allons regrouper les déclinaisons d'un même mot en sa racine.\n",
    "- POS (part-of-speech). Nous n'allons garder que les catégories de mots les plus pertinentes.\n",
    "\n",
    "\n"
   ]
  },
  {
   "cell_type": "markdown",
   "metadata": {},
   "source": [
    "- Création de la fonction de traitement des documents : "
   ]
  },
  {
   "cell_type": "code",
   "execution_count": 41,
   "metadata": {},
   "outputs": [],
   "source": [
    "def process_documents(doc,\n",
    "                   tokenizer=None,\n",
    "                   pos=None,\n",
    "                   lemmentizer=None,\n",
    "                   rejoin=False,\n",
    "                   stop_words=None,\n",
    "                   list_rare_words=None,\n",
    "                   min_len_word=3,\n",
    "                   alpha_only=True,\n",
    "                   extra_words=None,\n",
    "                   return_set=False\n",
    "                   ):\n",
    "    \n",
    "    \"\"\"\n",
    "    Cette fonction permet de tokéniser un texte et d'en réduire la dimension.\n",
    "    Elle est conçue pour fonctionner avec SpaCy\n",
    "\n",
    "    ------------------------------------\n",
    "\n",
    "    Arguments positionnels : \n",
    "\n",
    "    doc : le document (texte au format str) à traiter.\n",
    "\n",
    "    ------------------------------------\n",
    "\n",
    "    Arguments optionnels : \n",
    "\n",
    "    tokenizer (obj) : l'instance du tokenizer à utiliser (par défaut : None).\n",
    "    lemmentizer (obj) : l'instance du lemmentizer à utiliser (par défaut : None).\n",
    "    pos (liste) : liste contenant les catégories grammaticales de mot à conserver à l'étape de lemmatisation (par défaut : None).\n",
    "    rejoin (bool) : si True, retourne une unique chaine de caractère contenant les tokens séparés par un espace (par défaut : False).\n",
    "    stop_words (set) : liste des stop words à utiliser, privilégier un format en set pour des traitements plus rapides (par défaut : None).\n",
    "    list_rare_words (set) : liste de mots rares à retirer, privilégier un format en set pour des traitements plus rapides (par défaut : None).\n",
    "    min_len_word (int) : longueur des mots courts à supprimer, si None aucun mot supprimé (par défaut : 3).\n",
    "    alpha_only (bool) : utilisation de la méthode .isalpha() pour ne garder que les lettres (par défaur : True).\n",
    "    extra_words (set) : mots spécifiques supplémentaire à supprimer, privilégier un format en set pour des traitements plus rapides (par défaut : None).\n",
    "    return_set (bool) : retourner les résultats sous forme de set, pour supprimer les doublons dans les documents (Par défaut : False).\n",
    "\n",
    "    ------------------------------------\n",
    "\n",
    "    Renvoie :\n",
    "\n",
    "    Un string (si join est True) ou un set de tokens.\n",
    "\n",
    "    \"\"\"\n",
    "\n",
    "    # Passage du texte en minuscules\n",
    "    doc = doc.lower()\n",
    "\n",
    "    # Tokenisation du texte\n",
    "    if tokenizer:\n",
    "        raw_tokens_list = tokenizer.tokenize(doc)\n",
    "    else:\n",
    "        raw_tokens_list = doc\n",
    "\n",
    "    # S'il est choisi de retourner un set, alors nous pouvons dès maintenant\n",
    "    # supprimer les doublons, les traitements suivants seront plus rapides\n",
    "    if return_set:\n",
    "        raw_tokens_list = set(raw_tokens_list)\n",
    "\n",
    "    # Suppression des stopwords (si fournis)\n",
    "    if stop_words:\n",
    "        cleaned_tokens_list = [w for w in raw_tokens_list if w not in stop_words]\n",
    "    else:\n",
    "        cleaned_tokens_list = raw_tokens_list\n",
    "\n",
    "    # Suppression des mots rares (si fournis)\n",
    "    if list_rare_words:\n",
    "        non_rare_tokens = [w for w in cleaned_tokens_list if w not in list_rare_words]\n",
    "    else:\n",
    "        non_rare_tokens = cleaned_tokens_list\n",
    "\n",
    "    # Suppression des mots courts (si l'option est activée)\n",
    "    if not min_len_word:\n",
    "        more_than_N = non_rare_tokens\n",
    "    else:\n",
    "        more_than_N = [w for w in non_rare_tokens if len(w) >= min_len_word]\n",
    "\n",
    "    # Suppression des caractères numériques (si l'option est activée)\n",
    "    if alpha_only:\n",
    "        alpha_tokens = [w for w in more_than_N if w.isalpha()]  # isalpha() sert à retourner True s'il n'y a que des lettres, pas de chiffre\n",
    "    else:\n",
    "        alpha_tokens = more_than_N\n",
    "\n",
    "    # Lemmatisation\n",
    "    if lemmentizer:\n",
    "        ecrase = ' '.join(alpha_tokens)  # Il faut \"écraser\" la liste pour qu'elle puisse passer dans le lemmatizerde Spacy\n",
    "        doc = lemmentizer(ecrase)\n",
    "        if pos:\n",
    "            lemmatized = [word.lemma_ for word in doc if word.pos_ in pos]\n",
    "        else:\n",
    "            lemmatized = [word.lemma_ for word in doc]\n",
    "    else:\n",
    "        lemmatized = alpha_tokens\n",
    "\n",
    "    # S'il est choisi de retourner un set, alors nous pouvons dès maintenant\n",
    "    # supprimer les doublons, les traitements suivants seront plus rapides\n",
    "    if return_set:\n",
    "        lemmatized = set(lemmatized)\n",
    "\n",
    "    # Suppression des extra_words (si fournis)\n",
    "    if extra_words:\n",
    "        final = [w for w in lemmatized if w not in extra_words]\n",
    "    else:\n",
    "        final = lemmatized\n",
    "\n",
    "    # Forme des données retournées\n",
    "    if rejoin:\n",
    "        final = \" \".join(final) # retourne une unique chaine de caractère contenant les tokens séparés par un espace\n",
    "    \n",
    "    if return_set:\n",
    "        return set(final)\n",
    "    else:\n",
    "        return final"
   ]
  },
  {
   "cell_type": "markdown",
   "metadata": {},
   "source": [
    "Préparation des différent éléments nécéssaire aux traitement : <br>\n",
    "- Instanciation du Tokenizer, nous allons utiliser *RegexpTokenizer* de NLTK.\n",
    "- Instanciation du Lemmentiseur, nous allons utiliser celui de SpaCy.\n",
    "- Définition des mots rares, nous allons utiliser ceux apparaissant 5 fois ou moins dans tout le corpus.\n",
    "- Définition des catégories de mots à conserver, nous allons garder les noms."
   ]
  },
  {
   "cell_type": "code",
   "execution_count": 42,
   "metadata": {},
   "outputs": [],
   "source": [
    "# Instanciation du tokenizer\n",
    "tokenizer = RegexpTokenizer(r\"\\w+\")\n",
    "\n",
    "# Instanciation du lemmentizer, 'parser' et 'ner' pas utiles pour le moment\n",
    "spacy_nlp = spacy.load('en_core_web_sm', disable = ['parser','ner'])\n",
    "\n",
    "# Convertion de la liste de mots rares en set, ce qui va considérablement réduire les temps de calculs\n",
    "mots_rares = set(list_min_5_words)\n",
    "\n",
    "# Catégories de mots à garder à l'étape de lemmatisation\n",
    "pos_a_garder = set([\n",
    "             #  \"ADJ\",  # \"adjective\"\n",
    "             #  \"ADP\",  # \"adposition\"\n",
    "             #  \"ADV\",  # \"adverb\"\n",
    "             #  \"AUX\",  # \"auxiliary\"\n",
    "             #  \"CONJ\",  # \"conjunction\"\n",
    "             #  \"CCONJ\",  # \"coordinating conjunction\"\n",
    "             #  \"DET\",  # \"determiner\"\n",
    "             #  \"INTJ\",  # \"interjection\"\n",
    "                \"NOUN\",  # \"noun\"\n",
    "             #  \"NUM\",  # \"numeral\"\n",
    "             #  \"PART\",  # \"particle\"\n",
    "             #  \"PRON\",  # \"pronoun\"\n",
    "             #  \"PROPN\",  # \"proper noun\"\n",
    "             #  \"PUNCT\",  # \"punctuation\"\n",
    "             #  \"SCONJ\",  # \"subordinating conjunction\"\n",
    "             #  \"SYM\",  # \"symbol\"\n",
    "             #  \"VERB\",  # \"verb\"\n",
    "             #  \"X\",  # \"other\"\n",
    "             #  \"EOL\",  # \"end of line\"\n",
    "             #  \"SPACE\",  # \"space\"\n",
    "])"
   ]
  },
  {
   "cell_type": "markdown",
   "metadata": {},
   "source": [
    "- Traitement du corpus : "
   ]
  },
  {
   "cell_type": "code",
   "execution_count": 43,
   "metadata": {},
   "outputs": [
    {
     "name": "stdout",
     "output_type": "stream",
     "text": [
      "Durée du traitement : 311.10 s\n"
     ]
    },
    {
     "data": {
      "text/html": [
       "<div>\n",
       "<style scoped>\n",
       "    .dataframe tbody tr th:only-of-type {\n",
       "        vertical-align: middle;\n",
       "    }\n",
       "\n",
       "    .dataframe tbody tr th {\n",
       "        vertical-align: top;\n",
       "    }\n",
       "\n",
       "    .dataframe thead th {\n",
       "        text-align: right;\n",
       "    }\n",
       "</style>\n",
       "<table border=\"1\" class=\"dataframe\">\n",
       "  <thead>\n",
       "    <tr style=\"text-align: right;\">\n",
       "      <th></th>\n",
       "      <th>creationdate</th>\n",
       "      <th>tags</th>\n",
       "      <th>reputation</th>\n",
       "      <th>corpus</th>\n",
       "      <th>question_lenth</th>\n",
       "      <th>tags_number</th>\n",
       "      <th>preprocessed_corpus</th>\n",
       "      <th>processed_corpus</th>\n",
       "    </tr>\n",
       "  </thead>\n",
       "  <tbody>\n",
       "    <tr>\n",
       "      <th>0</th>\n",
       "      <td>2022-05-08 20:40:40</td>\n",
       "      <td>[antlr4]</td>\n",
       "      <td>129</td>\n",
       "      <td>Lexer rule to handle escape of quote with quot...</td>\n",
       "      <td>2387</td>\n",
       "      <td>1</td>\n",
       "      <td>[line, r, ws, appear, like, bug, grammar, para...</td>\n",
       "      <td>[rule, handle, backslash, expand, answer, esca...</td>\n",
       "    </tr>\n",
       "    <tr>\n",
       "      <th>1</th>\n",
       "      <td>2022-05-08 21:22:05</td>\n",
       "      <td>[reactjs, firebase, jestjs]</td>\n",
       "      <td>121</td>\n",
       "      <td>Firebase - Testing with Jest throws error \"INT...</td>\n",
       "      <td>3971</td>\n",
       "      <td>3</td>\n",
       "      <td>[src, definition, debugfail, log, user, signin...</td>\n",
       "      <td>[firebase, testing, jest, error, assertion, cl...</td>\n",
       "    </tr>\n",
       "    <tr>\n",
       "      <th>2</th>\n",
       "      <td>2022-05-08 21:49:08</td>\n",
       "      <td>[async-await, concurrency, hacklang]</td>\n",
       "      <td>307</td>\n",
       "      <td>Concurrent block in hacklang Since hack is a s...</td>\n",
       "      <td>243</td>\n",
       "      <td>3</td>\n",
       "      <td>[since, single, job, using, waiting, benefit, ...</td>\n",
       "      <td>[block, hack, language, benefit, block, await,...</td>\n",
       "    </tr>\n",
       "    <tr>\n",
       "      <th>3</th>\n",
       "      <td>2022-05-08 21:49:57</td>\n",
       "      <td>[typescript]</td>\n",
       "      <td>1436</td>\n",
       "      <td>Can you set a type for a function in typescrip...</td>\n",
       "      <td>1374</td>\n",
       "      <td>1</td>\n",
       "      <td>[type, useful, username, thing, iverifyoptions...</td>\n",
       "      <td>[type, function, typescript, function, type, i...</td>\n",
       "    </tr>\n",
       "    <tr>\n",
       "      <th>4</th>\n",
       "      <td>2022-05-08 21:51:00</td>\n",
       "      <td>[expo, google-play-console, google-play-develo...</td>\n",
       "      <td>4346</td>\n",
       "      <td>Expo EAS Submit, where to store service accoun...</td>\n",
       "      <td>595</td>\n",
       "      <td>3</td>\n",
       "      <td>[p, path, g, key, serviceaccountkeypath, submi...</td>\n",
       "      <td>[store, service, account, looking, eas, expo, ...</td>\n",
       "    </tr>\n",
       "    <tr>\n",
       "      <th>...</th>\n",
       "      <td>...</td>\n",
       "      <td>...</td>\n",
       "      <td>...</td>\n",
       "      <td>...</td>\n",
       "      <td>...</td>\n",
       "      <td>...</td>\n",
       "      <td>...</td>\n",
       "      <td>...</td>\n",
       "    </tr>\n",
       "    <tr>\n",
       "      <th>49995</th>\n",
       "      <td>2022-03-21 09:01:04</td>\n",
       "      <td>[ionic-framework, ionic-react]</td>\n",
       "      <td>590</td>\n",
       "      <td>Ionic-React App Automatically Changing to Dark...</td>\n",
       "      <td>481</td>\n",
       "      <td>2</td>\n",
       "      <td>[particular, clear, automatically, native, dar...</td>\n",
       "      <td>[app, mode, react, app, behaviour, building, a...</td>\n",
       "    </tr>\n",
       "    <tr>\n",
       "      <th>49996</th>\n",
       "      <td>2022-03-21 09:02:39</td>\n",
       "      <td>[stripe-payments]</td>\n",
       "      <td>125</td>\n",
       "      <td>is it possible to operate two service in the o...</td>\n",
       "      <td>307</td>\n",
       "      <td>1</td>\n",
       "      <td>[registered, multiple, corp, one, possible, op...</td>\n",
       "      <td>[service, stripe, account, corporation, servic...</td>\n",
       "    </tr>\n",
       "    <tr>\n",
       "      <th>49997</th>\n",
       "      <td>2022-03-21 09:02:54</td>\n",
       "      <td>[terraform]</td>\n",
       "      <td>4200</td>\n",
       "      <td>Which security problem does terraform Checksum...</td>\n",
       "      <td>1621</td>\n",
       "      <td>1</td>\n",
       "      <td>[documentation, please, trust, lock, example, ...</td>\n",
       "      <td>[security, problem, terraform, terraform, lock...</td>\n",
       "    </tr>\n",
       "    <tr>\n",
       "      <th>49998</th>\n",
       "      <td>2022-03-21 13:54:21</td>\n",
       "      <td>[azure, azurite]</td>\n",
       "      <td>135</td>\n",
       "      <td>Visual studio 2022 with azurite integrated (v3...</td>\n",
       "      <td>1716</td>\n",
       "      <td>2</td>\n",
       "      <td>[mon, server, format, standalone, uses, gmt, t...</td>\n",
       "      <td>[studio, creation, blob, container, error, mes...</td>\n",
       "    </tr>\n",
       "    <tr>\n",
       "      <th>49999</th>\n",
       "      <td>2022-03-21 13:56:22</td>\n",
       "      <td>[c#, .net-core, .net-6.0, aws-parameter-store]</td>\n",
       "      <td>1607</td>\n",
       "      <td>Use IOption pattern with Aws Parameter Store a...</td>\n",
       "      <td>2078</td>\n",
       "      <td>4</td>\n",
       "      <td>[myapp, type, key, foreach, program, structure...</td>\n",
       "      <td>[pattern, aw, parameter, store, array, appsett...</td>\n",
       "    </tr>\n",
       "  </tbody>\n",
       "</table>\n",
       "<p>49999 rows × 8 columns</p>\n",
       "</div>"
      ],
      "text/plain": [
       "             creationdate                                               tags  \\\n",
       "0     2022-05-08 20:40:40                                           [antlr4]   \n",
       "1     2022-05-08 21:22:05                        [reactjs, firebase, jestjs]   \n",
       "2     2022-05-08 21:49:08               [async-await, concurrency, hacklang]   \n",
       "3     2022-05-08 21:49:57                                       [typescript]   \n",
       "4     2022-05-08 21:51:00  [expo, google-play-console, google-play-develo...   \n",
       "...                   ...                                                ...   \n",
       "49995 2022-03-21 09:01:04                     [ionic-framework, ionic-react]   \n",
       "49996 2022-03-21 09:02:39                                  [stripe-payments]   \n",
       "49997 2022-03-21 09:02:54                                        [terraform]   \n",
       "49998 2022-03-21 13:54:21                                   [azure, azurite]   \n",
       "49999 2022-03-21 13:56:22     [c#, .net-core, .net-6.0, aws-parameter-store]   \n",
       "\n",
       "       reputation                                             corpus  \\\n",
       "0             129  Lexer rule to handle escape of quote with quot...   \n",
       "1             121  Firebase - Testing with Jest throws error \"INT...   \n",
       "2             307  Concurrent block in hacklang Since hack is a s...   \n",
       "3            1436  Can you set a type for a function in typescrip...   \n",
       "4            4346  Expo EAS Submit, where to store service accoun...   \n",
       "...           ...                                                ...   \n",
       "49995         590  Ionic-React App Automatically Changing to Dark...   \n",
       "49996         125  is it possible to operate two service in the o...   \n",
       "49997        4200  Which security problem does terraform Checksum...   \n",
       "49998         135  Visual studio 2022 with azurite integrated (v3...   \n",
       "49999        1607  Use IOption pattern with Aws Parameter Store a...   \n",
       "\n",
       "       question_lenth  tags_number  \\\n",
       "0                2387            1   \n",
       "1                3971            3   \n",
       "2                 243            3   \n",
       "3                1374            1   \n",
       "4                 595            3   \n",
       "...               ...          ...   \n",
       "49995             481            2   \n",
       "49996             307            1   \n",
       "49997            1621            1   \n",
       "49998            1716            2   \n",
       "49999            2078            4   \n",
       "\n",
       "                                     preprocessed_corpus  \\\n",
       "0      [line, r, ws, appear, like, bug, grammar, para...   \n",
       "1      [src, definition, debugfail, log, user, signin...   \n",
       "2      [since, single, job, using, waiting, benefit, ...   \n",
       "3      [type, useful, username, thing, iverifyoptions...   \n",
       "4      [p, path, g, key, serviceaccountkeypath, submi...   \n",
       "...                                                  ...   \n",
       "49995  [particular, clear, automatically, native, dar...   \n",
       "49996  [registered, multiple, corp, one, possible, op...   \n",
       "49997  [documentation, please, trust, lock, example, ...   \n",
       "49998  [mon, server, format, standalone, uses, gmt, t...   \n",
       "49999  [myapp, type, key, foreach, program, structure...   \n",
       "\n",
       "                                        processed_corpus  \n",
       "0      [rule, handle, backslash, expand, answer, esca...  \n",
       "1      [firebase, testing, jest, error, assertion, cl...  \n",
       "2      [block, hack, language, benefit, block, await,...  \n",
       "3      [type, function, typescript, function, type, i...  \n",
       "4      [store, service, account, looking, eas, expo, ...  \n",
       "...                                                  ...  \n",
       "49995  [app, mode, react, app, behaviour, building, a...  \n",
       "49996  [service, stripe, account, corporation, servic...  \n",
       "49997  [security, problem, terraform, terraform, lock...  \n",
       "49998  [studio, creation, blob, container, error, mes...  \n",
       "49999  [pattern, aw, parameter, store, array, appsett...  \n",
       "\n",
       "[49999 rows x 8 columns]"
      ]
     },
     "execution_count": 43,
     "metadata": {},
     "output_type": "execute_result"
    }
   ],
   "source": [
    "debut = time.time()  # Heure de début du traitement\n",
    "data['processed_corpus'] = data.corpus.apply(process_documents,\n",
    "                                   doc,\n",
    "                                   tokenizer=tokenizer,\n",
    "                                   pos=pos_a_garder,\n",
    "                                   lemmentizer=spacy_nlp,\n",
    "                                   rejoin=False,\n",
    "                                   stop_words=stop_words,\n",
    "                                   list_rare_words=mots_rares,\n",
    "                                   min_len_word=3,\n",
    "                                   alpha_only=True,\n",
    "                                   extra_words=None,\n",
    "                                   return_set=False\n",
    "                             )\n",
    "print(f\"Durée du traitement : {(time.time() - debut):.2f} s\")\n",
    "\n",
    "data"
   ]
  },
  {
   "cell_type": "markdown",
   "metadata": {},
   "source": [
    "### **Post traitement**\n",
    "\n",
    "Lors des traitements, les mots rares du corpus original ont été supprimés.<br>\n",
    "Cependant, les traitements ont fait apparaitre de nouveaux mots rares, qu'il va falloir supprimer également.<br>"
   ]
  },
  {
   "cell_type": "code",
   "execution_count": 63,
   "metadata": {},
   "outputs": [
    {
     "name": "stdout",
     "output_type": "stream",
     "text": [
      "Nombre de mots présents 5 fois ou moins : 3519\n",
      "Exemples de mots : ['mbp', 'rio', 'referral', 'conflicting', 'duplicating', 'msiexec', 'vcs', 'levelname', 'encrypteddata', 'clash']\n"
     ]
    }
   ],
   "source": [
    "# On regroupe tous les éléments des liste de data['processed_corpus'] dans une liste unique\n",
    "processed_corpus = [item for sublist in data['processed_corpus'] for item in sublist]\n",
    "\n",
    "# On fait le compte des différents tokens dans notre corpus traité\n",
    "tmp = pd.Series(processed_corpus).value_counts()\n",
    "\n",
    "post_list_min_5_words = tmp[tmp<=5]\n",
    "post_list_min_5_words = list(post_list_min_5_words.index)  # .index = pour ne récupérer que les mots\n",
    "print(f\"Nombre de mots présents 5 fois ou moins : {len(post_list_min_5_words)}\")\n",
    "print(f\"Exemples de mots : {post_list_min_5_words[:10]}\")"
   ]
  },
  {
   "cell_type": "markdown",
   "metadata": {},
   "source": [
    "- Définition de la fonction de suppression des mots rares post traitement : "
   ]
  },
  {
   "cell_type": "code",
   "execution_count": 77,
   "metadata": {},
   "outputs": [],
   "source": [
    "def post_rare_suppr(doc,\n",
    "                    post_rare_words=None\n",
    "                   ):\n",
    "        # Suppression des mots rares (si fournis)\n",
    "    if post_rare_words:\n",
    "        non_rare_tokens = [w for w in doc if w not in post_rare_words]\n",
    "    else:\n",
    "        non_rare_tokens = doc\n",
    "    return non_rare_tokens"
   ]
  },
  {
   "cell_type": "markdown",
   "metadata": {},
   "source": [
    "- Transformation de *post_list_min_5_words* en set pour un traitement plus rapide."
   ]
  },
  {
   "cell_type": "code",
   "execution_count": 78,
   "metadata": {},
   "outputs": [],
   "source": [
    "post_list_min_5_words = set(post_list_min_5_words)"
   ]
  },
  {
   "cell_type": "markdown",
   "metadata": {},
   "source": [
    "- Suppression des nouveaux mots apparaissant 5 fois ou moins : "
   ]
  },
  {
   "cell_type": "code",
   "execution_count": 79,
   "metadata": {},
   "outputs": [],
   "source": [
    "data['processed_corpus'] = data.processed_corpus.apply(post_rare_suppr,post_rare_words=post_list_min_5_words)"
   ]
  },
  {
   "cell_type": "markdown",
   "metadata": {},
   "source": [
    "### **Comparaison du corpus d'origine avec le corpus traitré**"
   ]
  },
  {
   "cell_type": "markdown",
   "metadata": {},
   "source": [
    "- Corpus d'origine (tokenisé, sans stop words et sans nombre) : "
   ]
  },
  {
   "cell_type": "code",
   "execution_count": 80,
   "metadata": {},
   "outputs": [
    {
     "name": "stdout",
     "output_type": "stream",
     "text": [
      "Nombre de tokens : 3408413\n",
      "Nombre de tokens uniques : 199120\n",
      "10 premiers tokens : ['line', 'r', 'ws', 'appear', 'like', 'bug', 'grammar', 'parallel', 'define', 'escape']\n",
      "\n",
      "Tokens les plus fréquents : \n"
     ]
    },
    {
     "data": {
      "text/plain": [
       "using     20073\n",
       "code      18578\n",
       "like      18177\n",
       "get       16731\n",
       "use       14742\n",
       "error     14189\n",
       "want      13836\n",
       "return    13347\n",
       "data      12257\n",
       "would     11900\n",
       "dtype: int64"
      ]
     },
     "metadata": {},
     "output_type": "display_data"
    },
    {
     "name": "stdout",
     "output_type": "stream",
     "text": [
      "Tokens les moins fréquents : \n"
     ]
    },
    {
     "data": {
      "text/plain": [
       "pushshift         1\n",
       "trump             1\n",
       "ryu               1\n",
       "grrs              1\n",
       "configstruct      1\n",
       "tangential        1\n",
       "tomleversrbox     1\n",
       "igonored          1\n",
       "revisar           1\n",
       "systemsmanager    1\n",
       "dtype: int64"
      ]
     },
     "metadata": {},
     "output_type": "display_data"
    },
    {
     "name": "stdout",
     "output_type": "stream",
     "text": [
      "Distribution des présences des tokens : \n"
     ]
    },
    {
     "data": {
      "text/plain": [
       "count    199120.000000\n",
       "mean         17.117381\n",
       "std         219.717186\n",
       "min           1.000000\n",
       "25%           1.000000\n",
       "50%           1.000000\n",
       "75%           2.000000\n",
       "max       20073.000000\n",
       "dtype: float64"
      ]
     },
     "metadata": {},
     "output_type": "display_data"
    }
   ],
   "source": [
    "display_tokens_infos(corpus)\n",
    "\n",
    "# On fait le compte des différents tokens\n",
    "tmp = pd.Series(corpus).value_counts()\n",
    "\n",
    "print()\n",
    "\n",
    "print(\"Tokens les plus fréquents : \")\n",
    "display(tmp.head(10))\n",
    "\n",
    "print(\"Tokens les moins fréquents : \")\n",
    "display(tmp.tail(10))\n",
    "\n",
    "print(\"Distribution des présences des tokens : \")\n",
    "display(tmp.describe())"
   ]
  },
  {
   "cell_type": "markdown",
   "metadata": {},
   "source": [
    "- Corpus traité avec ```process_documents()``` et post traité avec ```post_rare_suppr()``` : "
   ]
  },
  {
   "cell_type": "code",
   "execution_count": 81,
   "metadata": {},
   "outputs": [
    {
     "name": "stdout",
     "output_type": "stream",
     "text": [
      "Nombre de tokens : 3069325\n",
      "Nombre de tokens uniques : 11567\n",
      "10 premiers tokens : ['rule', 'handle', 'backslash', 'expand', 'answer', 'escape', 'escape', 'character', 'work', 'equivalent']\n",
      "Tokens les plus fréquents : \n"
     ]
    },
    {
     "data": {
      "text/plain": [
       "error       41469\n",
       "value       41432\n",
       "class       38901\n",
       "file        37368\n",
       "type        36234\n",
       "string      33280\n",
       "name        32715\n",
       "function    31120\n",
       "datum       30280\n",
       "code        28639\n",
       "dtype: int64"
      ]
     },
     "metadata": {},
     "output_type": "display_data"
    },
    {
     "name": "stdout",
     "output_type": "stream",
     "text": [
      "Tokens les moins fréquents : \n"
     ]
    },
    {
     "data": {
      "text/plain": [
       "bfserie               6\n",
       "inputtext             6\n",
       "autolayout            6\n",
       "apollo                6\n",
       "rsdriver              6\n",
       "frustrating           6\n",
       "ebay                  6\n",
       "swiperefreshlayout    6\n",
       "configurefont         6\n",
       "relativepath          6\n",
       "dtype: int64"
      ]
     },
     "metadata": {},
     "output_type": "display_data"
    },
    {
     "name": "stdout",
     "output_type": "stream",
     "text": [
      "Distribution des présences des tokens : \n"
     ]
    },
    {
     "data": {
      "text/plain": [
       "count    11566.000000\n",
       "mean       265.374546\n",
       "std       1503.384584\n",
       "min          6.000000\n",
       "25%         11.000000\n",
       "50%         23.000000\n",
       "75%         71.000000\n",
       "max      41469.000000\n",
       "dtype: float64"
      ]
     },
     "metadata": {},
     "output_type": "display_data"
    }
   ],
   "source": [
    "# Pour récupérer les mots qui sont dans des set à chaque ligne\n",
    "processed_corpus = data['processed_corpus'].explode().tolist()\n",
    "\n",
    "display_tokens_infos(processed_corpus)\n",
    "\n",
    "# On fait le compte des différents tokens\n",
    "tmp = pd.Series(processed_corpus).value_counts()\n",
    "\n",
    "print(\"Tokens les plus fréquents : \")\n",
    "display(tmp.head(10))\n",
    "\n",
    "print(\"Tokens les moins fréquents : \")\n",
    "display(tmp.tail(10))\n",
    "\n",
    "print(\"Distribution des présences des tokens : \")\n",
    "display(tmp.describe())"
   ]
  },
  {
   "cell_type": "markdown",
   "metadata": {},
   "source": [
    "- Pour test : "
   ]
  },
  {
   "cell_type": "code",
   "execution_count": 85,
   "metadata": {},
   "outputs": [
    {
     "name": "stdout",
     "output_type": "stream",
     "text": [
      "Le mot 'duplicating' ne se trouve pas dans 'processed_corpus'.\n"
     ]
    }
   ],
   "source": [
    "mot_a_tester = \"duplicating\"\n",
    "\n",
    "if mot_a_tester in processed_corpus:\n",
    "    print(f\"Le mot '{mot_a_tester}' se trouve dans 'processed_corpus'.\")\n",
    "else:\n",
    "    print(f\"Le mot '{mot_a_tester}' ne se trouve pas dans 'processed_corpus'.\")"
   ]
  },
  {
   "cell_type": "code",
   "execution_count": 86,
   "metadata": {},
   "outputs": [
    {
     "name": "stdout",
     "output_type": "stream",
     "text": [
      "Le mot 'duplicating' se trouve dans 'corpus'.\n"
     ]
    }
   ],
   "source": [
    "mot_a_tester = \"duplicating\"\n",
    "\n",
    "if mot_a_tester in corpus:\n",
    "    print(f\"Le mot '{mot_a_tester}' se trouve dans 'corpus'.\")\n",
    "else:\n",
    "    print(f\"Le mot '{mot_a_tester}' ne se trouve pas dans 'corpus'.\")"
   ]
  }
 ],
 "metadata": {
  "kernelspec": {
   "display_name": "base",
   "language": "python",
   "name": "python3"
  },
  "language_info": {
   "codemirror_mode": {
    "name": "ipython",
    "version": 3
   },
   "file_extension": ".py",
   "mimetype": "text/x-python",
   "name": "python",
   "nbconvert_exporter": "python",
   "pygments_lexer": "ipython3",
   "version": "3.10.9"
  },
  "orig_nbformat": 4
 },
 "nbformat": 4,
 "nbformat_minor": 2
}
