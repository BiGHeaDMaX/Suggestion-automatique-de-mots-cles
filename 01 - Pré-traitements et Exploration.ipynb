{
 "cells": [
  {
   "cell_type": "markdown",
   "metadata": {},
   "source": [
    "# **Pré-traitements et Exploration**"
   ]
  },
  {
   "cell_type": "markdown",
   "metadata": {},
   "source": [
    "## **Récupération des données**\n",
    "\n",
    "Les données ont été récupérées sur le [*StackExchange Data Explorer*](https://data.stackexchange.com/stackoverflow/query/new) où il est possible d'effectuer une requête sur la base SQL du site, puis de télécharger ces dernières au format CSV.\n",
    "\n",
    "Afin de récupérer des données de qualité, certains critères ont été appliqués pour filtrer les questions : \n",
    "\n",
    "- Données récentes (depuis 2022) : les usages et les technologies évoluent rapidement.\n",
    "- Le score doit être positif.\n",
    "- Au moins une réponse.\n",
    "- Au moins un commentaire.\n",
    "- L'utilisateur doit avoir une réputation au moins égale à la moyenne.\n",
    "\n",
    "La réputation des utilisateurs est définit selon plusieurs paramètres (question ou réponses qui ont obtenus des votes, réponses marquées comme acceptées, etc.), détails du calcul sur [cette page](https://stackoverflow.com/help/whats-reputation).\n",
    "\n",
    "<div class=\"alert alert-info\">\n",
    "Il est important de récupérer des questions qui ont reçu une certaine approbation de la communauté, provenant d'utilisateurs expérimentés. De cette manière les tags associés pourront être considérés comme qualitatifs et seront donc plus appropriés à l'entraînement d'un modèle supervisé.\n",
    "</div>\n",
    "\n",
    "Voici le code utilisé pour la requête :\n",
    "<br><br>\n",
    "\n",
    "```SQL\n",
    "SELECT TOP(50000) posts.id,\n",
    "                  posts.creationdate,\n",
    "                  title,\n",
    "                  body,\n",
    "                  tags,\n",
    "                  users.reputation,\n",
    "-- Réputation moyenne des users avec les critères actuels\n",
    "                  (SELECT Avg(reputation)\n",
    "                   FROM   users) AS moyenne_reputation\n",
    "FROM   posts\n",
    "-- Jointure pour récupérer la réputation des users\n",
    "       JOIN users\n",
    "         ON posts.owneruserid = users.id\n",
    "WHERE  posts.creationdate BETWEEN CONVERT(DATETIME, '2022-01-01') AND\n",
    "                                         CONVERT(DATETIME, '2023-12-31')\n",
    "       AND posts.score > 0 -- Questions avec un score positif\n",
    "       AND posts.answercount > 0 -- Au moins une réponse\n",
    "       AND posts.commentcount > 0 -- Au moins un commentaire\n",
    "       AND users.reputation >= 91 -- Soit la réputation moyenne sur cette période avec ces critères\n",
    "```\n",
    "\n",
    "\n",
    "Réponse serveur : *\"50000 rows returned in 3102 ms\"*"
   ]
  },
  {
   "cell_type": "markdown",
   "metadata": {},
   "source": [
    "## **Importation des bibliothèques**"
   ]
  },
  {
   "cell_type": "code",
   "execution_count": 1,
   "metadata": {},
   "outputs": [],
   "source": [
    "# Mesures de durée d'éxécution\n",
    "import time\n",
    "\n",
    "# Manipulations de données\n",
    "import pandas as pd\n",
    "import numpy as np\n",
    "\n",
    "# Visualisations\n",
    "import seaborn as sns\n",
    "import matplotlib.pyplot as plt\n",
    "from wordcloud import WordCloud\n",
    "\n",
    "# Traitement des données textuelles\n",
    "import re\n",
    "import spacy\n",
    "from nltk.corpus import stopwords\n",
    "from nltk.tokenize import RegexpTokenizer\n",
    "from nltk.stem import WordNetLemmatizer\n",
    "\n",
    "# Suppression des balises HTML \n",
    "from bs4 import BeautifulSoup  # Pour nettoyer les balises HTML"
   ]
  },
  {
   "cell_type": "markdown",
   "metadata": {},
   "source": [
    "## **Importation des données**"
   ]
  },
  {
   "cell_type": "code",
   "execution_count": 2,
   "metadata": {},
   "outputs": [
    {
     "name": "stdout",
     "output_type": "stream",
     "text": [
      "Importation du dataset...\n",
      "Importation terminée.\n"
     ]
    }
   ],
   "source": [
    "print(\"Importation du dataset...\")\n",
    "colonnes_a_importer = ['creationdate', 'title', 'body', 'tags', 'reputation']\n",
    "data = pd.read_csv(\"QueryResults.csv\", sep=',', usecols=colonnes_a_importer)\n",
    "print(\"Importation terminée.\")"
   ]
  },
  {
   "cell_type": "markdown",
   "metadata": {},
   "source": [
    "- Affichage de 20 lignes au hasard : "
   ]
  },
  {
   "cell_type": "code",
   "execution_count": 3,
   "metadata": {},
   "outputs": [
    {
     "data": {
      "text/html": [
       "<div>\n",
       "<style scoped>\n",
       "    .dataframe tbody tr th:only-of-type {\n",
       "        vertical-align: middle;\n",
       "    }\n",
       "\n",
       "    .dataframe tbody tr th {\n",
       "        vertical-align: top;\n",
       "    }\n",
       "\n",
       "    .dataframe thead th {\n",
       "        text-align: right;\n",
       "    }\n",
       "</style>\n",
       "<table border=\"1\" class=\"dataframe\">\n",
       "  <thead>\n",
       "    <tr style=\"text-align: right;\">\n",
       "      <th></th>\n",
       "      <th>creationdate</th>\n",
       "      <th>title</th>\n",
       "      <th>body</th>\n",
       "      <th>tags</th>\n",
       "      <th>reputation</th>\n",
       "    </tr>\n",
       "  </thead>\n",
       "  <tbody>\n",
       "    <tr>\n",
       "      <th>44216</th>\n",
       "      <td>2023-08-31 02:18:59</td>\n",
       "      <td>Is there a scope equivalent RequestScope for JMS</td>\n",
       "      <td>&lt;p&gt;Similar to &lt;code&gt;@RequestScope&lt;/code&gt; is th...</td>\n",
       "      <td>&lt;spring&gt;&lt;spring-boot&gt;&lt;spring-jms&gt;</td>\n",
       "      <td>7671</td>\n",
       "    </tr>\n",
       "    <tr>\n",
       "      <th>5378</th>\n",
       "      <td>2022-07-31 09:28:25</td>\n",
       "      <td>How to install certbot inside docker NGINX image?</td>\n",
       "      <td>&lt;p&gt;At the moment; in order to install/renew ce...</td>\n",
       "      <td>&lt;docker&gt;&lt;nginx&gt;&lt;lets-encrypt&gt;</td>\n",
       "      <td>1557</td>\n",
       "    </tr>\n",
       "    <tr>\n",
       "      <th>45649</th>\n",
       "      <td>2022-03-08 09:30:26</td>\n",
       "      <td>NEXT/Image Component URL issue</td>\n",
       "      <td>&lt;p&gt;I am using NEXT/Image component and facing ...</td>\n",
       "      <td>&lt;reactjs&gt;&lt;url&gt;&lt;url-rewriting&gt;&lt;next.js&gt;&lt;nextjs-...</td>\n",
       "      <td>315</td>\n",
       "    </tr>\n",
       "    <tr>\n",
       "      <th>23929</th>\n",
       "      <td>2023-03-23 10:56:42</td>\n",
       "      <td>Get props from template ref</td>\n",
       "      <td>&lt;p&gt;Is it possible to get the properties of a v...</td>\n",
       "      <td>&lt;typescript&gt;&lt;vue.js&gt;&lt;vuejs3&gt;&lt;vue-composition-api&gt;</td>\n",
       "      <td>519</td>\n",
       "    </tr>\n",
       "    <tr>\n",
       "      <th>49301</th>\n",
       "      <td>2022-03-22 18:15:39</td>\n",
       "      <td>How can I add a path to a Makefile?</td>\n",
       "      <td>&lt;p&gt;In C++, I have a library path I know how in...</td>\n",
       "      <td>&lt;c++&gt;&lt;cmake&gt;&lt;makefile&gt;</td>\n",
       "      <td>973</td>\n",
       "    </tr>\n",
       "    <tr>\n",
       "      <th>22737</th>\n",
       "      <td>2022-02-07 14:51:11</td>\n",
       "      <td>Error trying to remove a namespace from an XML...</td>\n",
       "      <td>&lt;p&gt;I see the error like &amp;quot;Trying to write ...</td>\n",
       "      <td>&lt;mule&gt;&lt;dataweave&gt;&lt;mulesoft&gt;&lt;mule4&gt;</td>\n",
       "      <td>249</td>\n",
       "    </tr>\n",
       "    <tr>\n",
       "      <th>8414</th>\n",
       "      <td>2022-08-13 16:28:19</td>\n",
       "      <td>python3 tkinter on WSL: app icon not being dis...</td>\n",
       "      <td>&lt;p&gt;I'm using &lt;code&gt;tkinter&lt;/code&gt; in Ubuntu (i...</td>\n",
       "      <td>&lt;python&gt;&lt;tkinter&gt;</td>\n",
       "      <td>187</td>\n",
       "    </tr>\n",
       "    <tr>\n",
       "      <th>45044</th>\n",
       "      <td>2023-09-14 16:49:47</td>\n",
       "      <td>How can I return a subclass of a type from a m...</td>\n",
       "      <td>&lt;p&gt;Given the below example, how can I make the...</td>\n",
       "      <td>&lt;scala&gt;&lt;generics&gt;&lt;pattern-matching&gt;&lt;scala-2&gt;</td>\n",
       "      <td>868</td>\n",
       "    </tr>\n",
       "    <tr>\n",
       "      <th>9382</th>\n",
       "      <td>2022-08-22 12:03:31</td>\n",
       "      <td>hudson.FilePath : How to list subDirectories a...</td>\n",
       "      <td>&lt;p&gt;I am working on a Jenkins custom Plugin, wh...</td>\n",
       "      <td>&lt;java&gt;&lt;jenkins&gt;&lt;jenkins-plugins&gt;&lt;hudson&gt;</td>\n",
       "      <td>1510</td>\n",
       "    </tr>\n",
       "    <tr>\n",
       "      <th>1581</th>\n",
       "      <td>2022-01-03 12:20:42</td>\n",
       "      <td>how to generate SHA256 with 32 bytes for a giv...</td>\n",
       "      <td>&lt;p&gt;I am looking for javascript code for genera...</td>\n",
       "      <td>&lt;javascript&gt;&lt;sha256&gt;</td>\n",
       "      <td>2599</td>\n",
       "    </tr>\n",
       "    <tr>\n",
       "      <th>19722</th>\n",
       "      <td>2022-02-02 17:44:26</td>\n",
       "      <td>Apache Beam BigqueryIO.Write getSuccessfulInse...</td>\n",
       "      <td>&lt;p&gt;We are creating a simple apache beam pipeli...</td>\n",
       "      <td>&lt;java&gt;&lt;google-cloud-platform&gt;&lt;google-bigquery&gt;...</td>\n",
       "      <td>207</td>\n",
       "    </tr>\n",
       "    <tr>\n",
       "      <th>15961</th>\n",
       "      <td>2022-09-15 08:20:30</td>\n",
       "      <td>Regex to capture all vars between delimiters</td>\n",
       "      <td>&lt;p&gt;How do I capture all 1, 2 and 3 in &lt;code&gt;no...</td>\n",
       "      <td>&lt;javascript&gt;&lt;regex&gt;&lt;regex-group&gt;</td>\n",
       "      <td>8771</td>\n",
       "    </tr>\n",
       "    <tr>\n",
       "      <th>34290</th>\n",
       "      <td>2023-06-15 22:01:08</td>\n",
       "      <td>Why is `std::this_thread::yield()` 10x slower ...</td>\n",
       "      <td>&lt;p&gt;Just testing the two small programs,&lt;/p&gt;\\n&lt;...</td>\n",
       "      <td>&lt;c++&gt;&lt;linux&gt;&lt;multithreading&gt;&lt;scheduler&gt;</td>\n",
       "      <td>1264</td>\n",
       "    </tr>\n",
       "    <tr>\n",
       "      <th>37291</th>\n",
       "      <td>2023-07-08 11:48:42</td>\n",
       "      <td>Django: How do I use a composite key as USERNA...</td>\n",
       "      <td>&lt;p&gt;I have a custom user model extending &lt;code&gt;...</td>\n",
       "      <td>&lt;python&gt;&lt;django&gt;&lt;django-models&gt;&lt;django-admin&gt;</td>\n",
       "      <td>668</td>\n",
       "    </tr>\n",
       "    <tr>\n",
       "      <th>49124</th>\n",
       "      <td>2022-03-21 05:50:58</td>\n",
       "      <td>conditional formatting entire row if all cells...</td>\n",
       "      <td>&lt;p&gt;I'm trying figure out how to apply style to...</td>\n",
       "      <td>&lt;arrays&gt;&lt;google-sheets&gt;&lt;formatting&gt;&lt;conditiona...</td>\n",
       "      <td>9485</td>\n",
       "    </tr>\n",
       "    <tr>\n",
       "      <th>13273</th>\n",
       "      <td>2022-09-02 12:29:20</td>\n",
       "      <td>AWS EventBridge: Get branch name and last comm...</td>\n",
       "      <td>&lt;p&gt;We're using CodeBuild and have implemented ...</td>\n",
       "      <td>&lt;amazon-web-services&gt;&lt;continuous-integration&gt;&lt;...</td>\n",
       "      <td>400</td>\n",
       "    </tr>\n",
       "    <tr>\n",
       "      <th>5673</th>\n",
       "      <td>2022-08-02 19:41:10</td>\n",
       "      <td>cannot properly mock Notification API</td>\n",
       "      <td>&lt;p&gt;I have the following in my setupTests.ts:&lt;/...</td>\n",
       "      <td>&lt;reactjs&gt;&lt;jestjs&gt;</td>\n",
       "      <td>1237</td>\n",
       "    </tr>\n",
       "    <tr>\n",
       "      <th>2072</th>\n",
       "      <td>2022-06-18 15:24:29</td>\n",
       "      <td>how doesn't an exception occur when getting a ...</td>\n",
       "      <td>&lt;pre&gt;&lt;code&gt;string jgh = &amp;quot;n&amp;quot;;\\nstring...</td>\n",
       "      <td>&lt;c#&gt;</td>\n",
       "      <td>275</td>\n",
       "    </tr>\n",
       "    <tr>\n",
       "      <th>5853</th>\n",
       "      <td>2022-08-05 21:39:27</td>\n",
       "      <td>Databricks python notebook to execute %sql com...</td>\n",
       "      <td>&lt;p&gt;I have created a python notebook in Databri...</td>\n",
       "      <td>&lt;databricks&gt;</td>\n",
       "      <td>1341</td>\n",
       "    </tr>\n",
       "    <tr>\n",
       "      <th>10003</th>\n",
       "      <td>2022-08-20 22:08:41</td>\n",
       "      <td>How to Manipulate Hyperlinks Dynamically in Ty...</td>\n",
       "      <td>&lt;p&gt;I am trying to get the title to also be the...</td>\n",
       "      <td>&lt;javascript&gt;&lt;reactjs&gt;&lt;typescript&gt;</td>\n",
       "      <td>319</td>\n",
       "    </tr>\n",
       "  </tbody>\n",
       "</table>\n",
       "</div>"
      ],
      "text/plain": [
       "              creationdate                                              title  \\\n",
       "44216  2023-08-31 02:18:59   Is there a scope equivalent RequestScope for JMS   \n",
       "5378   2022-07-31 09:28:25  How to install certbot inside docker NGINX image?   \n",
       "45649  2022-03-08 09:30:26                     NEXT/Image Component URL issue   \n",
       "23929  2023-03-23 10:56:42                        Get props from template ref   \n",
       "49301  2022-03-22 18:15:39                How can I add a path to a Makefile?   \n",
       "22737  2022-02-07 14:51:11  Error trying to remove a namespace from an XML...   \n",
       "8414   2022-08-13 16:28:19  python3 tkinter on WSL: app icon not being dis...   \n",
       "45044  2023-09-14 16:49:47  How can I return a subclass of a type from a m...   \n",
       "9382   2022-08-22 12:03:31  hudson.FilePath : How to list subDirectories a...   \n",
       "1581   2022-01-03 12:20:42  how to generate SHA256 with 32 bytes for a giv...   \n",
       "19722  2022-02-02 17:44:26  Apache Beam BigqueryIO.Write getSuccessfulInse...   \n",
       "15961  2022-09-15 08:20:30       Regex to capture all vars between delimiters   \n",
       "34290  2023-06-15 22:01:08  Why is `std::this_thread::yield()` 10x slower ...   \n",
       "37291  2023-07-08 11:48:42  Django: How do I use a composite key as USERNA...   \n",
       "49124  2022-03-21 05:50:58  conditional formatting entire row if all cells...   \n",
       "13273  2022-09-02 12:29:20  AWS EventBridge: Get branch name and last comm...   \n",
       "5673   2022-08-02 19:41:10              cannot properly mock Notification API   \n",
       "2072   2022-06-18 15:24:29  how doesn't an exception occur when getting a ...   \n",
       "5853   2022-08-05 21:39:27  Databricks python notebook to execute %sql com...   \n",
       "10003  2022-08-20 22:08:41  How to Manipulate Hyperlinks Dynamically in Ty...   \n",
       "\n",
       "                                                    body  \\\n",
       "44216  <p>Similar to <code>@RequestScope</code> is th...   \n",
       "5378   <p>At the moment; in order to install/renew ce...   \n",
       "45649  <p>I am using NEXT/Image component and facing ...   \n",
       "23929  <p>Is it possible to get the properties of a v...   \n",
       "49301  <p>In C++, I have a library path I know how in...   \n",
       "22737  <p>I see the error like &quot;Trying to write ...   \n",
       "8414   <p>I'm using <code>tkinter</code> in Ubuntu (i...   \n",
       "45044  <p>Given the below example, how can I make the...   \n",
       "9382   <p>I am working on a Jenkins custom Plugin, wh...   \n",
       "1581   <p>I am looking for javascript code for genera...   \n",
       "19722  <p>We are creating a simple apache beam pipeli...   \n",
       "15961  <p>How do I capture all 1, 2 and 3 in <code>no...   \n",
       "34290  <p>Just testing the two small programs,</p>\\n<...   \n",
       "37291  <p>I have a custom user model extending <code>...   \n",
       "49124  <p>I'm trying figure out how to apply style to...   \n",
       "13273  <p>We're using CodeBuild and have implemented ...   \n",
       "5673   <p>I have the following in my setupTests.ts:</...   \n",
       "2072   <pre><code>string jgh = &quot;n&quot;;\\nstring...   \n",
       "5853   <p>I have created a python notebook in Databri...   \n",
       "10003  <p>I am trying to get the title to also be the...   \n",
       "\n",
       "                                                    tags  reputation  \n",
       "44216                  <spring><spring-boot><spring-jms>        7671  \n",
       "5378                       <docker><nginx><lets-encrypt>        1557  \n",
       "45649  <reactjs><url><url-rewriting><next.js><nextjs-...         315  \n",
       "23929  <typescript><vue.js><vuejs3><vue-composition-api>         519  \n",
       "49301                             <c++><cmake><makefile>         973  \n",
       "22737                 <mule><dataweave><mulesoft><mule4>         249  \n",
       "8414                                   <python><tkinter>         187  \n",
       "45044       <scala><generics><pattern-matching><scala-2>         868  \n",
       "9382            <java><jenkins><jenkins-plugins><hudson>        1510  \n",
       "1581                                <javascript><sha256>        2599  \n",
       "19722  <java><google-cloud-platform><google-bigquery>...         207  \n",
       "15961                   <javascript><regex><regex-group>        8771  \n",
       "34290            <c++><linux><multithreading><scheduler>        1264  \n",
       "37291      <python><django><django-models><django-admin>         668  \n",
       "49124  <arrays><google-sheets><formatting><conditiona...        9485  \n",
       "13273  <amazon-web-services><continuous-integration><...         400  \n",
       "5673                                   <reactjs><jestjs>        1237  \n",
       "2072                                                <c#>         275  \n",
       "5853                                        <databricks>        1341  \n",
       "10003                  <javascript><reactjs><typescript>         319  "
      ]
     },
     "execution_count": 3,
     "metadata": {},
     "output_type": "execute_result"
    }
   ],
   "source": [
    "data.sample(20)"
   ]
  },
  {
   "cell_type": "markdown",
   "metadata": {},
   "source": [
    "### **Traîtements de base**"
   ]
  },
  {
   "cell_type": "markdown",
   "metadata": {},
   "source": [
    "- Conversion de la colonne date au format date : "
   ]
  },
  {
   "cell_type": "code",
   "execution_count": 4,
   "metadata": {},
   "outputs": [],
   "source": [
    "data[\"creationdate\"] = pd.to_datetime(data[\"creationdate\"])"
   ]
  },
  {
   "cell_type": "markdown",
   "metadata": {},
   "source": [
    "- Vérification du type des colonnes : "
   ]
  },
  {
   "cell_type": "code",
   "execution_count": 5,
   "metadata": {},
   "outputs": [
    {
     "data": {
      "text/plain": [
       "creationdate    datetime64[ns]\n",
       "title                   object\n",
       "body                    object\n",
       "tags                    object\n",
       "reputation               int64\n",
       "dtype: object"
      ]
     },
     "execution_count": 5,
     "metadata": {},
     "output_type": "execute_result"
    }
   ],
   "source": [
    "data.dtypes"
   ]
  },
  {
   "cell_type": "markdown",
   "metadata": {},
   "source": [
    "- Y a-t-il des doublons ?"
   ]
  },
  {
   "cell_type": "code",
   "execution_count": 6,
   "metadata": {},
   "outputs": [
    {
     "name": "stdout",
     "output_type": "stream",
     "text": [
      "Colonne 'creationdate' : 91 doublon(s)\n",
      "Colonne 'title' : 0 doublon(s)\n",
      "Colonne 'body' : 1 doublon(s)\n",
      "Colonne 'tags' : 14871 doublon(s)\n",
      "Colonne 'reputation' : 42320 doublon(s)\n"
     ]
    }
   ],
   "source": [
    "for col in data.columns:\n",
    "    n = data.duplicated(subset=col).sum()\n",
    "    print(f\"Colonne '{col}' : {n} doublon(s)\")"
   ]
  },
  {
   "cell_type": "markdown",
   "metadata": {},
   "source": [
    "- Il y a un doublon dans la colonne 'body' : "
   ]
  },
  {
   "cell_type": "code",
   "execution_count": 7,
   "metadata": {},
   "outputs": [
    {
     "data": {
      "text/html": [
       "<div>\n",
       "<style scoped>\n",
       "    .dataframe tbody tr th:only-of-type {\n",
       "        vertical-align: middle;\n",
       "    }\n",
       "\n",
       "    .dataframe tbody tr th {\n",
       "        vertical-align: top;\n",
       "    }\n",
       "\n",
       "    .dataframe thead th {\n",
       "        text-align: right;\n",
       "    }\n",
       "</style>\n",
       "<table border=\"1\" class=\"dataframe\">\n",
       "  <thead>\n",
       "    <tr style=\"text-align: right;\">\n",
       "      <th></th>\n",
       "      <th>creationdate</th>\n",
       "      <th>title</th>\n",
       "      <th>body</th>\n",
       "      <th>tags</th>\n",
       "      <th>reputation</th>\n",
       "    </tr>\n",
       "  </thead>\n",
       "  <tbody>\n",
       "    <tr>\n",
       "      <th>13995</th>\n",
       "      <td>2022-09-03 20:36:16</td>\n",
       "      <td>Remove nodeSelectorTerms param in manifest dep...</td>\n",
       "      <td>&lt;p&gt;I use this manifest configuration to deploy...</td>\n",
       "      <td>&lt;kubernetes&gt;&lt;kubernetes-helm&gt;</td>\n",
       "      <td>1198</td>\n",
       "    </tr>\n",
       "    <tr>\n",
       "      <th>16003</th>\n",
       "      <td>2022-09-15 23:08:29</td>\n",
       "      <td>Remove nodeSelectorTerms param</td>\n",
       "      <td>&lt;p&gt;I use this manifest configuration to deploy...</td>\n",
       "      <td>&lt;kubernetes&gt;</td>\n",
       "      <td>1198</td>\n",
       "    </tr>\n",
       "  </tbody>\n",
       "</table>\n",
       "</div>"
      ],
      "text/plain": [
       "             creationdate                                              title  \\\n",
       "13995 2022-09-03 20:36:16  Remove nodeSelectorTerms param in manifest dep...   \n",
       "16003 2022-09-15 23:08:29                     Remove nodeSelectorTerms param   \n",
       "\n",
       "                                                    body  \\\n",
       "13995  <p>I use this manifest configuration to deploy...   \n",
       "16003  <p>I use this manifest configuration to deploy...   \n",
       "\n",
       "                                tags  reputation  \n",
       "13995  <kubernetes><kubernetes-helm>        1198  \n",
       "16003                   <kubernetes>        1198  "
      ]
     },
     "execution_count": 7,
     "metadata": {},
     "output_type": "execute_result"
    }
   ],
   "source": [
    "data.loc[data['body'].duplicated(keep=False) == True]"
   ]
  },
  {
   "cell_type": "markdown",
   "metadata": {},
   "source": [
    "- Suppression de ce doublon (les doublons dans les autres colonnes ne sont pas problématiques) : "
   ]
  },
  {
   "cell_type": "code",
   "execution_count": 8,
   "metadata": {},
   "outputs": [],
   "source": [
    "data.drop_duplicates(subset='body', inplace=True)"
   ]
  },
  {
   "cell_type": "markdown",
   "metadata": {},
   "source": [
    "- y a-t-il des valeurs manquantes ?"
   ]
  },
  {
   "cell_type": "code",
   "execution_count": 9,
   "metadata": {},
   "outputs": [
    {
     "data": {
      "text/plain": [
       "creationdate    0\n",
       "title           0\n",
       "body            0\n",
       "tags            0\n",
       "reputation      0\n",
       "dtype: int64"
      ]
     },
     "execution_count": 9,
     "metadata": {},
     "output_type": "execute_result"
    }
   ],
   "source": [
    "data.isna().sum()"
   ]
  },
  {
   "cell_type": "markdown",
   "metadata": {},
   "source": [
    "### **Création d'une nouvelle colonne *'corpus'***\n",
    "\n",
    "Nos données textuelles sont contenues dans *'title'* (le titre de la question) et *'body'* (le corps de la question).<br>\n",
    "Il peut être intéressant de conserver le titre car des informations importantes peuvent s'y trouver, sans qu'elles soient obligatoirement reprise dans le corps du message."
   ]
  },
  {
   "cell_type": "code",
   "execution_count": 10,
   "metadata": {},
   "outputs": [],
   "source": [
    "data['corpus'] = data['title'] + ' ' + data['body']"
   ]
  },
  {
   "cell_type": "markdown",
   "metadata": {},
   "source": [
    "- On enlève *'title'* et *'body'* dont on a plus besoin : "
   ]
  },
  {
   "cell_type": "code",
   "execution_count": 11,
   "metadata": {},
   "outputs": [],
   "source": [
    "data.drop(['title', 'body'], axis=1, inplace=True)"
   ]
  },
  {
   "cell_type": "markdown",
   "metadata": {},
   "source": [
    "### **Formattage des tags**\n",
    "\n",
    "Plutôt que d'avoir \"<Tag 1><Tag 2>\", on souhaite avoir [Tag 1, Tag 2]"
   ]
  },
  {
   "cell_type": "markdown",
   "metadata": {},
   "source": [
    "- Avant formattage : "
   ]
  },
  {
   "cell_type": "code",
   "execution_count": 12,
   "metadata": {},
   "outputs": [
    {
     "data": {
      "text/html": [
       "<div>\n",
       "<style scoped>\n",
       "    .dataframe tbody tr th:only-of-type {\n",
       "        vertical-align: middle;\n",
       "    }\n",
       "\n",
       "    .dataframe tbody tr th {\n",
       "        vertical-align: top;\n",
       "    }\n",
       "\n",
       "    .dataframe thead th {\n",
       "        text-align: right;\n",
       "    }\n",
       "</style>\n",
       "<table border=\"1\" class=\"dataframe\">\n",
       "  <thead>\n",
       "    <tr style=\"text-align: right;\">\n",
       "      <th></th>\n",
       "      <th>tags</th>\n",
       "    </tr>\n",
       "  </thead>\n",
       "  <tbody>\n",
       "    <tr>\n",
       "      <th>0</th>\n",
       "      <td>&lt;antlr4&gt;</td>\n",
       "    </tr>\n",
       "    <tr>\n",
       "      <th>1</th>\n",
       "      <td>&lt;reactjs&gt;&lt;firebase&gt;&lt;jestjs&gt;</td>\n",
       "    </tr>\n",
       "    <tr>\n",
       "      <th>2</th>\n",
       "      <td>&lt;async-await&gt;&lt;concurrency&gt;&lt;hacklang&gt;</td>\n",
       "    </tr>\n",
       "    <tr>\n",
       "      <th>3</th>\n",
       "      <td>&lt;typescript&gt;</td>\n",
       "    </tr>\n",
       "    <tr>\n",
       "      <th>4</th>\n",
       "      <td>&lt;expo&gt;&lt;google-play-console&gt;&lt;google-play-develo...</td>\n",
       "    </tr>\n",
       "    <tr>\n",
       "      <th>...</th>\n",
       "      <td>...</td>\n",
       "    </tr>\n",
       "    <tr>\n",
       "      <th>49995</th>\n",
       "      <td>&lt;ionic-framework&gt;&lt;ionic-react&gt;</td>\n",
       "    </tr>\n",
       "    <tr>\n",
       "      <th>49996</th>\n",
       "      <td>&lt;stripe-payments&gt;</td>\n",
       "    </tr>\n",
       "    <tr>\n",
       "      <th>49997</th>\n",
       "      <td>&lt;terraform&gt;</td>\n",
       "    </tr>\n",
       "    <tr>\n",
       "      <th>49998</th>\n",
       "      <td>&lt;azure&gt;&lt;azurite&gt;</td>\n",
       "    </tr>\n",
       "    <tr>\n",
       "      <th>49999</th>\n",
       "      <td>&lt;c#&gt;&lt;.net-core&gt;&lt;.net-6.0&gt;&lt;aws-parameter-store&gt;</td>\n",
       "    </tr>\n",
       "  </tbody>\n",
       "</table>\n",
       "<p>49999 rows × 1 columns</p>\n",
       "</div>"
      ],
      "text/plain": [
       "                                                    tags\n",
       "0                                               <antlr4>\n",
       "1                            <reactjs><firebase><jestjs>\n",
       "2                   <async-await><concurrency><hacklang>\n",
       "3                                           <typescript>\n",
       "4      <expo><google-play-console><google-play-develo...\n",
       "...                                                  ...\n",
       "49995                     <ionic-framework><ionic-react>\n",
       "49996                                  <stripe-payments>\n",
       "49997                                        <terraform>\n",
       "49998                                   <azure><azurite>\n",
       "49999     <c#><.net-core><.net-6.0><aws-parameter-store>\n",
       "\n",
       "[49999 rows x 1 columns]"
      ]
     },
     "execution_count": 12,
     "metadata": {},
     "output_type": "execute_result"
    }
   ],
   "source": [
    "data[['tags']]"
   ]
  },
  {
   "cell_type": "code",
   "execution_count": 13,
   "metadata": {},
   "outputs": [],
   "source": [
    "data['tags'] = data['tags'].apply(lambda x: re.findall(r'<(.*?)>', x))"
   ]
  },
  {
   "cell_type": "markdown",
   "metadata": {},
   "source": [
    "- Après formattage : "
   ]
  },
  {
   "cell_type": "code",
   "execution_count": 14,
   "metadata": {},
   "outputs": [
    {
     "data": {
      "text/html": [
       "<div>\n",
       "<style scoped>\n",
       "    .dataframe tbody tr th:only-of-type {\n",
       "        vertical-align: middle;\n",
       "    }\n",
       "\n",
       "    .dataframe tbody tr th {\n",
       "        vertical-align: top;\n",
       "    }\n",
       "\n",
       "    .dataframe thead th {\n",
       "        text-align: right;\n",
       "    }\n",
       "</style>\n",
       "<table border=\"1\" class=\"dataframe\">\n",
       "  <thead>\n",
       "    <tr style=\"text-align: right;\">\n",
       "      <th></th>\n",
       "      <th>tags</th>\n",
       "    </tr>\n",
       "  </thead>\n",
       "  <tbody>\n",
       "    <tr>\n",
       "      <th>0</th>\n",
       "      <td>[antlr4]</td>\n",
       "    </tr>\n",
       "    <tr>\n",
       "      <th>1</th>\n",
       "      <td>[reactjs, firebase, jestjs]</td>\n",
       "    </tr>\n",
       "    <tr>\n",
       "      <th>2</th>\n",
       "      <td>[async-await, concurrency, hacklang]</td>\n",
       "    </tr>\n",
       "    <tr>\n",
       "      <th>3</th>\n",
       "      <td>[typescript]</td>\n",
       "    </tr>\n",
       "    <tr>\n",
       "      <th>4</th>\n",
       "      <td>[expo, google-play-console, google-play-develo...</td>\n",
       "    </tr>\n",
       "    <tr>\n",
       "      <th>...</th>\n",
       "      <td>...</td>\n",
       "    </tr>\n",
       "    <tr>\n",
       "      <th>49995</th>\n",
       "      <td>[ionic-framework, ionic-react]</td>\n",
       "    </tr>\n",
       "    <tr>\n",
       "      <th>49996</th>\n",
       "      <td>[stripe-payments]</td>\n",
       "    </tr>\n",
       "    <tr>\n",
       "      <th>49997</th>\n",
       "      <td>[terraform]</td>\n",
       "    </tr>\n",
       "    <tr>\n",
       "      <th>49998</th>\n",
       "      <td>[azure, azurite]</td>\n",
       "    </tr>\n",
       "    <tr>\n",
       "      <th>49999</th>\n",
       "      <td>[c#, .net-core, .net-6.0, aws-parameter-store]</td>\n",
       "    </tr>\n",
       "  </tbody>\n",
       "</table>\n",
       "<p>49999 rows × 1 columns</p>\n",
       "</div>"
      ],
      "text/plain": [
       "                                                    tags\n",
       "0                                               [antlr4]\n",
       "1                            [reactjs, firebase, jestjs]\n",
       "2                   [async-await, concurrency, hacklang]\n",
       "3                                           [typescript]\n",
       "4      [expo, google-play-console, google-play-develo...\n",
       "...                                                  ...\n",
       "49995                     [ionic-framework, ionic-react]\n",
       "49996                                  [stripe-payments]\n",
       "49997                                        [terraform]\n",
       "49998                                   [azure, azurite]\n",
       "49999     [c#, .net-core, .net-6.0, aws-parameter-store]\n",
       "\n",
       "[49999 rows x 1 columns]"
      ]
     },
     "execution_count": 14,
     "metadata": {},
     "output_type": "execute_result"
    }
   ],
   "source": [
    "data[['tags']]"
   ]
  },
  {
   "cell_type": "markdown",
   "metadata": {},
   "source": [
    "### **Suppression des balises HTML et des portions de code dans le corpus**\n",
    "\n",
    "- Les questions contiennent des balises HTML qui vont perturber nos traitements, il faut les enlever. Nous allons utiliser pour cela le parser HTML de *BeautifulSoup*.\n",
    "\n",
    "- Les messages de Stack Overflow comportent très souvent des portions de code. Nous allons les supprimer. C'est assez radical, mais les portions de code génèrent trop de bruit, avec d'une part beaucoup de mots clefs redondants (*if*, *then*, *for*, etc) et d'autre part de nombreux noms personnalisés de variables qui n'apportent pas d'information tout en augmentant considérablement le vocabulaire global du corpus. Les portions de code se trouvent entre les balises *\\<code>* et *\\</code>*.\n",
    "\n",
    "- Les documents comportant des structures complexes avec de nombreuses imbrications de balises, l'approche avec *re*, bien que plus rapide, n'apporte pas des résultats satisfaisants."
   ]
  },
  {
   "cell_type": "markdown",
   "metadata": {},
   "source": [
    "- Fonction pour supprimer les balises HTML et les contenus entre *\\<code>* et *\\</code>* : "
   ]
  },
  {
   "cell_type": "code",
   "execution_count": 15,
   "metadata": {},
   "outputs": [],
   "source": [
    "def supprimer_toutes_balises_html(texte):\n",
    "    soup = BeautifulSoup(texte, 'html.parser')\n",
    "    for code_tag in soup.find_all('code'):\n",
    "        code_tag.decompose()\n",
    "    texte_sans_code = soup.get_text()\n",
    "    return texte_sans_code"
   ]
  },
  {
   "cell_type": "markdown",
   "metadata": {},
   "source": [
    "- Premier document avant traitement : "
   ]
  },
  {
   "cell_type": "code",
   "execution_count": 16,
   "metadata": {},
   "outputs": [
    {
     "data": {
      "text/plain": [
       "'Lexer rule to handle escape of quote with quote or backslash in ANTLR4? <p>I\\'m trying to expand the answer to <a href=\"https://stackoverflow.com/questions/29800106/how-do-i-escape-an-escape-character-with-antlr-4\">How do I escape an escape character with ANTLR 4?</a> to work when the &quot; can be escaped both with &quot; and \\\\. I.e. both</p>\\n<pre><code>&quot;Rob &quot;&quot;Commander Taco&quot;&quot; Malda is smart.&quot;\\n</code></pre>\\n<p>and</p>\\n<pre><code>&quot;Rob \\\\&quot;Commander Taco\\\\&quot; Malda is smart.&quot;\\n</code></pre>\\n<p>are both valid and equivalent. I\\'ve tried</p>\\n<pre><code>StringLiteral : \\'&quot;\\' (\\'&quot;&quot;\\'|\\'\\\\\\\\&quot;\\'|~[&quot;])* \\'&quot;\\';\\n</code></pre>\\n<p>but if fails to match</p>\\n<pre><code>&quot;Entry Flag for Offset check and for \\\\&quot;don\\'t start Chiller Water Pump Request\\\\&quot;&quot;\\n</code></pre>\\n<p>with the tokenizer consuming more characters than intended, i.e. consumes beyond \\\\&quot;&quot;</p>\\n<p>Anyone who knows how to define the lexer rule?</p>\\n<hr />\\n<p>A bit more detail...</p>\\n<ul>\\n<li><code>&quot;&quot;</code> succeeds</li>\\n<li><code>&quot;&quot;&quot;&quot;</code> succeeds</li>\\n<li><code>\\\\&quot; &quot;</code> succeeds</li>\\n<li><code>&quot;\\\\&quot;&quot;</code> succeeds (at EOF)</li>\\n<li><code>&quot;\\\\&quot;&quot;\\\\n&quot;&quot;</code> fails (it greedily pulls in the <code>\\\\n</code> and <code>&quot;</code></li>\\n</ul>\\n<p>Example: (text.txt)</p>\\n<pre><code>&quot;&quot;\\n&quot;&quot;&quot;&quot;\\n&quot;\\\\&quot; &quot;\\n&quot;\\\\&quot;&quot;\\n&quot;&quot;\\n</code></pre>\\n<pre><code>grun test tokens -tokens &lt; test.txt\\n</code></pre>\\n<pre><code>line 5:1 token recognition error at: \\'&quot;\\'\\n[@0,0:1=\\'&quot;&quot;\\',&lt;StringLiteral&gt;,1:0]\\n[@1,2:2=\\'\\\\n\\',&lt;\\'\\n\\'&gt;,1:2]\\n[@2,3:6=\\'&quot;&quot;&quot;&quot;\\',&lt;StringLiteral&gt;,2:0]\\n[@3,7:7=\\'\\\\n\\',&lt;\\'\\n\\'&gt;,2:4]\\n[@4,8:12=\\'&quot;\\\\&quot; &quot;\\',&lt;StringLiteral&gt;,3:0]\\n[@5,13:13=\\'\\\\n\\',&lt;\\'\\n\\'&gt;,3:5]\\n[@6,14:19=\\'&quot;\\\\&quot;&quot;\\\\n&quot;\\',&lt;StringLiteral&gt;,4:0]\\n[@7,21:20=\\'&lt;EOF&gt;\\',&lt;EOF&gt;,5:2]\\n</code></pre>\\n<p><code>\\\\&quot;&quot;</code> and <code>&quot;&quot;&quot;</code> at the end of a StringListeral are not being handled the same.</p>\\n<p>Here\\'s the ATN for that rule:</p>\\n<p><a href=\"https://i.stack.imgur.com/Ozi27.png\" rel=\"nofollow noreferrer\"><img src=\"https://i.stack.imgur.com/Ozi27.png\" alt=\"enter image description here\" /></a></p>\\n<p>From this diagram it\\'s not clear why they should be handled differently.  They appear to be parallel constructs.</p>\\n<hr />\\n<h2>More research</h2>\\n<p>Test Grammar (small change to simplify ATN):</p>\\n<pre><code>grammar test\\n    ;\\n\\nstart: StringLiteral (WS? StringLiteral)+;\\n\\nStringLiteral: \\'&quot;\\' ( ((\\'\\\\\\\\\\' | \\'&quot;\\') \\'&quot;\\') | ~[&quot;])* \\'&quot;\\';\\nWS:            [ \\\\t\\\\n\\\\r]+;\\n</code></pre>\\n<p>The ATN for StringLiteral in this grammar:</p>\\n<p><a href=\"https://i.stack.imgur.com/mL9lX.png\" rel=\"nofollow noreferrer\"><img src=\"https://i.stack.imgur.com/mL9lX.png\" alt=\"ATN for Stringliteral\" /></a></p>\\n<p>OK, let\\'s walk through this ATN with the input <code>&quot;\\\\&quot;&quot;\\\\n&quot;</code></p>\\n<div class=\"s-table-container\">\\n<table class=\"s-table\">\\n<thead>\\n<tr>\\n<th style=\"text-align: left;\">unconsumed input</th>\\n<th>transition</th>\\n</tr>\\n</thead>\\n<tbody>\\n<tr>\\n<td style=\"text-align: left;\">&quot;\\\\&quot;&quot;\\\\n&quot;</td>\\n<td>1 -ε-&gt; 5</td>\\n</tr>\\n<tr>\\n<td style=\"text-align: left;\">&quot;\\\\&quot;&quot;\\\\n&quot;</td>\\n<td>5 -&quot;-&gt; 11</td>\\n</tr>\\n<tr>\\n<td style=\"text-align: left;\">\\\\&quot;&quot;\\\\n&quot;</td>\\n<td>11 -ε-&gt; 9</td>\\n</tr>\\n<tr>\\n<td style=\"text-align: left;\">\\\\&quot;&quot;\\\\n&quot;</td>\\n<td>9 -ε-&gt; 6</td>\\n</tr>\\n<tr>\\n<td style=\"text-align: left;\">\\\\&quot;&quot;\\\\n&quot;</td>\\n<td>6 -\\\\-&gt; 7</td>\\n</tr>\\n<tr>\\n<td style=\"text-align: left;\">&quot;&quot;\\\\n&quot;</td>\\n<td>7 -&quot;-&gt; 10</td>\\n</tr>\\n<tr>\\n<td style=\"text-align: left;\">&quot;\\\\n&quot;</td>\\n<td>10 -ε-&gt; 13</td>\\n</tr>\\n<tr>\\n<td style=\"text-align: left;\">&quot;\\\\n&quot;</td>\\n<td>13 -ε-&gt; 11</td>\\n</tr>\\n<tr>\\n<td style=\"text-align: left;\">&quot;\\\\n&quot;</td>\\n<td>11 -ε-&gt; 12</td>\\n</tr>\\n<tr>\\n<td style=\"text-align: left;\">&quot;\\\\n&quot;</td>\\n<td>12 -ε-&gt; 14</td>\\n</tr>\\n<tr>\\n<td style=\"text-align: left;\">&quot;\\\\n&quot;</td>\\n<td>14 -&quot;-&gt; 15</td>\\n</tr>\\n<tr>\\n<td style=\"text-align: left;\">\\\\n&quot;</td>\\n<td>15 -ε-&gt; 2</td>\\n</tr>\\n</tbody>\\n</table>\\n</div>\\n<p>We should reach State <code>2</code> with the <code>&quot;</code> before the <code>\\\\n</code>, which would be the desired behavior.</p>\\n<p>Instead, we see it continue on to consume the <code>\\\\n</code> and the next <code>&quot;</code></p>\\n<pre><code>line 2:1 token recognition error at: \\'&quot;\\'\\n[@0,0:5=\\'&quot;\\\\&quot;&quot;\\\\n&quot;\\',&lt;StringLiteral&gt;,1:0]\\n[@1,7:6=\\'&lt;EOF&gt;\\',&lt;EOF&gt;,2:2]\\n</code></pre>\\n<p>In order for this to be valid, there must be a path from state 11 to state 2 that consumes a <code>\\\\n</code> and a <code>&quot;</code> (and I\\'m not seeing it)</p>\\n<p>Maybe I\\'m missing something, but it\\'s looking more and more like a bug to me.</p>\\n'"
      ]
     },
     "metadata": {},
     "output_type": "display_data"
    },
    {
     "name": "stdout",
     "output_type": "stream",
     "text": [
      "Longueur : 4983 caractères.\n"
     ]
    }
   ],
   "source": [
    "display(data['corpus'][0])\n",
    "print(f\"Longueur : {len(data['corpus'][0])} caractères.\")"
   ]
  },
  {
   "cell_type": "markdown",
   "metadata": {},
   "source": [
    "- Traitement du corpus : "
   ]
  },
  {
   "cell_type": "code",
   "execution_count": 17,
   "metadata": {},
   "outputs": [
    {
     "name": "stdout",
     "output_type": "stream",
     "text": [
      "Durée du traitement : 37.08 s\n"
     ]
    }
   ],
   "source": [
    "debut = time.time()  # Heure de début du traitement\n",
    "\n",
    "data['corpus'] = data['corpus'].apply(lambda x: supprimer_toutes_balises_html(x))\n",
    "\n",
    "print(f\"Durée du traitement : {(time.time() - debut):.2f} s\")"
   ]
  },
  {
   "cell_type": "markdown",
   "metadata": {},
   "source": [
    "- Premier document après traitement : "
   ]
  },
  {
   "cell_type": "code",
   "execution_count": 18,
   "metadata": {},
   "outputs": [
    {
     "data": {
      "text/plain": [
       "'Lexer rule to handle escape of quote with quote or backslash in ANTLR4? I\\'m trying to expand the answer to How do I escape an escape character with ANTLR 4? to work when the \" can be escaped both with \" and \\\\. I.e. both\\n\\nand\\n\\nare both valid and equivalent. I\\'ve tried\\n\\nbut if fails to match\\n\\nwith the tokenizer consuming more characters than intended, i.e. consumes beyond \\\\\"\"\\nAnyone who knows how to define the lexer rule?\\n\\nA bit more detail...\\n\\n succeeds\\n succeeds\\n succeeds\\n succeeds (at EOF)\\n fails (it greedily pulls in the  and \\n\\nExample: (text.txt)\\n\\n\\n\\n and  at the end of a StringListeral are not being handled the same.\\nHere\\'s the ATN for that rule:\\n\\nFrom this diagram it\\'s not clear why they should be handled differently.  They appear to be parallel constructs.\\n\\nMore research\\nTest Grammar (small change to simplify ATN):\\n\\nThe ATN for StringLiteral in this grammar:\\n\\nOK, let\\'s walk through this ATN with the input \\n\\n\\n\\n\\nunconsumed input\\ntransition\\n\\n\\n\\n\\n\"\\\\\"\"\\\\n\"\\n1 -ε-> 5\\n\\n\\n\"\\\\\"\"\\\\n\"\\n5 -\"-> 11\\n\\n\\n\\\\\"\"\\\\n\"\\n11 -ε-> 9\\n\\n\\n\\\\\"\"\\\\n\"\\n9 -ε-> 6\\n\\n\\n\\\\\"\"\\\\n\"\\n6 -\\\\-> 7\\n\\n\\n\"\"\\\\n\"\\n7 -\"-> 10\\n\\n\\n\"\\\\n\"\\n10 -ε-> 13\\n\\n\\n\"\\\\n\"\\n13 -ε-> 11\\n\\n\\n\"\\\\n\"\\n11 -ε-> 12\\n\\n\\n\"\\\\n\"\\n12 -ε-> 14\\n\\n\\n\"\\\\n\"\\n14 -\"-> 15\\n\\n\\n\\\\n\"\\n15 -ε-> 2\\n\\n\\n\\n\\nWe should reach State  with the  before the , which would be the desired behavior.\\nInstead, we see it continue on to consume the  and the next \\n\\nIn order for this to be valid, there must be a path from state 11 to state 2 that consumes a  and a  (and I\\'m not seeing it)\\nMaybe I\\'m missing something, but it\\'s looking more and more like a bug to me.\\n'"
      ]
     },
     "metadata": {},
     "output_type": "display_data"
    },
    {
     "name": "stdout",
     "output_type": "stream",
     "text": [
      "Longueur : 1529 caractères.\n"
     ]
    }
   ],
   "source": [
    "display(data['corpus'][0])\n",
    "print(f\"Longueur : {len(data['corpus'][0])} caractères.\")"
   ]
  },
  {
   "cell_type": "markdown",
   "metadata": {},
   "source": [
    "## **Exploration des données**"
   ]
  },
  {
   "cell_type": "markdown",
   "metadata": {},
   "source": [
    "- Paramètres graphiques : "
   ]
  },
  {
   "cell_type": "code",
   "execution_count": 19,
   "metadata": {},
   "outputs": [],
   "source": [
    "# Boîtes à moustaches : \n",
    "\n",
    "param_box_plot = {\n",
    "    'boxprops': dict(\n",
    "        linestyle='-',\n",
    "        linewidth=1,\n",
    "        color='black',\n",
    "        facecolor='#8181FF',\n",
    "    ),\n",
    "\n",
    "    'flierprops': dict(\n",
    "        color='#8181FF',\n",
    "        markeredgecolor='black',\n",
    "        markeredgewidth=0.5,\n",
    "        markerfacecolor='#8181FF',\n",
    "        markersize=15,\n",
    "        marker='.',\n",
    "        alpha=0.1,\n",
    "    ),\n",
    "    'medianprops': dict(\n",
    "        linestyle='-',\n",
    "        linewidth=2,\n",
    "        color='#ED3B23',\n",
    "    ),\n",
    "    'meanprops': dict(\n",
    "        marker='o',\n",
    "        markeredgecolor='black',\n",
    "        markeredgewidth=1,\n",
    "        markerfacecolor='#ED3B23',\n",
    "        markersize=10,\n",
    "    ),\n",
    "}\n",
    "\n",
    "# Displots : \n",
    "\n",
    "param_displot = {\n",
    "    'height': 10,\n",
    "    'aspect': 1.2,\n",
    "    'color': '#8181FF',\n",
    "    'edgecolor': 'black',\n",
    "}"
   ]
  },
  {
   "cell_type": "markdown",
   "metadata": {},
   "source": [
    "- Longueur des questions : "
   ]
  },
  {
   "cell_type": "code",
   "execution_count": 20,
   "metadata": {},
   "outputs": [
    {
     "data": {
      "image/png": "[encoded data removed]",
      "text/plain": [
       "<Figure size 1500x1000 with 1 Axes>"
      ]
     },
     "metadata": {},
     "output_type": "display_data"
    },
    {
     "data": {
      "image/png": "[encoded data removed]",
      "text/plain": [
       "<Figure size 1200x1000 with 1 Axes>"
      ]
     },
     "metadata": {},
     "output_type": "display_data"
    }
   ],
   "source": [
    "# Taille des documents : \n",
    "\n",
    "tmp = data.corpus.str.len()\n",
    "\n",
    "# Boîte à moustaches :\n",
    "\n",
    "plt.figure(figsize=(15, 10))\n",
    "sns.boxplot(tmp,\n",
    "            orient='h',\n",
    "            showfliers=False,\n",
    "            showmeans=True,\n",
    "            **param_box_plot\n",
    "    )\n",
    "plt.yticks([])\n",
    "plt.xticks(fontsize=15)\n",
    "plt.title(\"\\nTailles des documents (caractères)\\n\", fontsize=25)\n",
    "plt.show()\n",
    "\n",
    "# Displot : \n",
    "\n",
    "x_max = 10000\n",
    "sns.displot(tmp,\n",
    "            binwidth=100,\n",
    "            linewidth=0.5,\n",
    "            **param_displot\n",
    "    ).set(xlim=(0, x_max))\n",
    "plt.yticks(fontsize=15)\n",
    "plt.ylabel(\"\\nNombre de documents\\n\", fontsize=25)\n",
    "plt.xticks(fontsize=15)\n",
    "plt.xlabel(\"\\nNombre de caractères\\n\", fontsize=25)\n",
    "plt.title(f\"\\nTailles des documents\\n(masqués au delà de {x_max} caractères)\\n\", fontsize=25)\n",
    "plt.show()"
   ]
  },
  {
   "cell_type": "code",
   "execution_count": 21,
   "metadata": {},
   "outputs": [
    {
     "data": {
      "image/png": "[encoded data removed]",
      "text/plain": [
       "<Figure size 1500x1000 with 1 Axes>"
      ]
     },
     "metadata": {},
     "output_type": "display_data"
    },
    {
     "data": {
      "image/png": "[encoded data removed]",
      "text/plain": [
       "<Figure size 1200x1000 with 1 Axes>"
      ]
     },
     "metadata": {},
     "output_type": "display_data"
    }
   ],
   "source": [
    "# Nombre de tags : \n",
    "tmp = data.tags.str.len()\n",
    "\n",
    "# Boîte à moustaches :\n",
    "\n",
    "plt.figure(figsize=(15, 10))\n",
    "sns.boxplot(tmp,\n",
    "            orient='h',\n",
    "            showfliers=False,\n",
    "            showmeans=True,\n",
    "            **param_box_plot\n",
    "    )\n",
    "plt.yticks([])\n",
    "plt.xticks(fontsize=15)\n",
    "plt.title(\"\\nNombre de tags associés aux documents\\n\", fontsize=25)\n",
    "plt.show()\n",
    "\n",
    "# Displot : \n",
    "\n",
    "sns.displot(tmp,\n",
    "            binwidth=1,\n",
    "            binrange=(0.5, 5.5),\n",
    "            linewidth=1,\n",
    "            **param_displot\n",
    "    ).set(xlim=(0.4, 5.6))\n",
    "plt.yticks(fontsize=15)\n",
    "plt.ylabel(\"\\nNombre de documents\\n\", fontsize=25)\n",
    "plt.xticks(np.arange(min(tmp), max(tmp) + 1, step=1), fontsize=15)\n",
    "plt.xlabel(\"\\nNombre de tags\\n\", fontsize=25)\n",
    "plt.title(f\"\\nNombre de tags associés aux documents\\n\", fontsize=25)\n",
    "plt.show()"
   ]
  },
  {
   "cell_type": "code",
   "execution_count": 22,
   "metadata": {},
   "outputs": [],
   "source": [
    "# création de 2 nouvelles variables pour l'exploration\n",
    "\n",
    "data['question_lenth'] = data.corpus.str.len()\n",
    "data['tags_number'] = data.tags.str.len()"
   ]
  },
  {
   "cell_type": "code",
   "execution_count": 23,
   "metadata": {},
   "outputs": [
    {
     "data": {
      "text/plain": [
       "<Axes: >"
      ]
     },
     "execution_count": 23,
     "metadata": {},
     "output_type": "execute_result"
    },
    {
     "data": {
      "image/png": "[encoded data removed]",
      "text/plain": [
       "<Figure size 640x480 with 2 Axes>"
      ]
     },
     "metadata": {},
     "output_type": "display_data"
    }
   ],
   "source": [
    "# corrélations entre les variables numériques\n",
    "\n",
    "corr = data.corr(numeric_only=True)\n",
    "sns.heatmap(corr, vmin=-1, vmax=1, cmap=\"coolwarm\", annot=True, fmt=\".2f\", square=True)"
   ]
  },
  {
   "cell_type": "code",
   "execution_count": 24,
   "metadata": {},
   "outputs": [],
   "source": [
    "# sns.pairplot(data)"
   ]
  },
  {
   "cell_type": "code",
   "execution_count": 25,
   "metadata": {},
   "outputs": [
    {
     "data": {
      "text/plain": [
       "<seaborn.axisgrid.PairGrid at 0x28757a88be0>"
      ]
     },
     "execution_count": 25,
     "metadata": {},
     "output_type": "execute_result"
    },
    {
     "data": {
      "image/png": "[encoded data removed]",
      "text/plain": [
       "<Figure size 1102.36x1000 with 2 Axes>"
      ]
     },
     "metadata": {},
     "output_type": "display_data"
    }
   ],
   "source": [
    "sns.pairplot(data[['question_lenth', 'tags_number']], hue=\"tags_number\", height=10)"
   ]
  },
  {
   "cell_type": "code",
   "execution_count": 26,
   "metadata": {},
   "outputs": [
    {
     "name": "stdout",
     "output_type": "stream",
     "text": [
      "Tags : ['tailwind-css']\n",
      "How to customize max-width of Tailwind Typography plugin I tried this, but it doesn't work:\n",
      "\n",
      "This is the complete tailwind.config.cjs\n",
      "\n",
      "...\n",
      "\n",
      "Tags : ['r', 'data.table', 'outer-join']\n",
      "Obtain one to one matches from many-to-many linkages, using data.table R I am trying to link two sets of anonymous ID (ID1 and ID3), via a lookup to another ID (ID2). I want to keep only one-to-one matches between ID1 and ID3, but this is tricky as there are many-to-many matches between each ID.\n",
      "\n",
      "I have tried joining the tables. This is successful in getting rid of cases where ID2 only occurs in one of the tables.\n",
      "\n",
      "However, it still contains cases where ID1 is linking to multiple ID3 values, and vice versa.\n",
      "I want to end up with a table like this:\n",
      "\n",
      "Ideally I would like to do this using  in R.\n",
      "...\n",
      "\n",
      "Tags : ['javascript', 'typescript', 'enums']\n",
      "Index an enum object with case-insensitive key in TypeScript Although not necessary, enum keys are usually declared all in CAPS. However, the enum value can be different from the key itself.\n",
      "\n",
      "If I were to use an external string value matching my enum value to index my enum, It will not work as the key is not the same as the value:\n",
      "\n",
      "I want to use the enum value as a way to index the enum. Am I forced to always match identically the enum value and enum key to be able to index the enum dynamically, or do I have to use some string value manipulation to ensure the key matches the value?\n",
      "...\n",
      "\n",
      "Tags : ['flutter', 'async-await']\n",
      "Problem with BuildContext within an async block in Flutter In my Log in Screen, I encounter a problem due to BuildContext within an async block.\n",
      "When user wlick on \"Log in\" button (Se connecter in French) : I start an async procedure (check connectivity, check if user credentials are ok...) but I also open \"dialog boxes\" to display loading indicator, or a sort of a popup (My alert info) to tell user if there was a problem.\n",
      "I get indication that I shouldn't use \"context\" when inside an async clock.\n",
      "\n",
      "How could I review the code to prevent this problem ?\n",
      "Thanks for your help :)\n",
      "...\n",
      "\n",
      "Tags : ['r', 'dplyr']\n",
      "Rolling Window Slider R I am trying to average weather data using slider functions. I essentially want to bin by 10 day increments. So days 1 to 10, 11 to 20, 21 to 30. Here are some example data:\n",
      "\n",
      "I am using the following code, which I must not be using correctly.\n",
      "\n",
      "My thought process was that it would calculate the mean of the 10 rows after a step of 10 and a step of 20. Can someone point me in the right direction? I am looking the averages from days 1 to 10, 11 to 20 and 21 to 30 after the specified date.\n",
      "EDIT - Added image example:\n",
      "\n",
      "...\n",
      "\n"
     ]
    }
   ],
   "source": [
    "for idx, ser in data.sample(5).iterrows():\n",
    "    txt_1 = f\"Tags : {ser['tags']}\\n\"\n",
    "    print(txt_1 + ser['corpus']+ \"...\" + \"\\n\")"
   ]
  },
  {
   "cell_type": "markdown",
   "metadata": {},
   "source": [
    "# explo faire gaphique avec creationdate"
   ]
  },
  {
   "cell_type": "markdown",
   "metadata": {},
   "source": [
    "## **Text processing**"
   ]
  },
  {
   "cell_type": "markdown",
   "metadata": {},
   "source": [
    "### **Commençons par analyser le corpus dans sa globalité**"
   ]
  },
  {
   "cell_type": "markdown",
   "metadata": {},
   "source": [
    "- Fonctions de base : "
   ]
  },
  {
   "cell_type": "code",
   "execution_count": 27,
   "metadata": {},
   "outputs": [],
   "source": [
    "def display_tokens_infos(tokens):\n",
    "    \"\"\"Infos de base d'un corpus\"\"\"\n",
    "\n",
    "    print(f\"Nombre de tokens : {len(tokens)}\\nNombre de tokens uniques : {len(set(tokens))}\")\n",
    "    print(f\"10 premiers tokens : {tokens[:10]}\")"
   ]
  },
  {
   "cell_type": "code",
   "execution_count": 28,
   "metadata": {},
   "outputs": [],
   "source": [
    "def basic_cleaning(doc, suppr_doublons=False):\n",
    "    \"\"\"Cleaning de base\n",
    "    \n",
    "    suppr_doublons : va supprimer les tokens en double dans chaque documents (par défaut : False)\n",
    "    \"\"\"\n",
    "\n",
    "    # Passage en minuscule\n",
    "    doc = doc.lower().strip()  # .strip() enlève le/les caractère(s) définis à gauche et à droite (espace par défaut)\n",
    "\n",
    "    # Tokenisation avec NLTK\n",
    "    tokenizer = RegexpTokenizer(r\"\\w+\")\n",
    "    raw_tokens_list = tokenizer.tokenize(doc)\n",
    "\n",
    "    # Suppression des stop words\n",
    "    cleaned_tokens_list = [w for w in raw_tokens_list if w not in stop_words]\n",
    "\n",
    "    # Suppression des caractères numériques\n",
    "    alpha_tokens = [w for w in cleaned_tokens_list if w.isalpha()]\n",
    "\n",
    "    if suppr_doublons:\n",
    "        final = list(set(alpha_tokens))\n",
    "    else:\n",
    "        final = alpha_tokens\n",
    "   \n",
    "    return final"
   ]
  },
  {
   "cell_type": "markdown",
   "metadata": {},
   "source": [
    "- Définition des stopwords que l'on va utiliser : "
   ]
  },
  {
   "cell_type": "code",
   "execution_count": 29,
   "metadata": {},
   "outputs": [],
   "source": [
    "stop_words = set(stopwords.words('english'))"
   ]
  },
  {
   "cell_type": "markdown",
   "metadata": {},
   "source": [
    "- Traitement préliminaire : suppression des occurences locales.\n",
    "\n",
    "<div class=\"alert alert-info\">\n",
    "Avant de créer un corpus global avec tous les documents, il est important de réaliser une étape préliminaire : tokeniser chaque document et supprimer les doublons dans ces derniers. De cette manière, au moment de déterminer la liste des mots rares (apparaissant moins d'un certain nombre de fois dans tout le corpus), nous ne seront plus biaisés par les occurences locales. Ces occurences locales peuvent être importantes, par exemple avec des noms de variables spécifiques à un code présent dans un seul document.\n",
    "</div>"
   ]
  },
  {
   "cell_type": "code",
   "execution_count": 30,
   "metadata": {},
   "outputs": [],
   "source": [
    "data['preprocessed_corpus'] = data.corpus.apply(basic_cleaning, suppr_doublons=True)"
   ]
  },
  {
   "cell_type": "markdown",
   "metadata": {},
   "source": [
    "- Création d'un corpus global en fusionnant toutes les données de la colonne ```data['preprocessed_corpus']``` : "
   ]
  },
  {
   "cell_type": "code",
   "execution_count": 31,
   "metadata": {},
   "outputs": [],
   "source": [
    "corpus = [item for sublist in data['preprocessed_corpus'] for item in sublist]"
   ]
  },
  {
   "cell_type": "code",
   "execution_count": 32,
   "metadata": {},
   "outputs": [
    {
     "name": "stdout",
     "output_type": "stream",
     "text": [
      "Nombre de tokens : 2092424\n",
      "Nombre de tokens uniques : 59353\n",
      "10 premiers tokens : ['consume', 'n', 'pulls', 'atn', 'succeeds', 'unconsumed', 'quote', 'tokenizer', 'change', 'stringlisteral']\n"
     ]
    }
   ],
   "source": [
    "display_tokens_infos(corpus)"
   ]
  },
  {
   "cell_type": "markdown",
   "metadata": {},
   "source": [
    "- Fréquence des tokens : "
   ]
  },
  {
   "cell_type": "code",
   "execution_count": 33,
   "metadata": {},
   "outputs": [
    {
     "name": "stdout",
     "output_type": "stream",
     "text": [
      "Tokens les plus fréquents : \n"
     ]
    },
    {
     "data": {
      "text/plain": [
       "using        18772\n",
       "like         17784\n",
       "code         17313\n",
       "get          13649\n",
       "want         13423\n",
       "use          13247\n",
       "would        11732\n",
       "error        11583\n",
       "way          11263\n",
       "following    11071\n",
       "dtype: int64"
      ]
     },
     "metadata": {},
     "output_type": "display_data"
    },
    {
     "name": "stdout",
     "output_type": "stream",
     "text": [
      "Tokens les moins fréquents : \n"
     ]
    },
    {
     "data": {
      "text/plain": [
       "onbind           1\n",
       "emaillogin       1\n",
       "futureor         1\n",
       "emailpassword    1\n",
       "emailsettings    1\n",
       "resumedata       1\n",
       "frederikhors     1\n",
       "analyis          1\n",
       "loopify          1\n",
       "ioption          1\n",
       "dtype: int64"
      ]
     },
     "metadata": {},
     "output_type": "display_data"
    },
    {
     "name": "stdout",
     "output_type": "stream",
     "text": [
      "Distribution des présences des tokens : \n"
     ]
    },
    {
     "data": {
      "text/plain": [
       "count    59353.000000\n",
       "mean        35.253888\n",
       "std        308.646718\n",
       "min          1.000000\n",
       "25%          1.000000\n",
       "50%          1.000000\n",
       "75%          3.000000\n",
       "max      18772.000000\n",
       "dtype: float64"
      ]
     },
     "metadata": {},
     "output_type": "display_data"
    }
   ],
   "source": [
    "# On fait le compte des différents tokens\n",
    "tmp = pd.Series(corpus).value_counts()\n",
    "\n",
    "print(\"Tokens les plus fréquents : \")\n",
    "display(tmp.head(10))\n",
    "\n",
    "print(\"Tokens les moins fréquents : \")\n",
    "display(tmp.tail(10))\n",
    "\n",
    "print(\"Distribution des présences des tokens : \")\n",
    "display(tmp.describe())\n"
   ]
  },
  {
   "cell_type": "markdown",
   "metadata": {},
   "source": [
    "La distribution est très asymétrique : 50% des tokens sont présents 1 seule fois."
   ]
  },
  {
   "cell_type": "code",
   "execution_count": 34,
   "metadata": {},
   "outputs": [
    {
     "data": {
      "image/png": "[encoded data removed]",
      "text/plain": [
       "<Figure size 1500x1000 with 1 Axes>"
      ]
     },
     "metadata": {},
     "output_type": "display_data"
    }
   ],
   "source": [
    "plt.figure(figsize=(15, 10))\n",
    "sns.boxplot(tmp, orient='h', showfliers=False, showmeans=False, **param_box_plot);\n"
   ]
  },
  {
   "cell_type": "markdown",
   "metadata": {},
   "source": [
    "- Mots rares : <br>\n",
    "\n",
    "Pour un mot unique, il y a de grandes chances soit qu'il soit éliminé lors de méthodes de réduction de dimentionnalité, soit qu'il ne puisse pas être utilisé comme dimention.<br>\n",
    "Et pour accélérer nos calculs futurs, on a tout intérêt à diminuer la liste de tokens de notre corpus, et donc à supprimer les tokens présents une seule fois."
   ]
  },
  {
   "cell_type": "code",
   "execution_count": 35,
   "metadata": {},
   "outputs": [
    {
     "name": "stdout",
     "output_type": "stream",
     "text": [
      "Nombre de mots rares : 35530\n",
      "Exemples de mots rares : ['cachekey', 'turner', 'rectnaglef', 'includif', 'assetstore', 'esprima', 'rectanglef', 'yapf', 'stringtrimming', 'reconstatus']\n"
     ]
    }
   ],
   "source": [
    "list_unique_words = tmp[tmp==1]\n",
    "list_unique_words = list(list_unique_words.index)  # .index = pour ne récupérer que les mots\n",
    "print(f\"Nombre de mots rares : {len(list_unique_words)}\")\n",
    "print(f\"Exemples de mots rares : {list_unique_words[:10]}\")"
   ]
  },
  {
   "cell_type": "markdown",
   "metadata": {},
   "source": [
    "- Mots présents 5 fois ou moins : \n",
    "\n",
    "On peut faire de même avec les mots présents 5 fois ou moins."
   ]
  },
  {
   "cell_type": "code",
   "execution_count": 36,
   "metadata": {},
   "outputs": [
    {
     "name": "stdout",
     "output_type": "stream",
     "text": [
      "Nombre de mots présents 5 fois ou moins : 47646\n",
      "Exemples de mots : ['arcs', 'unsuitable', 'timeit', 'nonstandard', 'shine', 'chroma', 'pinvoke', 'undetected', 'marshalled', 'panes']\n"
     ]
    }
   ],
   "source": [
    "list_min_5_words = tmp[tmp<=5]\n",
    "list_min_5_words = list(list_min_5_words.index)  # .index = pour ne récupérer que les mots\n",
    "print(f\"Nombre de mots présents 5 fois ou moins : {len(list_min_5_words)}\")\n",
    "print(f\"Exemples de mots : {list_min_5_words[:10]}\")"
   ]
  },
  {
   "cell_type": "markdown",
   "metadata": {},
   "source": [
    "Il y en a deux fois plus que de mots uniques."
   ]
  },
  {
   "cell_type": "markdown",
   "metadata": {},
   "source": [
    "- Intérêt de traiter les mots présents 10 fois ou moins ?"
   ]
  },
  {
   "cell_type": "code",
   "execution_count": 37,
   "metadata": {},
   "outputs": [
    {
     "name": "stdout",
     "output_type": "stream",
     "text": [
      "Nombre de mots présents 10 fois ou moins : 50810\n"
     ]
    }
   ],
   "source": [
    "print(f\"Nombre de mots présents 10 fois ou moins : {len(tmp[tmp<=10])}\")"
   ]
  },
  {
   "cell_type": "markdown",
   "metadata": {},
   "source": [
    "La différence avec les mots présents 5 fois ou moins n'est pas très grande."
   ]
  },
  {
   "cell_type": "markdown",
   "metadata": {},
   "source": [
    "### **Lemmatisation : comparaison de NLTK et SpaCy**"
   ]
  },
  {
   "cell_type": "markdown",
   "metadata": {},
   "source": [
    "- Exemple de phrase à lemmatiser : "
   ]
  },
  {
   "cell_type": "code",
   "execution_count": 38,
   "metadata": {},
   "outputs": [],
   "source": [
    "phrase = \"These are sentences going to be translated\"\n",
    "tokenizer = RegexpTokenizer(r\"\\w+\")\n",
    "phrase_tokens = tokenizer.tokenize(phrase)"
   ]
  },
  {
   "cell_type": "markdown",
   "metadata": {},
   "source": [
    "- Lemmatisation avec NLTK : "
   ]
  },
  {
   "cell_type": "code",
   "execution_count": 39,
   "metadata": {},
   "outputs": [
    {
     "name": "stdout",
     "output_type": "stream",
     "text": [
      "Durée du traitement : 1.53 s\n",
      "Tokens après lemmatisation avec WordNet Lemmatizer (NLTK) : \n",
      "These are sentences going to be translated => ['These', 'are', 'sentence', 'going', 'to', 'be', 'translated']\n"
     ]
    }
   ],
   "source": [
    "# Instanciation\n",
    "wordNetLemmatizer = WordNetLemmatizer()\n",
    "\n",
    "debut = time.time()  # Heure de début du traitement\n",
    "lemmaWords1 = [wordNetLemmatizer.lemmatize(word) for word in phrase_tokens]\n",
    "print(f\"Durée du traitement : {(time.time() - debut):.2f} s\")\n",
    "\n",
    "print(f'Tokens après lemmatisation avec WordNet Lemmatizer (NLTK) : \\n{phrase} => {lemmaWords1}')"
   ]
  },
  {
   "cell_type": "markdown",
   "metadata": {},
   "source": [
    "- Lemmatisation avec SpaCy : "
   ]
  },
  {
   "cell_type": "code",
   "execution_count": 40,
   "metadata": {},
   "outputs": [
    {
     "name": "stdout",
     "output_type": "stream",
     "text": [
      "Durée du traitement : 0.01 s\n",
      "Tokens après lemmatisation avec SpaCy : \n",
      "These are sentences going to be translated => ['these', 'be', 'sentence', 'go', 'to', 'be', 'translate']\n"
     ]
    }
   ],
   "source": [
    "# Instanciation\n",
    "spacy_nlp = spacy.load('en_core_web_sm', disable = ['parser','ner'])  # 'parser' et 'ner' pas utiles pour le moment\n",
    "\n",
    "debut = time.time()  # Heure de début du traitement\n",
    "doc = spacy_nlp(phrase)\n",
    "print(f\"Durée du traitement : {(time.time() - debut):.2f} s\")\n",
    "\n",
    "lemmaWords2 = [word.lemma_ for word in doc]\n",
    "print(f'Tokens après lemmatisation avec SpaCy : \\n{phrase} => {lemmaWords2}')"
   ]
  },
  {
   "cell_type": "markdown",
   "metadata": {},
   "source": [
    "- Comparaison des deux résultats : "
   ]
  },
  {
   "cell_type": "code",
   "execution_count": 41,
   "metadata": {},
   "outputs": [
    {
     "name": "stdout",
     "output_type": "stream",
     "text": [
      "These are sentences going to be translated (Texte à lemmatiser)\n",
      "['These', 'are', 'sentence', 'going', 'to', 'be', 'translated'] (NLTK)\n",
      "['these', 'be', 'sentence', 'go', 'to', 'be', 'translate'] (SpaCy)\n"
     ]
    }
   ],
   "source": [
    "print(phrase, \"(Texte à lemmatiser)\")\n",
    "print(lemmaWords1, \"(NLTK)\")\n",
    "print(lemmaWords2, \"(SpaCy)\")"
   ]
  },
  {
   "cell_type": "markdown",
   "metadata": {},
   "source": [
    "NLTK a juste mis *sentences* au singulier, alors que SpaCy a en plus donné la racine des mots *are*, *going* et *translated*.<br>\n",
    "Le lemmatiseur de SpaCy semble plus efficace, c'est celui-ci que nous utiliserons."
   ]
  },
  {
   "cell_type": "markdown",
   "metadata": {},
   "source": [
    "### **Traitement des documents du corpus**\n",
    "\n",
    "Voici les traitements que nous allons appliquer aux documents de *```data['corpus']```* : <br>\n",
    "\n",
    "- Passer tous le texte en minuscule, afin de pouvoir regrouper les mots écrits avec des casses différentes.\n",
    "- Exclure les mots rares, ceux qui sont présents une seule fois dans tout le corpus.\n",
    "- Retrait des *Stop Words*, mots commun ayant peu d'intérêt dans le sens global des documents.\n",
    "- Suppression des mots courts. Les mots très courts ne sont généralement pas ceux qui apportent le plus de sens.\n",
    "- Suppression des données numériques. Elles ne nous intéressent pas ici.\n",
    "- Lemmatisation. Afin de réduire la taille du vocabulaire, nous allons regrouper les déclinaisons d'un même mot en sa racine.\n",
    "- POS (part-of-speech). Nous n'allons garder que les catégories de mots les plus pertinentes.\n",
    "\n",
    "\n"
   ]
  },
  {
   "cell_type": "markdown",
   "metadata": {},
   "source": [
    "- Création de la fonction de traitement des documents : "
   ]
  },
  {
   "cell_type": "code",
   "execution_count": 42,
   "metadata": {},
   "outputs": [],
   "source": [
    "def process_documents(doc,\n",
    "                   tokenizer=None,\n",
    "                   pos=None,\n",
    "                   lemmentizer=None,\n",
    "                   rejoin=False,\n",
    "                   stop_words=None,\n",
    "                   list_rare_words=None,\n",
    "                   min_len_word=3,\n",
    "                   alpha_only=True,\n",
    "                   extra_words=None,\n",
    "                   return_set=False\n",
    "                   ):\n",
    "    \n",
    "    \"\"\"\n",
    "    Cette fonction permet de tokéniser un texte et d'en réduire la dimension.\n",
    "    Elle est conçue pour fonctionner avec SpaCy\n",
    "\n",
    "    ------------------------------------\n",
    "\n",
    "    Arguments positionnels : \n",
    "\n",
    "    doc : le document (texte au format str) à traiter.\n",
    "\n",
    "    ------------------------------------\n",
    "\n",
    "    Arguments optionnels : \n",
    "\n",
    "    tokenizer (obj) : l'instance du tokenizer à utiliser (par défaut : None).\n",
    "    lemmentizer (obj) : l'instance du lemmentizer à utiliser (par défaut : None).\n",
    "    pos (liste) : liste contenant les catégories grammaticales de mot à conserver à l'étape de lemmatisation (par défaut : None).\n",
    "    rejoin (bool) : si True, retourne une unique chaine de caractère contenant les tokens séparés par un espace (par défaut : False).\n",
    "    stop_words (set) : liste des stop words à utiliser, privilégier un format en set pour des traitements plus rapides (par défaut : None).\n",
    "    list_rare_words (set) : liste de mots rares à retirer, privilégier un format en set pour des traitements plus rapides (par défaut : None).\n",
    "    min_len_word (int) : longueur des mots courts à supprimer, si None aucun mot supprimé (par défaut : 3).\n",
    "    alpha_only (bool) : utilisation de la méthode .isalpha() pour ne garder que les lettres (par défaur : True).\n",
    "    extra_words (set) : mots spécifiques supplémentaire à supprimer, privilégier un format en set pour des traitements plus rapides (par défaut : None).\n",
    "    return_set (bool) : retourner les résultats sous forme de set, pour supprimer les doublons dans les documents (Par défaut : False).\n",
    "\n",
    "    ------------------------------------\n",
    "\n",
    "    Renvoie :\n",
    "\n",
    "    Un string (si join est True) ou un set de tokens.\n",
    "\n",
    "    \"\"\"\n",
    "\n",
    "    # Passage du texte en minuscules\n",
    "    doc = doc.lower()\n",
    "\n",
    "    # Tokenisation du texte\n",
    "    if tokenizer:\n",
    "        raw_tokens_list = tokenizer.tokenize(doc)\n",
    "    else:\n",
    "        raw_tokens_list = doc\n",
    "\n",
    "    # S'il est choisi de retourner un set, alors nous pouvons dès maintenant\n",
    "    # supprimer les doublons, les traitements suivants seront plus rapides\n",
    "    if return_set:\n",
    "        raw_tokens_list = set(raw_tokens_list)\n",
    "\n",
    "    # Suppression des stopwords (si fournis)\n",
    "    if stop_words:\n",
    "        cleaned_tokens_list = [w for w in raw_tokens_list if w not in stop_words]\n",
    "    else:\n",
    "        cleaned_tokens_list = raw_tokens_list\n",
    "\n",
    "    # Suppression des mots rares (si fournis)\n",
    "    if list_rare_words:\n",
    "        non_rare_tokens = [w for w in cleaned_tokens_list if w not in list_rare_words]\n",
    "    else:\n",
    "        non_rare_tokens = cleaned_tokens_list\n",
    "\n",
    "    # Suppression des mots courts (si l'option est activée)\n",
    "    if not min_len_word:\n",
    "        more_than_N = non_rare_tokens\n",
    "    else:\n",
    "        more_than_N = [w for w in non_rare_tokens if len(w) >= min_len_word]\n",
    "\n",
    "    # Suppression des caractères numériques (si l'option est activée)\n",
    "    if alpha_only:\n",
    "        alpha_tokens = [w for w in more_than_N if w.isalpha()]  # isalpha() sert à retourner True s'il n'y a que des lettres, pas de chiffre\n",
    "    else:\n",
    "        alpha_tokens = more_than_N\n",
    "\n",
    "    # Lemmatisation\n",
    "    if lemmentizer:\n",
    "        ecrase = ' '.join(alpha_tokens)  # Il faut \"écraser\" la liste pour qu'elle puisse passer dans le lemmatizerde Spacy\n",
    "        doc = lemmentizer(ecrase)\n",
    "        if pos:\n",
    "            lemmatized = [word.lemma_ for word in doc if word.pos_ in pos]\n",
    "        else:\n",
    "            lemmatized = [word.lemma_ for word in doc]\n",
    "    else:\n",
    "        lemmatized = alpha_tokens\n",
    "\n",
    "    # S'il est choisi de retourner un set, alors nous pouvons dès maintenant\n",
    "    # supprimer les doublons, les traitements suivants seront plus rapides\n",
    "    if return_set:\n",
    "        lemmatized = set(lemmatized)\n",
    "\n",
    "    # Suppression des extra_words (si fournis)\n",
    "    if extra_words:\n",
    "        final = [w for w in lemmatized if w not in extra_words]\n",
    "    else:\n",
    "        final = lemmatized\n",
    "\n",
    "    # Forme des données retournées\n",
    "    if rejoin:\n",
    "        final = \" \".join(final) # retourne une unique chaine de caractère contenant les tokens séparés par un espace\n",
    "    \n",
    "    if return_set:\n",
    "        return set(final)\n",
    "    else:\n",
    "        return final"
   ]
  },
  {
   "cell_type": "markdown",
   "metadata": {},
   "source": [
    "Préparation des différent éléments nécéssaire aux traitement : <br>\n",
    "- Instanciation du Tokenizer, nous allons utiliser *RegexpTokenizer* de NLTK.\n",
    "- Instanciation du Lemmentiseur, nous allons utiliser celui de SpaCy.\n",
    "- Définition des mots rares, nous allons utiliser ceux apparaissant 5 fois ou moins dans tout le corpus.\n",
    "- Définition des catégories de mots à conserver, nous allons garder les noms."
   ]
  },
  {
   "cell_type": "code",
   "execution_count": 43,
   "metadata": {},
   "outputs": [],
   "source": [
    "# Instanciation du tokenizer\n",
    "tokenizer = RegexpTokenizer(r\"\\w+\")\n",
    "\n",
    "# Instanciation du lemmentizer, on désactive les composants dont on a pas besoin\n",
    "spacy_nlp = spacy.load('en_core_web_sm', disable = ['parser','ner'])\n",
    "\n",
    "# Convertion de la liste de mots rares en set, ce qui va considérablement réduire les temps de calculs\n",
    "mots_rares = set(list_min_5_words)\n",
    "\n",
    "# Catégories de mots à garder à l'étape de lemmatisation\n",
    "pos_a_garder = set([\n",
    "             #  \"ADJ\",  # \"adjective\"\n",
    "             #  \"ADP\",  # \"adposition\"\n",
    "             #  \"ADV\",  # \"adverb\"\n",
    "             #  \"AUX\",  # \"auxiliary\"\n",
    "             #  \"CONJ\",  # \"conjunction\"\n",
    "             #  \"CCONJ\",  # \"coordinating conjunction\"\n",
    "             #  \"DET\",  # \"determiner\"\n",
    "             #  \"INTJ\",  # \"interjection\"\n",
    "                \"NOUN\",  # \"noun\"\n",
    "             #  \"NUM\",  # \"numeral\"\n",
    "             #  \"PART\",  # \"particle\"\n",
    "             #  \"PRON\",  # \"pronoun\"\n",
    "             #  \"PROPN\",  # \"proper noun\"\n",
    "             #  \"PUNCT\",  # \"punctuation\"\n",
    "             #  \"SCONJ\",  # \"subordinating conjunction\"\n",
    "             #  \"SYM\",  # \"symbol\"\n",
    "             #  \"VERB\",  # \"verb\"\n",
    "             #  \"X\",  # \"other\"\n",
    "             #  \"EOL\",  # \"end of line\"\n",
    "             #  \"SPACE\",  # \"space\"\n",
    "])"
   ]
  },
  {
   "cell_type": "markdown",
   "metadata": {},
   "source": [
    "- Traitement du corpus : "
   ]
  },
  {
   "cell_type": "code",
   "execution_count": 44,
   "metadata": {},
   "outputs": [
    {
     "name": "stdout",
     "output_type": "stream",
     "text": [
      "Durée du traitement : 197.17 s\n"
     ]
    },
    {
     "data": {
      "text/html": [
       "<div>\n",
       "<style scoped>\n",
       "    .dataframe tbody tr th:only-of-type {\n",
       "        vertical-align: middle;\n",
       "    }\n",
       "\n",
       "    .dataframe tbody tr th {\n",
       "        vertical-align: top;\n",
       "    }\n",
       "\n",
       "    .dataframe thead th {\n",
       "        text-align: right;\n",
       "    }\n",
       "</style>\n",
       "<table border=\"1\" class=\"dataframe\">\n",
       "  <thead>\n",
       "    <tr style=\"text-align: right;\">\n",
       "      <th></th>\n",
       "      <th>creationdate</th>\n",
       "      <th>tags</th>\n",
       "      <th>reputation</th>\n",
       "      <th>corpus</th>\n",
       "      <th>question_lenth</th>\n",
       "      <th>tags_number</th>\n",
       "      <th>preprocessed_corpus</th>\n",
       "      <th>processed_corpus</th>\n",
       "    </tr>\n",
       "  </thead>\n",
       "  <tbody>\n",
       "    <tr>\n",
       "      <th>0</th>\n",
       "      <td>2022-05-08 20:40:40</td>\n",
       "      <td>[antlr4]</td>\n",
       "      <td>129</td>\n",
       "      <td>Lexer rule to handle escape of quote with quot...</td>\n",
       "      <td>1529</td>\n",
       "      <td>1</td>\n",
       "      <td>[consume, n, pulls, atn, succeeds, unconsumed,...</td>\n",
       "      <td>[rule, handle, backslash, expand, answer, esca...</td>\n",
       "    </tr>\n",
       "    <tr>\n",
       "      <th>1</th>\n",
       "      <td>2022-05-08 21:22:05</td>\n",
       "      <td>[reactjs, firebase, jestjs]</td>\n",
       "      <td>121</td>\n",
       "      <td>Firebase - Testing with Jest throws error \"INT...</td>\n",
       "      <td>476</td>\n",
       "      <td>3</td>\n",
       "      <td>[jest, use, fine, internal, write, works, foll...</td>\n",
       "      <td>[firebase, testing, jest, error, assertion, cl...</td>\n",
       "    </tr>\n",
       "    <tr>\n",
       "      <th>2</th>\n",
       "      <td>2022-05-08 21:49:08</td>\n",
       "      <td>[async-await, concurrency, hacklang]</td>\n",
       "      <td>307</td>\n",
       "      <td>Concurrent block in hacklang Since hack is a s...</td>\n",
       "      <td>194</td>\n",
       "      <td>3</td>\n",
       "      <td>[hacklang, block, using, threaded, understandi...</td>\n",
       "      <td>[block, hack, language, benefit, block, job, w...</td>\n",
       "    </tr>\n",
       "    <tr>\n",
       "      <th>3</th>\n",
       "      <td>2022-05-08 21:49:57</td>\n",
       "      <td>[typescript]</td>\n",
       "      <td>1436</td>\n",
       "      <td>Can you set a type for a function in typescrip...</td>\n",
       "      <td>747</td>\n",
       "      <td>1</td>\n",
       "      <td>[correct, like, say, case, give, required, err...</td>\n",
       "      <td>[type, function, typescript, function, type, i...</td>\n",
       "    </tr>\n",
       "    <tr>\n",
       "      <th>4</th>\n",
       "      <td>2022-05-08 21:51:00</td>\n",
       "      <td>[expo, google-play-console, google-play-develo...</td>\n",
       "      <td>4346</td>\n",
       "      <td>Expo EAS Submit, where to store service accoun...</td>\n",
       "      <td>553</td>\n",
       "      <td>3</td>\n",
       "      <td>[store, successfully, key, g, prompted, someho...</td>\n",
       "      <td>[store, service, account, looking, eas, expo, ...</td>\n",
       "    </tr>\n",
       "    <tr>\n",
       "      <th>...</th>\n",
       "      <td>...</td>\n",
       "      <td>...</td>\n",
       "      <td>...</td>\n",
       "      <td>...</td>\n",
       "      <td>...</td>\n",
       "      <td>...</td>\n",
       "      <td>...</td>\n",
       "      <td>...</td>\n",
       "    </tr>\n",
       "    <tr>\n",
       "      <th>49995</th>\n",
       "      <td>2022-03-21 09:01:04</td>\n",
       "      <td>[ionic-framework, ionic-react]</td>\n",
       "      <td>590</td>\n",
       "      <td>Ionic-React App Automatically Changing to Dark...</td>\n",
       "      <td>481</td>\n",
       "      <td>2</td>\n",
       "      <td>[started, clear, inconsistency, fine, first, i...</td>\n",
       "      <td>[app, mode, react, app, behaviour, building, a...</td>\n",
       "    </tr>\n",
       "    <tr>\n",
       "      <th>49996</th>\n",
       "      <td>2022-03-21 09:02:39</td>\n",
       "      <td>[stripe-payments]</td>\n",
       "      <td>125</td>\n",
       "      <td>is it possible to operate two service in the o...</td>\n",
       "      <td>307</td>\n",
       "      <td>1</td>\n",
       "      <td>[corp, legal, one, multiple, service, general,...</td>\n",
       "      <td>[service, stripe, account, service, service, d...</td>\n",
       "    </tr>\n",
       "    <tr>\n",
       "      <th>49997</th>\n",
       "      <td>2022-03-21 09:02:54</td>\n",
       "      <td>[terraform]</td>\n",
       "      <td>4200</td>\n",
       "      <td>Which security problem does terraform Checksum...</td>\n",
       "      <td>553</td>\n",
       "      <td>1</td>\n",
       "      <td>[expert, use, dependency, first, documentation...</td>\n",
       "      <td>[security, problem, terraform, dependency, loc...</td>\n",
       "    </tr>\n",
       "    <tr>\n",
       "      <th>49998</th>\n",
       "      <td>2022-03-21 13:54:21</td>\n",
       "      <td>[azure, azurite]</td>\n",
       "      <td>135</td>\n",
       "      <td>Visual studio 2022 with azurite integrated (v3...</td>\n",
       "      <td>1037</td>\n",
       "      <td>2</td>\n",
       "      <td>[api, headervalue, correct, azurite, higher, t...</td>\n",
       "      <td>[studio, creation, blob, container, error, mes...</td>\n",
       "    </tr>\n",
       "    <tr>\n",
       "      <th>49999</th>\n",
       "      <td>2022-03-21 13:56:22</td>\n",
       "      <td>[c#, .net-core, .net-6.0, aws-parameter-store]</td>\n",
       "      <td>1607</td>\n",
       "      <td>Use IOption pattern with Aws Parameter Store a...</td>\n",
       "      <td>576</td>\n",
       "      <td>4</td>\n",
       "      <td>[store, key, use, fine, like, pattern, develop...</td>\n",
       "      <td>[pattern, aw, parameter, store, array, appsett...</td>\n",
       "    </tr>\n",
       "  </tbody>\n",
       "</table>\n",
       "<p>49999 rows × 8 columns</p>\n",
       "</div>"
      ],
      "text/plain": [
       "             creationdate                                               tags  \\\n",
       "0     2022-05-08 20:40:40                                           [antlr4]   \n",
       "1     2022-05-08 21:22:05                        [reactjs, firebase, jestjs]   \n",
       "2     2022-05-08 21:49:08               [async-await, concurrency, hacklang]   \n",
       "3     2022-05-08 21:49:57                                       [typescript]   \n",
       "4     2022-05-08 21:51:00  [expo, google-play-console, google-play-develo...   \n",
       "...                   ...                                                ...   \n",
       "49995 2022-03-21 09:01:04                     [ionic-framework, ionic-react]   \n",
       "49996 2022-03-21 09:02:39                                  [stripe-payments]   \n",
       "49997 2022-03-21 09:02:54                                        [terraform]   \n",
       "49998 2022-03-21 13:54:21                                   [azure, azurite]   \n",
       "49999 2022-03-21 13:56:22     [c#, .net-core, .net-6.0, aws-parameter-store]   \n",
       "\n",
       "       reputation                                             corpus  \\\n",
       "0             129  Lexer rule to handle escape of quote with quot...   \n",
       "1             121  Firebase - Testing with Jest throws error \"INT...   \n",
       "2             307  Concurrent block in hacklang Since hack is a s...   \n",
       "3            1436  Can you set a type for a function in typescrip...   \n",
       "4            4346  Expo EAS Submit, where to store service accoun...   \n",
       "...           ...                                                ...   \n",
       "49995         590  Ionic-React App Automatically Changing to Dark...   \n",
       "49996         125  is it possible to operate two service in the o...   \n",
       "49997        4200  Which security problem does terraform Checksum...   \n",
       "49998         135  Visual studio 2022 with azurite integrated (v3...   \n",
       "49999        1607  Use IOption pattern with Aws Parameter Store a...   \n",
       "\n",
       "       question_lenth  tags_number  \\\n",
       "0                1529            1   \n",
       "1                 476            3   \n",
       "2                 194            3   \n",
       "3                 747            1   \n",
       "4                 553            3   \n",
       "...               ...          ...   \n",
       "49995             481            2   \n",
       "49996             307            1   \n",
       "49997             553            1   \n",
       "49998            1037            2   \n",
       "49999             576            4   \n",
       "\n",
       "                                     preprocessed_corpus  \\\n",
       "0      [consume, n, pulls, atn, succeeds, unconsumed,...   \n",
       "1      [jest, use, fine, internal, write, works, foll...   \n",
       "2      [hacklang, block, using, threaded, understandi...   \n",
       "3      [correct, like, say, case, give, required, err...   \n",
       "4      [store, successfully, key, g, prompted, someho...   \n",
       "...                                                  ...   \n",
       "49995  [started, clear, inconsistency, fine, first, i...   \n",
       "49996  [corp, legal, one, multiple, service, general,...   \n",
       "49997  [expert, use, dependency, first, documentation...   \n",
       "49998  [api, headervalue, correct, azurite, higher, t...   \n",
       "49999  [store, key, use, fine, like, pattern, develop...   \n",
       "\n",
       "                                        processed_corpus  \n",
       "0      [rule, handle, backslash, expand, answer, esca...  \n",
       "1      [firebase, testing, jest, error, assertion, cl...  \n",
       "2      [block, hack, language, benefit, block, job, w...  \n",
       "3      [type, function, typescript, function, type, i...  \n",
       "4      [store, service, account, looking, eas, expo, ...  \n",
       "...                                                  ...  \n",
       "49995  [app, mode, react, app, behaviour, building, a...  \n",
       "49996  [service, stripe, account, service, service, d...  \n",
       "49997  [security, problem, terraform, dependency, loc...  \n",
       "49998  [studio, creation, blob, container, error, mes...  \n",
       "49999  [pattern, aw, parameter, store, array, appsett...  \n",
       "\n",
       "[49999 rows x 8 columns]"
      ]
     },
     "execution_count": 44,
     "metadata": {},
     "output_type": "execute_result"
    }
   ],
   "source": [
    "debut = time.time()  # Heure de début du traitement\n",
    "data['processed_corpus'] = data.corpus.apply(process_documents,\n",
    "                                   doc,\n",
    "                                   tokenizer=tokenizer,\n",
    "                                   pos=pos_a_garder,\n",
    "                                   lemmentizer=spacy_nlp,\n",
    "                                   rejoin=False,\n",
    "                                   stop_words=stop_words,\n",
    "                                   list_rare_words=mots_rares,\n",
    "                                   min_len_word=3,\n",
    "                                   alpha_only=True,\n",
    "                                   extra_words=None,\n",
    "                                   return_set=False\n",
    "                             )\n",
    "print(f\"Durée du traitement : {(time.time() - debut):.2f} s\")\n",
    "\n",
    "data"
   ]
  },
  {
   "cell_type": "markdown",
   "metadata": {},
   "source": [
    "### **Post traitement**\n",
    "\n",
    "Lors des traitements, les mots rares du corpus original ont été supprimés.<br>\n",
    "Cependant, les traitements ont fait apparaitre de nouveaux mots rares, qu'il va falloir supprimer également.<br>"
   ]
  },
  {
   "cell_type": "code",
   "execution_count": 45,
   "metadata": {},
   "outputs": [
    {
     "name": "stdout",
     "output_type": "stream",
     "text": [
      "Nombre de mots présents 5 fois ou moins : 1582\n",
      "Exemples de mots : ['sam', 'employ', 'branching', 'unsubscribe', 'telerik', 'jsonproperty', 'pathlib', 'inplace', 'styler', 'rgba']\n"
     ]
    }
   ],
   "source": [
    "# On regroupe tous les éléments des liste de data['processed_corpus'] dans une liste unique\n",
    "processed_corpus = [item for sublist in data['processed_corpus'] for item in sublist]\n",
    "\n",
    "# On fait le compte des différents tokens dans notre corpus traité\n",
    "tmp = pd.Series(processed_corpus).value_counts()\n",
    "\n",
    "post_list_min_5_words = tmp[tmp<=5]\n",
    "post_list_min_5_words = list(post_list_min_5_words.index)  # .index = pour ne récupérer que les mots\n",
    "print(f\"Nombre de mots présents 5 fois ou moins : {len(post_list_min_5_words)}\")\n",
    "print(f\"Exemples de mots : {post_list_min_5_words[:10]}\")"
   ]
  },
  {
   "cell_type": "markdown",
   "metadata": {},
   "source": [
    "- Définition de la fonction de suppression des mots rares post traitement : "
   ]
  },
  {
   "cell_type": "code",
   "execution_count": 46,
   "metadata": {},
   "outputs": [],
   "source": [
    "def post_rare_suppr(doc,\n",
    "                    post_rare_words=None\n",
    "                   ):\n",
    "        # Suppression des mots rares (si fournis)\n",
    "    if post_rare_words:\n",
    "        non_rare_tokens = [w for w in doc if w not in post_rare_words]\n",
    "    else:\n",
    "        non_rare_tokens = doc\n",
    "    return non_rare_tokens"
   ]
  },
  {
   "cell_type": "markdown",
   "metadata": {},
   "source": [
    "- Transformation de *post_list_min_5_words* en set pour un traitement plus rapide."
   ]
  },
  {
   "cell_type": "code",
   "execution_count": 47,
   "metadata": {},
   "outputs": [],
   "source": [
    "post_list_min_5_words = set(post_list_min_5_words)"
   ]
  },
  {
   "cell_type": "markdown",
   "metadata": {},
   "source": [
    "- Suppression des nouveaux mots apparaissant 5 fois ou moins : "
   ]
  },
  {
   "cell_type": "code",
   "execution_count": 48,
   "metadata": {},
   "outputs": [],
   "source": [
    "data['processed_corpus'] = data.processed_corpus.apply(post_rare_suppr,post_rare_words=post_list_min_5_words)"
   ]
  },
  {
   "cell_type": "markdown",
   "metadata": {},
   "source": [
    "### **Comparaison du corpus d'origine avec le corpus traitré**"
   ]
  },
  {
   "cell_type": "markdown",
   "metadata": {},
   "source": [
    "- Corpus d'origine (tokenisé, sans stop words et sans nombre) : "
   ]
  },
  {
   "cell_type": "code",
   "execution_count": 49,
   "metadata": {},
   "outputs": [
    {
     "name": "stdout",
     "output_type": "stream",
     "text": [
      "Nombre de tokens : 2092424\n",
      "Nombre de tokens uniques : 59353\n",
      "10 premiers tokens : ['consume', 'n', 'pulls', 'atn', 'succeeds', 'unconsumed', 'quote', 'tokenizer', 'change', 'stringlisteral']\n",
      "\n",
      "Tokens les plus fréquents : \n"
     ]
    },
    {
     "data": {
      "text/plain": [
       "using        18772\n",
       "like         17784\n",
       "code         17313\n",
       "get          13649\n",
       "want         13423\n",
       "use          13247\n",
       "would        11732\n",
       "error        11583\n",
       "way          11263\n",
       "following    11071\n",
       "dtype: int64"
      ]
     },
     "metadata": {},
     "output_type": "display_data"
    },
    {
     "name": "stdout",
     "output_type": "stream",
     "text": [
      "Tokens les moins fréquents : \n"
     ]
    },
    {
     "data": {
      "text/plain": [
       "onbind           1\n",
       "emaillogin       1\n",
       "futureor         1\n",
       "emailpassword    1\n",
       "emailsettings    1\n",
       "resumedata       1\n",
       "frederikhors     1\n",
       "analyis          1\n",
       "loopify          1\n",
       "ioption          1\n",
       "dtype: int64"
      ]
     },
     "metadata": {},
     "output_type": "display_data"
    },
    {
     "name": "stdout",
     "output_type": "stream",
     "text": [
      "Distribution des présences des tokens : \n"
     ]
    },
    {
     "data": {
      "text/plain": [
       "count    59353.000000\n",
       "mean        35.253888\n",
       "std        308.646718\n",
       "min          1.000000\n",
       "25%          1.000000\n",
       "50%          1.000000\n",
       "75%          3.000000\n",
       "max      18772.000000\n",
       "dtype: float64"
      ]
     },
     "metadata": {},
     "output_type": "display_data"
    }
   ],
   "source": [
    "display_tokens_infos(corpus)\n",
    "\n",
    "# On fait le compte des différents tokens\n",
    "tmp = pd.Series(corpus).value_counts()\n",
    "\n",
    "print()\n",
    "\n",
    "print(\"Tokens les plus fréquents : \")\n",
    "display(tmp.head(10))\n",
    "\n",
    "print(\"Tokens les moins fréquents : \")\n",
    "display(tmp.tail(10))\n",
    "\n",
    "print(\"Distribution des présences des tokens : \")\n",
    "display(tmp.describe())"
   ]
  },
  {
   "cell_type": "markdown",
   "metadata": {},
   "source": [
    "- Corpus traité avec ```process_documents()``` et post traité avec ```post_rare_suppr()``` : "
   ]
  },
  {
   "cell_type": "code",
   "execution_count": 50,
   "metadata": {},
   "outputs": [
    {
     "name": "stdout",
     "output_type": "stream",
     "text": [
      "Nombre de tokens : 1327556\n",
      "Nombre de tokens uniques : 5248\n",
      "10 premiers tokens : ['rule', 'handle', 'backslash', 'expand', 'answer', 'escape', 'escape', 'character', 'work', 'equivalent']\n",
      "Tokens les plus fréquents : \n"
     ]
    },
    {
     "data": {
      "text/plain": [
       "code        25327\n",
       "error       23378\n",
       "file        21534\n",
       "function    18602\n",
       "value       18387\n",
       "way         15180\n",
       "type        14018\n",
       "datum       13079\n",
       "example     11769\n",
       "work        11691\n",
       "dtype: int64"
      ]
     },
     "metadata": {},
     "output_type": "display_data"
    },
    {
     "name": "stdout",
     "output_type": "stream",
     "text": [
      "Tokens les moins fréquents : \n"
     ]
    },
    {
     "data": {
      "text/plain": [
       "owl            6\n",
       "clr            6\n",
       "entropy        6\n",
       "sourcemap      6\n",
       "remembering    6\n",
       "changing       6\n",
       "sm             6\n",
       "itemssource    6\n",
       "teaching       6\n",
       "adt            6\n",
       "dtype: int64"
      ]
     },
     "metadata": {},
     "output_type": "display_data"
    },
    {
     "name": "stdout",
     "output_type": "stream",
     "text": [
      "Distribution des présences des tokens : \n"
     ]
    },
    {
     "data": {
      "text/plain": [
       "count     5247.000000\n",
       "mean       253.010673\n",
       "std       1074.627521\n",
       "min          6.000000\n",
       "25%         12.000000\n",
       "50%         28.000000\n",
       "75%        104.000000\n",
       "max      25327.000000\n",
       "dtype: float64"
      ]
     },
     "metadata": {},
     "output_type": "display_data"
    }
   ],
   "source": [
    "# Pour récupérer les mots qui sont dans des set à chaque ligne\n",
    "processed_corpus = data['processed_corpus'].explode().tolist()\n",
    "\n",
    "display_tokens_infos(processed_corpus)\n",
    "\n",
    "# On fait le compte des différents tokens\n",
    "tmp = pd.Series(processed_corpus).value_counts()\n",
    "\n",
    "print(\"Tokens les plus fréquents : \")\n",
    "display(tmp.head(10))\n",
    "\n",
    "print(\"Tokens les moins fréquents : \")\n",
    "display(tmp.tail(10))\n",
    "\n",
    "print(\"Distribution des présences des tokens : \")\n",
    "display(tmp.describe())"
   ]
  },
  {
   "cell_type": "markdown",
   "metadata": {},
   "source": [
    "- Pour test : "
   ]
  },
  {
   "cell_type": "code",
   "execution_count": 51,
   "metadata": {},
   "outputs": [
    {
     "name": "stdout",
     "output_type": "stream",
     "text": [
      "Le mot 'duplicating' se trouve dans 'processed_corpus'.\n"
     ]
    }
   ],
   "source": [
    "mot_a_tester = \"duplicating\"\n",
    "\n",
    "if mot_a_tester in processed_corpus:\n",
    "    print(f\"Le mot '{mot_a_tester}' se trouve dans 'processed_corpus'.\")\n",
    "else:\n",
    "    print(f\"Le mot '{mot_a_tester}' ne se trouve pas dans 'processed_corpus'.\")"
   ]
  },
  {
   "cell_type": "code",
   "execution_count": 52,
   "metadata": {},
   "outputs": [
    {
     "name": "stdout",
     "output_type": "stream",
     "text": [
      "Le mot 'duplicating' se trouve dans 'corpus'.\n"
     ]
    }
   ],
   "source": [
    "mot_a_tester = \"duplicating\"\n",
    "\n",
    "if mot_a_tester in corpus:\n",
    "    print(f\"Le mot '{mot_a_tester}' se trouve dans 'corpus'.\")\n",
    "else:\n",
    "    print(f\"Le mot '{mot_a_tester}' ne se trouve pas dans 'corpus'.\")"
   ]
  }
 ],
 "metadata": {
  "kernelspec": {
   "display_name": "base",
   "language": "python",
   "name": "python3"
  },
  "language_info": {
   "codemirror_mode": {
    "name": "ipython",
    "version": 3
   },
   "file_extension": ".py",
   "mimetype": "text/x-python",
   "name": "python",
   "nbconvert_exporter": "python",
   "pygments_lexer": "ipython3",
   "version": "3.10.9"
  },
  "orig_nbformat": 4
 },
 "nbformat": 4,
 "nbformat_minor": 2
}
