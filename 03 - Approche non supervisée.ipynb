{
 "cells": [
  {
   "cell_type": "markdown",
   "metadata": {},
   "source": [
    "# **Approche non supervisée**"
   ]
  },
  {
   "cell_type": "code",
   "execution_count": 1,
   "metadata": {},
   "outputs": [],
   "source": [
    "import pandas as pd\n",
    "import pickle\n",
    "\n",
    "import matplotlib.pyplot as plt\n",
    "\n",
    "#Gensim\n",
    "import gensim\n",
    "import gensim.corpora as corpora\n",
    "from gensim.models import CoherenceModel\n",
    "from gensim.models import Nmf\n",
    "\n",
    "#vis\n",
    "import pyLDAvis\n",
    "import pyLDAvis.gensim\n",
    "\n",
    "# Mesures de durée d'éxécution\n",
    "import time\n",
    "\n",
    "# Éviter les Deprecation Warning avec NMF\n",
    "import warnings\n",
    "warnings.filterwarnings(\"ignore\", category=DeprecationWarning)\n",
    "warnings.filterwarnings(\"ignore\", category=FutureWarning)"
   ]
  },
  {
   "cell_type": "markdown",
   "metadata": {},
   "source": [
    "- Mesure de la durée d'exécution du notebook : "
   ]
  },
  {
   "cell_type": "code",
   "execution_count": 2,
   "metadata": {},
   "outputs": [],
   "source": [
    "t_notebook = time.time()"
   ]
  },
  {
   "cell_type": "markdown",
   "metadata": {},
   "source": [
    "- Importations des données : "
   ]
  },
  {
   "cell_type": "markdown",
   "metadata": {},
   "source": [
    "## <font color='red'>attention, temporairement j'importe data_clean_top_500.pkl, mais il faudra au final importer data_clean.pkl (et réduire la taille du vocabulaire après)</font>"
   ]
  },
  {
   "cell_type": "code",
   "execution_count": 3,
   "metadata": {},
   "outputs": [
    {
     "data": {
      "text/html": [
       "<div>\n",
       "<style scoped>\n",
       "    .dataframe tbody tr th:only-of-type {\n",
       "        vertical-align: middle;\n",
       "    }\n",
       "\n",
       "    .dataframe tbody tr th {\n",
       "        vertical-align: top;\n",
       "    }\n",
       "\n",
       "    .dataframe thead th {\n",
       "        text-align: right;\n",
       "    }\n",
       "</style>\n",
       "<table border=\"1\" class=\"dataframe\">\n",
       "  <thead>\n",
       "    <tr style=\"text-align: right;\">\n",
       "      <th></th>\n",
       "      <th>corpus</th>\n",
       "      <th>tags</th>\n",
       "    </tr>\n",
       "  </thead>\n",
       "  <tbody>\n",
       "    <tr>\n",
       "      <th>0</th>\n",
       "      <td>[firebase, testing, error, class, definition, ...</td>\n",
       "      <td>[jestjs, firebase, reactjs]</td>\n",
       "    </tr>\n",
       "    <tr>\n",
       "      <th>1</th>\n",
       "      <td>[block, language, block, job, job]</td>\n",
       "      <td>[async-await, concurrency]</td>\n",
       "    </tr>\n",
       "    <tr>\n",
       "      <th>2</th>\n",
       "      <td>[type, function, typescript, function, type, i...</td>\n",
       "      <td>[typescript]</td>\n",
       "    </tr>\n",
       "    <tr>\n",
       "      <th>3</th>\n",
       "      <td>[store, service, account, application, service...</td>\n",
       "      <td>[expo]</td>\n",
       "    </tr>\n",
       "    <tr>\n",
       "      <th>4</th>\n",
       "      <td>[store, retrieve, structure, type, c, structur...</td>\n",
       "      <td>[c]</td>\n",
       "    </tr>\n",
       "    <tr>\n",
       "      <th>...</th>\n",
       "      <td>...</td>\n",
       "      <td>...</td>\n",
       "    </tr>\n",
       "    <tr>\n",
       "      <th>46491</th>\n",
       "      <td>[option, option, know, option, case, option, o...</td>\n",
       "      <td>[jquery, javascript]</td>\n",
       "    </tr>\n",
       "    <tr>\n",
       "      <th>46492</th>\n",
       "      <td>[plot, attempt, use, plot, example, html, func...</td>\n",
       "      <td>[python, matplotlib]</td>\n",
       "    </tr>\n",
       "    <tr>\n",
       "      <th>46493</th>\n",
       "      <td>[security, problem, dependency, file, example,...</td>\n",
       "      <td>[terraform]</td>\n",
       "    </tr>\n",
       "    <tr>\n",
       "      <th>46494</th>\n",
       "      <td>[studio, container, error, message, error, loo...</td>\n",
       "      <td>[azure]</td>\n",
       "    </tr>\n",
       "    <tr>\n",
       "      <th>46495</th>\n",
       "      <td>[pattern, aw, parameter, store, array, entry, ...</td>\n",
       "      <td>[.net, c#, .net-core]</td>\n",
       "    </tr>\n",
       "  </tbody>\n",
       "</table>\n",
       "<p>46496 rows × 2 columns</p>\n",
       "</div>"
      ],
      "text/plain": [
       "                                                  corpus  \\\n",
       "0      [firebase, testing, error, class, definition, ...   \n",
       "1                     [block, language, block, job, job]   \n",
       "2      [type, function, typescript, function, type, i...   \n",
       "3      [store, service, account, application, service...   \n",
       "4      [store, retrieve, structure, type, c, structur...   \n",
       "...                                                  ...   \n",
       "46491  [option, option, know, option, case, option, o...   \n",
       "46492  [plot, attempt, use, plot, example, html, func...   \n",
       "46493  [security, problem, dependency, file, example,...   \n",
       "46494  [studio, container, error, message, error, loo...   \n",
       "46495  [pattern, aw, parameter, store, array, entry, ...   \n",
       "\n",
       "                              tags  \n",
       "0      [jestjs, firebase, reactjs]  \n",
       "1       [async-await, concurrency]  \n",
       "2                     [typescript]  \n",
       "3                           [expo]  \n",
       "4                              [c]  \n",
       "...                            ...  \n",
       "46491         [jquery, javascript]  \n",
       "46492         [python, matplotlib]  \n",
       "46493                  [terraform]  \n",
       "46494                      [azure]  \n",
       "46495        [.net, c#, .net-core]  \n",
       "\n",
       "[46496 rows x 2 columns]"
      ]
     },
     "execution_count": 3,
     "metadata": {},
     "output_type": "execute_result"
    }
   ],
   "source": [
    "#with open('data_clean.pkl', 'rb') as fichier:\n",
    "with open('data_clean_top_500.pkl', 'rb') as fichier:\n",
    "    data = pickle.load(fichier)\n",
    "\n",
    "data"
   ]
  },
  {
   "cell_type": "code",
   "execution_count": 4,
   "metadata": {},
   "outputs": [
    {
     "name": "stdout",
     "output_type": "stream",
     "text": [
      "Taille du dictionnaire (donc du vocabulaire de notre corpus) : 500\n",
      "--------------------------------------------------\n",
      "Premier document encodé : [(0, 2), (1, 1), (2, 1), (3, 1), (4, 1), (5, 1), (6, 2), (7, 1), (8, 5), (9, 1), (10, 1), (11, 1), (12, 1), (13, 2), (14, 2), (15, 1)]\n",
      "--------------------------------------------------\n",
      "Les 10 premières entrées du dictionnaire (avec leur fréquences): \n",
      "\n",
      "app (3659)\n",
      "authentication (447)\n",
      "class (4098)\n",
      "component (2182)\n",
      "configuration (1136)\n",
      "definition (794)\n",
      "error (11567)\n",
      "file (8028)\n",
      "firebase (460)\n",
      "flow (308)\n"
     ]
    }
   ],
   "source": [
    "# Création d'un dictionnaire avec le vocabulaire de notre corpus\n",
    "id2word = corpora.Dictionary(data['corpus'])\n",
    "\n",
    "# Vocabulaire présent dans le corpus\n",
    "print(f\"Taille du dictionnaire (donc du vocabulaire de notre corpus) : {len(id2word)}\")\n",
    "\n",
    "# Création d'un corpus encodé en bag of word (bow)\n",
    "corpus = []\n",
    "for text in data['corpus']:\n",
    "    new = id2word.doc2bow(text)\n",
    "    corpus.append(new)\n",
    "\n",
    "print(\"-\"*50)\n",
    "\n",
    "# Pour exemple, les 20 premiers mots (encodé en bow) du premier document de notre corpus\n",
    "print(f\"Premier document encodé : {corpus[0][0:20]}\")\n",
    "\n",
    "print(\"-\"*50)\n",
    "\n",
    "# Les 10 premiers mots du dictionnaire id2word avec leur fréquence dans le corpus\n",
    "print(\"Les 10 premières entrées du dictionnaire (avec leur fréquences): \\n\")\n",
    "for i in range(10):\n",
    "    print(f\"{id2word[i]} ({id2word.dfs[i]})\")\n",
    "\n"
   ]
  },
  {
   "cell_type": "markdown",
   "metadata": {},
   "source": [
    "- Tests pour déterminer le nombre de sujets qui apporte le meilleur score de cohérence (CV) : \n",
    "\n",
    "<div class=\"alert alert-info\">\n",
    "Le score de cohérence 'c_v' est un nombre réel qui mesure à quel point les mots à l'intérieur de chaque topic sont similaires les uns aux autres en termes de co-occurrence dans les documents. Un score de cohérence plus élevé indique des topics plus cohérents, c'est-à-dire que les mots à l'intérieur d'un topic ont tendance à apparaître ensemble dans les documents. Il permet d'évaluer la qualité d'un modèle de topic modeling (ici LDA). Plus le score de cohérence est élevé, meilleure est la cohérence des topics.\n",
    "</div>"
   ]
  },
  {
   "cell_type": "code",
   "execution_count": 5,
   "metadata": {},
   "outputs": [],
   "source": [
    "# Les tests étant très longs, ne les lançons pas à chaque exécution du notebook\n",
    "do_test = False\n",
    "\n",
    "if do_test:\n",
    "    for i in range(1, 41):\n",
    "\n",
    "        num_topics_lda = i\n",
    "\n",
    "        lda_model = gensim.models.ldamodel.LdaModel(corpus=corpus,\n",
    "                                                id2word=id2word,\n",
    "                                                num_topics=num_topics_lda,\n",
    "                                                random_state=100,\n",
    "                                                update_every=1,\n",
    "                                                chunksize=100,\n",
    "                                                passes=10,\n",
    "                                                alpha=\"auto\")\n",
    "        \n",
    "        coherence_model = CoherenceModel(model=lda_model, texts=data['corpus'], dictionary=id2word, coherence='c_v')\n",
    "\n",
    "        coherence_score = coherence_model.get_coherence()\n",
    "\n",
    "        print(f\"Score de cohérence avec {lda_model.num_topics} topics : {coherence_score:.4f}\")"
   ]
  },
  {
   "cell_type": "markdown",
   "metadata": {},
   "source": [
    "- Résultats : "
   ]
  },
  {
   "cell_type": "code",
   "execution_count": 6,
   "metadata": {},
   "outputs": [
    {
     "data": {
      "image/png": "[encoded data removed]",
      "text/plain": [
       "<Figure size 1000x600 with 1 Axes>"
      ]
     },
     "metadata": {},
     "output_type": "display_data"
    }
   ],
   "source": [
    "# Données provenant des tests réalisés : \n",
    "tests_results = {\n",
    "                1 : 0.3853,\n",
    "                2 : 0.4727,\n",
    "                3 : 0.4743,\n",
    "                4 : 0.5142,\n",
    "                5 : 0.5534,\n",
    "                6 : 0.5023,\n",
    "                7 : 0.5125,\n",
    "                8 : 0.4593,\n",
    "                9 : 0.4187,\n",
    "                10 : 0.4084,\n",
    "                11 : 0.4234,\n",
    "                12 : 0.4142,\n",
    "                13 : 0.3611,\n",
    "                14 : 0.4311,\n",
    "                15 : 0.4117,\n",
    "                16 : 0.3924,\n",
    "                17 : 0.4064,\n",
    "                18 : 0.4116,\n",
    "                19 : 0.3803,\n",
    "                20 : 0.3930,\n",
    "                21 : 0.3995,\n",
    "                22 : 0.3778,\n",
    "                23 : 0.3536,\n",
    "                24 : 0.3648,\n",
    "                25 : 0.3726,\n",
    "                26 : 0.3851,\n",
    "                27 : 0.3693,\n",
    "                28 : 0.3615,\n",
    "                29 : 0.3672,\n",
    "                30 : 0.3532,\n",
    "                31 : 0.3371,\n",
    "                32 : 0.3453,\n",
    "                33 : 0.3460,\n",
    "                34 : 0.3454,\n",
    "                35 : 0.3420,\n",
    "                36 : 0.3326,\n",
    "                37 : 0.3306,\n",
    "                38 : 0.3244,\n",
    "                39 : 0.3360,\n",
    "                40 : 0.3269,\n",
    "}\n",
    "\n",
    "\n",
    "# Réprésentation graphique des résultats : \n",
    "\n",
    "num_topics = list(tests_results.keys())\n",
    "coherence_scores = list(tests_results.values())\n",
    "\n",
    "# Créer un graphique à l'aide de matplotlib\n",
    "plt.figure(figsize=(10, 6))  # Définir la taille du graphique (facultatif)\n",
    "\n",
    "# Tracer la courbe des scores de cohérence\n",
    "plt.plot(num_topics, coherence_scores, marker='o', linestyle='-')\n",
    "\n",
    "# Ajouter des étiquettes et un titre\n",
    "plt.xlabel('Nombre de Topics')\n",
    "plt.ylabel('Score de Cohérence')\n",
    "plt.title('Évolution du Score de Cohérence en fonction du Nombre de Topics')\n",
    "\n",
    "# Afficher la légende (facultatif)\n",
    "plt.legend(['Score de Cohérence'])\n",
    "\n",
    "# Afficher le graphique\n",
    "plt.grid(True)  # Activer la grille (facultatif)\n",
    "plt.show()"
   ]
  },
  {
   "cell_type": "markdown",
   "metadata": {},
   "source": [
    "- Entraînement du modèle LDA avec un nombre de topics optimal : "
   ]
  },
  {
   "cell_type": "code",
   "execution_count": 7,
   "metadata": {},
   "outputs": [
    {
     "name": "stdout",
     "output_type": "stream",
     "text": [
      "Durée du traitement : 47.84 s\n"
     ]
    }
   ],
   "source": [
    "# On choisit un nombre de topics parmis ceux avec les meilleurs scores de cohérence\n",
    "num_topics_lda = 7\n",
    "\n",
    "debut = time.time()  # Heure de début du traitement\n",
    "\n",
    "lda_model = gensim.models.ldamodel.LdaModel(corpus=corpus,\n",
    "                                           id2word=id2word,\n",
    "                                           num_topics=num_topics_lda,\n",
    "                                           random_state=100,\n",
    "                                           update_every=1,\n",
    "                                           chunksize=100,\n",
    "                                           passes=10,\n",
    "                                           alpha=\"auto\")\n",
    "\n",
    "print(f\"Durée du traitement : {(time.time() - debut):.2f} s\")"
   ]
  },
  {
   "cell_type": "markdown",
   "metadata": {},
   "source": [
    "- Calcul du score de cohérence de ce modèle : "
   ]
  },
  {
   "cell_type": "code",
   "execution_count": 8,
   "metadata": {},
   "outputs": [
    {
     "name": "stdout",
     "output_type": "stream",
     "text": [
      "Durée du traitement : 3.90 s\n",
      "Score de cohérence avec 7 topics : 0.5125\n"
     ]
    }
   ],
   "source": [
    "debut = time.time()  # Heure de début du traitement\n",
    "\n",
    "coherence_model = CoherenceModel(model=lda_model, texts=data['corpus'], dictionary=id2word, coherence='c_v')\n",
    "\n",
    "coherence_score = coherence_model.get_coherence()\n",
    "\n",
    "print(f\"Durée du traitement : {(time.time() - debut):.2f} s\")\n",
    "\n",
    "print(f\"Score de cohérence avec {lda_model.num_topics} topics : {coherence_score:.4f}\")\n"
   ]
  },
  {
   "cell_type": "markdown",
   "metadata": {},
   "source": [
    "- Affichage des topics trouvés avec LDA\n",
    "\n",
    "*num_words* pour choisir le nombre de mot à afficher pour chaque topic<br>\n",
    "À chaque mot est associé un nombre : son importance pour le topic en question.\n"
   ]
  },
  {
   "cell_type": "code",
   "execution_count": 9,
   "metadata": {},
   "outputs": [
    {
     "name": "stdout",
     "output_type": "stream",
     "text": [
      "(0, '0.063*\"user\" + 0.044*\"test\" + 0.036*\"server\" + 0.031*\"application\" + 0.029*\"request\" + 0.026*\"service\" + 0.023*\"access\" + 0.022*\"com\" + 0.022*\"app\" + 0.020*\"window\" + 0.018*\"log\" + 0.018*\"task\" + 0.017*\"system\" + 0.016*\"database\" + 0.016*\"web\" + 0.016*\"process\" + 0.016*\"core\" + 0.014*\"client\" + 0.014*\"connection\" + 0.013*\"https\"')\n",
      "(1, '0.179*\"function\" + 0.152*\"type\" + 0.101*\"object\" + 0.073*\"array\" + 0.049*\"property\" + 0.040*\"c\" + 0.036*\"memory\" + 0.036*\"item\" + 0.034*\"reference\" + 0.033*\"index\" + 0.019*\"compiler\" + 0.018*\"pointer\" + 0.016*\"map\" + 0.014*\"entry\" + 0.012*\"member\" + 0.012*\"structure\" + 0.010*\"collection\" + 0.010*\"amount\" + 0.010*\"operator\" + 0.010*\"compile\"')\n",
      "(2, '0.174*\"error\" + 0.052*\"issue\" + 0.050*\"version\" + 0.045*\"project\" + 0.034*\"command\" + 0.031*\"module\" + 0.030*\"message\" + 0.029*\"app\" + 0.029*\"package\" + 0.027*\"library\" + 0.026*\"option\" + 0.021*\"event\" + 0.019*\"run\" + 0.017*\"step\" + 0.015*\"fix\" + 0.015*\"dependency\" + 0.014*\"import\" + 0.014*\"screen\" + 0.014*\"show\" + 0.014*\"build\"')\n",
      "(3, '0.080*\"code\" + 0.067*\"value\" + 0.049*\"way\" + 0.041*\"example\" + 0.036*\"time\" + 0.032*\"use\" + 0.032*\"work\" + 0.031*\"list\" + 0.028*\"problem\" + 0.027*\"string\" + 0.025*\"output\" + 0.024*\"question\" + 0.023*\"number\" + 0.023*\"result\" + 0.022*\"case\" + 0.019*\"return\" + 0.018*\"solution\" + 0.016*\"element\" + 0.015*\"need\" + 0.015*\"thank\"')\n",
      "(4, '0.068*\"image\" + 0.056*\"api\" + 0.055*\"component\" + 0.047*\"call\" + 0.040*\"update\" + 0.035*\"model\" + 0.031*\"custom\" + 0.028*\"container\" + 0.024*\"docker\" + 0.024*\"state\" + 0.023*\"default\" + 0.022*\"post\" + 0.021*\"form\" + 0.020*\"response\" + 0.020*\"implementation\" + 0.019*\"operation\" + 0.019*\"store\" + 0.018*\"react\" + 0.017*\"difference\" + 0.016*\"address\"')\n",
      "(5, '0.164*\"file\" + 0.053*\"line\" + 0.043*\"page\" + 0.041*\"change\" + 0.034*\"script\" + 0.032*\"text\" + 0.025*\"path\" + 0.023*\"button\" + 0.022*\"folder\" + 0.022*\"view\" + 0.020*\"argument\" + 0.018*\"directory\" + 0.018*\"content\" + 0.017*\"day\" + 0.017*\"source\" + 0.017*\"part\" + 0.017*\"branch\" + 0.016*\"load\" + 0.016*\"link\" + 0.015*\"color\"')\n",
      "(6, '0.102*\"datum\" + 0.079*\"column\" + 0.071*\"class\" + 0.065*\"table\" + 0.053*\"method\" + 0.047*\"row\" + 0.044*\"name\" + 0.035*\"query\" + 0.028*\"parameter\" + 0.019*\"date\" + 0.017*\"group\" + 0.016*\"record\" + 0.016*\"template\" + 0.015*\"data\" + 0.014*\"statement\" + 0.013*\"database\" + 0.013*\"instance\" + 0.012*\"year\" + 0.012*\"cell\" + 0.011*\"plot\"')\n"
     ]
    }
   ],
   "source": [
    "# Nombre de mots à afficher pour chaque topics\n",
    "num_words = 20\n",
    "\n",
    "topics = lda_model.show_topics(num_topics=num_topics_lda, num_words=num_words)\n",
    "\n",
    "for topic in topics:\n",
    "    print(topic)"
   ]
  },
  {
   "cell_type": "markdown",
   "metadata": {},
   "source": [
    "- Déterminer, pour chaque document, le numéro de sujet le plus probable et stocker dans *most_probable_topics_lda* : "
   ]
  },
  {
   "cell_type": "code",
   "execution_count": 10,
   "metadata": {},
   "outputs": [
    {
     "name": "stdout",
     "output_type": "stream",
     "text": [
      "Durée du traitement : 4.62 s\n",
      "Pour les 10 premiers document : \n",
      "[0, 3, 1, 4, 1, 3, 2, 3, 5, 3]\n"
     ]
    }
   ],
   "source": [
    "# Liste pour stocker les sujets les plus probables\n",
    "most_probable_topics_lda = []\n",
    "\n",
    "debut = time.time()  # Heure de début du traitement\n",
    "\n",
    "# Parcourir les documents\n",
    "for doc in corpus:  # Assurez-vous que 'corpus' est votre corpus de documents\n",
    "    # Obtenir les probabilités d'appartenance aux topics pour ce document\n",
    "    doc_topics = lda_model.get_document_topics(doc)\n",
    "    \n",
    "    # Trouver le sujet le plus probable pour ce document\n",
    "    most_probable_topic = max(doc_topics, key=lambda x: x[1])\n",
    "    \n",
    "    # Ajouter le numéro du sujet le plus probable à la liste\n",
    "    most_probable_topics_lda.append(most_probable_topic[0])\n",
    "\n",
    "print(f\"Durée du traitement : {(time.time() - debut):.2f} s\")\n",
    "\n",
    "print(\"Pour les 10 premiers document : \")\n",
    "print(most_probable_topics_lda[:10])"
   ]
  },
  {
   "cell_type": "markdown",
   "metadata": {},
   "source": [
    "- Pour chaque documents, les 3 premiers mots (les plus probables) du topic le plus probable et stockage dans *top_words_per_document* : "
   ]
  },
  {
   "cell_type": "code",
   "execution_count": 11,
   "metadata": {},
   "outputs": [
    {
     "name": "stdout",
     "output_type": "stream",
     "text": [
      "Durée du traitement : 7.02 s\n",
      "Pour les 10 premiers document : \n"
     ]
    },
    {
     "data": {
      "text/plain": [
       "[['user', 'test', 'server'],\n",
       " ['code', 'value', 'way'],\n",
       " ['function', 'type', 'object'],\n",
       " ['image', 'api', 'component'],\n",
       " ['function', 'type', 'object'],\n",
       " ['code', 'value', 'way'],\n",
       " ['error', 'issue', 'version'],\n",
       " ['code', 'value', 'way'],\n",
       " ['file', 'line', 'page'],\n",
       " ['code', 'value', 'way']]"
      ]
     },
     "metadata": {},
     "output_type": "display_data"
    }
   ],
   "source": [
    "# Liste pour stocker les mots les plus probables pour chaque document\n",
    "top_words_per_document = []\n",
    "\n",
    "debut = time.time()  # Heure de début du traitement\n",
    "\n",
    "# Parcourir les documents\n",
    "for doc in corpus:  # Assurez-vous que 'corpus' est votre corpus de documents\n",
    "    # Obtenir les probabilités d'appartenance aux topics pour ce document\n",
    "    doc_topics = lda_model.get_document_topics(doc)\n",
    "    \n",
    "    # Trouver le sujet le plus probable pour ce document\n",
    "    most_probable_topic = max(doc_topics, key=lambda x: x[1])[0]\n",
    "    \n",
    "    # Obtenir les trois premiers mots les plus probables du sujet le plus probable\n",
    "    top_words = lda_model.show_topic(most_probable_topic, topn=3)\n",
    "    \n",
    "    # Ajouter les mots à la liste\n",
    "    # top_words_per_document.append(top_words)\n",
    "    top_words_per_document.append([top_words[0][0], top_words[1][0], top_words[2][0]])  # seulement les mots, pas leur proba\n",
    "\n",
    "# Maintenant, 'top_words_per_document' contient les trois premiers mots les plus probables pour le sujet le plus probable de chaque document\n",
    "\n",
    "print(f\"Durée du traitement : {(time.time() - debut):.2f} s\")\n",
    "\n",
    "print(\"Pour les 10 premiers document : \")\n",
    "display(top_words_per_document[:10])\n"
   ]
  },
  {
   "cell_type": "markdown",
   "metadata": {},
   "source": [
    "- Pour chaque document, 3 mots (maximum, si possible) qui sont à la fois présents dans le document d'origine et du topic associé le plus probable. En choisissant la taille du topic avec topn=50 (donc des topics longs de 50 mots)"
   ]
  },
  {
   "cell_type": "code",
   "execution_count": 12,
   "metadata": {},
   "outputs": [
    {
     "name": "stdout",
     "output_type": "stream",
     "text": [
      "Pourcentage de listes vides : 0.90%\n",
      "Durée du traitement : 23.33 s\n",
      "Pour les 10 premiers document : \n"
     ]
    },
    {
     "data": {
      "text/plain": [
       "[['test', 'app', 'header'],\n",
       " [],\n",
       " ['function', 'type', 'object'],\n",
       " ['store'],\n",
       " ['type', 'object', 'c'],\n",
       " ['need'],\n",
       " ['error', 'project', 'app'],\n",
       " ['way'],\n",
       " ['file', 'script', 'button'],\n",
       " ['problem', 'thank', 'bit']]"
      ]
     },
     "metadata": {},
     "output_type": "display_data"
    }
   ],
   "source": [
    "debut = time.time()  # Heure de début du traitement\n",
    "\n",
    "# Liste pour stocker les mots du sujet les plus probables présents dans le document\n",
    "top_words_in_document_lda = []\n",
    "\n",
    "# Parcourir les documents\n",
    "for i, doc in enumerate(corpus):  # Assurez-vous que 'corpus' correspond à votre corpus de documents\n",
    "    # Obtenir les probabilités d'appartenance aux topics pour ce document\n",
    "    doc_topics = lda_model.get_document_topics(doc)\n",
    "    \n",
    "    # Trouver le sujet le plus probable pour ce document\n",
    "    most_probable_topic = max(doc_topics, key=lambda x: x[1])[0]\n",
    "    \n",
    "    # Obtenir les mots du sujet le plus probable\n",
    "    top_words = [word for word, _ in lda_model.show_topic(most_probable_topic, topn=50)]  # topn=50 : taille (en mot) du sujet\n",
    "    \n",
    "    # Filtrer les mots du sujet présents dans le document\n",
    "    words_in_document = [word for word in top_words if word in data['corpus'][i]]\n",
    "    \n",
    "    # Sélectionner jusqu'à trois mots du sujet présents dans le document\n",
    "    selected_words = words_in_document[:3]\n",
    "    \n",
    "    # Ajouter les mots à la liste\n",
    "    top_words_in_document_lda.append(selected_words)\n",
    "\n",
    "# Maintenant, 'top_words_in_document' contient jusqu'à trois mots du sujet les plus probables qui sont également présents dans chaque document\n",
    "\n",
    "\n",
    "\n",
    "\n",
    "# Calculer le pourcentage de listes vides dans top_words_in_document\n",
    "empty_lists_count = sum(1 for words in top_words_in_document_lda if not words)\n",
    "total_lists = len(top_words_in_document_lda)\n",
    "percentage_empty_lists = (empty_lists_count / total_lists) * 100\n",
    "\n",
    "# Afficher le pourcentage\n",
    "print(f\"Pourcentage de listes vides : {percentage_empty_lists:.2f}%\")\n",
    "\n",
    "\n",
    "print(f\"Durée du traitement : {(time.time() - debut):.2f} s\")\n",
    "\n",
    "\n",
    "print(\"Pour les 10 premiers document : \")\n",
    "display(top_words_in_document_lda[:10])\n",
    "\n"
   ]
  },
  {
   "cell_type": "markdown",
   "metadata": {},
   "source": [
    "- Création de la colonne *LDA_predicted_tags* dans notre dataset : "
   ]
  },
  {
   "cell_type": "code",
   "execution_count": 13,
   "metadata": {},
   "outputs": [
    {
     "data": {
      "text/html": [
       "<div>\n",
       "<style scoped>\n",
       "    .dataframe tbody tr th:only-of-type {\n",
       "        vertical-align: middle;\n",
       "    }\n",
       "\n",
       "    .dataframe tbody tr th {\n",
       "        vertical-align: top;\n",
       "    }\n",
       "\n",
       "    .dataframe thead th {\n",
       "        text-align: right;\n",
       "    }\n",
       "</style>\n",
       "<table border=\"1\" class=\"dataframe\">\n",
       "  <thead>\n",
       "    <tr style=\"text-align: right;\">\n",
       "      <th></th>\n",
       "      <th>corpus</th>\n",
       "      <th>tags</th>\n",
       "      <th>LDA_predicted_tags</th>\n",
       "    </tr>\n",
       "  </thead>\n",
       "  <tbody>\n",
       "    <tr>\n",
       "      <th>0</th>\n",
       "      <td>[firebase, testing, error, class, definition, ...</td>\n",
       "      <td>[jestjs, firebase, reactjs]</td>\n",
       "      <td>[test, app, header]</td>\n",
       "    </tr>\n",
       "    <tr>\n",
       "      <th>1</th>\n",
       "      <td>[block, language, block, job, job]</td>\n",
       "      <td>[async-await, concurrency]</td>\n",
       "      <td>[]</td>\n",
       "    </tr>\n",
       "    <tr>\n",
       "      <th>2</th>\n",
       "      <td>[type, function, typescript, function, type, i...</td>\n",
       "      <td>[typescript]</td>\n",
       "      <td>[function, type, object]</td>\n",
       "    </tr>\n",
       "    <tr>\n",
       "      <th>3</th>\n",
       "      <td>[store, service, account, application, service...</td>\n",
       "      <td>[expo]</td>\n",
       "      <td>[store]</td>\n",
       "    </tr>\n",
       "    <tr>\n",
       "      <th>4</th>\n",
       "      <td>[store, retrieve, structure, type, c, structur...</td>\n",
       "      <td>[c]</td>\n",
       "      <td>[type, object, c]</td>\n",
       "    </tr>\n",
       "    <tr>\n",
       "      <th>...</th>\n",
       "      <td>...</td>\n",
       "      <td>...</td>\n",
       "      <td>...</td>\n",
       "    </tr>\n",
       "    <tr>\n",
       "      <th>46491</th>\n",
       "      <td>[option, option, know, option, case, option, o...</td>\n",
       "      <td>[jquery, javascript]</td>\n",
       "      <td>[option]</td>\n",
       "    </tr>\n",
       "    <tr>\n",
       "      <th>46492</th>\n",
       "      <td>[plot, attempt, use, plot, example, html, func...</td>\n",
       "      <td>[python, matplotlib]</td>\n",
       "      <td>[code, example, use]</td>\n",
       "    </tr>\n",
       "    <tr>\n",
       "      <th>46493</th>\n",
       "      <td>[security, problem, dependency, file, example,...</td>\n",
       "      <td>[terraform]</td>\n",
       "      <td>[example, problem, field]</td>\n",
       "    </tr>\n",
       "    <tr>\n",
       "      <th>46494</th>\n",
       "      <td>[studio, container, error, message, error, loo...</td>\n",
       "      <td>[azure]</td>\n",
       "      <td>[error, version, message]</td>\n",
       "    </tr>\n",
       "    <tr>\n",
       "      <th>46495</th>\n",
       "      <td>[pattern, aw, parameter, store, array, entry, ...</td>\n",
       "      <td>[.net, c#, .net-core]</td>\n",
       "      <td>[value, program, idea]</td>\n",
       "    </tr>\n",
       "  </tbody>\n",
       "</table>\n",
       "<p>46496 rows × 3 columns</p>\n",
       "</div>"
      ],
      "text/plain": [
       "                                                  corpus  \\\n",
       "0      [firebase, testing, error, class, definition, ...   \n",
       "1                     [block, language, block, job, job]   \n",
       "2      [type, function, typescript, function, type, i...   \n",
       "3      [store, service, account, application, service...   \n",
       "4      [store, retrieve, structure, type, c, structur...   \n",
       "...                                                  ...   \n",
       "46491  [option, option, know, option, case, option, o...   \n",
       "46492  [plot, attempt, use, plot, example, html, func...   \n",
       "46493  [security, problem, dependency, file, example,...   \n",
       "46494  [studio, container, error, message, error, loo...   \n",
       "46495  [pattern, aw, parameter, store, array, entry, ...   \n",
       "\n",
       "                              tags         LDA_predicted_tags  \n",
       "0      [jestjs, firebase, reactjs]        [test, app, header]  \n",
       "1       [async-await, concurrency]                         []  \n",
       "2                     [typescript]   [function, type, object]  \n",
       "3                           [expo]                    [store]  \n",
       "4                              [c]          [type, object, c]  \n",
       "...                            ...                        ...  \n",
       "46491         [jquery, javascript]                   [option]  \n",
       "46492         [python, matplotlib]       [code, example, use]  \n",
       "46493                  [terraform]  [example, problem, field]  \n",
       "46494                      [azure]  [error, version, message]  \n",
       "46495        [.net, c#, .net-core]     [value, program, idea]  \n",
       "\n",
       "[46496 rows x 3 columns]"
      ]
     },
     "execution_count": 13,
     "metadata": {},
     "output_type": "execute_result"
    }
   ],
   "source": [
    "data['LDA_predicted_tags'] = top_words_in_document_lda\n",
    "data"
   ]
  },
  {
   "cell_type": "markdown",
   "metadata": {},
   "source": [
    "- Pourcentage de cas où il y a au moins un tag en commun entre les tags réels et les tags prédits par LDA : "
   ]
  },
  {
   "cell_type": "code",
   "execution_count": 14,
   "metadata": {},
   "outputs": [
    {
     "name": "stdout",
     "output_type": "stream",
     "text": [
      "Pourcentage de cas avec au moins un mot en commun entre les tags réels et les tags prédits par LDA : 4.81%\n"
     ]
    }
   ],
   "source": [
    "# Initialiser un compteur pour les cas où il y a au moins un mot en commun\n",
    "common_word_count = 0\n",
    "\n",
    "# Parcourir les lignes du dataframe\n",
    "for index, row in data.iterrows():\n",
    "    # Obtenir les valeurs des colonnes 'LDA_predicted_tags' et 'tags' pour cette ligne\n",
    "    lda_tags = set(row['LDA_predicted_tags'])\n",
    "    real_tags = set(row['tags'])    \n",
    "    \n",
    "    # Vérifier s'il y a au moins un mot en commun entre les ensembles\n",
    "    if lda_tags & real_tags:  # \"lda_tags & real_tags\" retourne un set contenant les valeurs communes entre les deux, ou un set vide si aucune valeur commune.\n",
    "        common_word_count += 1  # si le set retourné n'est pas vide, qu'il existe, alors incrémenter common_word_count de 1 (= il y a eu un cas où il y avait un mot en commun)\n",
    "\n",
    "# Calculer le pourcentage de cas où il y a au moins un mot en commun\n",
    "total_cases = len(data)\n",
    "percentage_common_word_cases = (common_word_count / total_cases) * 100\n",
    "\n",
    "# Afficher le résultat\n",
    "print(f\"Pourcentage de cas avec au moins un mot en commun entre les tags réels et les tags prédits par LDA : {percentage_common_word_cases:.2f}%\")"
   ]
  },
  {
   "cell_type": "markdown",
   "metadata": {},
   "source": [
    "- Visualisation des résultats de la LDA : "
   ]
  },
  {
   "cell_type": "code",
   "execution_count": 15,
   "metadata": {},
   "outputs": [
    {
     "data": {
      "text/html": [
       "\n",
       "<link rel=\"stylesheet\" type=\"text/css\" href=\"https://cdn.jsdelivr.net/gh/bmabey/pyLDAvis@3.4.0/pyLDAvis/js/ldavis.v1.0.0.css\">\n",
       "\n",
       "\n",
       "<div id=\"ldavis_el3327618615098102081479170522\" style=\"background-color:white;\"></div>\n",
       "<script type=\"text/javascript\">\n",
       "\n",
       "var ldavis_el3327618615098102081479170522_data = {\"mdsDat\": {\"x\": [0.21693888755916574, -0.18563717282226, -0.03891141301546052, -0.4686912141531547, 0.25615579771627633, 0.4614296833170627, -0.24128456860162978], \"y\": [-0.38704787294140136, 0.41430865500516695, -0.010944191767080506, 0.04154209613210783, 0.3635540025519245, -0.014849870252245762, -0.4065628187284716], \"topics\": [1, 2, 3, 4, 5, 6, 7], \"cluster\": [1, 1, 1, 1, 1, 1, 1], \"Freq\": [28.678814369430516, 13.998378871364089, 13.028002290100357, 12.967463685875574, 12.213044145975068, 9.901684877392123, 9.212611759862272]}, \"tinfo\": {\"Term\": [\"error\", \"file\", \"function\", \"type\", \"code\", \"datum\", \"value\", \"object\", \"column\", \"class\", \"way\", \"user\", \"table\", \"array\", \"image\", \"example\", \"method\", \"line\", \"issue\", \"version\", \"api\", \"time\", \"component\", \"row\", \"test\", \"project\", \"name\", \"list\", \"page\", \"property\", \"value\", \"way\", \"example\", \"time\", \"list\", \"string\", \"output\", \"question\", \"number\", \"case\", \"return\", \"element\", \"need\", \"variable\", \"field\", \"input\", \"point\", \"loop\", \"order\", \"size\", \"answer\", \"r\", \"check\", \"character\", \"print\", \"match\", \"bit\", \"format\", \"display\", \"end\", \"code\", \"result\", \"problem\", \"work\", \"solution\", \"thank\", \"use\", \"program\", \"thing\", \"idea\", \"user\", \"test\", \"server\", \"application\", \"request\", \"service\", \"access\", \"com\", \"window\", \"log\", \"task\", \"system\", \"web\", \"core\", \"process\", \"client\", \"connection\", \"https\", \"console\", \"url\", \"level\", \"environment\", \"header\", \"child\", \"thread\", \"spring\", \"python\", \"action\", \"parent\", \"extension\", \"app\", \"database\", \"error\", \"version\", \"project\", \"command\", \"module\", \"message\", \"package\", \"library\", \"option\", \"event\", \"step\", \"fix\", \"dependency\", \"import\", \"screen\", \"show\", \"build\", \"key\", \"flutter\", \"studio\", \"device\", \"feature\", \"sum\", \"create\", \"resource\", \"comment\", \"target\", \"warning\", \"io\", \"struct\", \"issue\", \"run\", \"app\", \"work\", \"use\", \"documentation\", \"datum\", \"column\", \"class\", \"table\", \"row\", \"query\", \"parameter\", \"method\", \"date\", \"group\", \"record\", \"template\", \"data\", \"statement\", \"year\", \"cell\", \"plot\", \"route\", \"frame\", \"dataframe\", \"range\", \"background\", \"constructor\", \"attribute\", \"css\", \"count\", \"info\", \"php\", \"graph\", \"sequence\", \"name\", \"instance\", \"block\", \"database\", \"want\", \"lot\", \"file\", \"line\", \"page\", \"script\", \"text\", \"path\", \"button\", \"folder\", \"view\", \"argument\", \"directory\", \"content\", \"day\", \"source\", \"branch\", \"load\", \"link\", \"color\", \"word\", \"document\", \"filter\", \"search\", \"tag\", \"resolve\", \"matrix\", \"rule\", \"section\", \"tab\", \"bar\", \"location\", \"change\", \"part\", \"structure\", \"image\", \"api\", \"component\", \"call\", \"update\", \"model\", \"custom\", \"container\", \"docker\", \"state\", \"default\", \"post\", \"form\", \"response\", \"implementation\", \"operation\", \"store\", \"react\", \"difference\", \"address\", \"interface\", \"context\", \"figure\", \"side\", \"entity\", \"rest\", \"pipeline\", \"performance\", \"stack\", \"style\", \"documentation\", \"function\", \"type\", \"object\", \"array\", \"property\", \"c\", \"memory\", \"item\", \"reference\", \"index\", \"compiler\", \"pointer\", \"map\", \"entry\", \"member\", \"collection\", \"amount\", \"operator\", \"rust\", \"worker\", \"status\", \"effect\", \"provider\", \"behaviour\", \"deployment\", \"scope\", \"define\", \"push\", \"hash\", \"conversion\", \"structure\", \"compile\", \"copy\"], \"Freq\": [22114.0, 19527.0, 16099.0, 13678.0, 22461.0, 12963.0, 18714.0, 9083.0, 10034.0, 9041.0, 13822.0, 8659.0, 8284.0, 6591.0, 6616.0, 11403.0, 6695.0, 6322.0, 6822.0, 6310.0, 5432.0, 10023.0, 5302.0, 5894.0, 6083.0, 5781.0, 5796.0, 8568.0, 5083.0, 4382.0, 18714.003028723917, 13822.036909884933, 11402.670609250037, 10022.72944713768, 8568.063039480645, 7693.763575382666, 6887.713134089012, 6830.8393833331, 6379.270413635479, 6222.672539966611, 5255.627762729549, 4606.126658662274, 4158.61048191253, 3951.218177383876, 3509.6837257480474, 3376.6054117459885, 3205.913442403445, 3154.384963088158, 3083.6185689897648, 2834.2419807590263, 2569.9795787550784, 2252.793927085808, 2153.27791069374, 2074.638174967417, 1959.39295887673, 1950.1125823138339, 1913.2071415159123, 1912.7600060631926, 1857.7211154974177, 1710.844752026008, 22433.243105869253, 6374.504970018574, 7867.709313012319, 8886.291963714826, 5146.16190610143, 4130.670191749939, 9047.282646377615, 2627.171686821943, 2769.405643948672, 2584.7270897620538, 8658.539307119077, 6082.884969301108, 4950.654058954793, 4199.412585310479, 4033.7855829058785, 3572.779973275863, 3193.7719243634438, 2978.282118775893, 2711.3822035726444, 2529.7634809470705, 2498.519303473157, 2298.2768602869405, 2162.444295331761, 2157.20424045497, 2158.068327287351, 1971.104723213193, 1858.622882138721, 1828.9788701829682, 1792.4903072083987, 1723.0135990551755, 1669.6280881005332, 1649.7534540993222, 1631.4777119033704, 1629.230245488665, 1622.275136189998, 1601.3268895841086, 1567.6337443144719, 1482.9901724152896, 1404.0691378399883, 1393.1000497035188, 2948.0897734160426, 2218.148600623593, 22113.84008061395, 6309.4975291412775, 5780.463830765039, 4372.993439367547, 3916.9476058062173, 3833.7997577563065, 3658.392225289497, 3387.3581833271455, 3320.631935099245, 2723.9717818319405, 2190.075971723229, 1950.5095700001868, 1913.4152232196834, 1834.7885605968384, 1805.5834097403545, 1795.8112953757602, 1780.6130472477016, 1588.6061022126685, 1531.679944221433, 1394.3303850777763, 1239.6292654494105, 1221.6565457712604, 1191.2657395230221, 1171.1342545640043, 1147.2708356874487, 1122.2470108291006, 1113.167654923756, 992.2647671993257, 971.3411264559248, 967.793762168957, 6573.7836959266415, 2381.5840927342165, 3750.0603859706566, 1515.9973341726877, 1469.5041612528084, 1160.9962015677017, 12962.687428382618, 10033.923573106335, 9040.734887814335, 8283.17515322663, 5893.290307619113, 4423.755005507278, 3598.284140806291, 6693.9672536541275, 2405.702953691871, 2198.2162699641635, 1988.1939598640856, 1965.3945608909262, 1904.782825375147, 1756.0760670454406, 1563.1149001080285, 1529.1806914205542, 1442.4575498458805, 1344.7171175828055, 1333.6936913629306, 1229.3331386310515, 1184.3337349132873, 1184.6275324780713, 1162.4632790033982, 1125.6897351356201, 1098.0746519017841, 1002.0560621539258, 970.5399018174139, 937.2436114166882, 911.6598020690108, 904.6377452932041, 5633.638863340634, 1587.4697743006834, 1085.4326252828319, 1683.2802279424059, 1119.048966243588, 1216.6642100664078, 19526.29050475821, 6321.9479607744615, 5082.165337144071, 4059.4874924580035, 3870.23368753498, 2954.6640320115243, 2802.613164887159, 2632.8227261857855, 2622.0830143732114, 2344.2324767022387, 2185.2970991456423, 2138.814652063457, 2088.0622794123137, 2070.017109893533, 1969.635631498675, 1908.6651749399307, 1907.6416996513065, 1783.953099686457, 1777.590328285723, 1477.1975529113824, 1467.3716345079679, 1376.3694570154407, 1369.6371899214735, 1213.3547358790279, 1189.7833554342974, 1052.1385975380963, 1046.2168873122318, 1038.8397529978645, 1007.8390087723546, 977.3431123466517, 4893.692084927594, 2016.5170228030279, 1546.995344926356, 6615.296597832941, 5431.8102090841285, 5302.123921540156, 4503.709491146857, 3900.3762366638575, 3366.590190087341, 3020.2147721851875, 2732.46338867258, 2310.1773205552895, 2300.016174435303, 2259.7166555654685, 2138.929997516736, 2070.966667789301, 1967.9223284006089, 1944.5585936368423, 1875.6658391485962, 1831.8837703849665, 1737.397598699787, 1669.9306949545223, 1531.0782755459322, 1433.3629924946974, 1418.7081551382853, 1416.5710908375452, 1406.1469560711057, 1275.997577864999, 1124.339890789284, 1114.3738914347023, 1111.2544262429305, 1082.452079062883, 1077.4494385754083, 1144.5075792206537, 16098.842365644017, 13677.467355208439, 9082.61170805952, 6590.62605160327, 4381.843780205169, 3558.4649965214458, 3253.747608383232, 3216.0492326792505, 3054.0338316496554, 2997.3204610939615, 1674.759838087751, 1581.3679138496143, 1395.9582181268422, 1249.2672230830783, 1075.393687678096, 943.5212950628755, 933.1963305686282, 914.6108579952632, 845.9078307271943, 838.942930831942, 797.965214563713, 790.3898129601861, 734.8255234723255, 678.5054625438767, 658.2261683628977, 610.848201314745, 588.8286461541375, 564.294407381484, 539.1541934819436, 534.1202996764639, 1071.8989991956066, 870.4894309532564, 675.9214551761335], \"Total\": [22114.0, 19527.0, 16099.0, 13678.0, 22461.0, 12963.0, 18714.0, 9083.0, 10034.0, 9041.0, 13822.0, 8659.0, 8284.0, 6591.0, 6616.0, 11403.0, 6695.0, 6322.0, 6822.0, 6310.0, 5432.0, 10023.0, 5302.0, 5894.0, 6083.0, 5781.0, 5796.0, 8568.0, 5083.0, 4382.0, 18714.87167334597, 13822.906327257939, 11403.539892350662, 10023.598684192444, 8568.931826439903, 7694.631947693217, 6888.5817281463915, 6831.708934795616, 6380.13857310538, 6223.542093111468, 5256.497123976232, 4606.994966862789, 4159.48087143838, 3952.087090020656, 3510.552801493911, 3377.4740012676234, 3206.782512419067, 3155.253603637217, 3084.487784818697, 2835.111255729738, 2570.8486553962766, 2253.662006502793, 2154.1479214309893, 2075.50581605476, 1960.2617675363672, 1950.9807476025915, 1914.0757575339112, 1913.6287060820277, 1858.5906434952226, 1711.714220409427, 22461.557674921816, 6399.023988721472, 8787.469838745568, 10589.068091980504, 5767.59068729401, 4540.199683702942, 11268.123544045735, 2802.3888674920327, 3289.608513999123, 3401.32409888653, 8659.411101091295, 6083.756265175327, 4951.524835934152, 4200.283224096608, 4034.65631482487, 3573.6501966519118, 3194.6435872103225, 2979.153578636331, 2712.2531627058233, 2530.6346431150473, 2499.391394141602, 2299.1484509090933, 2163.315410572586, 2158.075412021645, 2158.940249791154, 1971.975298140014, 1859.4926900352773, 1829.8505380396907, 1793.3618637288976, 1723.8845672120265, 1670.5007346057598, 1650.6243647838858, 1632.3493165599486, 1630.1015117041395, 1623.1456475966402, 1602.196731407258, 1568.5068048474918, 1483.8612459838164, 1404.940604280417, 1393.971404861646, 6698.87551644543, 3902.159887397994, 22114.706836500256, 6310.363783056359, 5781.330062634721, 4373.859797662543, 3917.8138675533687, 3834.666194959642, 3659.2580558533577, 3388.2248493625134, 3321.499607263516, 2724.838426873408, 2190.943198264691, 1951.376235181315, 1914.281123261423, 1835.6546502480714, 1806.4504386756616, 1796.6794397886226, 1781.479250293938, 1589.473427266118, 1532.545974431561, 1395.1965997298719, 1240.4950530501594, 1222.5242177437651, 1192.1348109277187, 1172.0021365267612, 1148.1376656757318, 1123.1150620335463, 1114.0345825568172, 993.1316581142827, 972.2073075191003, 968.6613816823626, 6822.319009495186, 3148.265645575311, 6698.87551644543, 10589.068091980504, 11268.123544045735, 2306.2212420140327, 12963.559675297636, 10034.794220455515, 9041.607126067885, 8284.045997347417, 5894.161121955252, 4424.626130568531, 3599.156749163279, 6695.900070736416, 2406.5739606615302, 2199.0879514320122, 1989.0651225801985, 1966.2663437161693, 1905.6551574159002, 1756.9483159736897, 1563.9866273763737, 1530.0519390161405, 1443.328528973158, 1345.5901662900833, 1334.5648660450408, 1230.2044343377968, 1185.205489005243, 1185.501189835039, 1163.335196886249, 1126.5625928074785, 1098.9477485909351, 1002.9283123542508, 971.415166600344, 938.1169217156978, 912.5325437506986, 905.5104040667256, 5796.06238501539, 2372.8668256733076, 1280.83644238648, 3902.159887397994, 1455.906801458853, 2076.1062925819065, 19527.156265624926, 6322.813917267325, 5083.031597901811, 4060.353542246105, 3871.0994463308793, 2955.5298455158845, 2803.4795697166182, 2633.6882048451434, 2622.949639855245, 2345.0994729028575, 2186.1628188621034, 2139.681454100577, 2088.929030703977, 2070.8838776734665, 1970.5011794944148, 1909.5328456677107, 1908.5093884655598, 1784.8184724056305, 1778.4567046286602, 1478.0633949496575, 1468.2388273099468, 1377.236172230235, 1370.502886955551, 1214.2234308557902, 1190.6503778104434, 1053.006433227405, 1047.0838699377246, 1039.7060147990017, 1008.7049748070311, 978.2091898072686, 5448.509419168526, 2983.462382824182, 2619.615706065666, 6616.158299666376, 5432.672636253013, 5302.985740418141, 4504.572482209958, 3901.23980318041, 3367.452119324757, 3021.07772050456, 2733.325551677209, 2311.0390804025537, 2300.8782018738766, 2260.5796939621223, 2139.79325564178, 2071.829098197291, 1968.7843829219423, 1945.4218117138803, 1876.5288586467077, 1832.7467734430302, 1738.2598326055152, 1670.7937685901252, 1531.9412048840763, 1434.2264369028487, 1419.571441023861, 1417.4350736159668, 1407.0098895320157, 1276.8591994704223, 1125.2031267101802, 1115.2365337187675, 1112.1176821537538, 1083.3153176100802, 1078.3132790382522, 2306.2212420140327, 16099.708386917946, 13678.332889428519, 9083.4774695082, 6591.491323243283, 4382.7101320866195, 3559.331253918657, 3254.6137527022615, 3216.915489636829, 3054.900520003758, 2998.187464883142, 1675.6254905532621, 1582.232671196125, 1396.8241193471742, 1250.1345261612082, 1076.2587430217695, 944.3874083874597, 934.064481653299, 915.4760418839816, 846.7732554980906, 839.8102268182333, 798.8330937160896, 791.2586629629944, 735.6940147292948, 679.3729815139272, 659.0965160678978, 611.715157385309, 589.6960563948755, 565.1643939157457, 540.0201520324564, 534.9860795660682, 2619.615706065666, 1778.3892013969173, 1581.1902792346727], \"Category\": [\"Default\", \"Default\", \"Default\", \"Default\", \"Default\", \"Default\", \"Default\", \"Default\", \"Default\", \"Default\", \"Default\", \"Default\", \"Default\", \"Default\", \"Default\", \"Default\", \"Default\", \"Default\", \"Default\", \"Default\", \"Default\", \"Default\", \"Default\", \"Default\", \"Default\", \"Default\", \"Default\", \"Default\", \"Default\", \"Default\", \"Topic1\", \"Topic1\", \"Topic1\", \"Topic1\", \"Topic1\", \"Topic1\", \"Topic1\", \"Topic1\", \"Topic1\", \"Topic1\", \"Topic1\", \"Topic1\", \"Topic1\", \"Topic1\", \"Topic1\", \"Topic1\", \"Topic1\", \"Topic1\", \"Topic1\", \"Topic1\", \"Topic1\", \"Topic1\", \"Topic1\", \"Topic1\", \"Topic1\", \"Topic1\", \"Topic1\", \"Topic1\", \"Topic1\", \"Topic1\", \"Topic1\", \"Topic1\", \"Topic1\", \"Topic1\", \"Topic1\", \"Topic1\", \"Topic1\", \"Topic1\", \"Topic1\", \"Topic1\", \"Topic2\", \"Topic2\", \"Topic2\", \"Topic2\", \"Topic2\", \"Topic2\", \"Topic2\", \"Topic2\", \"Topic2\", \"Topic2\", \"Topic2\", \"Topic2\", \"Topic2\", \"Topic2\", \"Topic2\", \"Topic2\", \"Topic2\", \"Topic2\", \"Topic2\", \"Topic2\", \"Topic2\", \"Topic2\", \"Topic2\", \"Topic2\", \"Topic2\", \"Topic2\", \"Topic2\", \"Topic2\", \"Topic2\", \"Topic2\", \"Topic2\", \"Topic2\", \"Topic3\", \"Topic3\", \"Topic3\", \"Topic3\", \"Topic3\", \"Topic3\", \"Topic3\", \"Topic3\", \"Topic3\", \"Topic3\", \"Topic3\", \"Topic3\", \"Topic3\", \"Topic3\", \"Topic3\", \"Topic3\", \"Topic3\", \"Topic3\", \"Topic3\", \"Topic3\", \"Topic3\", \"Topic3\", \"Topic3\", \"Topic3\", \"Topic3\", \"Topic3\", \"Topic3\", \"Topic3\", \"Topic3\", \"Topic3\", \"Topic3\", \"Topic3\", \"Topic3\", \"Topic3\", \"Topic3\", \"Topic3\", \"Topic4\", \"Topic4\", \"Topic4\", \"Topic4\", \"Topic4\", \"Topic4\", \"Topic4\", \"Topic4\", \"Topic4\", \"Topic4\", \"Topic4\", \"Topic4\", \"Topic4\", \"Topic4\", \"Topic4\", \"Topic4\", \"Topic4\", \"Topic4\", \"Topic4\", \"Topic4\", \"Topic4\", \"Topic4\", \"Topic4\", \"Topic4\", \"Topic4\", \"Topic4\", \"Topic4\", \"Topic4\", \"Topic4\", \"Topic4\", \"Topic4\", \"Topic4\", \"Topic4\", \"Topic4\", \"Topic4\", \"Topic4\", \"Topic5\", \"Topic5\", \"Topic5\", \"Topic5\", \"Topic5\", \"Topic5\", \"Topic5\", \"Topic5\", \"Topic5\", \"Topic5\", \"Topic5\", \"Topic5\", \"Topic5\", \"Topic5\", \"Topic5\", \"Topic5\", \"Topic5\", \"Topic5\", \"Topic5\", \"Topic5\", \"Topic5\", \"Topic5\", \"Topic5\", \"Topic5\", \"Topic5\", \"Topic5\", \"Topic5\", \"Topic5\", \"Topic5\", \"Topic5\", \"Topic5\", \"Topic5\", \"Topic5\", \"Topic6\", \"Topic6\", \"Topic6\", \"Topic6\", \"Topic6\", \"Topic6\", \"Topic6\", \"Topic6\", \"Topic6\", \"Topic6\", \"Topic6\", \"Topic6\", \"Topic6\", \"Topic6\", \"Topic6\", \"Topic6\", \"Topic6\", \"Topic6\", \"Topic6\", \"Topic6\", \"Topic6\", \"Topic6\", \"Topic6\", \"Topic6\", \"Topic6\", \"Topic6\", \"Topic6\", \"Topic6\", \"Topic6\", \"Topic6\", \"Topic6\", \"Topic7\", \"Topic7\", \"Topic7\", \"Topic7\", \"Topic7\", \"Topic7\", \"Topic7\", \"Topic7\", \"Topic7\", \"Topic7\", \"Topic7\", \"Topic7\", \"Topic7\", \"Topic7\", \"Topic7\", \"Topic7\", \"Topic7\", \"Topic7\", \"Topic7\", \"Topic7\", \"Topic7\", \"Topic7\", \"Topic7\", \"Topic7\", \"Topic7\", \"Topic7\", \"Topic7\", \"Topic7\", \"Topic7\", \"Topic7\", \"Topic7\", \"Topic7\", \"Topic7\"], \"logprob\": [30.0, 29.0, 28.0, 27.0, 26.0, 25.0, 24.0, 23.0, 22.0, 21.0, 20.0, 19.0, 18.0, 17.0, 16.0, 15.0, 14.0, 13.0, 12.0, 11.0, 10.0, 9.0, 8.0, 7.0, 6.0, 5.0, 4.0, 3.0, 2.0, 1.0, -2.7062, -3.0092, -3.2016, -3.3306, -3.4874, -3.5951, -3.7057, -3.714, -3.7824, -3.8073, -3.9762, -4.1081, -4.2103, -4.2614, -4.3799, -4.4186, -4.4705, -4.4867, -4.5094, -4.5937, -4.6916, -4.8233, -4.8685, -4.9057, -4.9628, -4.9676, -4.9867, -4.9869, -5.0161, -5.0985, -2.5249, -3.7832, -3.5727, -3.451, -3.9972, -4.217, -3.433, -4.6696, -4.6168, -4.6859, -2.7597, -3.1128, -3.3187, -3.4833, -3.5236, -3.6449, -3.7571, -3.8269, -3.9208, -3.9901, -4.0026, -4.0861, -4.147, -4.1494, -4.149, -4.2397, -4.2984, -4.3145, -4.3347, -4.3742, -4.4057, -4.4176, -4.4288, -4.4301, -4.4344, -4.4474, -4.4687, -4.5242, -4.5789, -4.5867, -3.8371, -4.1216, -1.7502, -3.0044, -3.0919, -3.371, -3.4811, -3.5026, -3.5494, -3.6264, -3.6463, -3.8443, -4.0625, -4.1783, -4.1975, -4.2395, -4.2555, -4.261, -4.2695, -4.3836, -4.4201, -4.514, -4.6316, -4.6462, -4.6714, -4.6884, -4.709, -4.7311, -4.7392, -4.8542, -4.8755, -4.8792, -2.9633, -3.9786, -3.5246, -4.4303, -4.4615, -4.6971, -2.2797, -2.5358, -2.64, -2.7275, -3.0679, -3.3548, -3.5613, -2.9406, -3.9639, -4.0541, -4.1545, -4.1661, -4.1974, -4.2787, -4.3951, -4.417, -4.4754, -4.5456, -4.5538, -4.6353, -4.6726, -4.6723, -4.6912, -4.7234, -4.7482, -4.8397, -4.8717, -4.9066, -4.9342, -4.942, -3.113, -4.3796, -4.7598, -4.321, -4.7293, -4.6456, -1.8101, -2.9378, -3.1561, -3.3808, -3.4285, -3.6984, -3.7513, -3.8138, -3.8178, -3.9299, -4.0001, -4.0216, -4.0456, -4.0543, -4.104, -4.1354, -4.136, -4.203, -4.2066, -4.3917, -4.3983, -4.4624, -4.4673, -4.5884, -4.608, -4.731, -4.7366, -4.7437, -4.774, -4.8047, -3.1939, -4.0804, -4.3455, -2.6826, -2.8797, -2.9039, -3.0671, -3.2109, -3.3581, -3.4667, -3.5668, -3.7347, -3.7391, -3.7568, -3.8117, -3.844, -3.895, -3.907, -3.9431, -3.9667, -4.0196, -4.0592, -4.146, -4.212, -4.2223, -4.2238, -4.2312, -4.3283, -4.4548, -4.4637, -4.4665, -4.4928, -4.4974, -4.437, -1.7211, -1.8841, -2.2935, -2.6142, -3.0224, -3.2306, -3.3201, -3.3317, -3.3834, -3.4022, -3.9842, -4.0416, -4.1663, -4.2773, -4.4272, -4.558, -4.569, -4.5891, -4.6672, -4.6755, -4.7256, -4.7351, -4.808, -4.8878, -4.9181, -4.9928, -5.0295, -5.0721, -5.1176, -5.127, -4.4305, -4.6386, -4.8916], \"loglift\": [30.0, 29.0, 28.0, 27.0, 26.0, 25.0, 24.0, 23.0, 22.0, 21.0, 20.0, 19.0, 18.0, 17.0, 16.0, 15.0, 14.0, 13.0, 12.0, 11.0, 10.0, 9.0, 8.0, 7.0, 6.0, 5.0, 4.0, 3.0, 2.0, 1.0, 1.249, 1.2489, 1.2489, 1.2489, 1.2489, 1.2489, 1.2489, 1.2489, 1.2489, 1.2489, 1.2488, 1.2488, 1.2488, 1.2488, 1.2488, 1.2488, 1.2487, 1.2487, 1.2487, 1.2487, 1.2487, 1.2486, 1.2486, 1.2486, 1.2486, 1.2486, 1.2486, 1.2486, 1.2485, 1.2485, 1.2478, 1.2452, 1.1385, 1.0737, 1.135, 1.1545, 1.0295, 1.1844, 1.0769, 0.9745, 1.9661, 1.9661, 1.9661, 1.966, 1.966, 1.966, 1.966, 1.9659, 1.9659, 1.9659, 1.9659, 1.9658, 1.9658, 1.9658, 1.9658, 1.9658, 1.9658, 1.9658, 1.9657, 1.9657, 1.9657, 1.9657, 1.9657, 1.9657, 1.9657, 1.9657, 1.9657, 1.9656, 1.9656, 1.9656, 1.1454, 1.4014, 2.038, 2.0379, 2.0379, 2.0379, 2.0378, 2.0378, 2.0378, 2.0378, 2.0378, 2.0378, 2.0377, 2.0376, 2.0376, 2.0376, 2.0376, 2.0376, 2.0376, 2.0375, 2.0375, 2.0374, 2.0374, 2.0374, 2.0373, 2.0373, 2.0373, 2.0373, 2.0373, 2.0372, 2.0372, 2.0372, 2.001, 1.759, 1.4579, 0.0943, 0.001, 1.3517, 2.0427, 2.0426, 2.0426, 2.0426, 2.0426, 2.0425, 2.0425, 2.0424, 2.0424, 2.0423, 2.0423, 2.0423, 2.0423, 2.0422, 2.0422, 2.0422, 2.0421, 2.0421, 2.0421, 2.042, 2.042, 2.042, 2.042, 2.042, 2.0419, 2.0419, 2.0418, 2.0418, 2.0418, 2.0418, 2.0143, 1.6408, 1.8772, 1.2019, 1.7796, 1.5083, 2.1026, 2.1025, 2.1025, 2.1025, 2.1024, 2.1024, 2.1024, 2.1023, 2.1023, 2.1023, 2.1023, 2.1023, 2.1023, 2.1022, 2.1022, 2.1022, 2.1022, 2.1022, 2.1022, 2.1021, 2.1021, 2.102, 2.102, 2.1019, 2.1019, 2.1018, 2.1018, 2.1018, 2.1018, 2.1018, 1.9953, 1.711, 1.576, 2.3123, 2.3123, 2.3123, 2.3123, 2.3122, 2.3122, 2.3122, 2.3121, 2.3121, 2.3121, 2.3121, 2.3121, 2.312, 2.312, 2.312, 2.312, 2.312, 2.312, 2.3119, 2.3119, 2.3119, 2.3119, 2.3119, 2.3119, 2.3118, 2.3117, 2.3117, 2.3117, 2.3117, 2.3117, 1.6118, 2.3845, 2.3845, 2.3845, 2.3845, 2.3844, 2.3844, 2.3843, 2.3843, 2.3843, 2.3843, 2.3841, 2.3841, 2.384, 2.3839, 2.3838, 2.3837, 2.3837, 2.3837, 2.3836, 2.3836, 2.3835, 2.3835, 2.3834, 2.3833, 2.3833, 2.3832, 2.3831, 2.3831, 2.383, 2.383, 1.491, 1.6702, 1.5347]}, \"token.table\": {\"Topic\": [2, 2, 6, 7, 1, 6, 2, 3, 2, 5, 7, 4, 4, 5, 7, 1, 4, 5, 5, 3, 5, 7, 6, 1, 4, 5, 6, 1, 1, 2, 4, 2, 1, 3, 7, 5, 4, 2, 3, 3, 3, 7, 7, 6, 2, 2, 4, 6, 5, 6, 7, 5, 7, 2, 4, 3, 4, 6, 4, 2, 4, 4, 4, 4, 5, 6, 7, 3, 7, 3, 6, 5, 1, 6, 5, 3, 6, 7, 1, 1, 6, 7, 2, 3, 3, 1, 2, 3, 1, 6, 5, 5, 3, 3, 5, 6, 1, 4, 7, 4, 4, 7, 2, 2, 1, 2, 3, 5, 6, 6, 3, 7, 4, 1, 2, 4, 6, 3, 2, 3, 7, 3, 2, 3, 5, 5, 1, 5, 5, 2, 1, 2, 4, 7, 1, 5, 7, 7, 3, 4, 6, 6, 3, 4, 5, 1, 1, 7, 6, 7, 3, 1, 1, 3, 5, 4, 2, 4, 5, 6, 5, 6, 4, 6, 4, 1, 7, 6, 1, 1, 2, 5, 2, 1, 2, 7, 3, 7, 7, 7, 2, 4, 1, 1, 4, 6, 4, 7, 2, 5, 3, 6, 6, 1, 4, 1, 4, 4, 5, 2, 3, 7, 7, 3, 5, 5, 5, 4, 2, 2, 3, 6, 1, 1, 3, 5, 2, 6, 6, 4, 7, 3, 6, 1, 3, 5, 7, 3, 6, 3, 2, 5, 4, 5, 3, 2, 4, 2, 5, 1, 5, 1, 2, 6, 2, 1, 7, 6, 2, 1, 2, 3, 6, 2, 1, 1, 3, 5, 3, 4, 3, 1, 2, 2, 5, 1, 2, 3, 7, 4], \"Freq\": [0.9997985417800912, 0.9994195912952458, 0.9993856129196893, 0.9988603766932505, 0.9996698928991813, 0.9998761868608603, 0.44007385907721325, 0.5597954448912991, 0.9996944910549731, 0.9995311615069801, 0.9999254609891467, 0.999500611141298, 0.999577233798383, 0.9993011090213311, 0.9994509915406172, 0.9994379754669181, 0.847102693282529, 0.15224426284801212, 0.9997456588711389, 0.9997309818265585, 0.9998289376809453, 0.9996259820107524, 0.9998729108672978, 0.9999128963694055, 0.9993124814986235, 0.8982273175085844, 0.101679185512823, 0.9997562926343798, 0.9994671111395977, 0.999324268031021, 0.9999328519742762, 0.999505420711439, 0.9987285977519849, 0.001246574276158141, 0.9995897781101072, 0.9995414254064016, 0.9999208533390853, 0.9996127830922839, 0.9998034235887024, 0.99900717026132, 0.5100120936899275, 0.4892067491843847, 0.9996267121998391, 0.9998141159591232, 0.9997350406173052, 0.9992406085149677, 0.9988522681254529, 0.99951504068866, 0.9996815160970476, 0.9995974552549121, 0.9981568126653538, 0.5723536325040133, 0.4275260282571414, 0.999501680054527, 0.9990743980972362, 0.9991449362628885, 0.9991375853927993, 0.9996432662101854, 0.9996562035826101, 0.5684031572265964, 0.4312996003662587, 0.9990209478163318, 0.9997615030034762, 0.99995682703581, 0.9995552598052295, 0.9997435640231261, 0.9988196353234395, 0.9993307549001788, 0.9983363346017371, 0.9996009229952654, 0.9995249152797625, 0.999468100522033, 0.999682208937568, 0.9995503838894958, 0.9992805484843945, 0.5034209115974033, 0.49648315570975604, 0.9984092901324061, 0.999784031267682, 0.9995827455302344, 0.9993270992833206, 0.9990924767395298, 0.999621740235267, 0.9999680377178191, 0.9996923021691344, 0.9999526557230686, 0.999303138602228, 0.9995712005241641, 0.9998425314971261, 0.9996930557003526, 0.9999407867889621, 0.9991562494555354, 0.9998071949557795, 0.999643746784325, 0.9997386916021884, 0.9995998230751695, 0.9996714586899592, 0.9995767414088198, 0.9999560000155953, 0.9994164112235278, 0.9995052715234496, 0.9981109000680495, 0.9991733898214923, 0.9995351871521694, 0.7599981433248996, 0.08055686316093713, 0.1555276664676487, 0.003822040952891178, 0.9998249286649574, 0.999783177246528, 0.9996433696022381, 0.9996039390808444, 0.9995726167197935, 0.9998596580558591, 0.3308234543576857, 0.6688112383001875, 0.9991448791688032, 0.9987581789297788, 0.036351275813229764, 0.9636019645006955, 0.9997154138367084, 0.9997021483605848, 0.9997002487964317, 0.9996384982057068, 0.9998712729367059, 0.9997330961699018, 0.9998912552394188, 0.9997209549608327, 0.9987638740058179, 0.9997492158274313, 0.9996026932238435, 0.41375530870903654, 0.5861934932466792, 0.999410004927779, 0.9994973053405081, 0.9994537625632477, 0.9988304457176947, 0.9998114207248857, 0.9998262704168311, 0.9997162337077401, 0.00014934512006389904, 0.9998657384548507, 0.9997922648750343, 0.97203922693545, 0.027950009720188657, 0.9998843914773881, 0.9998215441416619, 0.999947435383662, 0.9997181718553004, 0.9994800061801706, 0.9998495838258047, 0.9998418587289929, 0.9999155518262903, 0.999656199198265, 0.9997970506612162, 0.9996786055057069, 0.9993305024585729, 0.15988135219873828, 0.6760601412680401, 0.16390352458109647, 0.9998207274013191, 0.9989949965082928, 0.9988094003105124, 0.9988912363598381, 0.9990795380632411, 0.999755982073609, 0.9992209292485452, 0.9996292839788664, 0.9993563270185324, 0.8953658043079185, 0.10105297842214432, 0.0035277503728451285, 0.9995644854964165, 0.9374145146212364, 0.05816466154673069, 0.00428206097276545, 0.9997699382978811, 0.999837969643162, 0.9990566530168793, 0.9979397252759004, 0.9996768870584906, 0.999858489610183, 0.9998962287763746, 0.999706252978094, 0.998982886076359, 0.9992752334364036, 0.9994645109563749, 0.9997052211691145, 0.9998373306736292, 0.9989924170258122, 0.9990091208487074, 0.9996015902357077, 0.9989307470965728, 0.9962456792217351, 0.003750571968834768, 0.9999054267576855, 0.9995614071023494, 0.9998030047141183, 0.9990442287951458, 0.24330856612324464, 0.7566070554902986, 0.9990868210668323, 0.9988308980467873, 0.9997506498567479, 0.999666644238729, 0.99910242538269, 0.9989648680790116, 0.9994363355026807, 0.9998940051900087, 0.9998180581153352, 0.9996218358302678, 0.999282244183549, 0.9996080380523015, 0.8922269763935619, 0.10767060869420945, 0.9995731882009437, 0.9992530683755627, 0.9987858404762687, 0.9996183188344514, 0.9994602482241123, 0.9989571116636967, 0.9995695012698467, 0.9995925386671791, 0.9999178716152362, 0.9993172209660987, 0.5905446346263513, 0.40922032858400037, 0.9991423432868862, 0.9987820987983905, 0.999048085067799, 0.999500488579309, 0.9993209476631352, 0.9998737335176854, 0.999633063921034, 0.999071319173555, 0.9998434042213158, 0.9993559653196443, 0.999875691079267, 0.9997159860277107, 0.9098718752014884, 0.09008414353846737, 0.8417414984841988, 0.10761158918866247, 0.05046193165344059, 0.9992941806557307, 0.9999402725297264, 0.9999025546870884, 0.9996822027757947, 0.9994868756128741, 0.8028843457951422, 0.02058905363374301, 0.13045650362759578, 0.04605913291341648, 0.999952525513976, 0.9999534234932954, 0.9997249326758509, 0.9997838820227732, 0.9996379496423357, 0.23078400325029053, 0.7685931536817712, 0.9988605155167126, 0.9999344329451071, 0.9993919469319372, 0.9995379624870367, 0.9997432017167066, 0.8391673301949677, 0.017565285101987845, 0.14316651728286867, 0.9990352263018956, 0.9993691586877385], \"Term\": [\"access\", \"action\", \"address\", \"amount\", \"answer\", \"api\", \"app\", \"app\", \"application\", \"argument\", \"array\", \"attribute\", \"background\", \"bar\", \"behaviour\", \"bit\", \"block\", \"block\", \"branch\", \"build\", \"button\", \"c\", \"call\", \"case\", \"cell\", \"change\", \"change\", \"character\", \"check\", \"child\", \"class\", \"client\", \"code\", \"code\", \"collection\", \"color\", \"column\", \"com\", \"command\", \"comment\", \"compile\", \"compile\", \"compiler\", \"component\", \"connection\", \"console\", \"constructor\", \"container\", \"content\", \"context\", \"conversion\", \"copy\", \"copy\", \"core\", \"count\", \"create\", \"css\", \"custom\", \"data\", \"database\", \"database\", \"dataframe\", \"date\", \"datum\", \"day\", \"default\", \"define\", \"dependency\", \"deployment\", \"device\", \"difference\", \"directory\", \"display\", \"docker\", \"document\", \"documentation\", \"documentation\", \"effect\", \"element\", \"end\", \"entity\", \"entry\", \"environment\", \"error\", \"event\", \"example\", \"extension\", \"feature\", \"field\", \"figure\", \"file\", \"filter\", \"fix\", \"flutter\", \"folder\", \"form\", \"format\", \"frame\", \"function\", \"graph\", \"group\", \"hash\", \"header\", \"https\", \"idea\", \"idea\", \"idea\", \"idea\", \"image\", \"implementation\", \"import\", \"index\", \"info\", \"input\", \"instance\", \"instance\", \"interface\", \"io\", \"issue\", \"issue\", \"item\", \"key\", \"level\", \"library\", \"line\", \"link\", \"list\", \"load\", \"location\", \"log\", \"loop\", \"lot\", \"lot\", \"map\", \"match\", \"matrix\", \"member\", \"memory\", \"message\", \"method\", \"method\", \"model\", \"module\", \"name\", \"name\", \"need\", \"number\", \"object\", \"operation\", \"operator\", \"option\", \"order\", \"output\", \"package\", \"page\", \"parameter\", \"parent\", \"part\", \"part\", \"part\", \"path\", \"performance\", \"php\", \"pipeline\", \"plot\", \"point\", \"pointer\", \"post\", \"print\", \"problem\", \"problem\", \"problem\", \"process\", \"program\", \"program\", \"program\", \"project\", \"property\", \"provider\", \"push\", \"python\", \"query\", \"question\", \"r\", \"range\", \"react\", \"record\", \"reference\", \"request\", \"resolve\", \"resource\", \"response\", \"rest\", \"result\", \"result\", \"return\", \"route\", \"row\", \"rule\", \"run\", \"run\", \"rust\", \"scope\", \"screen\", \"script\", \"search\", \"section\", \"sequence\", \"server\", \"service\", \"show\", \"side\", \"size\", \"solution\", \"solution\", \"source\", \"spring\", \"stack\", \"state\", \"statement\", \"status\", \"step\", \"store\", \"string\", \"struct\", \"structure\", \"structure\", \"studio\", \"style\", \"sum\", \"system\", \"tab\", \"table\", \"tag\", \"target\", \"task\", \"template\", \"test\", \"text\", \"thank\", \"thank\", \"thing\", \"thing\", \"thing\", \"thread\", \"time\", \"type\", \"update\", \"url\", \"use\", \"use\", \"use\", \"use\", \"user\", \"value\", \"variable\", \"version\", \"view\", \"want\", \"want\", \"warning\", \"way\", \"web\", \"window\", \"word\", \"work\", \"work\", \"work\", \"worker\", \"year\"]}, \"R\": 30, \"lambda.step\": 0.01, \"plot.opts\": {\"xlab\": \"PC1\", \"ylab\": \"PC2\"}, \"topic.order\": [4, 1, 3, 7, 6, 5, 2]};\n",
       "\n",
       "function LDAvis_load_lib(url, callback){\n",
       "  var s = document.createElement('script');\n",
       "  s.src = url;\n",
       "  s.async = true;\n",
       "  s.onreadystatechange = s.onload = callback;\n",
       "  s.onerror = function(){console.warn(\"failed to load library \" + url);};\n",
       "  document.getElementsByTagName(\"head\")[0].appendChild(s);\n",
       "}\n",
       "\n",
       "if(typeof(LDAvis) !== \"undefined\"){\n",
       "   // already loaded: just create the visualization\n",
       "   !function(LDAvis){\n",
       "       new LDAvis(\"#\" + \"ldavis_el3327618615098102081479170522\", ldavis_el3327618615098102081479170522_data);\n",
       "   }(LDAvis);\n",
       "}else if(typeof define === \"function\" && define.amd){\n",
       "   // require.js is available: use it to load d3/LDAvis\n",
       "   require.config({paths: {d3: \"https://d3js.org/d3.v5\"}});\n",
       "   require([\"d3\"], function(d3){\n",
       "      window.d3 = d3;\n",
       "      LDAvis_load_lib(\"https://cdn.jsdelivr.net/gh/bmabey/pyLDAvis@3.4.0/pyLDAvis/js/ldavis.v3.0.0.js\", function(){\n",
       "        new LDAvis(\"#\" + \"ldavis_el3327618615098102081479170522\", ldavis_el3327618615098102081479170522_data);\n",
       "      });\n",
       "    });\n",
       "}else{\n",
       "    // require.js not available: dynamically load d3 & LDAvis\n",
       "    LDAvis_load_lib(\"https://d3js.org/d3.v5.js\", function(){\n",
       "         LDAvis_load_lib(\"https://cdn.jsdelivr.net/gh/bmabey/pyLDAvis@3.4.0/pyLDAvis/js/ldavis.v3.0.0.js\", function(){\n",
       "                 new LDAvis(\"#\" + \"ldavis_el3327618615098102081479170522\", ldavis_el3327618615098102081479170522_data);\n",
       "            })\n",
       "         });\n",
       "}\n",
       "</script>"
      ],
      "text/plain": [
       "PreparedData(topic_coordinates=              x         y  topics  cluster       Freq\n",
       "topic                                                \n",
       "3      0.216939 -0.387048       1        1  28.678814\n",
       "0     -0.185637  0.414309       2        1  13.998379\n",
       "2     -0.038911 -0.010944       3        1  13.028002\n",
       "6     -0.468691  0.041542       4        1  12.967464\n",
       "5      0.256156  0.363554       5        1  12.213044\n",
       "4      0.461430 -0.014850       6        1   9.901685\n",
       "1     -0.241285 -0.406563       7        1   9.212612, topic_info=           Term          Freq         Total Category  logprob  loglift\n",
       "6         error  22114.000000  22114.000000  Default  30.0000  30.0000\n",
       "7          file  19527.000000  19527.000000  Default  29.0000  29.0000\n",
       "21     function  16099.000000  16099.000000  Default  28.0000  28.0000\n",
       "28         type  13678.000000  13678.000000  Default  27.0000  27.0000\n",
       "64         code  22461.000000  22461.000000  Default  26.0000  26.0000\n",
       "..          ...           ...           ...      ...      ...      ...\n",
       "482        hash    539.154193    540.020152   Topic7  -5.1176   2.3830\n",
       "396  conversion    534.120300    534.986080   Topic7  -5.1270   2.3830\n",
       "57    structure   1071.898999   2619.615706   Topic7  -4.4305   1.4910\n",
       "390     compile    870.489431   1778.389201   Topic7  -4.6386   1.6702\n",
       "45         copy    675.921455   1581.190279   Topic7  -4.8916   1.5347\n",
       "\n",
       "[271 rows x 6 columns], token_table=      Topic      Freq     Term\n",
       "term                          \n",
       "116       2  0.999799   access\n",
       "274       2  0.999420   action\n",
       "340       6  0.999386  address\n",
       "361       7  0.998860   amount\n",
       "39        1  0.999670   answer\n",
       "...     ...       ...      ...\n",
       "115       1  0.839167     work\n",
       "115       2  0.017565     work\n",
       "115       3  0.143167     work\n",
       "478       7  0.999035   worker\n",
       "227       4  0.999369     year\n",
       "\n",
       "[270 rows x 3 columns], R=30, lambda_step=0.01, plot_opts={'xlab': 'PC1', 'ylab': 'PC2'}, topic_order=[4, 1, 3, 7, 6, 5, 2])"
      ]
     },
     "execution_count": 15,
     "metadata": {},
     "output_type": "execute_result"
    }
   ],
   "source": [
    "pyLDAvis.enable_notebook()\n",
    "vis = pyLDAvis.gensim.prepare(lda_model, corpus, id2word, mds=\"mmds\", R=30, n_jobs=1)\n",
    "vis"
   ]
  },
  {
   "cell_type": "markdown",
   "metadata": {},
   "source": [
    "## **NMF**"
   ]
  },
  {
   "cell_type": "code",
   "execution_count": 16,
   "metadata": {},
   "outputs": [],
   "source": [
    "# Les tests étant très longs, ne les lançons pas à chaque exécution du notebook\n",
    "do_test = False\n",
    "\n",
    "if do_test:\n",
    "    for i in range(1, 41):\n",
    "\n",
    "        num_topics_nmf = i\n",
    "\n",
    "        nmf_model = Nmf(corpus=corpus,\n",
    "                id2word=id2word,\n",
    "                num_topics=num_topics_nmf,\n",
    "                random_state=100,\n",
    "                chunksize=100,\n",
    "                passes=10,\n",
    "        )\n",
    "        \n",
    "        coherence_model = CoherenceModel(model=nmf_model, texts=data['corpus'], dictionary=id2word, coherence='c_v')\n",
    "\n",
    "        coherence_score = coherence_model.get_coherence()\n",
    "\n",
    "        print(f\"Score de cohérence avec {nmf_model.num_topics} topics : {coherence_score:.4f}\")"
   ]
  },
  {
   "cell_type": "code",
   "execution_count": 17,
   "metadata": {},
   "outputs": [
    {
     "data": {
      "image/png": "[encoded data removed]",
      "text/plain": [
       "<Figure size 1000x600 with 1 Axes>"
      ]
     },
     "metadata": {},
     "output_type": "display_data"
    }
   ],
   "source": [
    "# Données provenant des tests réalisés : \n",
    "tests_results = {\n",
    "                1 : 0.3808,\n",
    "                2 : 0.4355,\n",
    "                3 : 0.5256,\n",
    "                4 : 0.5430,\n",
    "                5 : 0.5064,\n",
    "                6 : 0.5315,\n",
    "                7 : 0.5147,\n",
    "                8 : 0.5352,\n",
    "                9 : 0.5317,\n",
    "                10 : 0.5308,\n",
    "                11 : 0.5312,\n",
    "                12 : 0.5269,\n",
    "                13 : 0.5235,\n",
    "                14 : 0.5274,\n",
    "                15 : 0.5176,\n",
    "                16 : 0.5127,\n",
    "                17 : 0.5242,\n",
    "                18 : 0.5340,\n",
    "                19 : 0.5329,\n",
    "                20 : 0.5331,\n",
    "                21 : 0.5325,\n",
    "                22 : 0.5402,\n",
    "                23 : 0.5216,\n",
    "                24 : 0.5405,\n",
    "                25 : 0.5355,\n",
    "                26 : 0.5344,\n",
    "                27 : 0.5319,\n",
    "                28 : 0.5446,\n",
    "                29 : 0.5388,\n",
    "                30 : 0.5453,\n",
    "                31 : 0.5419,\n",
    "                32 : 0.5320,\n",
    "                33 : 0.5270,\n",
    "                34 : 0.5480,\n",
    "                35 : 0.5416,\n",
    "                36 : 0.5403,\n",
    "                37 : 0.5308,\n",
    "                38 : 0.5363,\n",
    "                39 : 0.5450,\n",
    "                40 : 0.5404,\n",
    "}\n",
    "\n",
    "\n",
    "# Réprésentation graphique des résultats : \n",
    "\n",
    "num_topics = list(tests_results.keys())\n",
    "coherence_scores = list(tests_results.values())\n",
    "\n",
    "# Créer un graphique à l'aide de matplotlib\n",
    "plt.figure(figsize=(10, 6))  # Définir la taille du graphique (facultatif)\n",
    "\n",
    "# Tracer la courbe des scores de cohérence\n",
    "plt.plot(num_topics, coherence_scores, marker='o', linestyle='-')\n",
    "\n",
    "# Ajouter des étiquettes et un titre\n",
    "plt.xlabel('Nombre de Topics')\n",
    "plt.ylabel('Score de Cohérence')\n",
    "plt.title('Évolution du Score de Cohérence en fonction du Nombre de Topics')\n",
    "\n",
    "# Afficher la légende (facultatif)\n",
    "plt.legend(['Score de Cohérence'])\n",
    "\n",
    "# Afficher le graphique\n",
    "plt.grid(True)  # Activer la grille (facultatif)\n",
    "plt.show()"
   ]
  },
  {
   "cell_type": "code",
   "execution_count": 18,
   "metadata": {},
   "outputs": [
    {
     "name": "stdout",
     "output_type": "stream",
     "text": [
      "Durée du traitement : 8.81 s\n"
     ]
    }
   ],
   "source": [
    "num_topics_nmf = 7\n",
    "\n",
    "debut = time.time()  # Heure de début du traitement\n",
    "# Train the model on the corpus.\n",
    "nmf_model = Nmf(corpus=corpus,\n",
    "          id2word=id2word,\n",
    "          num_topics=num_topics_nmf,\n",
    "          random_state=100,\n",
    "          chunksize=100,\n",
    "          passes=10,\n",
    ")\n",
    "print(f\"Durée du traitement : {(time.time() - debut):.2f} s\")"
   ]
  },
  {
   "cell_type": "markdown",
   "metadata": {},
   "source": [
    "- Calcul du score de cohérence de ce modèle : "
   ]
  },
  {
   "cell_type": "code",
   "execution_count": 19,
   "metadata": {},
   "outputs": [
    {
     "name": "stdout",
     "output_type": "stream",
     "text": [
      "Durée du traitement : 2.91 s\n",
      "Score de cohérence avec 7 topics : 0.5147\n"
     ]
    }
   ],
   "source": [
    "debut = time.time()  # Heure de début du traitement\n",
    "\n",
    "coherence_model = CoherenceModel(model=nmf_model, texts=data['corpus'], dictionary=id2word, coherence='c_v')\n",
    "\n",
    "coherence_score = coherence_model.get_coherence()\n",
    "\n",
    "print(f\"Durée du traitement : {(time.time() - debut):.2f} s\")\n",
    "\n",
    "print(f\"Score de cohérence avec {nmf_model.num_topics} topics : {coherence_score:.4f}\")"
   ]
  },
  {
   "cell_type": "markdown",
   "metadata": {},
   "source": [
    "- Affichage des topics trouvés avec LDA\n",
    "\n",
    "*num_words* pour choisir le nombre de mot à afficher pour chaque topic<br>\n",
    "À chaque mot est associé un nombre : son importance pour le topic en question.\n"
   ]
  },
  {
   "cell_type": "code",
   "execution_count": 20,
   "metadata": {},
   "outputs": [
    {
     "name": "stdout",
     "output_type": "stream",
     "text": [
      "(0, '0.355*\"type\" + 0.038*\"object\" + 0.031*\"parameter\" + 0.023*\"property\" + 0.023*\"string\" + 0.021*\"typescript\" + 0.021*\"argument\" + 0.020*\"return\" + 0.017*\"example\" + 0.017*\"way\" + 0.017*\"pointer\" + 0.011*\"error\" + 0.011*\"array\" + 0.010*\"template\" + 0.010*\"interface\" + 0.010*\"member\" + 0.009*\"case\" + 0.009*\"question\" + 0.009*\"reference\" + 0.009*\"compiler\"')\n",
      "(1, '0.115*\"error\" + 0.059*\"code\" + 0.019*\"project\" + 0.018*\"version\" + 0.016*\"issue\" + 0.016*\"app\" + 0.014*\"message\" + 0.013*\"package\" + 0.013*\"server\" + 0.012*\"problem\" + 0.011*\"work\" + 0.010*\"user\" + 0.009*\"use\" + 0.009*\"line\" + 0.009*\"command\" + 0.008*\"api\" + 0.008*\"sample\" + 0.008*\"request\" + 0.008*\"application\" + 0.007*\"page\"')\n",
      "(2, '0.288*\"function\" + 0.032*\"code\" + 0.023*\"call\" + 0.019*\"argument\" + 0.017*\"return\" + 0.016*\"parameter\" + 0.015*\"use\" + 0.014*\"way\" + 0.012*\"work\" + 0.012*\"time\" + 0.012*\"example\" + 0.011*\"pointer\" + 0.011*\"c\" + 0.011*\"question\" + 0.011*\"output\" + 0.010*\"array\" + 0.008*\"template\" + 0.008*\"result\" + 0.008*\"variable\" + 0.008*\"problem\"')\n",
      "(3, '0.065*\"class\" + 0.030*\"method\" + 0.023*\"way\" + 0.019*\"object\" + 0.017*\"list\" + 0.016*\"code\" + 0.016*\"datum\" + 0.015*\"user\" + 0.015*\"use\" + 0.014*\"example\" + 0.014*\"time\" + 0.013*\"test\" + 0.013*\"work\" + 0.013*\"problem\" + 0.011*\"component\" + 0.011*\"element\" + 0.010*\"page\" + 0.010*\"question\" + 0.010*\"case\" + 0.009*\"api\"')\n",
      "(4, '0.094*\"column\" + 0.065*\"table\" + 0.062*\"datum\" + 0.052*\"row\" + 0.024*\"query\" + 0.022*\"number\" + 0.020*\"date\" + 0.019*\"time\" + 0.017*\"name\" + 0.015*\"example\" + 0.015*\"output\" + 0.014*\"image\" + 0.014*\"result\" + 0.013*\"way\" + 0.012*\"code\" + 0.011*\"sample\" + 0.009*\"record\" + 0.008*\"database\" + 0.008*\"index\" + 0.008*\"text\"')\n",
      "(5, '0.222*\"file\" + 0.024*\"line\" + 0.022*\"project\" + 0.015*\"framework\" + 0.015*\"folder\" + 0.015*\"package\" + 0.015*\"version\" + 0.014*\"program\" + 0.013*\"module\" + 0.012*\"directory\" + 0.012*\"script\" + 0.012*\"path\" + 0.011*\"library\" + 0.011*\"command\" + 0.010*\"use\" + 0.009*\"way\" + 0.009*\"python\" + 0.009*\"output\" + 0.008*\"image\" + 0.008*\"name\"')\n",
      "(6, '0.272*\"value\" + 0.037*\"array\" + 0.022*\"string\" + 0.020*\"code\" + 0.016*\"object\" + 0.015*\"example\" + 0.015*\"way\" + 0.014*\"output\" + 0.013*\"number\" + 0.013*\"list\" + 0.012*\"input\" + 0.012*\"element\" + 0.012*\"variable\" + 0.010*\"return\" + 0.010*\"case\" + 0.010*\"result\" + 0.009*\"field\" + 0.009*\"change\" + 0.009*\"index\" + 0.008*\"group\"')\n"
     ]
    }
   ],
   "source": [
    "# Nombre de mots à afficher pour chaque topics\n",
    "num_words = 20\n",
    "\n",
    "topics_nmf = nmf_model.show_topics(num_topics=num_topics_nmf, num_words=num_words)\n",
    "\n",
    "for topic in topics_nmf:\n",
    "    print(topic)"
   ]
  },
  {
   "cell_type": "markdown",
   "metadata": {},
   "source": [
    "- Pour chaque document, 3 mots (maximum, si possible) qui sont à la fois présents dans le document d'origine et du topic associé le plus probable. En choisissant la taille du topic avec topn=50 (donc des topics longs de 50 mots)"
   ]
  },
  {
   "cell_type": "code",
   "execution_count": 21,
   "metadata": {},
   "outputs": [
    {
     "name": "stdout",
     "output_type": "stream",
     "text": [
      "Pourcentage de listes vides : 29.92%\n",
      "Durée du traitement : 35.16 s\n",
      "Pour les 10 premiers document : \n"
     ]
    },
    {
     "data": {
      "text/plain": [
       "[['definition'],\n",
       " [],\n",
       " [],\n",
       " ['way'],\n",
       " [],\n",
       " [],\n",
       " ['object', 'array', 'property'],\n",
       " ['way'],\n",
       " ['file', 'script', 'button'],\n",
       " ['memory']]"
      ]
     },
     "metadata": {},
     "output_type": "display_data"
    }
   ],
   "source": [
    "debut = time.time()  # Heure de début du traitement\n",
    "\n",
    "# Liste pour stocker les mots du sujet les plus probables présents dans le document\n",
    "top_words_in_document_nmf = []\n",
    "\n",
    "# Parcourir les documents\n",
    "for i, doc in enumerate(corpus):  # Assurez-vous que 'corpus' correspond à votre corpus de documents\n",
    "    # Obtenir les probabilités d'appartenance aux topics pour ce document\n",
    "    doc_topics = nmf_model.get_document_topics(doc)\n",
    "    \n",
    "    # Trouver le sujet le plus probable pour ce document\n",
    "    most_probable_topic = max(doc_topics, key=lambda x: x[1])[0]\n",
    "    \n",
    "    # Obtenir les mots du sujet le plus probable\n",
    "    top_words = [word for word, _ in lda_model.show_topic(most_probable_topic, topn=50)]  # topn=50 : taille (en mot) du sujet\n",
    "    \n",
    "    # Filtrer les mots du sujet présents dans le document\n",
    "    words_in_document = [word for word in top_words if word in data['corpus'][i]]\n",
    "    \n",
    "    # Sélectionner jusqu'à trois mots du sujet présents dans le document\n",
    "    selected_words = words_in_document[:3]\n",
    "    \n",
    "    # Ajouter les mots à la liste\n",
    "    top_words_in_document_nmf.append(selected_words)\n",
    "\n",
    "# Maintenant, 'top_words_in_document' contient jusqu'à trois mots du sujet les plus probables qui sont également présents dans chaque document\n",
    "\n",
    "\n",
    "\n",
    "\n",
    "# Calculer le pourcentage de listes vides dans top_words_in_document\n",
    "empty_lists_count = sum(1 for words in top_words_in_document_nmf if not words)\n",
    "total_lists = len(top_words_in_document_nmf)\n",
    "percentage_empty_lists = (empty_lists_count / total_lists) * 100\n",
    "\n",
    "# Afficher le pourcentage\n",
    "print(f\"Pourcentage de listes vides : {percentage_empty_lists:.2f}%\")\n",
    "\n",
    "\n",
    "print(f\"Durée du traitement : {(time.time() - debut):.2f} s\")\n",
    "\n",
    "\n",
    "print(\"Pour les 10 premiers document : \")\n",
    "display(top_words_in_document_nmf[:10])\n",
    "\n"
   ]
  },
  {
   "cell_type": "markdown",
   "metadata": {},
   "source": [
    "- Création de la colonne *NMF_predicted_tags* dans notre dataset : "
   ]
  },
  {
   "cell_type": "code",
   "execution_count": 22,
   "metadata": {},
   "outputs": [
    {
     "data": {
      "text/html": [
       "<div>\n",
       "<style scoped>\n",
       "    .dataframe tbody tr th:only-of-type {\n",
       "        vertical-align: middle;\n",
       "    }\n",
       "\n",
       "    .dataframe tbody tr th {\n",
       "        vertical-align: top;\n",
       "    }\n",
       "\n",
       "    .dataframe thead th {\n",
       "        text-align: right;\n",
       "    }\n",
       "</style>\n",
       "<table border=\"1\" class=\"dataframe\">\n",
       "  <thead>\n",
       "    <tr style=\"text-align: right;\">\n",
       "      <th></th>\n",
       "      <th>corpus</th>\n",
       "      <th>tags</th>\n",
       "      <th>LDA_predicted_tags</th>\n",
       "      <th>NMF_predicted_tags</th>\n",
       "    </tr>\n",
       "  </thead>\n",
       "  <tbody>\n",
       "    <tr>\n",
       "      <th>0</th>\n",
       "      <td>[firebase, testing, error, class, definition, ...</td>\n",
       "      <td>[jestjs, firebase, reactjs]</td>\n",
       "      <td>[test, app, header]</td>\n",
       "      <td>[definition]</td>\n",
       "    </tr>\n",
       "    <tr>\n",
       "      <th>1</th>\n",
       "      <td>[block, language, block, job, job]</td>\n",
       "      <td>[async-await, concurrency]</td>\n",
       "      <td>[]</td>\n",
       "      <td>[]</td>\n",
       "    </tr>\n",
       "    <tr>\n",
       "      <th>2</th>\n",
       "      <td>[type, function, typescript, function, type, i...</td>\n",
       "      <td>[typescript]</td>\n",
       "      <td>[function, type, object]</td>\n",
       "      <td>[]</td>\n",
       "    </tr>\n",
       "    <tr>\n",
       "      <th>3</th>\n",
       "      <td>[store, service, account, application, service...</td>\n",
       "      <td>[expo]</td>\n",
       "      <td>[store]</td>\n",
       "      <td>[way]</td>\n",
       "    </tr>\n",
       "    <tr>\n",
       "      <th>4</th>\n",
       "      <td>[store, retrieve, structure, type, c, structur...</td>\n",
       "      <td>[c]</td>\n",
       "      <td>[type, object, c]</td>\n",
       "      <td>[]</td>\n",
       "    </tr>\n",
       "    <tr>\n",
       "      <th>...</th>\n",
       "      <td>...</td>\n",
       "      <td>...</td>\n",
       "      <td>...</td>\n",
       "      <td>...</td>\n",
       "    </tr>\n",
       "    <tr>\n",
       "      <th>46491</th>\n",
       "      <td>[option, option, know, option, case, option, o...</td>\n",
       "      <td>[jquery, javascript]</td>\n",
       "      <td>[option]</td>\n",
       "      <td>[matter]</td>\n",
       "    </tr>\n",
       "    <tr>\n",
       "      <th>46492</th>\n",
       "      <td>[plot, attempt, use, plot, example, html, func...</td>\n",
       "      <td>[python, matplotlib]</td>\n",
       "      <td>[code, example, use]</td>\n",
       "      <td>[use, documentation, attempt]</td>\n",
       "    </tr>\n",
       "    <tr>\n",
       "      <th>46493</th>\n",
       "      <td>[security, problem, dependency, file, example,...</td>\n",
       "      <td>[terraform]</td>\n",
       "      <td>[example, problem, field]</td>\n",
       "      <td>[file]</td>\n",
       "    </tr>\n",
       "    <tr>\n",
       "      <th>46494</th>\n",
       "      <td>[studio, container, error, message, error, loo...</td>\n",
       "      <td>[azure]</td>\n",
       "      <td>[error, version, message]</td>\n",
       "      <td>[status]</td>\n",
       "    </tr>\n",
       "    <tr>\n",
       "      <th>46495</th>\n",
       "      <td>[pattern, aw, parameter, store, array, entry, ...</td>\n",
       "      <td>[.net, c#, .net-core]</td>\n",
       "      <td>[value, program, idea]</td>\n",
       "      <td>[class, parameter]</td>\n",
       "    </tr>\n",
       "  </tbody>\n",
       "</table>\n",
       "<p>46496 rows × 4 columns</p>\n",
       "</div>"
      ],
      "text/plain": [
       "                                                  corpus  \\\n",
       "0      [firebase, testing, error, class, definition, ...   \n",
       "1                     [block, language, block, job, job]   \n",
       "2      [type, function, typescript, function, type, i...   \n",
       "3      [store, service, account, application, service...   \n",
       "4      [store, retrieve, structure, type, c, structur...   \n",
       "...                                                  ...   \n",
       "46491  [option, option, know, option, case, option, o...   \n",
       "46492  [plot, attempt, use, plot, example, html, func...   \n",
       "46493  [security, problem, dependency, file, example,...   \n",
       "46494  [studio, container, error, message, error, loo...   \n",
       "46495  [pattern, aw, parameter, store, array, entry, ...   \n",
       "\n",
       "                              tags         LDA_predicted_tags  \\\n",
       "0      [jestjs, firebase, reactjs]        [test, app, header]   \n",
       "1       [async-await, concurrency]                         []   \n",
       "2                     [typescript]   [function, type, object]   \n",
       "3                           [expo]                    [store]   \n",
       "4                              [c]          [type, object, c]   \n",
       "...                            ...                        ...   \n",
       "46491         [jquery, javascript]                   [option]   \n",
       "46492         [python, matplotlib]       [code, example, use]   \n",
       "46493                  [terraform]  [example, problem, field]   \n",
       "46494                      [azure]  [error, version, message]   \n",
       "46495        [.net, c#, .net-core]     [value, program, idea]   \n",
       "\n",
       "                  NMF_predicted_tags  \n",
       "0                       [definition]  \n",
       "1                                 []  \n",
       "2                                 []  \n",
       "3                              [way]  \n",
       "4                                 []  \n",
       "...                              ...  \n",
       "46491                       [matter]  \n",
       "46492  [use, documentation, attempt]  \n",
       "46493                         [file]  \n",
       "46494                       [status]  \n",
       "46495             [class, parameter]  \n",
       "\n",
       "[46496 rows x 4 columns]"
      ]
     },
     "execution_count": 22,
     "metadata": {},
     "output_type": "execute_result"
    }
   ],
   "source": [
    "data['NMF_predicted_tags'] = top_words_in_document_nmf\n",
    "data"
   ]
  },
  {
   "cell_type": "markdown",
   "metadata": {},
   "source": [
    "- Pourcentage de cas où il y a au moins un tag en commun entre les tags réels et les tags prédits par NMF : "
   ]
  },
  {
   "cell_type": "code",
   "execution_count": 23,
   "metadata": {},
   "outputs": [
    {
     "name": "stdout",
     "output_type": "stream",
     "text": [
      "Pourcentage de cas avec au moins un mot en commun entre les tags réels et les tags prédits par NMF : 2.02%\n"
     ]
    }
   ],
   "source": [
    "# Initialiser un compteur pour les cas où il y a au moins un mot en commun\n",
    "common_word_count = 0\n",
    "\n",
    "# Parcourir les lignes du dataframe\n",
    "for index, row in data.iterrows():\n",
    "    # Obtenir les valeurs des colonnes 'NMF_predicted_tags' et 'tags' pour cette ligne\n",
    "    nmf_tags = set(row['NMF_predicted_tags'])\n",
    "    real_tags = set(row['tags'])    \n",
    "    \n",
    "    # Vérifier s'il y a au moins un mot en commun entre les ensembles\n",
    "    if nmf_tags & real_tags:  # \"nmf_tags & real_tags\" retourne un set contenant les valeurs communes entre les deux, ou un set vide si aucune valeur commune.\n",
    "        common_word_count += 1  # si le set retourné n'est pas vide, qu'il existe, alors incrémenter common_word_count de 1 (= il y a eu un cas où il y avait un mot en commun)\n",
    "\n",
    "# Calculer le pourcentage de cas où il y a au moins un mot en commun\n",
    "total_cases = len(data)\n",
    "percentage_common_word_cases = (common_word_count / total_cases) * 100\n",
    "\n",
    "# Afficher le résultat\n",
    "print(f\"Pourcentage de cas avec au moins un mot en commun entre les tags réels et les tags prédits par NMF : {percentage_common_word_cases:.2f}%\")"
   ]
  },
  {
   "cell_type": "markdown",
   "metadata": {},
   "source": [
    "- Mesure de la durée d'exécution du notebook : "
   ]
  },
  {
   "cell_type": "code",
   "execution_count": 24,
   "metadata": {},
   "outputs": [
    {
     "name": "stdout",
     "output_type": "stream",
     "text": [
      "Durée d'exécution du notebook (hors imports) : 02:23\n"
     ]
    }
   ],
   "source": [
    "temps_secondes = time.time() - t_notebook\n",
    "\n",
    "# Conversion en minutes et secondes\n",
    "minutes = int(temps_secondes // 60)\n",
    "seconds = int(temps_secondes % 60)\n",
    "\n",
    "# Formatage du résultat\n",
    "formatted_time = f\"{minutes:02}:{seconds:02}\"\n",
    "\n",
    "print(f\"Durée d'exécution du notebook (hors imports) : {formatted_time}\")"
   ]
  }
 ],
 "metadata": {
  "kernelspec": {
   "display_name": "base",
   "language": "python",
   "name": "python3"
  },
  "language_info": {
   "codemirror_mode": {
    "name": "ipython",
    "version": 3
   },
   "file_extension": ".py",
   "mimetype": "text/x-python",
   "name": "python",
   "nbconvert_exporter": "python",
   "pygments_lexer": "ipython3",
   "version": "3.10.9"
  },
  "orig_nbformat": 4
 },
 "nbformat": 4,
 "nbformat_minor": 2
}
