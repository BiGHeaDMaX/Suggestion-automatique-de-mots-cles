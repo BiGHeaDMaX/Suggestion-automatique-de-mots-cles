{
 "cells": [
  {
   "cell_type": "markdown",
   "metadata": {},
   "source": [
    "# **Accès à l'API dans le cloud**\n",
    "\n",
    "<div class=\"alert alert-info\">\n",
    "Pour la version dans le cloud, pour des raisons de limitations techniques, le document devra être encodé avec USE en local avant d'être transmis. En effet le modèle de sentence embedding préentraîné USE nécessite plus de RAM que celle disponible dans la solution de cloud utilisée. Sans cette limitation technique, il est bien sûr tout à fait possible d'inclure cet encodage dans l'API, que nous pourrions alors directement requêter avec les documents bruts.\n",
    "<br><br>\n",
    "Le sentence embedding avec USE est si performant qu'il permet de capter le sens des documents dans plusieurs langues, sans prétraitements préalables. Ce qui fait que même si notre modèle de prédiction a été entraîné sur des documents en Anglais (préalablement encodés avec USE), il fonctionne également avec des documents dans d'autres langues.\n",
    "</div>"
   ]
  },
  {
   "cell_type": "markdown",
   "metadata": {},
   "source": [
    "### **Imports**"
   ]
  },
  {
   "cell_type": "code",
   "execution_count": 13,
   "metadata": {},
   "outputs": [],
   "source": [
    "import tensorflow_hub as hub\n",
    "import requests"
   ]
  },
  {
   "cell_type": "markdown",
   "metadata": {},
   "source": [
    "### **Documents sur lesquels faire les prédictions**"
   ]
  },
  {
   "cell_type": "code",
   "execution_count": 14,
   "metadata": {},
   "outputs": [],
   "source": [
    "document1 = [\"how can i convert an array into a dataframe\"]\n",
    "\n",
    "document2 = [\"mon tableau ne s'affiche pas dans la bonne couleur sur chrome\"]\n",
    "\n",
    "document3 = [\"Je n'arrive pas à compiler mon fichier apk\"]\n",
    "\n",
    "document4 = [\"Quand je lance MLPClassifier, j'ai l'erreur ConvergenceWarning: Stochastic Optimizer: Maximum iterations (50) reached and the optimization hasn't converged yet. Comment résoudre le problème\"]\n",
    "\n",
    "# Tags réels : html, css\n",
    "document5 = [\"can we add text to a css (div) or should we need to add that text in html just a simple explanation\"]\n",
    "\n",
    "# Tags réels : javascript, dom\n",
    "document6 = [\"\"\"\n",
    "\n",
    "I want to log, and modify the values assigned at the innerHTML attribute of all dynamically loaded scripts-tags in the page.\n",
    "\n",
    "To do this, I have come up with the following code:\n",
    "\n",
    "Object.defineProperty(HTMLScriptElement.prototype, \"innerHTML\", {\n",
    "    set: function (value) {\n",
    "        console.log(value + 1)\n",
    "    }\n",
    "});\n",
    "When loaded into the page the following instructions:\n",
    "\n",
    "o = document.createElement('script');\n",
    "o.innerHTML = 1;\n",
    "will print '2', therefore, I can 'intercept' and modify the assignments successfully.\n",
    "\n",
    "However, I don't know to save the result into the original innerHTML variable defined in the parent prototype: HTMLElement so that the body of the script will actually contain show 2 when inspected through the DOM.\n",
    "\n",
    "I have tried:\n",
    "\n",
    "Object.defineProperty(HTMLScriptElement.prototype, \"innerHTML\", {\n",
    "    set: function (value) {\n",
    "        HTMLElement.prototype.innerHTML = value +1;\n",
    "    }\n",
    "});\n",
    "But this results in an \"illegal invocation\" error.\n",
    "\n",
    "While this:\n",
    "\n",
    "Object.defineProperty(HTMLScriptElement.prototype, \"innerHTML\", {\n",
    "    set: function (value) {\n",
    "        HTMLScriptElement.prototype.innerHTML = value +1;\n",
    "    }\n",
    "});\n",
    "results in: \"Maximum call stack size exceeded\".\n",
    "\n",
    "How can I assign the modified value to the innerHTML attribute of the parent prototype?\n",
    "\n",
    "\"\"\"]\n",
    "\n",
    "documents = [document1,\n",
    "             document2,\n",
    "             document3,\n",
    "             document4,\n",
    "             document5,\n",
    "             document6,\n",
    "]"
   ]
  },
  {
   "cell_type": "markdown",
   "metadata": {},
   "source": [
    "### **Chargement du modèle de sentense embedding USE**"
   ]
  },
  {
   "cell_type": "code",
   "execution_count": 15,
   "metadata": {},
   "outputs": [],
   "source": [
    "embed = hub.load(\"https://tfhub.dev/google/universal-sentence-encoder/4\")"
   ]
  },
  {
   "cell_type": "markdown",
   "metadata": {},
   "source": [
    "### **Encodage des documents**"
   ]
  },
  {
   "cell_type": "code",
   "execution_count": 16,
   "metadata": {},
   "outputs": [],
   "source": [
    "# Nous stockerons les documents encodés dans cette liste\n",
    "documents_USE = []\n",
    "\n",
    "for i in documents:\n",
    "    document_USE = embed(i)\n",
    "    document = str(document_USE.numpy()[0])\n",
    "    documents_USE.append(document)"
   ]
  },
  {
   "cell_type": "markdown",
   "metadata": {},
   "source": [
    "### **Adresse d'accès à l'API**"
   ]
  },
  {
   "cell_type": "code",
   "execution_count": 17,
   "metadata": {},
   "outputs": [],
   "source": [
    "# Cette adresse devra être mise à jour si l'instance a été stopée un certain temps\n",
    "URL_server = 'http://4.157.120.225:80'"
   ]
  },
  {
   "cell_type": "markdown",
   "metadata": {},
   "source": [
    "### **Fonction de requête à l'API**"
   ]
  },
  {
   "cell_type": "code",
   "execution_count": 18,
   "metadata": {},
   "outputs": [],
   "source": [
    "def predict_tags(document):\n",
    "    \"\"\"\n",
    "    - Cette fonction permet de requêter notre API.\n",
    "    - Elle prend en entrée les documents (encodés avec USE\n",
    "      pour la version dans le cloud).\n",
    "    - Elle fait une requête à l'API et affiche le retour\n",
    "      fait par l'API : les tags prédits.\n",
    "    \"\"\"\n",
    "    \n",
    "    url = f\"{URL_server}/predict\"  # Chemin à utiliser pour requêter l'API\n",
    "    params = {\"document\": document}  # Le document sera passé dans le paramètre \"document\"\n",
    "\n",
    "    try:\n",
    "        response = requests.get(url, params=params)\n",
    "        if response.status_code == 200:  # Si la requête a bien abouti\n",
    "            print(f\"Tags prédits : {response.text}\")\n",
    "        # Réponse du serveur, mais pas celle attendue\n",
    "        else:\n",
    "            print(f\"La requête a échoué avec le code d'état : {response.status_code}\")\n",
    "    except:  # Aucune réponse, connexion impossible\n",
    "        print(\"Connexion impossible. L'API est-elle bien lancée ?\")"
   ]
  },
  {
   "cell_type": "markdown",
   "metadata": {},
   "source": [
    "### **Prédictions**"
   ]
  },
  {
   "cell_type": "code",
   "execution_count": 20,
   "metadata": {},
   "outputs": [
    {
     "name": "stdout",
     "output_type": "stream",
     "text": [
      "Document n°1\n",
      "Tags prédits : \"dataframe, for-loop, pandas, python\"\n",
      "Document n°2\n",
      "Tags prédits : \"css, html, javascript\"\n",
      "Document n°3\n",
      "Tags prédits : \"android, android-studio, gradle, java\"\n",
      "Document n°4\n",
      "Tags prédits : \"optimization, python, tensorflow\"\n",
      "Document n°5\n",
      "Tags prédits : \"css, html\"\n",
      "Document n°6\n",
      "Tags prédits : \"javascript\"\n"
     ]
    }
   ],
   "source": [
    "# Pour indiquer le document concerné\n",
    "compteur = 1\n",
    "\n",
    "for i in documents_USE:\n",
    "    print(f\"Document n°{compteur}\")\n",
    "    predict_tags(i)\n",
    "    compteur += 1"
   ]
  }
 ],
 "metadata": {
  "kernelspec": {
   "display_name": "base",
   "language": "python",
   "name": "python3"
  },
  "language_info": {
   "codemirror_mode": {
    "name": "ipython",
    "version": 3
   },
   "file_extension": ".py",
   "mimetype": "text/x-python",
   "name": "python",
   "nbconvert_exporter": "python",
   "pygments_lexer": "ipython3",
   "version": "3.10.9"
  }
 },
 "nbformat": 4,
 "nbformat_minor": 2
}
