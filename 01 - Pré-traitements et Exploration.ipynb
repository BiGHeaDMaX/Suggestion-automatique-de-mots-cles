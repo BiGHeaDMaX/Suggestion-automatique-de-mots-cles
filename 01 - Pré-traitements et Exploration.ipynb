{
 "cells": [
  {
   "cell_type": "markdown",
   "metadata": {},
   "source": [
    "# **Pré-traitements et Exploration**"
   ]
  },
  {
   "cell_type": "markdown",
   "metadata": {},
   "source": [
    "## **Récupération des données**\n",
    "\n",
    "Les données ont été récupérées sur le [*StackExchange Data Explorer*](https://data.stackexchange.com/stackoverflow/query/new) où il est possible d'effectuer une requête sur la base SQL du site, puis de télécharger ces dernières au format CSV.\n",
    "\n",
    "Afin de récupérer des données de qualité, certains critères ont été appliqués pour filtrer les questions : \n",
    "\n",
    "- Données récentes (depuis 2022) : les usages et les technologies évoluent rapidement.\n",
    "- Le score doit être positif.\n",
    "- Au moins une réponse.\n",
    "- Au moins un commentaire.\n",
    "- L'utilisateur doit avoir une réputation au moins égale à la moyenne.\n",
    "\n",
    "La réputation des utilisateurs est définit selon plusieurs paramètres (question ou réponses qui ont obtenus des votes, réponses marquées comme acceptées, etc.), détails du calcul sur [cette page](https://stackoverflow.com/help/whats-reputation).\n",
    "\n",
    "<div class=\"alert alert-info\">\n",
    "Il est important de récupérer des questions qui ont reçu une certaine approbation de la communauté, provenant d'utilisateurs expérimentés. De cette manière les tags associés pourront être considérés comme qualitatifs et seront donc plus appropriés à l'entraînement d'un modèle supervisé.\n",
    "</div>\n",
    "\n",
    "Voici le code utilisé pour la requête :\n",
    "<br><br>\n",
    "\n",
    "```SQL\n",
    "SELECT TOP(50000) posts.id,\n",
    "                  posts.creationdate,\n",
    "                  title,\n",
    "                  body,\n",
    "                  tags,\n",
    "                  users.reputation,\n",
    "-- Réputation moyenne des users avec les critères actuels\n",
    "                  (SELECT Avg(reputation)\n",
    "                   FROM   users) AS moyenne_reputation\n",
    "FROM   posts\n",
    "-- Jointure pour récupérer la réputation des users\n",
    "       JOIN users\n",
    "         ON posts.owneruserid = users.id\n",
    "WHERE  posts.creationdate BETWEEN CONVERT(DATETIME, '2022-01-01') AND\n",
    "                                         CONVERT(DATETIME, '2023-12-31')\n",
    "       AND posts.score > 0 -- Questions avec un score positif\n",
    "       AND posts.answercount > 0 -- Au moins une réponse\n",
    "       AND posts.commentcount > 0 -- Au moins un commentaire\n",
    "       AND users.reputation >= 91 -- Soit la réputation moyenne sur cette période avec ces critères\n",
    "```\n",
    "\n",
    "\n",
    "Réponse serveur : *\"50000 rows returned in 3102 ms\"*"
   ]
  },
  {
   "cell_type": "markdown",
   "metadata": {},
   "source": [
    "## **Importation des bibliothèques**"
   ]
  },
  {
   "cell_type": "code",
   "execution_count": 1,
   "metadata": {},
   "outputs": [],
   "source": [
    "import time\n",
    "\n",
    "import pandas as pd\n",
    "import numpy as np\n",
    "\n",
    "import seaborn as sns\n",
    "import matplotlib.pyplot as plt\n",
    "\n",
    "import re  # Lors des traitements des textes\n",
    "\n",
    "from bs4 import BeautifulSoup  # Pour nettoyer les balises HTML\n",
    "\n",
    "import spacy\n",
    "\n",
    "from nltk.corpus import stopwords\n",
    "from nltk.tokenize import RegexpTokenizer\n",
    "from nltk.stem import WordNetLemmatizer\n",
    "\n",
    "from wordcloud import WordCloud\n",
    "\n",
    "\n"
   ]
  },
  {
   "cell_type": "markdown",
   "metadata": {},
   "source": [
    "## **Importation des données**"
   ]
  },
  {
   "cell_type": "code",
   "execution_count": 2,
   "metadata": {},
   "outputs": [
    {
     "name": "stdout",
     "output_type": "stream",
     "text": [
      "Importation du dataset...\n",
      "Importation terminée.\n"
     ]
    }
   ],
   "source": [
    "print(\"Importation du dataset...\")\n",
    "colonnes_a_importer = ['creationdate', 'title', 'body', 'tags', 'reputation']\n",
    "data = pd.read_csv(\"QueryResults.csv\", sep=',', usecols=colonnes_a_importer)\n",
    "print(\"Importation terminée.\")"
   ]
  },
  {
   "cell_type": "markdown",
   "metadata": {},
   "source": [
    "- Affichage de 20 lignes au hasard : "
   ]
  },
  {
   "cell_type": "code",
   "execution_count": 3,
   "metadata": {},
   "outputs": [
    {
     "data": {
      "text/html": [
       "<div>\n",
       "<style scoped>\n",
       "    .dataframe tbody tr th:only-of-type {\n",
       "        vertical-align: middle;\n",
       "    }\n",
       "\n",
       "    .dataframe tbody tr th {\n",
       "        vertical-align: top;\n",
       "    }\n",
       "\n",
       "    .dataframe thead th {\n",
       "        text-align: right;\n",
       "    }\n",
       "</style>\n",
       "<table border=\"1\" class=\"dataframe\">\n",
       "  <thead>\n",
       "    <tr style=\"text-align: right;\">\n",
       "      <th></th>\n",
       "      <th>creationdate</th>\n",
       "      <th>title</th>\n",
       "      <th>body</th>\n",
       "      <th>tags</th>\n",
       "      <th>reputation</th>\n",
       "    </tr>\n",
       "  </thead>\n",
       "  <tbody>\n",
       "    <tr>\n",
       "      <th>22495</th>\n",
       "      <td>2022-02-05 19:12:17</td>\n",
       "      <td>Is there a way to use get row sums with specif...</td>\n",
       "      <td>&lt;p&gt;I would like to get the sum rows but exclud...</td>\n",
       "      <td>&lt;r&gt;&lt;dplyr&gt;&lt;rowsum&gt;</td>\n",
       "      <td>1391</td>\n",
       "    </tr>\n",
       "    <tr>\n",
       "      <th>48363</th>\n",
       "      <td>2022-03-16 16:17:20</td>\n",
       "      <td>Custom Sampler correct use in Pytorch</td>\n",
       "      <td>&lt;p&gt;I have a map-stype dataset, which is used f...</td>\n",
       "      <td>&lt;pytorch&gt;&lt;dataset&gt;&lt;torchvision&gt;&lt;pytorch-lightn...</td>\n",
       "      <td>549</td>\n",
       "    </tr>\n",
       "    <tr>\n",
       "      <th>42240</th>\n",
       "      <td>2023-09-02 01:52:05</td>\n",
       "      <td>How to acquire more than one lock atomically i...</td>\n",
       "      <td>&lt;p&gt;A common pattern in Java to acquire more th...</td>\n",
       "      <td>&lt;java&gt;</td>\n",
       "      <td>18740</td>\n",
       "    </tr>\n",
       "    <tr>\n",
       "      <th>26938</th>\n",
       "      <td>2023-04-14 17:05:38</td>\n",
       "      <td>Determine regions around elements in a vector ...</td>\n",
       "      <td>&lt;p&gt;Say we have the following indicator vector:...</td>\n",
       "      <td>&lt;r&gt;&lt;vector&gt;&lt;region&gt;</td>\n",
       "      <td>119</td>\n",
       "    </tr>\n",
       "    <tr>\n",
       "      <th>16043</th>\n",
       "      <td>2022-09-16 12:23:06</td>\n",
       "      <td>How to unit test if the user is being redirect...</td>\n",
       "      <td>&lt;p&gt;I'm trying to write some unit tests for my ...</td>\n",
       "      <td>&lt;php&gt;&lt;laravel&gt;</td>\n",
       "      <td>103</td>\n",
       "    </tr>\n",
       "    <tr>\n",
       "      <th>25218</th>\n",
       "      <td>2023-03-26 01:48:03</td>\n",
       "      <td>Why I can't open the Textfield when button is ...</td>\n",
       "      <td>&lt;p&gt;So I'm getting the &lt;code&gt;choice.toggle&lt;/cod...</td>\n",
       "      <td>&lt;javascript&gt;&lt;reactjs&gt;</td>\n",
       "      <td>255</td>\n",
       "    </tr>\n",
       "    <tr>\n",
       "      <th>8593</th>\n",
       "      <td>2022-08-16 12:13:09</td>\n",
       "      <td>Adding a tally/count of observations using mut...</td>\n",
       "      <td>&lt;p&gt;I wanted to know if there was a more effici...</td>\n",
       "      <td>&lt;r&gt;&lt;count&gt;&lt;tally&gt;</td>\n",
       "      <td>109</td>\n",
       "    </tr>\n",
       "    <tr>\n",
       "      <th>33457</th>\n",
       "      <td>2023-06-02 03:10:09</td>\n",
       "      <td>Is the Window.load event fired after all non-p...</td>\n",
       "      <td>&lt;p&gt;Is the &lt;a href=\"https://developer.mozilla.o...</td>\n",
       "      <td>&lt;javascript&gt;&lt;onload&gt;</td>\n",
       "      <td>326</td>\n",
       "    </tr>\n",
       "    <tr>\n",
       "      <th>6851</th>\n",
       "      <td>2022-08-04 23:10:48</td>\n",
       "      <td>How to customize the positional embedding?</td>\n",
       "      <td>&lt;p&gt;I am using the Transformer model from Huggi...</td>\n",
       "      <td>&lt;deep-learning&gt;&lt;huggingface-transformers&gt;&lt;tran...</td>\n",
       "      <td>2475</td>\n",
       "    </tr>\n",
       "    <tr>\n",
       "      <th>10958</th>\n",
       "      <td>2022-08-19 19:12:15</td>\n",
       "      <td>Jacoco 0.8.2&gt;= + Java 11 + Spring 5 not working</td>\n",
       "      <td>&lt;p&gt;I'm getting the following error when attemp...</td>\n",
       "      <td>&lt;java&gt;&lt;spring-boot&gt;&lt;maven&gt;&lt;junit&gt;&lt;jacoco&gt;</td>\n",
       "      <td>851</td>\n",
       "    </tr>\n",
       "    <tr>\n",
       "      <th>39657</th>\n",
       "      <td>2023-07-27 23:50:17</td>\n",
       "      <td>Is it ok to call `try_recv()` in a spinning loop?</td>\n",
       "      <td>&lt;p&gt;I want to process messages received on a &lt;c...</td>\n",
       "      <td>&lt;rust&gt;&lt;rust-tokio&gt;</td>\n",
       "      <td>4154</td>\n",
       "    </tr>\n",
       "    <tr>\n",
       "      <th>47022</th>\n",
       "      <td>2022-03-14 11:42:57</td>\n",
       "      <td>Cannot deserialize the current JSON array (e.g...</td>\n",
       "      <td>&lt;p&gt;I've got this simple code that will consume...</td>\n",
       "      <td>&lt;c#&gt;&lt;asp.net-mvc-5&gt;</td>\n",
       "      <td>346</td>\n",
       "    </tr>\n",
       "    <tr>\n",
       "      <th>33436</th>\n",
       "      <td>2023-06-02 16:07:34</td>\n",
       "      <td>Android Compose Recomposition is not triggered...</td>\n",
       "      <td>&lt;p&gt;I have a list of files in a LazyColumn.\\nUs...</td>\n",
       "      <td>&lt;android&gt;&lt;android-jetpack-compose&gt;&lt;jetpack&gt;&lt;co...</td>\n",
       "      <td>527</td>\n",
       "    </tr>\n",
       "    <tr>\n",
       "      <th>49546</th>\n",
       "      <td>2022-03-24 10:42:34</td>\n",
       "      <td>How to listen close event using ZeroMQ?</td>\n",
       "      <td>&lt;p&gt;A client script :&lt;/p&gt;\\n&lt;pre&gt;&lt;code&gt;var ZMQ =...</td>\n",
       "      <td>&lt;node.js&gt;&lt;zeromq&gt;</td>\n",
       "      <td>130</td>\n",
       "    </tr>\n",
       "    <tr>\n",
       "      <th>17718</th>\n",
       "      <td>2022-01-28 08:09:44</td>\n",
       "      <td>Flutter &amp; Android: Your build is currently con...</td>\n",
       "      <td>&lt;p&gt;I got this on my android part of Flutter.&lt;/...</td>\n",
       "      <td>&lt;java&gt;&lt;android&gt;&lt;flutter&gt;&lt;kotlin&gt;&lt;gradle&gt;</td>\n",
       "      <td>2628</td>\n",
       "    </tr>\n",
       "    <tr>\n",
       "      <th>11739</th>\n",
       "      <td>2022-08-25 08:43:28</td>\n",
       "      <td>Visual Studio Code - Prevent Intellisense popu...</td>\n",
       "      <td>&lt;p&gt;When Intellisense is enabled in Visual Stud...</td>\n",
       "      <td>&lt;visual-studio-code&gt;&lt;intellisense&gt;</td>\n",
       "      <td>13312</td>\n",
       "    </tr>\n",
       "    <tr>\n",
       "      <th>14539</th>\n",
       "      <td>2022-09-07 14:11:59</td>\n",
       "      <td>Swagger UI does not show up in JupyterLab</td>\n",
       "      <td>&lt;p&gt;I have saved one R script with name &lt;code&gt;M...</td>\n",
       "      <td>&lt;r&gt;&lt;swagger&gt;&lt;swagger-ui&gt;&lt;jupyter-lab&gt;&lt;plumber&gt;</td>\n",
       "      <td>277</td>\n",
       "    </tr>\n",
       "    <tr>\n",
       "      <th>3217</th>\n",
       "      <td>2022-07-24 12:19:33</td>\n",
       "      <td>typescipt Tuple Types throw Parsing error: Can...</td>\n",
       "      <td>&lt;p&gt;when i try something like&lt;/p&gt;\\n&lt;pre&gt;&lt;code&gt;c...</td>\n",
       "      <td>&lt;typescript&gt;&lt;eslint&gt;</td>\n",
       "      <td>425</td>\n",
       "    </tr>\n",
       "    <tr>\n",
       "      <th>23543</th>\n",
       "      <td>2023-03-20 11:55:25</td>\n",
       "      <td>Flutter - How to change the background color o...</td>\n",
       "      <td>&lt;p&gt;I am trying to create PopupMenu. How can I ...</td>\n",
       "      <td>&lt;flutter&gt;&lt;dart&gt;&lt;tabs&gt;</td>\n",
       "      <td>129</td>\n",
       "    </tr>\n",
       "    <tr>\n",
       "      <th>10276</th>\n",
       "      <td>2022-08-18 20:43:32</td>\n",
       "      <td>UDP echo on specific interface</td>\n",
       "      <td>&lt;p&gt;I have a virtual interface called TAP1. Pac...</td>\n",
       "      <td>&lt;linux&gt;&lt;networking&gt;</td>\n",
       "      <td>194</td>\n",
       "    </tr>\n",
       "  </tbody>\n",
       "</table>\n",
       "</div>"
      ],
      "text/plain": [
       "              creationdate                                              title  \\\n",
       "22495  2022-02-05 19:12:17  Is there a way to use get row sums with specif...   \n",
       "48363  2022-03-16 16:17:20              Custom Sampler correct use in Pytorch   \n",
       "42240  2023-09-02 01:52:05  How to acquire more than one lock atomically i...   \n",
       "26938  2023-04-14 17:05:38  Determine regions around elements in a vector ...   \n",
       "16043  2022-09-16 12:23:06  How to unit test if the user is being redirect...   \n",
       "25218  2023-03-26 01:48:03  Why I can't open the Textfield when button is ...   \n",
       "8593   2022-08-16 12:13:09  Adding a tally/count of observations using mut...   \n",
       "33457  2023-06-02 03:10:09  Is the Window.load event fired after all non-p...   \n",
       "6851   2022-08-04 23:10:48         How to customize the positional embedding?   \n",
       "10958  2022-08-19 19:12:15    Jacoco 0.8.2>= + Java 11 + Spring 5 not working   \n",
       "39657  2023-07-27 23:50:17  Is it ok to call `try_recv()` in a spinning loop?   \n",
       "47022  2022-03-14 11:42:57  Cannot deserialize the current JSON array (e.g...   \n",
       "33436  2023-06-02 16:07:34  Android Compose Recomposition is not triggered...   \n",
       "49546  2022-03-24 10:42:34            How to listen close event using ZeroMQ?   \n",
       "17718  2022-01-28 08:09:44  Flutter & Android: Your build is currently con...   \n",
       "11739  2022-08-25 08:43:28  Visual Studio Code - Prevent Intellisense popu...   \n",
       "14539  2022-09-07 14:11:59          Swagger UI does not show up in JupyterLab   \n",
       "3217   2022-07-24 12:19:33  typescipt Tuple Types throw Parsing error: Can...   \n",
       "23543  2023-03-20 11:55:25  Flutter - How to change the background color o...   \n",
       "10276  2022-08-18 20:43:32                     UDP echo on specific interface   \n",
       "\n",
       "                                                    body  \\\n",
       "22495  <p>I would like to get the sum rows but exclud...   \n",
       "48363  <p>I have a map-stype dataset, which is used f...   \n",
       "42240  <p>A common pattern in Java to acquire more th...   \n",
       "26938  <p>Say we have the following indicator vector:...   \n",
       "16043  <p>I'm trying to write some unit tests for my ...   \n",
       "25218  <p>So I'm getting the <code>choice.toggle</cod...   \n",
       "8593   <p>I wanted to know if there was a more effici...   \n",
       "33457  <p>Is the <a href=\"https://developer.mozilla.o...   \n",
       "6851   <p>I am using the Transformer model from Huggi...   \n",
       "10958  <p>I'm getting the following error when attemp...   \n",
       "39657  <p>I want to process messages received on a <c...   \n",
       "47022  <p>I've got this simple code that will consume...   \n",
       "33436  <p>I have a list of files in a LazyColumn.\\nUs...   \n",
       "49546  <p>A client script :</p>\\n<pre><code>var ZMQ =...   \n",
       "17718  <p>I got this on my android part of Flutter.</...   \n",
       "11739  <p>When Intellisense is enabled in Visual Stud...   \n",
       "14539  <p>I have saved one R script with name <code>M...   \n",
       "3217   <p>when i try something like</p>\\n<pre><code>c...   \n",
       "23543  <p>I am trying to create PopupMenu. How can I ...   \n",
       "10276  <p>I have a virtual interface called TAP1. Pac...   \n",
       "\n",
       "                                                    tags  reputation  \n",
       "22495                                 <r><dplyr><rowsum>        1391  \n",
       "48363  <pytorch><dataset><torchvision><pytorch-lightn...         549  \n",
       "42240                                             <java>       18740  \n",
       "26938                                <r><vector><region>         119  \n",
       "16043                                     <php><laravel>         103  \n",
       "25218                              <javascript><reactjs>         255  \n",
       "8593                                   <r><count><tally>         109  \n",
       "33457                               <javascript><onload>         326  \n",
       "6851   <deep-learning><huggingface-transformers><tran...        2475  \n",
       "10958          <java><spring-boot><maven><junit><jacoco>         851  \n",
       "39657                                 <rust><rust-tokio>        4154  \n",
       "47022                                <c#><asp.net-mvc-5>         346  \n",
       "33436  <android><android-jetpack-compose><jetpack><co...         527  \n",
       "49546                                  <node.js><zeromq>         130  \n",
       "17718           <java><android><flutter><kotlin><gradle>        2628  \n",
       "11739                 <visual-studio-code><intellisense>       13312  \n",
       "14539     <r><swagger><swagger-ui><jupyter-lab><plumber>         277  \n",
       "3217                                <typescript><eslint>         425  \n",
       "23543                              <flutter><dart><tabs>         129  \n",
       "10276                                <linux><networking>         194  "
      ]
     },
     "execution_count": 3,
     "metadata": {},
     "output_type": "execute_result"
    }
   ],
   "source": [
    "data.sample(20)"
   ]
  },
  {
   "cell_type": "markdown",
   "metadata": {},
   "source": [
    "### **Traîtements de base**"
   ]
  },
  {
   "cell_type": "markdown",
   "metadata": {},
   "source": [
    "- Conversion de la colonne date au format date : "
   ]
  },
  {
   "cell_type": "code",
   "execution_count": 4,
   "metadata": {},
   "outputs": [],
   "source": [
    "data[\"creationdate\"] = pd.to_datetime(data[\"creationdate\"])"
   ]
  },
  {
   "cell_type": "markdown",
   "metadata": {},
   "source": [
    "- Vérification du type des colonnes : "
   ]
  },
  {
   "cell_type": "code",
   "execution_count": 5,
   "metadata": {},
   "outputs": [
    {
     "data": {
      "text/plain": [
       "creationdate    datetime64[ns]\n",
       "title                   object\n",
       "body                    object\n",
       "tags                    object\n",
       "reputation               int64\n",
       "dtype: object"
      ]
     },
     "execution_count": 5,
     "metadata": {},
     "output_type": "execute_result"
    }
   ],
   "source": [
    "data.dtypes"
   ]
  },
  {
   "cell_type": "markdown",
   "metadata": {},
   "source": [
    "- Y a-t-il des doublons ?"
   ]
  },
  {
   "cell_type": "code",
   "execution_count": 6,
   "metadata": {},
   "outputs": [
    {
     "name": "stdout",
     "output_type": "stream",
     "text": [
      "Colonne 'creationdate' : 91 doublon(s)\n",
      "Colonne 'title' : 0 doublon(s)\n",
      "Colonne 'body' : 1 doublon(s)\n",
      "Colonne 'tags' : 14871 doublon(s)\n",
      "Colonne 'reputation' : 42320 doublon(s)\n"
     ]
    }
   ],
   "source": [
    "for col in data.columns:\n",
    "    n = data.duplicated(subset=col).sum()\n",
    "    print(f\"Colonne '{col}' : {n} doublon(s)\")"
   ]
  },
  {
   "cell_type": "markdown",
   "metadata": {},
   "source": [
    "- Il y a un doublon dans la colonne 'body' : "
   ]
  },
  {
   "cell_type": "code",
   "execution_count": 7,
   "metadata": {},
   "outputs": [
    {
     "data": {
      "text/html": [
       "<div>\n",
       "<style scoped>\n",
       "    .dataframe tbody tr th:only-of-type {\n",
       "        vertical-align: middle;\n",
       "    }\n",
       "\n",
       "    .dataframe tbody tr th {\n",
       "        vertical-align: top;\n",
       "    }\n",
       "\n",
       "    .dataframe thead th {\n",
       "        text-align: right;\n",
       "    }\n",
       "</style>\n",
       "<table border=\"1\" class=\"dataframe\">\n",
       "  <thead>\n",
       "    <tr style=\"text-align: right;\">\n",
       "      <th></th>\n",
       "      <th>creationdate</th>\n",
       "      <th>title</th>\n",
       "      <th>body</th>\n",
       "      <th>tags</th>\n",
       "      <th>reputation</th>\n",
       "    </tr>\n",
       "  </thead>\n",
       "  <tbody>\n",
       "    <tr>\n",
       "      <th>13995</th>\n",
       "      <td>2022-09-03 20:36:16</td>\n",
       "      <td>Remove nodeSelectorTerms param in manifest dep...</td>\n",
       "      <td>&lt;p&gt;I use this manifest configuration to deploy...</td>\n",
       "      <td>&lt;kubernetes&gt;&lt;kubernetes-helm&gt;</td>\n",
       "      <td>1198</td>\n",
       "    </tr>\n",
       "    <tr>\n",
       "      <th>16003</th>\n",
       "      <td>2022-09-15 23:08:29</td>\n",
       "      <td>Remove nodeSelectorTerms param</td>\n",
       "      <td>&lt;p&gt;I use this manifest configuration to deploy...</td>\n",
       "      <td>&lt;kubernetes&gt;</td>\n",
       "      <td>1198</td>\n",
       "    </tr>\n",
       "  </tbody>\n",
       "</table>\n",
       "</div>"
      ],
      "text/plain": [
       "             creationdate                                              title  \\\n",
       "13995 2022-09-03 20:36:16  Remove nodeSelectorTerms param in manifest dep...   \n",
       "16003 2022-09-15 23:08:29                     Remove nodeSelectorTerms param   \n",
       "\n",
       "                                                    body  \\\n",
       "13995  <p>I use this manifest configuration to deploy...   \n",
       "16003  <p>I use this manifest configuration to deploy...   \n",
       "\n",
       "                                tags  reputation  \n",
       "13995  <kubernetes><kubernetes-helm>        1198  \n",
       "16003                   <kubernetes>        1198  "
      ]
     },
     "execution_count": 7,
     "metadata": {},
     "output_type": "execute_result"
    }
   ],
   "source": [
    "data.loc[data['body'].duplicated(keep=False) == True]"
   ]
  },
  {
   "cell_type": "markdown",
   "metadata": {},
   "source": [
    "- Suppression de ce doublon (les doublons dans les autres colonnes ne sont pas problématiques) : "
   ]
  },
  {
   "cell_type": "code",
   "execution_count": 8,
   "metadata": {},
   "outputs": [],
   "source": [
    "data.drop_duplicates(subset='body', inplace=True)"
   ]
  },
  {
   "cell_type": "markdown",
   "metadata": {},
   "source": [
    "- y a-t-il des valeurs manquantes ?"
   ]
  },
  {
   "cell_type": "code",
   "execution_count": 9,
   "metadata": {},
   "outputs": [
    {
     "data": {
      "text/plain": [
       "creationdate    0\n",
       "title           0\n",
       "body            0\n",
       "tags            0\n",
       "reputation      0\n",
       "dtype: int64"
      ]
     },
     "execution_count": 9,
     "metadata": {},
     "output_type": "execute_result"
    }
   ],
   "source": [
    "data.isna().sum()"
   ]
  },
  {
   "cell_type": "markdown",
   "metadata": {},
   "source": [
    "### **Création d'une nouvelle colonne *'corpus'***\n",
    "\n",
    "Nos données textuelles sont contenues dans *'title'* (le titre de la question) et *'body'* (le corps de la question).<br>\n",
    "Il peut être intéressant de conserver le titre car des informations importantes peuvent s'y trouver, sans qu'elles soient obligatoirement reprise dans le corps du message."
   ]
  },
  {
   "cell_type": "code",
   "execution_count": 10,
   "metadata": {},
   "outputs": [],
   "source": [
    "data['corpus'] = data['title'] + ' ' + data['body']"
   ]
  },
  {
   "cell_type": "markdown",
   "metadata": {},
   "source": [
    "- On enlève *'title'* et *'body'* dont on a plus besoin : "
   ]
  },
  {
   "cell_type": "code",
   "execution_count": 11,
   "metadata": {},
   "outputs": [],
   "source": [
    "data.drop(['title', 'body'], axis=1, inplace=True)"
   ]
  },
  {
   "cell_type": "markdown",
   "metadata": {},
   "source": [
    "### **Formattage des tags**\n",
    "\n",
    "Plutôt que d'avoir \"<Tag 1><Tag 2>\", on souhaite avoir [Tag 1, Tag 2]"
   ]
  },
  {
   "cell_type": "markdown",
   "metadata": {},
   "source": [
    "- Avant formattage : "
   ]
  },
  {
   "cell_type": "code",
   "execution_count": 12,
   "metadata": {},
   "outputs": [
    {
     "data": {
      "text/html": [
       "<div>\n",
       "<style scoped>\n",
       "    .dataframe tbody tr th:only-of-type {\n",
       "        vertical-align: middle;\n",
       "    }\n",
       "\n",
       "    .dataframe tbody tr th {\n",
       "        vertical-align: top;\n",
       "    }\n",
       "\n",
       "    .dataframe thead th {\n",
       "        text-align: right;\n",
       "    }\n",
       "</style>\n",
       "<table border=\"1\" class=\"dataframe\">\n",
       "  <thead>\n",
       "    <tr style=\"text-align: right;\">\n",
       "      <th></th>\n",
       "      <th>tags</th>\n",
       "    </tr>\n",
       "  </thead>\n",
       "  <tbody>\n",
       "    <tr>\n",
       "      <th>0</th>\n",
       "      <td>&lt;antlr4&gt;</td>\n",
       "    </tr>\n",
       "    <tr>\n",
       "      <th>1</th>\n",
       "      <td>&lt;reactjs&gt;&lt;firebase&gt;&lt;jestjs&gt;</td>\n",
       "    </tr>\n",
       "    <tr>\n",
       "      <th>2</th>\n",
       "      <td>&lt;async-await&gt;&lt;concurrency&gt;&lt;hacklang&gt;</td>\n",
       "    </tr>\n",
       "    <tr>\n",
       "      <th>3</th>\n",
       "      <td>&lt;typescript&gt;</td>\n",
       "    </tr>\n",
       "    <tr>\n",
       "      <th>4</th>\n",
       "      <td>&lt;expo&gt;&lt;google-play-console&gt;&lt;google-play-develo...</td>\n",
       "    </tr>\n",
       "    <tr>\n",
       "      <th>...</th>\n",
       "      <td>...</td>\n",
       "    </tr>\n",
       "    <tr>\n",
       "      <th>49995</th>\n",
       "      <td>&lt;ionic-framework&gt;&lt;ionic-react&gt;</td>\n",
       "    </tr>\n",
       "    <tr>\n",
       "      <th>49996</th>\n",
       "      <td>&lt;stripe-payments&gt;</td>\n",
       "    </tr>\n",
       "    <tr>\n",
       "      <th>49997</th>\n",
       "      <td>&lt;terraform&gt;</td>\n",
       "    </tr>\n",
       "    <tr>\n",
       "      <th>49998</th>\n",
       "      <td>&lt;azure&gt;&lt;azurite&gt;</td>\n",
       "    </tr>\n",
       "    <tr>\n",
       "      <th>49999</th>\n",
       "      <td>&lt;c#&gt;&lt;.net-core&gt;&lt;.net-6.0&gt;&lt;aws-parameter-store&gt;</td>\n",
       "    </tr>\n",
       "  </tbody>\n",
       "</table>\n",
       "<p>49999 rows × 1 columns</p>\n",
       "</div>"
      ],
      "text/plain": [
       "                                                    tags\n",
       "0                                               <antlr4>\n",
       "1                            <reactjs><firebase><jestjs>\n",
       "2                   <async-await><concurrency><hacklang>\n",
       "3                                           <typescript>\n",
       "4      <expo><google-play-console><google-play-develo...\n",
       "...                                                  ...\n",
       "49995                     <ionic-framework><ionic-react>\n",
       "49996                                  <stripe-payments>\n",
       "49997                                        <terraform>\n",
       "49998                                   <azure><azurite>\n",
       "49999     <c#><.net-core><.net-6.0><aws-parameter-store>\n",
       "\n",
       "[49999 rows x 1 columns]"
      ]
     },
     "execution_count": 12,
     "metadata": {},
     "output_type": "execute_result"
    }
   ],
   "source": [
    "data[['tags']]"
   ]
  },
  {
   "cell_type": "code",
   "execution_count": 13,
   "metadata": {},
   "outputs": [],
   "source": [
    "data['tags'] = data['tags'].apply(lambda x: re.findall(r'<(.*?)>', x))"
   ]
  },
  {
   "cell_type": "markdown",
   "metadata": {},
   "source": [
    "- Après formattage : "
   ]
  },
  {
   "cell_type": "code",
   "execution_count": 14,
   "metadata": {},
   "outputs": [
    {
     "data": {
      "text/html": [
       "<div>\n",
       "<style scoped>\n",
       "    .dataframe tbody tr th:only-of-type {\n",
       "        vertical-align: middle;\n",
       "    }\n",
       "\n",
       "    .dataframe tbody tr th {\n",
       "        vertical-align: top;\n",
       "    }\n",
       "\n",
       "    .dataframe thead th {\n",
       "        text-align: right;\n",
       "    }\n",
       "</style>\n",
       "<table border=\"1\" class=\"dataframe\">\n",
       "  <thead>\n",
       "    <tr style=\"text-align: right;\">\n",
       "      <th></th>\n",
       "      <th>tags</th>\n",
       "    </tr>\n",
       "  </thead>\n",
       "  <tbody>\n",
       "    <tr>\n",
       "      <th>0</th>\n",
       "      <td>[antlr4]</td>\n",
       "    </tr>\n",
       "    <tr>\n",
       "      <th>1</th>\n",
       "      <td>[reactjs, firebase, jestjs]</td>\n",
       "    </tr>\n",
       "    <tr>\n",
       "      <th>2</th>\n",
       "      <td>[async-await, concurrency, hacklang]</td>\n",
       "    </tr>\n",
       "    <tr>\n",
       "      <th>3</th>\n",
       "      <td>[typescript]</td>\n",
       "    </tr>\n",
       "    <tr>\n",
       "      <th>4</th>\n",
       "      <td>[expo, google-play-console, google-play-develo...</td>\n",
       "    </tr>\n",
       "    <tr>\n",
       "      <th>...</th>\n",
       "      <td>...</td>\n",
       "    </tr>\n",
       "    <tr>\n",
       "      <th>49995</th>\n",
       "      <td>[ionic-framework, ionic-react]</td>\n",
       "    </tr>\n",
       "    <tr>\n",
       "      <th>49996</th>\n",
       "      <td>[stripe-payments]</td>\n",
       "    </tr>\n",
       "    <tr>\n",
       "      <th>49997</th>\n",
       "      <td>[terraform]</td>\n",
       "    </tr>\n",
       "    <tr>\n",
       "      <th>49998</th>\n",
       "      <td>[azure, azurite]</td>\n",
       "    </tr>\n",
       "    <tr>\n",
       "      <th>49999</th>\n",
       "      <td>[c#, .net-core, .net-6.0, aws-parameter-store]</td>\n",
       "    </tr>\n",
       "  </tbody>\n",
       "</table>\n",
       "<p>49999 rows × 1 columns</p>\n",
       "</div>"
      ],
      "text/plain": [
       "                                                    tags\n",
       "0                                               [antlr4]\n",
       "1                            [reactjs, firebase, jestjs]\n",
       "2                   [async-await, concurrency, hacklang]\n",
       "3                                           [typescript]\n",
       "4      [expo, google-play-console, google-play-develo...\n",
       "...                                                  ...\n",
       "49995                     [ionic-framework, ionic-react]\n",
       "49996                                  [stripe-payments]\n",
       "49997                                        [terraform]\n",
       "49998                                   [azure, azurite]\n",
       "49999     [c#, .net-core, .net-6.0, aws-parameter-store]\n",
       "\n",
       "[49999 rows x 1 columns]"
      ]
     },
     "execution_count": 14,
     "metadata": {},
     "output_type": "execute_result"
    }
   ],
   "source": [
    "data[['tags']]"
   ]
  },
  {
   "cell_type": "markdown",
   "metadata": {},
   "source": [
    "### **Suppression des balises HTML dans le corpus**\n",
    "\n",
    "Les questions contiennent des balises HTML qui vont perturber nos traitements, il faut les enlever.<br>\n",
    "Nous allons utiliser pour cela le parser HTML de *BeautifulSoup*."
   ]
  },
  {
   "cell_type": "markdown",
   "metadata": {},
   "source": [
    "- Premier document avant traitement : "
   ]
  },
  {
   "cell_type": "code",
   "execution_count": 15,
   "metadata": {},
   "outputs": [
    {
     "data": {
      "text/plain": [
       "'Lexer rule to handle escape of quote with quote or backslash in ANTLR4? <p>I\\'m trying to expand the answer to <a href=\"https://stackoverflow.com/questions/29800106/how-do-i-escape-an-escape-character-with-antlr-4\">How do I escape an escape character with ANTLR 4?</a> to work when the &quot; can be escaped both with &quot; and \\\\. I.e. both</p>\\n<pre><code>&quot;Rob &quot;&quot;Commander Taco&quot;&quot; Malda is smart.&quot;\\n</code></pre>\\n<p>and</p>\\n<pre><code>&quot;Rob \\\\&quot;Commander Taco\\\\&quot; Malda is smart.&quot;\\n</code></pre>\\n<p>are both valid and equivalent. I\\'ve tried</p>\\n<pre><code>StringLiteral : \\'&quot;\\' (\\'&quot;&quot;\\'|\\'\\\\\\\\&quot;\\'|~[&quot;])* \\'&quot;\\';\\n</code></pre>\\n<p>but if fails to match</p>\\n<pre><code>&quot;Entry Flag for Offset check and for \\\\&quot;don\\'t start Chiller Water Pump Request\\\\&quot;&quot;\\n</code></pre>\\n<p>with the tokenizer consuming more characters than intended, i.e. consumes beyond \\\\&quot;&quot;</p>\\n<p>Anyone who knows how to define the lexer rule?</p>\\n<hr />\\n<p>A bit more detail...</p>\\n<ul>\\n<li><code>&quot;&quot;</code> succeeds</li>\\n<li><code>&quot;&quot;&quot;&quot;</code> succeeds</li>\\n<li><code>\\\\&quot; &quot;</code> succeeds</li>\\n<li><code>&quot;\\\\&quot;&quot;</code> succeeds (at EOF)</li>\\n<li><code>&quot;\\\\&quot;&quot;\\\\n&quot;&quot;</code> fails (it greedily pulls in the <code>\\\\n</code> and <code>&quot;</code></li>\\n</ul>\\n<p>Example: (text.txt)</p>\\n<pre><code>&quot;&quot;\\n&quot;&quot;&quot;&quot;\\n&quot;\\\\&quot; &quot;\\n&quot;\\\\&quot;&quot;\\n&quot;&quot;\\n</code></pre>\\n<pre><code>grun test tokens -tokens &lt; test.txt\\n</code></pre>\\n<pre><code>line 5:1 token recognition error at: \\'&quot;\\'\\n[@0,0:1=\\'&quot;&quot;\\',&lt;StringLiteral&gt;,1:0]\\n[@1,2:2=\\'\\\\n\\',&lt;\\'\\n\\'&gt;,1:2]\\n[@2,3:6=\\'&quot;&quot;&quot;&quot;\\',&lt;StringLiteral&gt;,2:0]\\n[@3,7:7=\\'\\\\n\\',&lt;\\'\\n\\'&gt;,2:4]\\n[@4,8:12=\\'&quot;\\\\&quot; &quot;\\',&lt;StringLiteral&gt;,3:0]\\n[@5,13:13=\\'\\\\n\\',&lt;\\'\\n\\'&gt;,3:5]\\n[@6,14:19=\\'&quot;\\\\&quot;&quot;\\\\n&quot;\\',&lt;StringLiteral&gt;,4:0]\\n[@7,21:20=\\'&lt;EOF&gt;\\',&lt;EOF&gt;,5:2]\\n</code></pre>\\n<p><code>\\\\&quot;&quot;</code> and <code>&quot;&quot;&quot;</code> at the end of a StringListeral are not being handled the same.</p>\\n<p>Here\\'s the ATN for that rule:</p>\\n<p><a href=\"https://i.stack.imgur.com/Ozi27.png\" rel=\"nofollow noreferrer\"><img src=\"https://i.stack.imgur.com/Ozi27.png\" alt=\"enter image description here\" /></a></p>\\n<p>From this diagram it\\'s not clear why they should be handled differently.  They appear to be parallel constructs.</p>\\n<hr />\\n<h2>More research</h2>\\n<p>Test Grammar (small change to simplify ATN):</p>\\n<pre><code>grammar test\\n    ;\\n\\nstart: StringLiteral (WS? StringLiteral)+;\\n\\nStringLiteral: \\'&quot;\\' ( ((\\'\\\\\\\\\\' | \\'&quot;\\') \\'&quot;\\') | ~[&quot;])* \\'&quot;\\';\\nWS:            [ \\\\t\\\\n\\\\r]+;\\n</code></pre>\\n<p>The ATN for StringLiteral in this grammar:</p>\\n<p><a href=\"https://i.stack.imgur.com/mL9lX.png\" rel=\"nofollow noreferrer\"><img src=\"https://i.stack.imgur.com/mL9lX.png\" alt=\"ATN for Stringliteral\" /></a></p>\\n<p>OK, let\\'s walk through this ATN with the input <code>&quot;\\\\&quot;&quot;\\\\n&quot;</code></p>\\n<div class=\"s-table-container\">\\n<table class=\"s-table\">\\n<thead>\\n<tr>\\n<th style=\"text-align: left;\">unconsumed input</th>\\n<th>transition</th>\\n</tr>\\n</thead>\\n<tbody>\\n<tr>\\n<td style=\"text-align: left;\">&quot;\\\\&quot;&quot;\\\\n&quot;</td>\\n<td>1 -ε-&gt; 5</td>\\n</tr>\\n<tr>\\n<td style=\"text-align: left;\">&quot;\\\\&quot;&quot;\\\\n&quot;</td>\\n<td>5 -&quot;-&gt; 11</td>\\n</tr>\\n<tr>\\n<td style=\"text-align: left;\">\\\\&quot;&quot;\\\\n&quot;</td>\\n<td>11 -ε-&gt; 9</td>\\n</tr>\\n<tr>\\n<td style=\"text-align: left;\">\\\\&quot;&quot;\\\\n&quot;</td>\\n<td>9 -ε-&gt; 6</td>\\n</tr>\\n<tr>\\n<td style=\"text-align: left;\">\\\\&quot;&quot;\\\\n&quot;</td>\\n<td>6 -\\\\-&gt; 7</td>\\n</tr>\\n<tr>\\n<td style=\"text-align: left;\">&quot;&quot;\\\\n&quot;</td>\\n<td>7 -&quot;-&gt; 10</td>\\n</tr>\\n<tr>\\n<td style=\"text-align: left;\">&quot;\\\\n&quot;</td>\\n<td>10 -ε-&gt; 13</td>\\n</tr>\\n<tr>\\n<td style=\"text-align: left;\">&quot;\\\\n&quot;</td>\\n<td>13 -ε-&gt; 11</td>\\n</tr>\\n<tr>\\n<td style=\"text-align: left;\">&quot;\\\\n&quot;</td>\\n<td>11 -ε-&gt; 12</td>\\n</tr>\\n<tr>\\n<td style=\"text-align: left;\">&quot;\\\\n&quot;</td>\\n<td>12 -ε-&gt; 14</td>\\n</tr>\\n<tr>\\n<td style=\"text-align: left;\">&quot;\\\\n&quot;</td>\\n<td>14 -&quot;-&gt; 15</td>\\n</tr>\\n<tr>\\n<td style=\"text-align: left;\">\\\\n&quot;</td>\\n<td>15 -ε-&gt; 2</td>\\n</tr>\\n</tbody>\\n</table>\\n</div>\\n<p>We should reach State <code>2</code> with the <code>&quot;</code> before the <code>\\\\n</code>, which would be the desired behavior.</p>\\n<p>Instead, we see it continue on to consume the <code>\\\\n</code> and the next <code>&quot;</code></p>\\n<pre><code>line 2:1 token recognition error at: \\'&quot;\\'\\n[@0,0:5=\\'&quot;\\\\&quot;&quot;\\\\n&quot;\\',&lt;StringLiteral&gt;,1:0]\\n[@1,7:6=\\'&lt;EOF&gt;\\',&lt;EOF&gt;,2:2]\\n</code></pre>\\n<p>In order for this to be valid, there must be a path from state 11 to state 2 that consumes a <code>\\\\n</code> and a <code>&quot;</code> (and I\\'m not seeing it)</p>\\n<p>Maybe I\\'m missing something, but it\\'s looking more and more like a bug to me.</p>\\n'"
      ]
     },
     "execution_count": 15,
     "metadata": {},
     "output_type": "execute_result"
    }
   ],
   "source": [
    "data.loc[0]['corpus']"
   ]
  },
  {
   "cell_type": "code",
   "execution_count": 16,
   "metadata": {},
   "outputs": [
    {
     "name": "stdout",
     "output_type": "stream",
     "text": [
      "Durée du traitement : 35.59\n"
     ]
    }
   ],
   "source": [
    "debut = time.time()  # Heure de début du traitement\n",
    "\n",
    "data['corpus'] = data['corpus'].apply(lambda x: BeautifulSoup(x, 'html.parser').get_text())\n",
    "\n",
    "print(f\"Durée du traitement : {(time.time() - debut):.2f}\")"
   ]
  },
  {
   "cell_type": "markdown",
   "metadata": {},
   "source": [
    "- Premier document après traitement : "
   ]
  },
  {
   "cell_type": "code",
   "execution_count": 17,
   "metadata": {},
   "outputs": [
    {
     "data": {
      "text/plain": [
       "'Lexer rule to handle escape of quote with quote or backslash in ANTLR4? I\\'m trying to expand the answer to How do I escape an escape character with ANTLR 4? to work when the \" can be escaped both with \" and \\\\. I.e. both\\n\"Rob \"\"Commander Taco\"\" Malda is smart.\"\\n\\nand\\n\"Rob \\\\\"Commander Taco\\\\\" Malda is smart.\"\\n\\nare both valid and equivalent. I\\'ve tried\\nStringLiteral : \\'\"\\' (\\'\"\"\\'|\\'\\\\\\\\\"\\'|~[\"])* \\'\"\\';\\n\\nbut if fails to match\\n\"Entry Flag for Offset check and for \\\\\"don\\'t start Chiller Water Pump Request\\\\\"\"\\n\\nwith the tokenizer consuming more characters than intended, i.e. consumes beyond \\\\\"\"\\nAnyone who knows how to define the lexer rule?\\n\\nA bit more detail...\\n\\n\"\" succeeds\\n\"\"\"\" succeeds\\n\\\\\" \" succeeds\\n\"\\\\\"\" succeeds (at EOF)\\n\"\\\\\"\"\\\\n\"\" fails (it greedily pulls in the \\\\n and \"\\n\\nExample: (text.txt)\\n\"\"\\n\"\"\"\"\\n\"\\\\\" \"\\n\"\\\\\"\"\\n\"\"\\n\\ngrun test tokens -tokens < test.txt\\n\\nline 5:1 token recognition error at: \\'\"\\'\\n[@0,0:1=\\'\"\"\\',<StringLiteral>,1:0]\\n[@1,2:2=\\'\\\\n\\',<\\'\\n\\'>,1:2]\\n[@2,3:6=\\'\"\"\"\"\\',<StringLiteral>,2:0]\\n[@3,7:7=\\'\\\\n\\',<\\'\\n\\'>,2:4]\\n[@4,8:12=\\'\"\\\\\" \"\\',<StringLiteral>,3:0]\\n[@5,13:13=\\'\\\\n\\',<\\'\\n\\'>,3:5]\\n[@6,14:19=\\'\"\\\\\"\"\\\\n\"\\',<StringLiteral>,4:0]\\n[@7,21:20=\\'<EOF>\\',<EOF>,5:2]\\n\\n\\\\\"\" and \"\"\" at the end of a StringListeral are not being handled the same.\\nHere\\'s the ATN for that rule:\\n\\nFrom this diagram it\\'s not clear why they should be handled differently.  They appear to be parallel constructs.\\n\\nMore research\\nTest Grammar (small change to simplify ATN):\\ngrammar test\\n    ;\\n\\nstart: StringLiteral (WS? StringLiteral)+;\\n\\nStringLiteral: \\'\"\\' ( ((\\'\\\\\\\\\\' | \\'\"\\') \\'\"\\') | ~[\"])* \\'\"\\';\\nWS:            [ \\\\t\\\\n\\\\r]+;\\n\\nThe ATN for StringLiteral in this grammar:\\n\\nOK, let\\'s walk through this ATN with the input \"\\\\\"\"\\\\n\"\\n\\n\\n\\n\\nunconsumed input\\ntransition\\n\\n\\n\\n\\n\"\\\\\"\"\\\\n\"\\n1 -ε-> 5\\n\\n\\n\"\\\\\"\"\\\\n\"\\n5 -\"-> 11\\n\\n\\n\\\\\"\"\\\\n\"\\n11 -ε-> 9\\n\\n\\n\\\\\"\"\\\\n\"\\n9 -ε-> 6\\n\\n\\n\\\\\"\"\\\\n\"\\n6 -\\\\-> 7\\n\\n\\n\"\"\\\\n\"\\n7 -\"-> 10\\n\\n\\n\"\\\\n\"\\n10 -ε-> 13\\n\\n\\n\"\\\\n\"\\n13 -ε-> 11\\n\\n\\n\"\\\\n\"\\n11 -ε-> 12\\n\\n\\n\"\\\\n\"\\n12 -ε-> 14\\n\\n\\n\"\\\\n\"\\n14 -\"-> 15\\n\\n\\n\\\\n\"\\n15 -ε-> 2\\n\\n\\n\\n\\nWe should reach State 2 with the \" before the \\\\n, which would be the desired behavior.\\nInstead, we see it continue on to consume the \\\\n and the next \"\\nline 2:1 token recognition error at: \\'\"\\'\\n[@0,0:5=\\'\"\\\\\"\"\\\\n\"\\',<StringLiteral>,1:0]\\n[@1,7:6=\\'<EOF>\\',<EOF>,2:2]\\n\\nIn order for this to be valid, there must be a path from state 11 to state 2 that consumes a \\\\n and a \" (and I\\'m not seeing it)\\nMaybe I\\'m missing something, but it\\'s looking more and more like a bug to me.\\n'"
      ]
     },
     "execution_count": 17,
     "metadata": {},
     "output_type": "execute_result"
    }
   ],
   "source": [
    "data.loc[0]['corpus']"
   ]
  },
  {
   "cell_type": "markdown",
   "metadata": {},
   "source": [
    "## **Exploration des données**"
   ]
  },
  {
   "cell_type": "code",
   "execution_count": 18,
   "metadata": {},
   "outputs": [
    {
     "data": {
      "text/plain": [
       "<seaborn.axisgrid.FacetGrid at 0x246e714f220>"
      ]
     },
     "execution_count": 18,
     "metadata": {},
     "output_type": "execute_result"
    },
    {
     "data": {
      "image/png": "[encoded data removed]",
      "text/plain": [
       "<Figure size 640x480 with 1 Axes>"
      ]
     },
     "metadata": {},
     "output_type": "display_data"
    },
    {
     "data": {
      "image/png": "[encoded data removed]",
      "text/plain": [
       "<Figure size 500x500 with 1 Axes>"
      ]
     },
     "metadata": {},
     "output_type": "display_data"
    }
   ],
   "source": [
    "# Longueur des questions\n",
    "tmp = data.corpus.str.len()\n",
    "sns.boxplot(tmp, orient='h', showfliers=False)\n",
    "\n",
    "sns.displot(tmp)"
   ]
  },
  {
   "cell_type": "code",
   "execution_count": 19,
   "metadata": {},
   "outputs": [
    {
     "data": {
      "text/plain": [
       "<seaborn.axisgrid.FacetGrid at 0x246823f6530>"
      ]
     },
     "execution_count": 19,
     "metadata": {},
     "output_type": "execute_result"
    },
    {
     "data": {
      "image/png": "[encoded data removed]",
      "text/plain": [
       "<Figure size 640x480 with 1 Axes>"
      ]
     },
     "metadata": {},
     "output_type": "display_data"
    },
    {
     "data": {
      "image/png": "[encoded data removed]",
      "text/plain": [
       "<Figure size 500x500 with 1 Axes>"
      ]
     },
     "metadata": {},
     "output_type": "display_data"
    }
   ],
   "source": [
    "# nombre de tags\n",
    "tmp = data.tags.str.len()\n",
    "sns.boxplot(tmp, orient='h')\n",
    "\n",
    "sns.displot(tmp)"
   ]
  },
  {
   "cell_type": "code",
   "execution_count": 20,
   "metadata": {},
   "outputs": [],
   "source": [
    "# création de 2 nouvelles variables pour l'exploration\n",
    "\n",
    "data['question_lenth'] = data.corpus.str.len()\n",
    "data['tags_number'] = data.tags.str.len()"
   ]
  },
  {
   "cell_type": "code",
   "execution_count": 21,
   "metadata": {},
   "outputs": [
    {
     "data": {
      "text/plain": [
       "<Axes: >"
      ]
     },
     "execution_count": 21,
     "metadata": {},
     "output_type": "execute_result"
    },
    {
     "data": {
      "image/png": "[encoded data removed]",
      "text/plain": [
       "<Figure size 640x480 with 2 Axes>"
      ]
     },
     "metadata": {},
     "output_type": "display_data"
    }
   ],
   "source": [
    "# corrélations entre les variables numériques\n",
    "\n",
    "corr = data.corr(numeric_only=True)\n",
    "sns.heatmap(corr, vmin=-1, vmax=1, cmap=\"coolwarm\", annot=True, fmt=\".2f\", square=True)"
   ]
  },
  {
   "cell_type": "code",
   "execution_count": 22,
   "metadata": {},
   "outputs": [],
   "source": [
    "# sns.pairplot(data)"
   ]
  },
  {
   "cell_type": "code",
   "execution_count": 23,
   "metadata": {},
   "outputs": [
    {
     "data": {
      "text/html": [
       "<div>\n",
       "<style scoped>\n",
       "    .dataframe tbody tr th:only-of-type {\n",
       "        vertical-align: middle;\n",
       "    }\n",
       "\n",
       "    .dataframe tbody tr th {\n",
       "        vertical-align: top;\n",
       "    }\n",
       "\n",
       "    .dataframe thead th {\n",
       "        text-align: right;\n",
       "    }\n",
       "</style>\n",
       "<table border=\"1\" class=\"dataframe\">\n",
       "  <thead>\n",
       "    <tr style=\"text-align: right;\">\n",
       "      <th></th>\n",
       "      <th>creationdate</th>\n",
       "      <th>tags</th>\n",
       "      <th>reputation</th>\n",
       "      <th>corpus</th>\n",
       "      <th>question_lenth</th>\n",
       "      <th>tags_number</th>\n",
       "    </tr>\n",
       "  </thead>\n",
       "  <tbody>\n",
       "    <tr>\n",
       "      <th>0</th>\n",
       "      <td>2022-05-08 20:40:40</td>\n",
       "      <td>[antlr4]</td>\n",
       "      <td>129</td>\n",
       "      <td>Lexer rule to handle escape of quote with quot...</td>\n",
       "      <td>2387</td>\n",
       "      <td>1</td>\n",
       "    </tr>\n",
       "    <tr>\n",
       "      <th>1</th>\n",
       "      <td>2022-05-08 21:22:05</td>\n",
       "      <td>[reactjs, firebase, jestjs]</td>\n",
       "      <td>121</td>\n",
       "      <td>Firebase - Testing with Jest throws error \"INT...</td>\n",
       "      <td>3971</td>\n",
       "      <td>3</td>\n",
       "    </tr>\n",
       "    <tr>\n",
       "      <th>2</th>\n",
       "      <td>2022-05-08 21:49:08</td>\n",
       "      <td>[async-await, concurrency, hacklang]</td>\n",
       "      <td>307</td>\n",
       "      <td>Concurrent block in hacklang Since hack is a s...</td>\n",
       "      <td>243</td>\n",
       "      <td>3</td>\n",
       "    </tr>\n",
       "    <tr>\n",
       "      <th>3</th>\n",
       "      <td>2022-05-08 21:49:57</td>\n",
       "      <td>[typescript]</td>\n",
       "      <td>1436</td>\n",
       "      <td>Can you set a type for a function in typescrip...</td>\n",
       "      <td>1374</td>\n",
       "      <td>1</td>\n",
       "    </tr>\n",
       "    <tr>\n",
       "      <th>4</th>\n",
       "      <td>2022-05-08 21:51:00</td>\n",
       "      <td>[expo, google-play-console, google-play-develo...</td>\n",
       "      <td>4346</td>\n",
       "      <td>Expo EAS Submit, where to store service accoun...</td>\n",
       "      <td>595</td>\n",
       "      <td>3</td>\n",
       "    </tr>\n",
       "    <tr>\n",
       "      <th>...</th>\n",
       "      <td>...</td>\n",
       "      <td>...</td>\n",
       "      <td>...</td>\n",
       "      <td>...</td>\n",
       "      <td>...</td>\n",
       "      <td>...</td>\n",
       "    </tr>\n",
       "    <tr>\n",
       "      <th>49995</th>\n",
       "      <td>2022-03-21 09:01:04</td>\n",
       "      <td>[ionic-framework, ionic-react]</td>\n",
       "      <td>590</td>\n",
       "      <td>Ionic-React App Automatically Changing to Dark...</td>\n",
       "      <td>481</td>\n",
       "      <td>2</td>\n",
       "    </tr>\n",
       "    <tr>\n",
       "      <th>49996</th>\n",
       "      <td>2022-03-21 09:02:39</td>\n",
       "      <td>[stripe-payments]</td>\n",
       "      <td>125</td>\n",
       "      <td>is it possible to operate two service in the o...</td>\n",
       "      <td>307</td>\n",
       "      <td>1</td>\n",
       "    </tr>\n",
       "    <tr>\n",
       "      <th>49997</th>\n",
       "      <td>2022-03-21 09:02:54</td>\n",
       "      <td>[terraform]</td>\n",
       "      <td>4200</td>\n",
       "      <td>Which security problem does terraform Checksum...</td>\n",
       "      <td>1621</td>\n",
       "      <td>1</td>\n",
       "    </tr>\n",
       "    <tr>\n",
       "      <th>49998</th>\n",
       "      <td>2022-03-21 13:54:21</td>\n",
       "      <td>[azure, azurite]</td>\n",
       "      <td>135</td>\n",
       "      <td>Visual studio 2022 with azurite integrated (v3...</td>\n",
       "      <td>1716</td>\n",
       "      <td>2</td>\n",
       "    </tr>\n",
       "    <tr>\n",
       "      <th>49999</th>\n",
       "      <td>2022-03-21 13:56:22</td>\n",
       "      <td>[c#, .net-core, .net-6.0, aws-parameter-store]</td>\n",
       "      <td>1607</td>\n",
       "      <td>Use IOption pattern with Aws Parameter Store a...</td>\n",
       "      <td>2078</td>\n",
       "      <td>4</td>\n",
       "    </tr>\n",
       "  </tbody>\n",
       "</table>\n",
       "<p>49999 rows × 6 columns</p>\n",
       "</div>"
      ],
      "text/plain": [
       "             creationdate                                               tags  \\\n",
       "0     2022-05-08 20:40:40                                           [antlr4]   \n",
       "1     2022-05-08 21:22:05                        [reactjs, firebase, jestjs]   \n",
       "2     2022-05-08 21:49:08               [async-await, concurrency, hacklang]   \n",
       "3     2022-05-08 21:49:57                                       [typescript]   \n",
       "4     2022-05-08 21:51:00  [expo, google-play-console, google-play-develo...   \n",
       "...                   ...                                                ...   \n",
       "49995 2022-03-21 09:01:04                     [ionic-framework, ionic-react]   \n",
       "49996 2022-03-21 09:02:39                                  [stripe-payments]   \n",
       "49997 2022-03-21 09:02:54                                        [terraform]   \n",
       "49998 2022-03-21 13:54:21                                   [azure, azurite]   \n",
       "49999 2022-03-21 13:56:22     [c#, .net-core, .net-6.0, aws-parameter-store]   \n",
       "\n",
       "       reputation                                             corpus  \\\n",
       "0             129  Lexer rule to handle escape of quote with quot...   \n",
       "1             121  Firebase - Testing with Jest throws error \"INT...   \n",
       "2             307  Concurrent block in hacklang Since hack is a s...   \n",
       "3            1436  Can you set a type for a function in typescrip...   \n",
       "4            4346  Expo EAS Submit, where to store service accoun...   \n",
       "...           ...                                                ...   \n",
       "49995         590  Ionic-React App Automatically Changing to Dark...   \n",
       "49996         125  is it possible to operate two service in the o...   \n",
       "49997        4200  Which security problem does terraform Checksum...   \n",
       "49998         135  Visual studio 2022 with azurite integrated (v3...   \n",
       "49999        1607  Use IOption pattern with Aws Parameter Store a...   \n",
       "\n",
       "       question_lenth  tags_number  \n",
       "0                2387            1  \n",
       "1                3971            3  \n",
       "2                 243            3  \n",
       "3                1374            1  \n",
       "4                 595            3  \n",
       "...               ...          ...  \n",
       "49995             481            2  \n",
       "49996             307            1  \n",
       "49997            1621            1  \n",
       "49998            1716            2  \n",
       "49999            2078            4  \n",
       "\n",
       "[49999 rows x 6 columns]"
      ]
     },
     "execution_count": 23,
     "metadata": {},
     "output_type": "execute_result"
    }
   ],
   "source": [
    "data"
   ]
  },
  {
   "cell_type": "code",
   "execution_count": 24,
   "metadata": {},
   "outputs": [
    {
     "data": {
      "text/plain": [
       "<seaborn.axisgrid.PairGrid at 0x24683082560>"
      ]
     },
     "execution_count": 24,
     "metadata": {},
     "output_type": "execute_result"
    },
    {
     "data": {
      "image/png": "[encoded data removed]",
      "text/plain": [
       "<Figure size 1102.36x1000 with 2 Axes>"
      ]
     },
     "metadata": {},
     "output_type": "display_data"
    }
   ],
   "source": [
    "sns.pairplot(data[['question_lenth', 'tags_number']], hue=\"tags_number\", height=10)"
   ]
  },
  {
   "cell_type": "code",
   "execution_count": 25,
   "metadata": {},
   "outputs": [
    {
     "name": "stdout",
     "output_type": "stream",
     "text": [
      "Tags : ['rust']\n",
      "How to generate a Rc from &T in rust? To learn about Weak ref in Rust, I wrote the following code. The main thing is a Factory and a Car. use a Factory to weak ref to some of the cars it produces, and these Car always ref to the Factory that produced it.\n",
      "Now I want to implement a Factory.make_car() function that creates a car object that implements the above reference relationship.\n",
      "But while writing this function, I ran into a difficulty. Because the parameter of make_car() is a &mut of Factory object, how can I get the Rc<Factory> object?\n",
      "That is, how to modify the following ????  so that the program can compile successfully?\n",
      "struct Factory {\n",
      "    cars: Vec<Weak<Car>>,\n",
      "}\n",
      "\n",
      "struct Car {\n",
      "    fact: Rc<Factory>,\n",
      "}\n",
      "\n",
      "impl Factory {\n",
      "    pub fn make_car(&mut self) -> Car {\n",
      "        let car = Car { fact: Rc::clone(???), };\n",
      "        let carc = Rc::new(car);\n",
      "        self.cars.push(Rc::downgrade(&carc));\n",
      "        return car;\n",
      "    }\n",
      "}\n",
      "\n",
      "#[cfg(test)]\n",
      "pub mod tests {\n",
      "    #[test]\n",
      "    fn test_make_car() {\n",
      "        let mut factory = super::Factory{cars: vec![]};\n",
      "        let car = factory.make_car();\n",
      "        \n",
      "    }\n",
      "}\n",
      "\n",
      "...\n",
      "\n",
      "Tags : ['javascript', 'typescript', 'promise', 'method-chaining']\n",
      "How to return a Promise in a Javascript async function? Why does Async method not wrap the returned Promise? I have the following code. My intention is to start a task (which involves a few await calls before it can actually start). When it finishes starting it, I need to update the UI to tell user that the task has started and is waiting for result. Result will come in later so I want to return another Promise so the app knows when to update the UI with returned result:\n",
      "async function startSomethingAsync() {\n",
      "    await new Promise(r => globalThis.setTimeout(r, 1000));\n",
      "    console.log(\"Task started\");\n",
      "\n",
      "    const finishedPromise = new Promise<number>(r => {\n",
      "        globalThis.setTimeout(() => r(100), 3000);\n",
      "    });\n",
      "    return finishedPromise;\n",
      "}\n",
      "\n",
      "(async() => {\n",
      "    // resultPromise is number instead of Promise<number>\n",
      "    const resultPromise = await startSomethingAsync();\n",
      "\n",
      "    // My intention: update UI after starting the task\n",
      "    console.log(\"Task started\");\n",
      "\n",
      "    // Then when the result is there, do something else\n",
      "    // Currently this is not compiled because resultPromise is not a Promise\n",
      "    resultPromise.then(r => console.log(\"Result arrived: \" + r));\n",
      "})();\n",
      "\n",
      "However the above code does not work. Somehow resultPromise is number (100 after resolved) instead of Promise<number>. TypeScript also recognize startSomethingAsync returning Promise<number> instead of Promise<Promise<number>>.\n",
      "Why is this happening? Shouldn't the async method wrap another Promise outside of the returned Promise? How do I achieve what I am trying to do and is it a \"good\" pattern?\n",
      "\n",
      "I even tried wrapping it by myself:\n",
      "async function startSomethingAsync() {\n",
      "    await new Promise(r => globalThis.setTimeout(r, 1000));\n",
      "    console.log(\"Task started\");\n",
      "\n",
      "    const finishedPromise = new Promise<Promise<number>>(r1 => r1(new Promise<number>(r2 => {\n",
      "        globalThis.setTimeout(() => r2(100), 3000);\n",
      "    })));\n",
      "    return finishedPromise;\n",
      "}\n",
      "\n",
      "The function still returns Promise<number> instead of Promise<Promise<number>>.\n",
      "...\n",
      "\n",
      "Tags : ['flutter', 'overflow', 'singlechildscrollview']\n",
      "how do i fix vertical flutter overflow? I'm trying to fix vertical overflow using the SingleChildScrollView but it gives me the error:\n",
      "FlutterError (RenderFlex children have non-zero flex but incoming height constraints are unbounded.\n",
      "When a column is in a parent that does not provide a finite height constraint.\n",
      "\n",
      "I have tried using Expanded and MainAxisSize.min to no avail.\n",
      "This is my code:\n",
      "Widget build(BuildContext context) {\n",
      "    double altezza = MediaQuery.of(context).size.height;\n",
      "    return SingleChildScrollView(\n",
      "      child: Column(\n",
      "        children: <Widget>[\n",
      "          Column(\n",
      "            children: <Widget>[\n",
      "              altezza > 750 && valoreCheckAbbuonoOre == false\n",
      "                  ? SizedBox(height: altezza / 9)\n",
      "                  : altezza > 750 && valoreCheckAbbuonoOre == true\n",
      "                      ? SizedBox(height: altezza / 11)\n",
      "                      : SizedBox(height: altezza / 15),\n",
      "              Text(\"Rapporto di $meseAttuale $annoAttuale\",\n",
      "                  style: TextStyle(fontWeight: FontWeight.bold, fontSize: 21)),\n",
      "              SizedBox(height: 20),\n",
      "              GestureDetector(\n",
      "                onTap: () {\n",
      "                  click(1);\n",
      "                },\n",
      "                child: Text(\"Visualizza rapporto precedente\",\n",
      "                    style: TextStyle(\n",
      "                        fontWeight: FontWeight.bold,\n",
      "                        fontSize: 16,\n",
      "                        color: Colors.blue[900])),\n",
      "              ),\n",
      "              SizedBox(height: 20),\n",
      "              TabellaStatica(visualizzaRapporto, \"attuale\"),\n",
      "              SizedBox(height: 20),\n",
      "              obiettivo != 0 && obiettivo != null\n",
      "                  ? Text(\"$testoObiettivo\",\n",
      "                      style: plus != null\n",
      "                          ? TextStyle(\n",
      "                              color: Colors.green,\n",
      "                              fontSize: 15,\n",
      "                              fontWeight: FontWeight.bold)\n",
      "                          : deficit != null\n",
      "                              ? TextStyle(\n",
      "                                  color: Colors.red,\n",
      "                                  fontSize: 15,\n",
      "                                  fontWeight: FontWeight.bold)\n",
      "                              : TextStyle(\n",
      "                                  color: Colors.green,\n",
      "                                  fontSize: 15,\n",
      "                                  fontWeight: FontWeight.bold))\n",
      "                  : SizedBox(),\n",
      "              SizedBox(height: 10),\n",
      "              IconButton(\n",
      "                icon: new Icon(\n",
      "                  Icons.whatsapp,\n",
      "                  color: Colors.green,\n",
      "                  size: 30,\n",
      "                ),\n",
      "                onPressed: () async {\n",
      "                  inviaWhatsapp();\n",
      "                },\n",
      "              ),\n",
      "            ],\n",
      "          ),\n",
      "          Spacer(),\n",
      "          Row(\n",
      "            mainAxisAlignment: MainAxisAlignment.end,\n",
      "            children: <Widget>[\n",
      "              MaterialButton(\n",
      "                onPressed: () {\n",
      "                  Navigator.push(\n",
      "                    context,\n",
      "                    MaterialPageRoute(\n",
      "                        builder: (context) =>\n",
      "                            AggiungiServizio(visualizzaRapporto)),\n",
      "                  );\n",
      "                },\n",
      "                shape: CircleBorder(),\n",
      "                color: Colors.blue[900],\n",
      "                padding: EdgeInsets.all(10),\n",
      "                child: const Icon(\n",
      "                  Icons.add,\n",
      "                  size: 30,\n",
      "                  color: Colors.white,\n",
      "                ),\n",
      "              ),\n",
      "            ],\n",
      "          ),\n",
      "          SizedBox(height: 20),\n",
      "        ],\n",
      "      ),\n",
      "    );\n",
      "  }\n",
      "}\n",
      "\n",
      "...\n",
      "\n",
      "Tags : ['android', 'kotlin', 'kotlin-coroutines', 'coroutine', 'kotlin-flow']\n",
      "Using flow as the return type of an API call I am into kotlin and co-routines since last 8 months, as per my understanding it is not optimal usage of flow if we use it as the return type of an api call.\n",
      "e.g:\n",
      "fun getCoutries(): Flow<List<Country>> = flow {\n",
      "   emit(apiInterface.getAllCountries())\n",
      "}\n",
      "\n",
      "I am seeing usage of flow like these in one shot api calls, I want to know if this should be discouraged or not. Since flow is to be a stream rather than being one shot.\n",
      "...\n",
      "\n",
      "Tags : ['git', 'github', 'github-actions', 'github-api', 'cicd']\n",
      "Build in feature branch is not working using Cron schedule and API call GitHub Actions We have a requirement to trigger GitHub Actions pipeline using API and Cron Schedule.\n",
      "We have those changes in default branch and those are working fine but the same changes are not working when comes to feature branch.\n",
      "Am i missing any config in Github ?\n",
      "on: \n",
      "  schedule:\n",
      "    - cron: '1 * * * *'\n",
      "\n",
      "curl -L \\\n",
      "  -X POST \\\n",
      "  -H \"Accept: application/vnd.github+json\" \\\n",
      "  -H \"Authorization: Bearer token\"\\\n",
      "  -H \"X-GitHub-Api-Version: 2022-11-28\" \\\n",
      "  https://api.github.com/repos/org/repo_name/dispatches \\\n",
      "  -d '{\"event_type\":\"develop-package\"}'\n",
      "\n",
      "...\n",
      "\n"
     ]
    }
   ],
   "source": [
    "for idx, ser in data.sample(5).iterrows():\n",
    "    txt_1 = f\"Tags : {ser['tags']}\\n\"\n",
    "    print(txt_1 + ser['corpus']+ \"...\" + \"\\n\")"
   ]
  },
  {
   "cell_type": "markdown",
   "metadata": {},
   "source": [
    "# explo faire gaphique avec creationdate"
   ]
  },
  {
   "cell_type": "markdown",
   "metadata": {},
   "source": [
    "## **Text processing**"
   ]
  },
  {
   "cell_type": "markdown",
   "metadata": {},
   "source": [
    "### **Commençons par analyser le corpus dans sa globalité**"
   ]
  },
  {
   "cell_type": "markdown",
   "metadata": {},
   "source": [
    "- Fonctions de base : "
   ]
  },
  {
   "cell_type": "code",
   "execution_count": 26,
   "metadata": {},
   "outputs": [],
   "source": [
    "def display_tokens_infos(tokens):\n",
    "    \"\"\"Infos de base d'un corpus\"\"\"\n",
    "\n",
    "    print(f\"Nombre de tokens : {len(tokens)}\\nNombre de tokens uniques : {len(set(tokens))}\")\n",
    "    print(f\"10 premiers tokens : {tokens[:10]}\")"
   ]
  },
  {
   "cell_type": "code",
   "execution_count": 27,
   "metadata": {},
   "outputs": [],
   "source": [
    "def basic_cleaning(doc):\n",
    "    \"\"\"Cleaning de base\"\"\"\n",
    "\n",
    "    # Passage en minuscule\n",
    "    doc = doc.lower().strip()  # .strip() enlève le/les caractère(s) définis à gauche et à droite (espace par défaut)\n",
    "\n",
    "    # Tokenisation avec NLTK\n",
    "    tokenizer = RegexpTokenizer(r\"\\w+\")\n",
    "    raw_tokens_list = tokenizer.tokenize(doc)\n",
    "\n",
    "    # Suppression des stop words\n",
    "    cleaned_tokens_list = [w for w in raw_tokens_list if w not in stop_words]\n",
    "\n",
    "    # Suppression des caractères numériques\n",
    "    alpha_tokens = [w for w in cleaned_tokens_list if w.isalpha()]\n",
    "   \n",
    "    return alpha_tokens"
   ]
  },
  {
   "cell_type": "markdown",
   "metadata": {},
   "source": [
    "- Définition des stopwords que l'on va utiliser : "
   ]
  },
  {
   "cell_type": "code",
   "execution_count": 28,
   "metadata": {},
   "outputs": [],
   "source": [
    "stop_words = set(stopwords.words('english'))"
   ]
  },
  {
   "cell_type": "markdown",
   "metadata": {},
   "source": [
    "- Création d'un corpus global en fusionnant toutes les données de la colonne ```data['corpus']``` : "
   ]
  },
  {
   "cell_type": "code",
   "execution_count": 29,
   "metadata": {},
   "outputs": [
    {
     "name": "stdout",
     "output_type": "stream",
     "text": [
      "Le corpus global fait 88420862 caractères.\n"
     ]
    }
   ],
   "source": [
    "raw_corpus = \" \".join(data.corpus.values)\n",
    "print(f\"Le corpus global fait {len(raw_corpus)} caractères.\")"
   ]
  },
  {
   "cell_type": "markdown",
   "metadata": {},
   "source": [
    "- Tokenisation et nettoyage de base : "
   ]
  },
  {
   "cell_type": "code",
   "execution_count": 30,
   "metadata": {},
   "outputs": [
    {
     "name": "stdout",
     "output_type": "stream",
     "text": [
      "Nombre de tokens : 7156445\n",
      "Nombre de tokens uniques : 199120\n",
      "10 premiers tokens : ['lexer', 'rule', 'handle', 'escape', 'quote', 'quote', 'backslash', 'trying', 'expand', 'answer']\n"
     ]
    }
   ],
   "source": [
    "corpus = basic_cleaning(raw_corpus)\n",
    "display_tokens_infos(corpus)"
   ]
  },
  {
   "cell_type": "markdown",
   "metadata": {},
   "source": [
    "- Fréquence des tokens : "
   ]
  },
  {
   "cell_type": "code",
   "execution_count": 31,
   "metadata": {},
   "outputs": [
    {
     "name": "stdout",
     "output_type": "stream",
     "text": [
      "Tokens les plus fréquents : \n"
     ]
    },
    {
     "data": {
      "text/plain": [
       "data      39741\n",
       "class     38501\n",
       "error     38058\n",
       "c         35776\n",
       "return    34349\n",
       "using     34213\n",
       "string    34200\n",
       "code      34042\n",
       "name      33775\n",
       "type      33380\n",
       "dtype: int64"
      ]
     },
     "metadata": {},
     "output_type": "display_data"
    },
    {
     "name": "stdout",
     "output_type": "stream",
     "text": [
      "Tokens les moins fréquents : \n"
     ]
    },
    {
     "data": {
      "text/plain": [
       "asyncwebserverrequest    1\n",
       "espasyncserver           1\n",
       "officenumber             1\n",
       "cellnumber               1\n",
       "glazed                   1\n",
       "oldfile                  1\n",
       "asserthalt               1\n",
       "vinit                    1\n",
       "customauth               1\n",
       "systemsmanager           1\n",
       "dtype: int64"
      ]
     },
     "metadata": {},
     "output_type": "display_data"
    },
    {
     "name": "stdout",
     "output_type": "stream",
     "text": [
      "Distribution des présences des tokens : \n"
     ]
    },
    {
     "data": {
      "text/plain": [
       "count    199120.000000\n",
       "mean         35.940363\n",
       "std         500.875301\n",
       "min           1.000000\n",
       "25%           1.000000\n",
       "50%           2.000000\n",
       "75%           5.000000\n",
       "max       39741.000000\n",
       "dtype: float64"
      ]
     },
     "metadata": {},
     "output_type": "display_data"
    }
   ],
   "source": [
    "# On fait le compte des différents tokens\n",
    "tmp = pd.Series(corpus).value_counts()\n",
    "\n",
    "print(\"Tokens les plus fréquents : \")\n",
    "display(tmp.head(10))\n",
    "\n",
    "print(\"Tokens les moins fréquents : \")\n",
    "display(tmp.tail(10))\n",
    "\n",
    "print(\"Distribution des présences des tokens : \")\n",
    "display(tmp.describe())\n"
   ]
  },
  {
   "cell_type": "markdown",
   "metadata": {},
   "source": [
    "La distribution est très asymétrique : \n",
    "- au moins 25% des tokens sont présents une seule fois.\n",
    "- 50% des tokens spont présents 2 fois ou moins"
   ]
  },
  {
   "cell_type": "code",
   "execution_count": 32,
   "metadata": {},
   "outputs": [
    {
     "data": {
      "image/png": "[encoded data removed]",
      "text/plain": [
       "<Figure size 640x480 with 1 Axes>"
      ]
     },
     "metadata": {},
     "output_type": "display_data"
    }
   ],
   "source": [
    "sns.boxplot(tmp, orient='h', showfliers=False);\n"
   ]
  },
  {
   "cell_type": "markdown",
   "metadata": {},
   "source": [
    "- Mots rares : <br>\n",
    "\n",
    "Pour un mot unique, il y a de grandes chances soit qu'il soit éliminé lors de méthodes de réduction de dimentionnalité, soit qu'il ne puisse pas être utilisé comme dimention.<br>\n",
    "Et pour accélérer nos calculs futurs, on a tout intérêt à diminuer la liste de tokens de notre corpus, et donc à supprimer les tokens présents une seule fois."
   ]
  },
  {
   "cell_type": "code",
   "execution_count": 33,
   "metadata": {},
   "outputs": [
    {
     "name": "stdout",
     "output_type": "stream",
     "text": [
      "Nombre de mots rares : 73233\n",
      "Exemples de mots rares : ['inod', 'jwtgeneratorservicefixture', 'promp', 'dispear', 'testthree', 'hcryptkey', 'codelensfontsize', '新しく新着情報を書く', 'inva', '新着情報記事を書く']\n"
     ]
    }
   ],
   "source": [
    "list_unique_words = tmp[tmp==1]\n",
    "list_unique_words = list(list_unique_words.index)  # .index = pour ne récupérer que les mots\n",
    "print(f\"Nombre de mots rares : {len(list_unique_words)}\")\n",
    "print(f\"Exemples de mots rares : {list_unique_words[:10]}\")"
   ]
  },
  {
   "cell_type": "markdown",
   "metadata": {},
   "source": [
    "- Mots présents 5 fois ou moins : \n",
    "\n",
    "On peut faire de même avec les mots présents 5 fois ou moins."
   ]
  },
  {
   "cell_type": "code",
   "execution_count": 34,
   "metadata": {},
   "outputs": [
    {
     "name": "stdout",
     "output_type": "stream",
     "text": [
      "Nombre de mots présents 5 fois ou moins : 153617\n",
      "Exemples de mots : ['finicio', 'valafterarrnonref', 'managementclient', 'buildcontexts', 'testerimpl', 'cmsamplebuffer', 'midnightblue', 'mapraterequestasync', 'mouseeventhandler', 'libminizip']\n"
     ]
    }
   ],
   "source": [
    "list_min_5_words = tmp[tmp<=5]\n",
    "list_min_5_words = list(list_min_5_words.index)  # .index = pour ne récupérer que les mots\n",
    "print(f\"Nombre de mots présents 5 fois ou moins : {len(list_min_5_words)}\")\n",
    "print(f\"Exemples de mots : {list_min_5_words[:10]}\")"
   ]
  },
  {
   "cell_type": "markdown",
   "metadata": {},
   "source": [
    "Il y en a deux fois plus que de mots uniques."
   ]
  },
  {
   "cell_type": "markdown",
   "metadata": {},
   "source": [
    "- Intérêt de traiter les mots présents 10 fois ou moins ?"
   ]
  },
  {
   "cell_type": "code",
   "execution_count": 35,
   "metadata": {},
   "outputs": [
    {
     "name": "stdout",
     "output_type": "stream",
     "text": [
      "Nombre de mots présents 10 fois ou moins : 172377\n"
     ]
    }
   ],
   "source": [
    "print(f\"Nombre de mots présents 10 fois ou moins : {len(tmp[tmp<=10])}\")"
   ]
  },
  {
   "cell_type": "markdown",
   "metadata": {},
   "source": [
    "La différence avec les mots présents 5 fois ou moins n'est pas très grande."
   ]
  },
  {
   "cell_type": "markdown",
   "metadata": {},
   "source": [
    "### **Lemmatisation : comparaison de NLTK et Spacy**"
   ]
  },
  {
   "cell_type": "markdown",
   "metadata": {},
   "source": [
    "- Exemple de phrase à lemmatiser : "
   ]
  },
  {
   "cell_type": "code",
   "execution_count": 36,
   "metadata": {},
   "outputs": [],
   "source": [
    "phrase = \"These are sentences going to be translated\"\n",
    "tokenizer = RegexpTokenizer(r\"\\w+\")\n",
    "phrase_tokens = tokenizer.tokenize(phrase)"
   ]
  },
  {
   "cell_type": "markdown",
   "metadata": {},
   "source": [
    "- Lemmatisation avec NLTK : "
   ]
  },
  {
   "cell_type": "code",
   "execution_count": 37,
   "metadata": {},
   "outputs": [
    {
     "name": "stdout",
     "output_type": "stream",
     "text": [
      "Durée du traitement : 1.57\n",
      "Tokens after Lemmatization using WordNet Lemmatizer: \n",
      "These are sentences going to be translated => ['These', 'are', 'sentence', 'going', 'to', 'be', 'translated']\n"
     ]
    }
   ],
   "source": [
    "# Instanciation\n",
    "wordNetLemmatizer = WordNetLemmatizer()\n",
    "\n",
    "debut = time.time()  # Heure de début du traitement\n",
    "lemmaWords1 = [wordNetLemmatizer.lemmatize(word) for word in phrase_tokens]\n",
    "print(f\"Durée du traitement : {(time.time() - debut):.2f}\")\n",
    "\n",
    "print(f'Tokens after Lemmatization using WordNet Lemmatizer: \\n{phrase} => {lemmaWords1}')"
   ]
  },
  {
   "cell_type": "markdown",
   "metadata": {},
   "source": [
    "- Lemmatisation avec Spacy : "
   ]
  },
  {
   "cell_type": "code",
   "execution_count": 38,
   "metadata": {},
   "outputs": [
    {
     "name": "stdout",
     "output_type": "stream",
     "text": [
      "Durée du traitement : 0.01\n",
      "Tokens after Lemmatization using SpaCy Lemmatization: \n",
      "These are sentences going to be translated => ['these', 'be', 'sentence', 'go', 'to', 'be', 'translate']\n"
     ]
    }
   ],
   "source": [
    "# Instanciation\n",
    "spacy_nlp = spacy.load('en_core_web_sm', disable = ['parser','ner'])  # 'parser' et 'ner' pas utiles pour le moment\n",
    "\n",
    "debut = time.time()  # Heure de début du traitement\n",
    "doc = spacy_nlp(phrase)\n",
    "print(f\"Durée du traitement : {(time.time() - debut):.2f}\")\n",
    "\n",
    "lemmaWords2 = [word.lemma_ for word in doc]\n",
    "print(f'Tokens after Lemmatization using SpaCy Lemmatization: \\n{phrase} => {lemmaWords2}')"
   ]
  },
  {
   "cell_type": "markdown",
   "metadata": {},
   "source": [
    "- Comparaison des deux résultats : "
   ]
  },
  {
   "cell_type": "code",
   "execution_count": 39,
   "metadata": {},
   "outputs": [
    {
     "name": "stdout",
     "output_type": "stream",
     "text": [
      "These are sentences going to be translated (Texte à lemmatiser)\n",
      "['These', 'are', 'sentence', 'going', 'to', 'be', 'translated'] (NLTK)\n",
      "['these', 'be', 'sentence', 'go', 'to', 'be', 'translate'] (Spacy)\n"
     ]
    }
   ],
   "source": [
    "print(phrase, \"(Texte à lemmatiser)\")\n",
    "print(lemmaWords1, \"(NLTK)\")\n",
    "print(lemmaWords2, \"(Spacy)\")"
   ]
  },
  {
   "cell_type": "markdown",
   "metadata": {},
   "source": [
    "NLTK a juste mis *sentences* au singulier, alors que Spacy a en plus donné la racine des mots *are*, *going* et *translated*.<br>\n",
    "Le lemmatiseur de Spacy semble plus efficace, c'est celui-ci que nous utiliserons."
   ]
  },
  {
   "cell_type": "markdown",
   "metadata": {},
   "source": [
    "### **Traitement des documents du corpus**\n",
    "\n",
    "Voici les traitements que nous allons appliquer aux documents de *```data['corpus']```* : <br>\n",
    "\n",
    "- Passer tous le texte en minuscule, afin de pouvoir regrouper les mots écrits avec des casses différentes.\n",
    "- Exclure les mots rares, ceux qui sont présents une seule fois dans tout le corpus.\n",
    "- Retrait des *Stop Words*, mots commun ayant peu d'intérêt dans le sens global des documents.\n",
    "- Suppression des mots courts. Les mots très courts ne sont généralement pas ceux qui apportent le plus de sens.\n",
    "- Suppression des données numériques. Elles ne nous intéressent pas ici.\n",
    "- Lemmatisation. Afin de réduire la taille du vocabulaire, nous allons regrouper les déclinaisons d'un même mot en sa racine.\n",
    "\n",
    "\n"
   ]
  },
  {
   "cell_type": "markdown",
   "metadata": {},
   "source": [
    "- Création de la fonction de traitement des documents : "
   ]
  },
  {
   "cell_type": "code",
   "execution_count": 40,
   "metadata": {},
   "outputs": [],
   "source": [
    "def process_documents(doc,\n",
    "                   tokenizer=None,\n",
    "                   lemmentizer=None,\n",
    "                   rejoin=False,\n",
    "                   stop_words=None,\n",
    "                   list_rare_words=None,\n",
    "                   min_len_word=3,\n",
    "                   alpha_only=True,\n",
    "                   extra_words=None\n",
    "                   ):\n",
    "    \n",
    "    \"\"\"\n",
    "    Cette fonction permet de tokéniser un texte et d'en réduire la dimension.\n",
    "\n",
    "    ------------------------------------\n",
    "\n",
    "    Arguments positionnels : \n",
    "\n",
    "    doc : le document (texte au format str) à traiter.\n",
    "\n",
    "    ------------------------------------\n",
    "\n",
    "    Arguments optionnels : \n",
    "\n",
    "    tokenizer (obj) : l'instance du tokenizer à utiliser (par défaut : None).\n",
    "    lemmentizer (obj) : l'instance du lemmentizer à utiliser (par défaut : None).\n",
    "    rejoin (bool) : si True, retourne une unique chaine de caractère contenant les tokens séparés par un espace (par défaut : False).\n",
    "    stop_words (set) : liste des stop words à utiliser, privilégier un format en set pour des traitements plus rapides (par défaut : None).\n",
    "    list_rare_words (set) : liste de mots rares à retirer, privilégier un format en set pour des traitements plus rapides (par défaut : None).\n",
    "    min_len_word (int) : longueur des mots courts à supprimer, si None aucun mot supprimé (par défaut : 3).\n",
    "    alpha_only (bool) : utilisation de la méthode .isalpha() pour ne garder que les lettres (par défaur : True).\n",
    "    extra_words (set) : mots spécifiques supplémentaire à supprimer, privilégier un format en set pour des traitements plus rapides (par défaut : None).\n",
    "\n",
    "    ------------------------------------\n",
    "\n",
    "    Renvoie :\n",
    "\n",
    "    Un string (si join est True) ou un set de tokens.\n",
    "\n",
    "    \"\"\"\n",
    "\n",
    "    # Passage du texte en minuscules\n",
    "    doc = doc.lower().strip()  # .strip() enlève le/les caractère(s) définis à gauche et à droite (espace par défaut)\n",
    "\n",
    "    # Tokenisation du texte\n",
    "    if tokenizer:\n",
    "        raw_tokens_list = set(tokenizer.tokenize(doc))  # set() pour supprimer les doublons\n",
    "    else:\n",
    "        raw_tokens_list = doc\n",
    "\n",
    "    # Suppression des stopwords (si fournis)\n",
    "    if stop_words:\n",
    "        cleaned_tokens_list = [w for w in raw_tokens_list if w not in stop_words]\n",
    "    else:\n",
    "        cleaned_tokens_list = raw_tokens_list\n",
    "\n",
    "    # Suppression des mots rares (si fournis)\n",
    "    if list_rare_words:\n",
    "        non_rare_tokens = [w for w in cleaned_tokens_list if w not in list_rare_words]\n",
    "    else:\n",
    "        non_rare_tokens = cleaned_tokens_list\n",
    "\n",
    "    # Suppression des mots courts (si l'option est activée)\n",
    "    if not min_len_word:\n",
    "        more_than_N = non_rare_tokens\n",
    "    else:\n",
    "        more_than_N = [w for w in non_rare_tokens if len(w) >= min_len_word]\n",
    "\n",
    "    # Suppression des caractères numériques (si l'option est activée)\n",
    "    if alpha_only:\n",
    "        alpha_tokens = [w for w in more_than_N if w.isalpha()]  # isalpha() sert à retourner True s'il n'y a que des lettres, pas de chiffre\n",
    "    else:\n",
    "        alpha_tokens = more_than_N\n",
    "\n",
    "    # Lemmatisation\n",
    "    if lemmentizer:\n",
    "        ecrase = ' '.join(alpha_tokens)  # Il faut \"écraser\" la liste pour qu'elle puisse passer dans le lemmatizerde Spacy\n",
    "        doc = lemmentizer(ecrase)\n",
    "        lemmatized = set([word.lemma_ for word in doc])  # set() pour supprimer d'éventuels nouveaux doublons qui auraient été créés\n",
    "    else:\n",
    "        lemmatized = alpha_tokens\n",
    "\n",
    "    # Suppression des extra_words (si fournis)\n",
    "    if extra_words:\n",
    "        final = [w for w in lemmatized if w not in extra_words]\n",
    "    else:\n",
    "        final = lemmatized\n",
    "\n",
    "    # Forme des données retournées\n",
    "    if rejoin:\n",
    "        return \" \".join(final) # retourne une unique chaine de caractère contenant les tokens séparés par un espace\n",
    "    return final"
   ]
  },
  {
   "cell_type": "markdown",
   "metadata": {},
   "source": [
    "- Préparation du Tokenizer, du Lemmentizer et de la liste de mots rares (qu'on va définir sur les mots apparaissant 5 fois ou moins dans tout le corpus): "
   ]
  },
  {
   "cell_type": "code",
   "execution_count": 41,
   "metadata": {},
   "outputs": [],
   "source": [
    "tokenizer = RegexpTokenizer(r\"\\w+\")  # Instanciation du tokenizer\n",
    "spacy_nlp = spacy.load('en_core_web_sm', disable = ['parser','ner'])  # Instanciation du lemmentizer, 'parser' et 'ner' pas utiles pour le moment\n",
    "mots_rares = set(list_min_5_words)  # Convertion de la liste de mots rares en set, ce qui va considérablement réduire les temps de calculs"
   ]
  },
  {
   "cell_type": "markdown",
   "metadata": {},
   "source": [
    "- Traitement du corpus : "
   ]
  },
  {
   "cell_type": "code",
   "execution_count": 42,
   "metadata": {},
   "outputs": [
    {
     "name": "stdout",
     "output_type": "stream",
     "text": [
      "Durée du traitement : 213.97\n"
     ]
    },
    {
     "data": {
      "text/html": [
       "<div>\n",
       "<style scoped>\n",
       "    .dataframe tbody tr th:only-of-type {\n",
       "        vertical-align: middle;\n",
       "    }\n",
       "\n",
       "    .dataframe tbody tr th {\n",
       "        vertical-align: top;\n",
       "    }\n",
       "\n",
       "    .dataframe thead th {\n",
       "        text-align: right;\n",
       "    }\n",
       "</style>\n",
       "<table border=\"1\" class=\"dataframe\">\n",
       "  <thead>\n",
       "    <tr style=\"text-align: right;\">\n",
       "      <th></th>\n",
       "      <th>creationdate</th>\n",
       "      <th>tags</th>\n",
       "      <th>reputation</th>\n",
       "      <th>corpus</th>\n",
       "      <th>question_lenth</th>\n",
       "      <th>tags_number</th>\n",
       "      <th>processed_corpus</th>\n",
       "    </tr>\n",
       "  </thead>\n",
       "  <tbody>\n",
       "    <tr>\n",
       "      <th>0</th>\n",
       "      <td>2022-05-08 20:40:40</td>\n",
       "      <td>[antlr4]</td>\n",
       "      <td>129</td>\n",
       "      <td>Lexer rule to handle escape of quote with quot...</td>\n",
       "      <td>2387</td>\n",
       "      <td>1</td>\n",
       "      <td>{simplify, end, succeed, walk, escape, diagram...</td>\n",
       "    </tr>\n",
       "    <tr>\n",
       "      <th>1</th>\n",
       "      <td>2022-05-08 21:22:05</td>\n",
       "      <td>[reactjs, firebase, jestjs]</td>\n",
       "      <td>121</td>\n",
       "      <td>Firebase - Testing with Jest throws error \"INT...</td>\n",
       "      <td>3971</td>\n",
       "      <td>3</td>\n",
       "      <td>{jsx, userauth, snapshot, well, jest, uid, fin...</td>\n",
       "    </tr>\n",
       "    <tr>\n",
       "      <th>2</th>\n",
       "      <td>2022-05-08 21:49:08</td>\n",
       "      <td>[async-await, concurrency, hacklang]</td>\n",
       "      <td>307</td>\n",
       "      <td>Concurrent block in hacklang Since hack is a s...</td>\n",
       "      <td>243</td>\n",
       "      <td>3</td>\n",
       "      <td>{await, one, single, benefit, using, concurren...</td>\n",
       "    </tr>\n",
       "    <tr>\n",
       "      <th>3</th>\n",
       "      <td>2022-05-08 21:49:57</td>\n",
       "      <td>[typescript]</td>\n",
       "      <td>1436</td>\n",
       "      <td>Can you set a type for a function in typescrip...</td>\n",
       "      <td>1374</td>\n",
       "      <td>1</td>\n",
       "      <td>{try, user, passwordfield, boolean, quickly, w...</td>\n",
       "    </tr>\n",
       "    <tr>\n",
       "      <th>4</th>\n",
       "      <td>2022-05-08 21:51:00</td>\n",
       "      <td>[expo, google-play-console, google-play-develo...</td>\n",
       "      <td>4346</td>\n",
       "      <td>Expo EAS Submit, where to store service accoun...</td>\n",
       "      <td>595</td>\n",
       "      <td>3</td>\n",
       "      <td>{doc, run, dev, expo, want, information, build...</td>\n",
       "    </tr>\n",
       "    <tr>\n",
       "      <th>...</th>\n",
       "      <td>...</td>\n",
       "      <td>...</td>\n",
       "      <td>...</td>\n",
       "      <td>...</td>\n",
       "      <td>...</td>\n",
       "      <td>...</td>\n",
       "      <td>...</td>\n",
       "    </tr>\n",
       "    <tr>\n",
       "      <th>49995</th>\n",
       "      <td>2022-03-21 09:01:04</td>\n",
       "      <td>[ionic-framework, ionic-react]</td>\n",
       "      <td>590</td>\n",
       "      <td>Ionic-React App Automatically Changing to Dark...</td>\n",
       "      <td>481</td>\n",
       "      <td>2</td>\n",
       "      <td>{help, without, behaviour, onwards, change, re...</td>\n",
       "    </tr>\n",
       "    <tr>\n",
       "      <th>49996</th>\n",
       "      <td>2022-03-21 09:02:39</td>\n",
       "      <td>[stripe-payments]</td>\n",
       "      <td>125</td>\n",
       "      <td>is it possible to operate two service in the o...</td>\n",
       "      <td>307</td>\n",
       "      <td>1</td>\n",
       "      <td>{corp, different, run, stripe, one, general, a...</td>\n",
       "    </tr>\n",
       "    <tr>\n",
       "      <th>49997</th>\n",
       "      <td>2022-03-21 09:02:54</td>\n",
       "      <td>[terraform]</td>\n",
       "      <td>4200</td>\n",
       "      <td>Which security problem does terraform Checksum...</td>\n",
       "      <td>1621</td>\n",
       "      <td>1</td>\n",
       "      <td>{try, hashicorp, aw, intend, hash, trust, docu...</td>\n",
       "    </tr>\n",
       "    <tr>\n",
       "      <th>49998</th>\n",
       "      <td>2022-03-21 13:54:21</td>\n",
       "      <td>[azure, azurite]</td>\n",
       "      <td>135</td>\n",
       "      <td>Visual studio 2022 with azurite integrated (v3...</td>\n",
       "      <td>1716</td>\n",
       "      <td>2</td>\n",
       "      <td>{somebody, help, com, alive, content, descript...</td>\n",
       "    </tr>\n",
       "    <tr>\n",
       "      <th>49999</th>\n",
       "      <td>2022-03-21 13:56:22</td>\n",
       "      <td>[c#, .net-core, .net-6.0, aws-parameter-store]</td>\n",
       "      <td>1607</td>\n",
       "      <td>Use IOption pattern with Aws Parameter Store a...</td>\n",
       "      <td>2078</td>\n",
       "      <td>4</td>\n",
       "      <td>{null, description, const, indexmodel, local, ...</td>\n",
       "    </tr>\n",
       "  </tbody>\n",
       "</table>\n",
       "<p>49999 rows × 7 columns</p>\n",
       "</div>"
      ],
      "text/plain": [
       "             creationdate                                               tags  \\\n",
       "0     2022-05-08 20:40:40                                           [antlr4]   \n",
       "1     2022-05-08 21:22:05                        [reactjs, firebase, jestjs]   \n",
       "2     2022-05-08 21:49:08               [async-await, concurrency, hacklang]   \n",
       "3     2022-05-08 21:49:57                                       [typescript]   \n",
       "4     2022-05-08 21:51:00  [expo, google-play-console, google-play-develo...   \n",
       "...                   ...                                                ...   \n",
       "49995 2022-03-21 09:01:04                     [ionic-framework, ionic-react]   \n",
       "49996 2022-03-21 09:02:39                                  [stripe-payments]   \n",
       "49997 2022-03-21 09:02:54                                        [terraform]   \n",
       "49998 2022-03-21 13:54:21                                   [azure, azurite]   \n",
       "49999 2022-03-21 13:56:22     [c#, .net-core, .net-6.0, aws-parameter-store]   \n",
       "\n",
       "       reputation                                             corpus  \\\n",
       "0             129  Lexer rule to handle escape of quote with quot...   \n",
       "1             121  Firebase - Testing with Jest throws error \"INT...   \n",
       "2             307  Concurrent block in hacklang Since hack is a s...   \n",
       "3            1436  Can you set a type for a function in typescrip...   \n",
       "4            4346  Expo EAS Submit, where to store service accoun...   \n",
       "...           ...                                                ...   \n",
       "49995         590  Ionic-React App Automatically Changing to Dark...   \n",
       "49996         125  is it possible to operate two service in the o...   \n",
       "49997        4200  Which security problem does terraform Checksum...   \n",
       "49998         135  Visual studio 2022 with azurite integrated (v3...   \n",
       "49999        1607  Use IOption pattern with Aws Parameter Store a...   \n",
       "\n",
       "       question_lenth  tags_number  \\\n",
       "0                2387            1   \n",
       "1                3971            3   \n",
       "2                 243            3   \n",
       "3                1374            1   \n",
       "4                 595            3   \n",
       "...               ...          ...   \n",
       "49995             481            2   \n",
       "49996             307            1   \n",
       "49997            1621            1   \n",
       "49998            1716            2   \n",
       "49999            2078            4   \n",
       "\n",
       "                                        processed_corpus  \n",
       "0      {simplify, end, succeed, walk, escape, diagram...  \n",
       "1      {jsx, userauth, snapshot, well, jest, uid, fin...  \n",
       "2      {await, one, single, benefit, using, concurren...  \n",
       "3      {try, user, passwordfield, boolean, quickly, w...  \n",
       "4      {doc, run, dev, expo, want, information, build...  \n",
       "...                                                  ...  \n",
       "49995  {help, without, behaviour, onwards, change, re...  \n",
       "49996  {corp, different, run, stripe, one, general, a...  \n",
       "49997  {try, hashicorp, aw, intend, hash, trust, docu...  \n",
       "49998  {somebody, help, com, alive, content, descript...  \n",
       "49999  {null, description, const, indexmodel, local, ...  \n",
       "\n",
       "[49999 rows x 7 columns]"
      ]
     },
     "execution_count": 42,
     "metadata": {},
     "output_type": "execute_result"
    }
   ],
   "source": [
    "debut = time.time()  # Heure de début du traitement\n",
    "data['processed_corpus'] = data.corpus.apply(process_documents,\n",
    "                                   doc,\n",
    "                                   tokenizer=tokenizer,\n",
    "                                   lemmentizer=spacy_nlp,\n",
    "                                   rejoin=False,\n",
    "                                   stop_words=stop_words,\n",
    "                                   list_rare_words=mots_rares,\n",
    "                                   min_len_word=3,\n",
    "                                   alpha_only=True,\n",
    "                                   extra_words=None\n",
    "                             )\n",
    "print(f\"Durée du traitement : {(time.time() - debut):.2f}\")\n",
    "data"
   ]
  },
  {
   "cell_type": "code",
   "execution_count": 43,
   "metadata": {},
   "outputs": [
    {
     "data": {
      "text/plain": [
       "array([{'simplify', 'end', 'succeed', 'walk', 'escape', 'diagram', 'define', 'look', 'text', 'request', 'start', 'valid', 'pull', 'beyond', 'must', 'example', 'atn', 'change', 'backslash', 'equivalent', 'eof', 'parallel', 'tokenizer', 'bit', 'tokens', 'answer', 'stringliteral', 'construct', 'see', 'rule', 'bug', 'know', 'grammar', 'offset', 'instead', 'antlr', 'try', 'lexer', 'water', 'txt', 'maybe', 'line', 'quote', 'appear', 'reach', 'intend', 'pump', 'let', 'rob', 'recognition', 'taco', 'small', 'fail', 'would', 'desire', 'match', 'behavior', 'entry', 'detail', 'work', 'like', 'flag', 'state', 'miss', 'anyone', 'next', 'transition', 'consume', 'token', 'path', 'character', 'error', 'input', 'order', 'clear', 'handle', 'research', 'check', 'continue', 'differently', 'something', 'test', 'smart', 'expand'},\n",
       "       {'jsx', 'userauth', 'snapshot', 'well', 'jest', 'uid', 'fine', 'new', 'firebaseapp', 'set', 'suite', 'configuration', 'additionaldata', 'signin', 'userref', 'header', 'register', 'compat', 'ideas', 'index', 'app', 'anonymous', 'assert', 'initialize', 'file', 'react', 'run', 'create', 'console', 'firebase', 'export', 'config', 'finder', 'flow', 'testing', 'auth', 'createdat', 'write', 'signinwithgoogle', 'return', 'compute', 'authentication', 'async', 'util', 'await', 'firestore', 'try', 'firebaseappimpl', 'doc', 'user', 'const', 'googleauthprovider', 'prompt', 'src', 'catch', 'internal', 'signinwithpopup', 'component', 'provider', 'throw', 'assertion', 'get', 'fail', 'object', 'message', 'work', 'miss', 'expect', 'operation', 'email', 'definition', 'initializeapp', 'error', 'exist', 'instantiator', 'import', 'registercomponent', 'test', 'date', 'displayname', 'page', 'default', 'log', 'instance', 'class', 'enzyme', 'use', 'core', 'follow'},\n",
       "       {'await', 'one', 'single', 'benefit', 'using', 'concurrent', 'language', 'hack', 'understanding', 'since', 'waiting', 'block', 'thread', 'job'},\n",
       "       {'try', 'user', 'passwordfield', 'boolean', 'quickly', 'want', 'certain', 'create', 'wrong', 'username', 'true', 'signature', 'error', 'let', 'say', 'ide', 'case', 'even', 'type', 'require', 'typescript', 'set', 'determine', 'thinking', 'stre', 'give', 'would', 'option', 'object', 'session', 'implement', 'useful', 'req', 'request', 'another', 'void', 'interested', 'correctly', 'interface', 'thing', 'instance', 'function', 'linte', 'password', 'way', 'verify', 'undefine', 'clarify', 'do', 'express', 'like', 'edit', 'expect', 'correct'},\n",
       "       {'doc', 'run', 'dev', 'expo', 'want', 'information', 'build', 'store', 'path', 'submit', 'prompt', 'https', 'well', 'repo', 'within', 'sensitive', 'key', 'account', 'json', 'somehow', 'require', 'add', 'application', 'android', 'google', 'play', 'look', 'service', 'eas', 'gitignore', 'per', 'successfully', 'way', 'git', 'entering', 'use'},\n",
       "       {'consider', 'one', 'several', 'well', 'output', 'many', 'std', 'type', 'pair', 'reason', 'four', 'target', 'define', 'free', 'char', 'bolling', 'correspond', 'struct', 'standard', 'much', 'reasonably', 'int', 'example', 'pointer', 'area', 'file', 'help', 'null', 'twice', 'strcmp', 'provide', 'equal', 'length', 'store', 'portable', 'reliably', 'time', 'sprintf', 'place', 'bit', 'answer', 'representation', 'mre', 'assume', 'different', 'list', 'malloc', 'know', 'far', 'thus', 'stdout', 'byte', 'reproducible', 'ask', 'memory', 'storage', 'structure', 'instead', 'guarantee', 'unsigned', 'const', 'size', 'line', 'requirement', 'john', 'always', 'retrieve', 'typedef', 'reference', 'stdio', 'think', 'sorta', 'sizeof', 'sense', 'source', 'assignment', 'executable', 'object', 'unequal', 'portably', 'copying', 'behavior', 'hope', 'main', 'arbitrary', 'comment', 'leave', 'long', 'include', 'like', 'heap', 'stdlib', 'gcc', 'pagesize', 'pre', 'want', 'copy', 'llx', 'memcpy', 'fetch', 'compile', 'terminate', 'dummy', 'string', 'base', 'allow', 'minimal', 'possibly', 'enough', 'allocate', 'void', 'respect', 'part', 'alignment', 'block', 'shall', 'do', 'point', 'basically', 'edit', 'put', 'use', 'capacity', 'follow'},\n",
       "       {'change', 'lot', 'accordion', 'component', 'specify', 'trial', 'tsx', 'nextjs', 'work', 'need', 'struggle', 'include', 'error', 'import', 'use', 'find'},\n",
       "       {'jsx', 'march', 'content', 'consider', 'feature', 'february', 'library', 'performunitofwork', 'everything', 'end', 'css', 'well', 'frontend', 'typeerror', 'method', 'new', 'various', 'everyone', 'upvotemethod', 'give', 'pass', 'perhaps', 'uncaught', 'header', 'look', 'side', 'text', 'recursive', 'fast', 'plus', 'insight', 'offending', 'image', 'solid', 'section', 'minus', 'renderrootsync', 'locate', 'app', 'dive', 'really', 'server', 'reply', 'stumped', 'area', 'ago', 'file', 'complete', 'help', 'tempt', 'png', 'mult', 'react', 'create', 'console', 'though', 'improve', 'length', 'store', 'onclick', 'day', 'may', 'incredible', 'two', 'value', 'challenge', 'export', 'breakpoint', 'img', 'code', 'jump', 'webp', 'soon', 'involve', 'createdat', 'read', 'overall', 'return', 'document', 'avatar', 'live', 'math', 'recommend', 'know', 'ahead', 'fundamental', 'reactj', 'thanks', 'first', 'beginwork', 'currently', 'nothing', 'month', 'reading', 'workloopsync', 'push', 'appreciate', 'constant', 'array', 'ab', 'open', 'show', 'pasting', 'october', 'july', 'april', 'interactive', 'user', 'const', 'replymethod', 'upvote', 'username', 'build', 'profile', 'src', 'always', 'let', 'seem', 'component', 'think', 'lay', 'framework', 'useeffect', 'foundation', 'dom', 'get', 'continuously', 'responsiveness', 'icon', 'focus', 'august', 'would', 'june', 'option', 'object', 'replysection', 'september', 'awesome', 'svg', 'go', 'week', 'stay', 'greatly', 'comment', 'container', 'function', 'learn', 'downvote', 'work', 'long', 'like', 'november', 'still', 'want', 'delete', 'ordinary', 'true', 'january', 'map', 'classname', 'error', 'hence', 'juliusomo', 'score', 'key', 'problem', 'december', 'usestate', 'action', 'counter', 'import', 'isuser', 'not', 'design', 'html', 'project', 'strangely', 'development', 'enough', 'queryselector', 'date', 'impressive', 'drag', 'able', 'random', 'move', 'can', 'default', 'div', 'log', 'property', 'agree', 'getmonth', 'false', 'textfield', 'use', 'undefined', 'could'},\n",
       "       {'run', 'anything', 'simply', 'form', 'two', 'ctx', 'awaitable', 'coroutine', 'imagine', 'rewrite', 'detach', 'pass', 'choose', 'outside', 'return', 'object', 'see', 'void', 'first', 'second', 'main', 'way', 'int', 'call'},\n",
       "       {'every', 'description', 'assign', 'datum', 'name', 'need', 'sure', 'loop', 'update', 'find', 'button', 'card', 'script', 'say', 'component', 'click', 'title', 'clear', 'tag', 'multiple', 'note', 'icon', 'not', 'make', 'btn', 'archive', 'can', 'anywhere', 'componentname', 'making', 'differ', 'hope', 'download', 'section', 'dynamically', 'instance', 'col', 'ask', 'load', 'render', 'item', 'color', 'must', 'open', 'template', 'vue', 'row', 'call', 'file'}],\n",
       "      dtype=object)"
      ]
     },
     "execution_count": 43,
     "metadata": {},
     "output_type": "execute_result"
    }
   ],
   "source": [
    "data['processed_corpus'][:10].values"
   ]
  }
 ],
 "metadata": {
  "kernelspec": {
   "display_name": "base",
   "language": "python",
   "name": "python3"
  },
  "language_info": {
   "codemirror_mode": {
    "name": "ipython",
    "version": 3
   },
   "file_extension": ".py",
   "mimetype": "text/x-python",
   "name": "python",
   "nbconvert_exporter": "python",
   "pygments_lexer": "ipython3",
   "version": "3.10.9"
  },
  "orig_nbformat": 4
 },
 "nbformat": 4,
 "nbformat_minor": 2
}
